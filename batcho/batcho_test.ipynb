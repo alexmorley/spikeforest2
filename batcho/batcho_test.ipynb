{
 "cells": [
  {
   "cell_type": "code",
   "execution_count": 1,
   "metadata": {},
   "outputs": [],
   "source": [
    "%load_ext autoreload\n",
    "%autoreload 2\n",
    "import batcho"
   ]
  },
  {
   "cell_type": "code",
   "execution_count": 2,
   "metadata": {},
   "outputs": [],
   "source": [
    "def cmd1_prepare(job):\n",
    "    print('preparing job')\n",
    "    \n",
    "def cmd1_run(job):\n",
    "    print('testing')\n",
    "    print(job)\n",
    "    return dict(the_job=job)\n",
    "\n",
    "batcho.register_job_command(\n",
    "    command='cmd1',\n",
    "    prepare=cmd1_prepare,\n",
    "    run=cmd1_run\n",
    ")"
   ]
  },
  {
   "cell_type": "code",
   "execution_count": 3,
   "metadata": {},
   "outputs": [],
   "source": [
    "batcho.set_batch(batch_name='batch1',jobs=[dict(command='cmd1',label='job1',name='first_job'),dict(command='cmd1',label='job2',name='second_job')])"
   ]
  },
  {
   "cell_type": "code",
   "execution_count": 4,
   "metadata": {},
   "outputs": [
    {
     "name": "stdout",
     "output_type": "stream",
     "text": [
      "Retrieving batch batch1\n",
      "Batch has 2 jobs.\n",
      "Preparing job job1\n",
      "preparing job\n",
      "Preparing job job2\n",
      "preparing job\n",
      "Prepared 2 jobs.\n",
      "Retrieving batch batch1\n",
      "Batch has 2 jobs.\n",
      "Acquired lock for job job1\n",
      "Running job job1\n",
      "Acquired lock for job job2\n",
      "Running job job2\n",
      "Ran 2 jobs.\n",
      "Retrieving batch batch1\n",
      "Batch has 2 jobs.\n",
      "ASSEMBLING job result for job1\n",
      "ASSEMBLING job result for job2\n",
      "Assembling 2 results\n"
     ]
    }
   ],
   "source": [
    "batcho.prepare_batch(batch_name='batch1',clear_jobs=True)\n",
    "batcho.run_batch(batch_name='batch1')\n",
    "batcho.assemble_batch(batch_name='batch1')"
   ]
  },
  {
   "cell_type": "code",
   "execution_count": 5,
   "metadata": {},
   "outputs": [
    {
     "data": {
      "text/plain": [
       "[{'job': {'command': 'cmd1', 'label': 'job1', 'name': 'first_job'},\n",
       "  'status': 'finished'},\n",
       " {'job': {'command': 'cmd1', 'label': 'job2', 'name': 'second_job'},\n",
       "  'status': 'finished'}]"
      ]
     },
     "execution_count": 5,
     "metadata": {},
     "output_type": "execute_result"
    }
   ],
   "source": [
    "batcho.get_batch_job_statuses(batch_name='batch1')"
   ]
  },
  {
   "cell_type": "code",
   "execution_count": 11,
   "metadata": {},
   "outputs": [
    {
     "name": "stdout",
     "output_type": "stream",
     "text": [
      "testing\n",
      "{'command': 'cmd1', 'label': 'job1', 'name': 'first_job'}\n",
      "\n"
     ]
    }
   ],
   "source": [
    "str=batcho.get_batch_job_console_output(batch_name='batch1',job_index=0)\n",
    "print(str)"
   ]
  },
  {
   "cell_type": "code",
   "execution_count": 30,
   "metadata": {},
   "outputs": [],
   "source": [
    "import time\n",
    "from kbucket import client as kb\n",
    "from pairio import client as pa\n",
    "def _safe_load_object(key):\n",
    "    try:\n",
    "        obj=kb.loadObject(key=key)\n",
    "    except:\n",
    "        obj=None\n",
    "    return obj\n",
    "\n",
    "def listen_for_batch_run_command(key):\n",
    "    while True:\n",
    "        obj=_safe_load_object(key=key)\n",
    "        if obj and ('batch_name' in obj):\n",
    "            batch_name=obj['batch_name']\n",
    "            print('Received request to run batch: '+batch_name)\n",
    "            pa.set(key=key,value=None)\n",
    "            clear_jobs=obj.get('clear_jobs',True)\n",
    "            batcho.prepare_batch(batch_name=batch_name,clear_jobs=clear_jobs,stop_key=key)\n",
    "            batcho.run_batch(batch_name=batch_name,stop_key=key)\n",
    "            batcho.assemble_batch(batch_name=batch_name,stop_key=key)\n",
    "        time.sleep(5)"
   ]
  },
  {
   "cell_type": "code",
   "execution_count": 31,
   "metadata": {},
   "outputs": [
    {
     "name": "stdout",
     "output_type": "stream",
     "text": [
      "Received request to run batch: batch1\n"
     ]
    },
    {
     "ename": "TypeError",
     "evalue": "prepare_batch() got an unexpected keyword argument 'stop_key'",
     "output_type": "error",
     "traceback": [
      "\u001b[0;31m---------------------------------------------------------------------------\u001b[0m",
      "\u001b[0;31mTypeError\u001b[0m                                 Traceback (most recent call last)",
      "\u001b[0;32m<ipython-input-31-8937f896d97d>\u001b[0m in \u001b[0;36m<module>\u001b[0;34m\u001b[0m\n\u001b[0;32m----> 1\u001b[0;31m \u001b[0mlisten_for_batch_run_command\u001b[0m\u001b[0;34m(\u001b[0m\u001b[0mkey\u001b[0m\u001b[0;34m=\u001b[0m\u001b[0;34m'listener1'\u001b[0m\u001b[0;34m)\u001b[0m\u001b[0;34m\u001b[0m\u001b[0;34m\u001b[0m\u001b[0m\n\u001b[0m",
      "\u001b[0;32m<ipython-input-30-a4bffeb3907d>\u001b[0m in \u001b[0;36mlisten_for_batch_run_command\u001b[0;34m(key)\u001b[0m\n\u001b[1;32m     16\u001b[0m             \u001b[0mpa\u001b[0m\u001b[0;34m.\u001b[0m\u001b[0mset\u001b[0m\u001b[0;34m(\u001b[0m\u001b[0mkey\u001b[0m\u001b[0;34m=\u001b[0m\u001b[0mkey\u001b[0m\u001b[0;34m,\u001b[0m\u001b[0mvalue\u001b[0m\u001b[0;34m=\u001b[0m\u001b[0;32mNone\u001b[0m\u001b[0;34m)\u001b[0m\u001b[0;34m\u001b[0m\u001b[0;34m\u001b[0m\u001b[0m\n\u001b[1;32m     17\u001b[0m             \u001b[0mclear_jobs\u001b[0m\u001b[0;34m=\u001b[0m\u001b[0mobj\u001b[0m\u001b[0;34m.\u001b[0m\u001b[0mget\u001b[0m\u001b[0;34m(\u001b[0m\u001b[0;34m'clear_jobs'\u001b[0m\u001b[0;34m,\u001b[0m\u001b[0;32mTrue\u001b[0m\u001b[0;34m)\u001b[0m\u001b[0;34m\u001b[0m\u001b[0;34m\u001b[0m\u001b[0m\n\u001b[0;32m---> 18\u001b[0;31m             \u001b[0mbatcho\u001b[0m\u001b[0;34m.\u001b[0m\u001b[0mprepare_batch\u001b[0m\u001b[0;34m(\u001b[0m\u001b[0mbatch_name\u001b[0m\u001b[0;34m=\u001b[0m\u001b[0mbatch_name\u001b[0m\u001b[0;34m,\u001b[0m\u001b[0mclear_jobs\u001b[0m\u001b[0;34m=\u001b[0m\u001b[0mclear_jobs\u001b[0m\u001b[0;34m,\u001b[0m\u001b[0mstop_key\u001b[0m\u001b[0;34m=\u001b[0m\u001b[0mkey\u001b[0m\u001b[0;34m)\u001b[0m\u001b[0;34m\u001b[0m\u001b[0;34m\u001b[0m\u001b[0m\n\u001b[0m\u001b[1;32m     19\u001b[0m             \u001b[0mbatcho\u001b[0m\u001b[0;34m.\u001b[0m\u001b[0mrun_batch\u001b[0m\u001b[0;34m(\u001b[0m\u001b[0mbatch_name\u001b[0m\u001b[0;34m=\u001b[0m\u001b[0mbatch_name\u001b[0m\u001b[0;34m,\u001b[0m\u001b[0mstop_key\u001b[0m\u001b[0;34m=\u001b[0m\u001b[0mkey\u001b[0m\u001b[0;34m)\u001b[0m\u001b[0;34m\u001b[0m\u001b[0;34m\u001b[0m\u001b[0m\n\u001b[1;32m     20\u001b[0m             \u001b[0mbatcho\u001b[0m\u001b[0;34m.\u001b[0m\u001b[0massemble_batch\u001b[0m\u001b[0;34m(\u001b[0m\u001b[0mbatch_name\u001b[0m\u001b[0;34m=\u001b[0m\u001b[0mbatch_name\u001b[0m\u001b[0;34m,\u001b[0m\u001b[0mstop_key\u001b[0m\u001b[0;34m=\u001b[0m\u001b[0mkey\u001b[0m\u001b[0;34m)\u001b[0m\u001b[0;34m\u001b[0m\u001b[0;34m\u001b[0m\u001b[0m\n",
      "\u001b[0;31mTypeError\u001b[0m: prepare_batch() got an unexpected keyword argument 'stop_key'"
     ]
    }
   ],
   "source": [
    "listen_for_batch_run_command(key='listener1')"
   ]
  },
  {
   "cell_type": "code",
   "execution_count": null,
   "metadata": {},
   "outputs": [],
   "source": []
  }
 ],
 "metadata": {
  "kernelspec": {
   "display_name": "Python 3",
   "language": "python",
   "name": "python3"
  },
  "language_info": {
   "codemirror_mode": {
    "name": "ipython",
    "version": 3
   },
   "file_extension": ".py",
   "mimetype": "text/x-python",
   "name": "python",
   "nbconvert_exporter": "python",
   "pygments_lexer": "ipython3",
   "version": "3.6.7"
  }
 },
 "nbformat": 4,
 "nbformat_minor": 2
}
