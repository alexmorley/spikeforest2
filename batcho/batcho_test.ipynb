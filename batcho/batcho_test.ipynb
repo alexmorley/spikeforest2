{
 "cells": [
  {
   "cell_type": "code",
   "execution_count": 1,
   "metadata": {},
   "outputs": [],
   "source": [
    "%load_ext autoreload\n",
    "%autoreload 2\n",
    "import batcho\n",
    "from cairio import client as ca\n",
    "from getpass import getpass"
   ]
  },
  {
   "cell_type": "code",
   "execution_count": 2,
   "metadata": {},
   "outputs": [
    {
     "name": "stdin",
     "output_type": "stream",
     "text": [
      "Enter password:  ····\n"
     ]
    }
   ],
   "source": [
    "config=ca.getValue(collection='spikeforest',key=dict(name='spikeforest0-readwrite-config'),password=getpass('Enter password: '),parse_json=True)\n",
    "ca.setRemoteConfig(**config)"
   ]
  },
  {
   "cell_type": "code",
   "execution_count": 3,
   "metadata": {},
   "outputs": [],
   "source": [
    "def cmd1_prepare(job):\n",
    "    print('preparing job')\n",
    "    \n",
    "def cmd1_run(job):\n",
    "    print('testing----------------------------------')\n",
    "    print(job)\n",
    "    print('testing----------------------------------')\n",
    "    return dict(test=2,the_job=job)\n",
    "\n",
    "batcho.register_job_command(\n",
    "    command='cmd1',\n",
    "    prepare=cmd1_prepare,\n",
    "    run=cmd1_run\n",
    ")"
   ]
  },
  {
   "cell_type": "code",
   "execution_count": 4,
   "metadata": {},
   "outputs": [
    {
     "name": "stdout",
     "output_type": "stream",
     "text": [
      "Testing whether share 110887a470ab is directly accessible...\n",
      "Share 110887a470ab is directly accessible.\n"
     ]
    }
   ],
   "source": [
    "batcho.stop_batch(batch_name='batch1')"
   ]
  },
  {
   "cell_type": "code",
   "execution_count": 5,
   "metadata": {},
   "outputs": [],
   "source": [
    "batcho.set_batch(batch_name='batch1',jobs=[dict(command='cmd1',label='job1',name='first_job'),dict(command='cmd1',label='job2',name='second_job')])"
   ]
  },
  {
   "cell_type": "code",
   "execution_count": 6,
   "metadata": {},
   "outputs": [
    {
     "name": "stdout",
     "output_type": "stream",
     "text": [
      "Retrieving batch batch1\n",
      "Batch has 2 jobs.\n",
      "Preparing job job1\n",
      "preparing job\n",
      "Preparing job job2\n",
      "preparing job\n",
      "Prepared 2 jobs.\n",
      "Retrieving batch batch1\n",
      "Batch has 2 jobs.\n",
      "Acquired lock for job job1\n",
      "Running job job1\n",
      "testing----------------------------------\n",
      "{'command': 'cmd1', 'label': 'job1', 'name': 'first_job'}\n",
      "testing----------------------------------\n",
      "Uploading file --- (81 B): /tmp/tmp_cairioclient_tuyltunnwh.txt -> http://ccmlin008:20000/upload/b751e51f5d8f969b9a564025f6205161b14ced6e?signature=9b58e1f8cb9b472147ed20863a284db8aa8af18f\n",
      "Uploading file --- (142 B): /tmp/tmpsswldzcs.txt -> http://ccmlin008:20000/upload/113aff1b57f22751a28721caa3e8934c608251f0?signature=78afa6f2bd9a2aba0148f3d9af1ac088a7f5cb80\n",
      "Acquired lock for job job2\n",
      "Running job job2\n",
      "testing----------------------------------\n",
      "{'command': 'cmd1', 'label': 'job2', 'name': 'second_job'}\n",
      "testing----------------------------------\n",
      "Uploading file --- (82 B): /tmp/tmp_cairioclient_apfjqorgie.txt -> http://ccmlin008:20000/upload/bb11e23183412ab0c40737f571b081da88ae2008?signature=a3c79c92247bcbdc736cc40d64b1c6580dc8c59f\n",
      "Uploading file --- (143 B): /tmp/tmp37tku00t.txt -> http://ccmlin008:20000/upload/aa826970a14593ee9021ef9fa55f5e675cddf322?signature=2aabdb27bce3a27dc3dac2ab01697ca4c9d0da53\n",
      "Retrieving batch batch1\n",
      "Batch has 2 jobs.\n",
      "ASSEMBLING job result for job1\n",
      "ASSEMBLING job result for job2\n",
      "Assembling 2 results\n",
      "Uploading file --- (337 B): /tmp/tmp_cairioclient_pnudoikurp.txt -> http://ccmlin008:20000/upload/134c311d368105c86ac7869e188369943e0e2d23?signature=79e028ac37e1933da6d4c7fbdcf4f32e500b1a7e\n"
     ]
    },
    {
     "data": {
      "text/plain": [
       "True"
      ]
     },
     "execution_count": 6,
     "metadata": {},
     "output_type": "execute_result"
    }
   ],
   "source": [
    "batcho.prepare_batch(batch_name='batch1',clear_jobs=True)\n",
    "batcho.run_batch(batch_name='batch1')\n",
    "batcho.assemble_batch(batch_name='batch1')"
   ]
  },
  {
   "cell_type": "code",
   "execution_count": 7,
   "metadata": {},
   "outputs": [
    {
     "name": "stdout",
     "output_type": "stream",
     "text": [
      "Retrieving batch batch1\n"
     ]
    },
    {
     "data": {
      "text/plain": [
       "[{'job': {'command': 'cmd1', 'label': 'job1', 'name': 'first_job'},\n",
       "  'status': 'finished'},\n",
       " {'job': {'command': 'cmd1', 'label': 'job2', 'name': 'second_job'},\n",
       "  'status': 'finished'}]"
      ]
     },
     "execution_count": 7,
     "metadata": {},
     "output_type": "execute_result"
    }
   ],
   "source": [
    "batcho.get_batch_job_statuses(batch_name='batch1')"
   ]
  },
  {
   "cell_type": "code",
   "execution_count": 8,
   "metadata": {},
   "outputs": [
    {
     "name": "stdout",
     "output_type": "stream",
     "text": [
      "testing----------------------------------\n",
      "{'command': 'cmd1', 'label': 'job1', 'name': 'first_job'}\n",
      "testing----------------------------------\n",
      "\n"
     ]
    }
   ],
   "source": [
    "str=batcho.get_batch_job_console_output(batch_name='batch1',job_index=0)\n",
    "print(str)"
   ]
  },
  {
   "cell_type": "code",
   "execution_count": 9,
   "metadata": {},
   "outputs": [
    {
     "data": {
      "text/plain": [
       "{'results': [{'job': {'command': 'cmd1', 'label': 'job1', 'name': 'first_job'},\n",
       "   'result': {'test': 2,\n",
       "    'the_job': {'command': 'cmd1', 'label': 'job1', 'name': 'first_job'}}},\n",
       "  {'job': {'command': 'cmd1', 'label': 'job2', 'name': 'second_job'},\n",
       "   'result': {'test': 2,\n",
       "    'the_job': {'command': 'cmd1', 'label': 'job2', 'name': 'second_job'}}}]}"
      ]
     },
     "execution_count": 9,
     "metadata": {},
     "output_type": "execute_result"
    }
   ],
   "source": [
    "batcho.get_batch_results(batch_name='batch1')"
   ]
  },
  {
   "cell_type": "code",
   "execution_count": null,
   "metadata": {},
   "outputs": [],
   "source": []
  }
 ],
 "metadata": {
  "kernelspec": {
   "display_name": "Python 3",
   "language": "python",
   "name": "python3"
  },
  "language_info": {
   "codemirror_mode": {
    "name": "ipython",
    "version": 3
   },
   "file_extension": ".py",
   "mimetype": "text/x-python",
   "name": "python",
   "nbconvert_exporter": "python",
   "pygments_lexer": "ipython3",
   "version": "3.7.2"
  }
 },
 "nbformat": 4,
 "nbformat_minor": 2
}
