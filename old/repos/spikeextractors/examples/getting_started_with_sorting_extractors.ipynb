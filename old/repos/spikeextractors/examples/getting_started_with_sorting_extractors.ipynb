{
 "cells": [
  {
   "cell_type": "code",
   "execution_count": null,
   "metadata": {},
   "outputs": [],
   "source": [
    "# Imports\n",
    "import numpy as np\n",
    "from spikeforest import spikeextractors as se"
   ]
  },
  {
   "cell_type": "code",
   "execution_count": null,
   "metadata": {},
   "outputs": [],
   "source": [
    "# Properties of the in-memory dataset\n",
    "num_channels=7\n",
    "samplerate=30000\n",
    "duration=20\n",
    "num_timepoints=int(samplerate*duration)\n",
    "num_units=4\n",
    "num_events=1000"
   ]
  },
  {
   "cell_type": "code",
   "execution_count": null,
   "metadata": {},
   "outputs": [],
   "source": [
    "# Generate a pure-noise timeseries dataset and a linear geometry\n",
    "timeseries=np.random.normal(0,10,(num_channels,num_timepoints))\n",
    "geom=np.zeros((num_channels,2))\n",
    "geom[:,0]=range(num_channels)\n",
    "\n",
    "# Define the in-memory recording extractor\n",
    "RX=se.NumpyRecordingExtractor(timeseries=timeseries,geom=geom,samplerate=samplerate)\n",
    "\n",
    "# Generate some random events\n",
    "times=np.int_(np.sort(np.random.uniform(0,num_timepoints,num_events)))\n",
    "labels=np.random.randint(1,num_units+1,size=num_events)\n",
    "    \n",
    "# Define the in-memory sorting extractor\n",
    "SX=se.NumpySortingExtractor()\n",
    "for k in range(1,num_units+1):\n",
    "    times_k=times[np.where(labels==k)[0]]\n",
    "    SX.addUnit(unit_id=k,times=times_k)"
   ]
  },
  {
   "cell_type": "code",
   "execution_count": null,
   "metadata": {},
   "outputs": [],
   "source": [
    "# Demonstrate the API for extracting information\n",
    "print('Unit ids = {}'.format(SX.getUnitIds()))\n",
    "st=SX.getUnitSpikeTrain(unit_id=1)\n",
    "print('Num. events for unit 1 = {}'.format(len(st)))\n",
    "st1=SX.getUnitSpikeTrain(unit_id=1,start_frame=0,end_frame=30000)\n",
    "print('Num. events for first second of unit 1 = {}'.format(len(st1)))"
   ]
  },
  {
   "cell_type": "code",
   "execution_count": null,
   "metadata": {},
   "outputs": [],
   "source": [
    "# Write the input/output in the MountainSort format\n",
    "se.MdaRecordingExtractor.writeRecording(recording=RX,save_path='sample_mountainsort_dataset')\n",
    "se.MdaSortingExtractor.writeSorting(sorting=SX,save_path='sample_mountainsort_dataset/firings_true.mda')"
   ]
  },
  {
   "cell_type": "code",
   "execution_count": null,
   "metadata": {},
   "outputs": [],
   "source": [
    "# Read this dataset with the Mda input extractor\n",
    "RX2=se.MdaRecordingExtractor(dataset_directory='sample_mountainsort_dataset')\n",
    "SX2=se.MdaSortingExtractor(firings_file='sample_mountainsort_dataset/firings_true.mda')"
   ]
  },
  {
   "cell_type": "code",
   "execution_count": null,
   "metadata": {},
   "outputs": [],
   "source": [
    "# We should get he same information as above\n",
    "print('Unit ids = {}'.format(SX2.getUnitIds()))\n",
    "st=SX2.getUnitSpikeTrain(unit_id=1)\n",
    "print('Num. events for unit 1 = {}'.format(len(st)))\n",
    "st1=SX2.getUnitSpikeTrain(unit_id=1,start_frame=0,end_frame=30000)\n",
    "print('Num. events for first second of unit 1 = {}'.format(len(st1)))"
   ]
  },
  {
   "cell_type": "code",
   "execution_count": null,
   "metadata": {},
   "outputs": [],
   "source": [
    "#Calculate a unit property and store it in my SortingExtractor\n",
    "full_spike_train = SX2.getUnitSpikeTrain(unit_id=1)\n",
    "firing_rate = float(len(full_spike_train))/RX2.getNumFrames()\n",
    "SX2.setUnitProperty(unit_id=1, property_name='firing_rate', value=firing_rate)\n",
    "print('Average firing rate during the recording of unit 1 = {}'.format(SX2.getUnitProperty(unit_id=1, property_name='firing_rate')))"
   ]
  },
  {
   "cell_type": "code",
   "execution_count": null,
   "metadata": {},
   "outputs": [],
   "source": [
    "#Can get a the sub-dataset from the sorting\n",
    "SX3=se.SubSortingExtractor(parent_sorting=SX2,unit_ids=[1, 2],\n",
    "                           start_frame=10000,end_frame=20000)"
   ]
  },
  {
   "cell_type": "code",
   "execution_count": null,
   "metadata": {},
   "outputs": [],
   "source": [
    "print('Num. units = {}'.format(len(SX3.getUnitIds())))\n",
    "print('Average firing rate of units1 during frames 14000-16000 = {}'.format(\n",
    "                        float(len(SX3.getUnitSpikeTrain(unit_id=1)))/6000))"
   ]
  }
 ],
 "metadata": {
  "kernelspec": {
   "display_name": "Python [default]",
   "language": "python",
   "name": "python3"
  },
  "language_info": {
   "codemirror_mode": {
    "name": "ipython",
    "version": 3
   },
   "file_extension": ".py",
   "mimetype": "text/x-python",
   "name": "python",
   "nbconvert_exporter": "python",
   "pygments_lexer": "ipython3",
   "version": "3.7.1"
  }
 },
 "nbformat": 4,
 "nbformat_minor": 2
}
