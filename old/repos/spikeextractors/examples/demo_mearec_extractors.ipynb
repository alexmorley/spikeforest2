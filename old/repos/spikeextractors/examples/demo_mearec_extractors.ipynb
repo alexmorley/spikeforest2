{
 "cells": [
  {
   "cell_type": "code",
   "execution_count": null,
   "metadata": {},
   "outputs": [],
   "source": [
    "%load_ext autoreload\n",
    "%autoreload 2\n",
    "\n",
    "import matplotlib.pyplot as plt\n",
    "%matplotlib inline\n",
    "\n",
    "import numpy as np\n",
    "\n",
    "import os, sys\n",
    "from spikeforest import spikeextractors as se"
   ]
  },
  {
   "cell_type": "code",
   "execution_count": null,
   "metadata": {},
   "outputs": [],
   "source": [
    "dataset_directory = 'path-to-mearec-rec' # folder or hdf5 file\n",
    "\n",
    "rext = se.MEArecRecordingExtractor(recording_path=dataset_directory)\n",
    "\n",
    "sext = se.MEArecSortingExtractor(recording_path=dataset_directory)"
   ]
  },
  {
   "cell_type": "code",
   "execution_count": null,
   "metadata": {},
   "outputs": [],
   "source": [
    "print(\"Number of recording channels: %d\" %rext.getNumChannels())\n",
    "print(\"Number of frames recorded: %d\" %rext.getNumFrames())\n",
    "print(\"Sampling frequency: %f\" %rext.getSamplingFrequency())\n",
    "print(\"Location channel 0:\", rext.getChannelProperty(0, 'location'))\n",
    "print(\"Number of units = \"+str(len(sext.getUnitIds())))"
   ]
  },
  {
   "cell_type": "code",
   "execution_count": null,
   "metadata": {},
   "outputs": [],
   "source": [
    "t0,t1 = 20000,30000\n",
    "raw = rext.getTraces(t0,t1,range(20))\n",
    "plt.figure(figsize=(14,0.5*raw.shape[0]))\n",
    "for i in range(raw.shape[0]):\n",
    "    plt.plot(np.arange(t0,t1),raw[i]+i*200)"
   ]
  },
  {
   "cell_type": "code",
   "execution_count": null,
   "metadata": {},
   "outputs": [],
   "source": [
    "electrode_locations = np.array([rext.getChannelProperty(id, 'location') for id in range(rext.getNumChannels())])\n",
    "electrode_locations.shape\n",
    "plt.plot(electrode_locations[:,1], electrode_locations[:,2], '*')"
   ]
  }
 ],
 "metadata": {
  "kernelspec": {
   "display_name": "Python 3",
   "language": "python",
   "name": "python3"
  },
  "language_info": {
   "codemirror_mode": {
    "name": "ipython",
    "version": 3
   },
   "file_extension": ".py",
   "mimetype": "text/x-python",
   "name": "python",
   "nbconvert_exporter": "python",
   "pygments_lexer": "ipython3",
   "version": "3.6.6"
  }
 },
 "nbformat": 4,
 "nbformat_minor": 2
}
