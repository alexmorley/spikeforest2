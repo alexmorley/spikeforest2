{
 "cells": [
  {
   "cell_type": "code",
   "execution_count": 33,
   "metadata": {},
   "outputs": [
    {
     "name": "stdout",
     "output_type": "stream",
     "text": [
      "The autoreload extension is already loaded. To reload it, use:\n",
      "  %reload_ext autoreload\n"
     ]
    }
   ],
   "source": [
    "# For development purposes, reload imported modules when source changes\n",
    "%load_ext autoreload\n",
    "%autoreload 2\n",
    "\n",
    "import spikeextractors as si\n",
    "import spikewidgets as sw\n",
    "import os, sys\n",
    "import numpy as np\n",
    "\n",
    "from mountainlab_pytools import mlproc as mlp\n",
    "from mountainlab_pytools import mdaio\n",
    "\n",
    "from gen_synth_datasets import gen_synth_datasets\n",
    "\n",
    "import h5py\n",
    "import json\n",
    "from matplotlib import pyplot as plt"
   ]
  },
  {
   "cell_type": "code",
   "execution_count": 47,
   "metadata": {},
   "outputs": [],
   "source": [
    "#templates='kbucket://b5ecdf1474c5/MEArec/templates/templates_30_Neuronexus-32.h5'\n",
    "#templates='kbucket://b5ecdf1474c5/MEArec/templates/templates_30_Neuronexus-32.h5'\n",
    "#templates='kbucket://b5ecdf1474c5/MEArec/templates/templates_30_tetrode_mea.h5'\n",
    "templates='/mnt/home/jjun/ceph/groundtruth/mearec_synth/sqmea/templates_100_SqMEA-10-15um_10-12-2018_nc10.h5'\n",
    "    \n",
    "num_datasets=10\n",
    "v_K = [50, 100, 200] # list (vector: \"v_\") of K\n",
    "v_noise = [10, 20]\n",
    "nChans=100 # or get this info from the template\n",
    "samplerate=32000 # get this from h5/info/params/dt (in ms)\n",
    "dataset_path = '/mnt/home/jjun/ceph/groundtruth/mearec_synth/sqmea'\n",
    "\n",
    "#output \n",
    "v_outputdir = [] # stores name of recordingset containing multiple recordings \n",
    "v_datasets = []\n",
    "\n",
    "ds0=dict(\n",
    "    duration=600,\n",
    "    templates=templates,\n",
    "    f_exc=2, f_inh=7,\n",
    "    min_rate=0.5,\n",
    "    st_exc=1, st_inh=3,\n",
    "    channel_ids=None\n",
    ")\n",
    "# datasets_noise10_K20_C8\n",
    "for noise in v_noise:\n",
    "    for K in v_K:\n",
    "        outputdir1 = '{}/datasets_noise{}_K{}_C{}'.format(dataset_path, noise, K, nChans)\n",
    "        v_outputdir.append(outputdir1)\n",
    "        datasets = []\n",
    "        for iDataset in range(1,num_datasets+1):\n",
    "            ds=dict(        \n",
    "                name = '{}_synth'.format('{0:03d}'.format(iDataset)),\n",
    "                seed = iDataset,\n",
    "                n_exc = int(K/2), n_inh=K-int(K/2),\n",
    "                noise_level = noise\n",
    "            )\n",
    "            for key in ds0:\n",
    "                ds[key]=ds0[key]\n",
    "            datasets.append(ds)\n",
    "        v_datasets.append(datasets)"
   ]
  },
  {
   "cell_type": "code",
   "execution_count": 39,
   "metadata": {},
   "outputs": [],
   "source": [
    "# test geom loading\n",
    "import MEArec as mr\n",
    "import MEAutility as mu\n",
    "\n",
    "tempgen = mr.load_templates(templates)\n",
    "mea = mu.return_mea(info=tempgen.info['electrodes'])\n",
    "geom = mea.positions[:,1:3]\n",
    "print(geom)"
   ]
  },
  {
   "cell_type": "code",
   "execution_count": 48,
   "metadata": {},
   "outputs": [
    {
     "name": "stdout",
     "output_type": "stream",
     "text": [
      "['/mnt/home/jjun/ceph/groundtruth/mearec_synth/sqmea/datasets_noise10_K50_C100', '/mnt/home/jjun/ceph/groundtruth/mearec_synth/sqmea/datasets_noise10_K100_C100', '/mnt/home/jjun/ceph/groundtruth/mearec_synth/sqmea/datasets_noise10_K200_C100', '/mnt/home/jjun/ceph/groundtruth/mearec_synth/sqmea/datasets_noise20_K50_C100', '/mnt/home/jjun/ceph/groundtruth/mearec_synth/sqmea/datasets_noise20_K100_C100', '/mnt/home/jjun/ceph/groundtruth/mearec_synth/sqmea/datasets_noise20_K200_C100']\n"
     ]
    }
   ],
   "source": [
    "print(v_outputdir)"
   ]
  },
  {
   "cell_type": "code",
   "execution_count": null,
   "metadata": {},
   "outputs": [
    {
     "name": "stdout",
     "output_type": "stream",
     "text": [
      "001_synth\n",
      "Spiketrains seed:  1\n",
      "002_synth\n",
      "Spiketrains seed:  2\n",
      "003_synth\n",
      "Spiketrains seed:  3\n",
      "004_synth\n",
      "Spiketrains seed:  4\n",
      "005_synth\n",
      "Spiketrains seed:  5\n",
      "006_synth\n",
      "Spiketrains seed:  6\n",
      "007_synth\n",
      "Spiketrains seed:  7\n",
      "008_synth\n",
      "Spiketrains seed:  8\n",
      "009_synth\n",
      "Spiketrains seed:  9\n",
      "010_synth\n",
      "Spiketrains seed:  10\n",
      "Done.\n",
      "001_synth\n",
      "Spiketrains seed:  1\n",
      "002_synth\n",
      "Spiketrains seed:  2\n",
      "003_synth\n",
      "Spiketrains seed:  3\n",
      "004_synth\n",
      "Spiketrains seed:  4\n",
      "005_synth\n",
      "Spiketrains seed:  5\n",
      "006_synth\n",
      "Spiketrains seed:  6\n",
      "007_synth\n",
      "Spiketrains seed:  7\n",
      "008_synth\n",
      "Spiketrains seed:  8\n",
      "009_synth\n",
      "Spiketrains seed:  9\n",
      "010_synth\n",
      "Spiketrains seed:  10\n",
      "Done.\n",
      "001_synth\n",
      "Spiketrains seed:  1\n",
      "002_synth\n",
      "Spiketrains seed:  2\n",
      "003_synth\n",
      "Spiketrains seed:  3\n",
      "004_synth\n",
      "Spiketrains seed:  4\n",
      "005_synth\n",
      "Spiketrains seed:  5\n",
      "006_synth\n",
      "Spiketrains seed:  6\n",
      "007_synth\n",
      "Spiketrains seed:  7\n",
      "008_synth\n",
      "Spiketrains seed:  8\n",
      "009_synth\n",
      "Spiketrains seed:  9\n",
      "010_synth\n",
      "Spiketrains seed:  10\n",
      "Done.\n",
      "001_synth\n",
      "Spiketrains seed:  1\n",
      "002_synth\n",
      "Spiketrains seed:  2\n",
      "003_synth\n",
      "Spiketrains seed:  3\n",
      "004_synth\n",
      "Spiketrains seed:  4\n",
      "005_synth\n",
      "Spiketrains seed:  5\n",
      "006_synth\n",
      "Spiketrains seed:  6\n",
      "007_synth\n",
      "Spiketrains seed:  7\n",
      "008_synth\n",
      "Spiketrains seed:  8\n",
      "009_synth\n",
      "Spiketrains seed:  9\n",
      "010_synth\n",
      "Spiketrains seed:  10\n",
      "Done.\n",
      "001_synth\n",
      "Spiketrains seed:  1\n",
      "002_synth\n",
      "Spiketrains seed:  2\n",
      "003_synth\n",
      "Spiketrains seed:  3\n",
      "004_synth\n",
      "Spiketrains seed:  4\n",
      "005_synth\n",
      "Spiketrains seed:  5\n",
      "006_synth\n",
      "Spiketrains seed:  6\n",
      "007_synth\n",
      "Spiketrains seed:  7\n",
      "008_synth\n",
      "Spiketrains seed:  8\n",
      "009_synth\n",
      "Spiketrains seed:  9\n",
      "010_synth\n",
      "Spiketrains seed:  10\n",
      "Done.\n",
      "001_synth\n",
      "Spiketrains seed:  1\n",
      "002_synth\n",
      "Spiketrains seed:  2\n",
      "003_synth\n",
      "Spiketrains seed:  3\n",
      "004_synth\n",
      "Spiketrains seed:  4\n",
      "005_synth\n",
      "Spiketrains seed:  5\n",
      "006_synth\n",
      "Spiketrains seed:  6\n"
     ]
    }
   ],
   "source": [
    "for datasets, outputdir in zip(v_datasets, v_outputdir):\n",
    "    gen_synth_datasets(datasets,outdir=outputdir,samplerate=samplerate)"
   ]
  },
  {
   "cell_type": "code",
   "execution_count": null,
   "metadata": {},
   "outputs": [],
   "source": [
    "IX=si.MdaRecordingExtractor(dataset_directory=v_outputdir[0]+'/001_synth')\n",
    "OX=si.MdaSortingExtractor(firings_file=v_outputdir[0]+'/001_synth/firings_true.mda')"
   ]
  },
  {
   "cell_type": "code",
   "execution_count": null,
   "metadata": {},
   "outputs": [],
   "source": [
    "sw.TimeseriesWidget(recording=IX).display()"
   ]
  },
  {
   "cell_type": "code",
   "execution_count": null,
   "metadata": {},
   "outputs": [],
   "source": [
    "sw.UnitWaveformsWidget(recording=IX, sorting=OX, snippet_len=100,height=10).plot()"
   ]
  },
  {
   "cell_type": "code",
   "execution_count": null,
   "metadata": {},
   "outputs": [],
   "source": []
  }
 ],
 "metadata": {
  "kernelspec": {
   "display_name": "Python 3",
   "language": "python",
   "name": "python3"
  },
  "language_info": {
   "codemirror_mode": {
    "name": "ipython",
    "version": 3
   },
   "file_extension": ".py",
   "mimetype": "text/x-python",
   "name": "python",
   "nbconvert_exporter": "python",
   "pygments_lexer": "ipython3",
   "version": "3.6.8"
  }
 },
 "nbformat": 4,
 "nbformat_minor": 2
}
