{
 "cells": [
  {
   "cell_type": "code",
   "execution_count": null,
   "metadata": {},
   "outputs": [],
   "source": [
    "%load_ext autoreload\n",
    "%autoreload 2\n",
    "\n",
    "import spikeforest as sf\n",
    "from kbucket import client as kb\n",
    "import spikeforest_analysis as sa\n",
    "\n",
    "sf.kbucketConfigRemote(name='spikeforest1-readwrite',ask_password=True)"
   ]
  },
  {
   "cell_type": "code",
   "execution_count": null,
   "metadata": {},
   "outputs": [],
   "source": [
    "recording_group_names=kb.loadObject(\n",
    "    key=dict(name='spikeforest_recording_group_names')\n",
    ")\n",
    "print(recording_group_names)"
   ]
  },
  {
   "cell_type": "code",
   "execution_count": null,
   "metadata": {},
   "outputs": [],
   "source": [
    "group_name='magland_synth_test'"
   ]
  },
  {
   "cell_type": "code",
   "execution_count": null,
   "metadata": {},
   "outputs": [],
   "source": [
    "X=kb.loadObject(\n",
    "    key=dict(\n",
    "        name='spikeforest_recording_group',\n",
    "        group_name=group_name\n",
    "    )\n",
    ")\n",
    "studies=X['studies']\n",
    "recordings=X['recordings']"
   ]
  },
  {
   "cell_type": "code",
   "execution_count": null,
   "metadata": {},
   "outputs": [],
   "source": [
    "import os\n",
    "os.environ['MLPROCESSORS_FORCE_RUN']='TRUE'"
   ]
  },
  {
   "cell_type": "code",
   "execution_count": null,
   "metadata": {},
   "outputs": [],
   "source": [
    "summarized_recordings=sa.summarize_recordings(recordings)\n",
    "    \n",
    "kb.saveObject(\n",
    "    key=dict(\n",
    "        name='summarized_recordings',\n",
    "        group_name=group_name\n",
    "    ),\n",
    "    object=dict(\n",
    "        studies=studies,\n",
    "        recordings=summarized_recordings\n",
    "    )\n",
    ")"
   ]
  },
  {
   "cell_type": "code",
   "execution_count": null,
   "metadata": {},
   "outputs": [],
   "source": [
    "a=dict(status=None)\n",
    "print(a.get('status','Unknown'))"
   ]
  },
  {
   "cell_type": "code",
   "execution_count": null,
   "metadata": {},
   "outputs": [],
   "source": [
    "summarized_recordings[0]"
   ]
  },
  {
   "cell_type": "code",
   "execution_count": null,
   "metadata": {},
   "outputs": [],
   "source": [
    "summarized_recordings[0]"
   ]
  }
 ],
 "metadata": {
  "kernelspec": {
   "display_name": "Python 3",
   "language": "python",
   "name": "python3"
  },
  "language_info": {
   "codemirror_mode": {
    "name": "ipython",
    "version": 3
   },
   "file_extension": ".py",
   "mimetype": "text/x-python",
   "name": "python",
   "nbconvert_exporter": "python",
   "pygments_lexer": "ipython3",
   "version": "3.7.2"
  }
 },
 "nbformat": 4,
 "nbformat_minor": 2
}
