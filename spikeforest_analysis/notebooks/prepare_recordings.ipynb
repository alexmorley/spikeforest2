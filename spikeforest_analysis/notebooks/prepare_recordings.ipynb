{
 "cells": [
  {
   "cell_type": "code",
   "execution_count": null,
   "metadata": {},
   "outputs": [],
   "source": [
    "%load_ext autoreload\n",
    "%autoreload 2\n",
    "\n",
    "import spikeforest as sf\n",
    "from kbucket import client as kb\n",
    "\n",
    "sf.kbucketConfigRemote(name='spikeforest1-readwrite',ask_password=True)"
   ]
  },
  {
   "cell_type": "code",
   "execution_count": null,
   "metadata": {},
   "outputs": [],
   "source": [
    "# The base directory used below\n",
    "basedir='kbucket://15734439d8cf/groundtruth'"
   ]
  },
  {
   "cell_type": "code",
   "execution_count": null,
   "metadata": {},
   "outputs": [],
   "source": [
    "kb.saveObject(\n",
    "    key=dict(name='spikeforest_recording_group_names'),\n",
    "    object=[\n",
    "        'magland_synth',\n",
    "        'magland_synth_test'\n",
    "    ]\n",
    ")"
   ]
  },
  {
   "cell_type": "markdown",
   "metadata": {},
   "source": [
    "# MAGLAND SYNTH"
   ]
  },
  {
   "cell_type": "code",
   "execution_count": null,
   "metadata": {},
   "outputs": [],
   "source": [
    "def prepare_magland_synth_studies(*,basedir):\n",
    "    study_set_name='magland_synth'\n",
    "    studies=[]\n",
    "    recordings=[]\n",
    "    names=[]\n",
    "    names=names+['datasets_noise10_K10_C4','datasets_noise10_K10_C8']\n",
    "    names=names+['datasets_noise10_K20_C4','datasets_noise10_K20_C8']\n",
    "    names=names+['datasets_noise20_K10_C4','datasets_noise20_K10_C8']\n",
    "    names=names+['datasets_noise20_K20_C4','datasets_noise20_K20_C8']\n",
    "    description=kb.loadText(path=basedir+'/magland_synth/readme.txt')\n",
    "    for name in names:\n",
    "        study_name='magland_synth_'+name[9:]\n",
    "        study_dir=basedir+'/magland_synth/'+name\n",
    "        study0=dict(\n",
    "            name=study_name,\n",
    "            study_set=study_set_name,\n",
    "            directory=study_dir,\n",
    "            description=description\n",
    "        )\n",
    "        studies.append(study0)\n",
    "        dd=kb.readDir(study_dir)\n",
    "        for dsname in dd['dirs']:\n",
    "            dsdir='{}/{}'.format(study_dir,dsname)\n",
    "            recordings.append(dict(\n",
    "                name=dsname,\n",
    "                study=study_name,\n",
    "                directory=dsdir,\n",
    "                description='One of the recordings in the {} study'.format(study_name)\n",
    "            ))\n",
    "    return studies, recordings"
   ]
  },
  {
   "cell_type": "code",
   "execution_count": null,
   "metadata": {},
   "outputs": [],
   "source": [
    "# Prepare the studies\n",
    "studies,recordings=prepare_magland_synth_studies(basedir=basedir)\n",
    "kb.saveObject(\n",
    "    object=dict(\n",
    "        studies=studies,\n",
    "        recordings=recordings\n",
    "    ),\n",
    "    key=dict(name='spikeforest_recording_group',group_name='magland_synth')\n",
    ")\n",
    "kb.saveObject(\n",
    "    object=dict(\n",
    "        studies=[studies[0]],\n",
    "        recordings=recordings[0:3]\n",
    "    ),\n",
    "    key=dict(name='spikeforest_recording_group',group_name='magland_synth_test')\n",
    ")"
   ]
  },
  {
   "cell_type": "code",
   "execution_count": null,
   "metadata": {},
   "outputs": [],
   "source": [
    "# Summarize the recordings"
   ]
  },
  {
   "cell_type": "code",
   "execution_count": null,
   "metadata": {},
   "outputs": [],
   "source": []
  }
 ],
 "metadata": {
  "kernelspec": {
   "display_name": "Python 3",
   "language": "python",
   "name": "python3"
  },
  "language_info": {
   "codemirror_mode": {
    "name": "ipython",
    "version": 3
   },
   "file_extension": ".py",
   "mimetype": "text/x-python",
   "name": "python",
   "nbconvert_exporter": "python",
   "pygments_lexer": "ipython3",
   "version": "3.7.2"
  }
 },
 "nbformat": 4,
 "nbformat_minor": 2
}
