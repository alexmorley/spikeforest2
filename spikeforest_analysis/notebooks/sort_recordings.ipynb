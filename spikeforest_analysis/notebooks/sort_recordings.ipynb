{
 "cells": [
  {
   "cell_type": "code",
   "execution_count": null,
   "metadata": {},
   "outputs": [],
   "source": [
    "%load_ext autoreload\n",
    "%autoreload 2\n",
    "\n",
    "import spikeforest as sf\n",
    "from kbucket import client as kb\n",
    "import spikeforest_analysis as sa\n",
    "\n",
    "sf.kbucketConfigRemote(name='spikeforest1-readwrite',ask_password=True)"
   ]
  },
  {
   "cell_type": "code",
   "execution_count": null,
   "metadata": {},
   "outputs": [],
   "source": [
    "sorter_ms4_thr3=dict(\n",
    "    name='MountainSort4-thr3',\n",
    "    processor_name='MountainSort4',\n",
    "    params=dict(\n",
    "        detect_sign=-1,\n",
    "        adjacency_radius=50,\n",
    "        detect_threshold=3.1\n",
    "    )\n",
    ")"
   ]
  },
  {
   "cell_type": "code",
   "execution_count": null,
   "metadata": {},
   "outputs": [],
   "source": [
    "sorter_names=dict(\n",
    "    magland_synth_test=[\n",
    "        sorter_ms4_thr3['name']\n",
    "    ]\n",
    ")\n",
    "\n",
    "kb.saveObject(\n",
    "    key=dict(\n",
    "        name='spikeforest_sorter_names',\n",
    "    ),\n",
    "    object=sorter_names\n",
    ")"
   ]
  },
  {
   "cell_type": "code",
   "execution_count": null,
   "metadata": {},
   "outputs": [],
   "source": [
    "recording_group_names=kb.loadObject(\n",
    "    key=dict(name='spikeforest_recording_group_names')\n",
    ")\n",
    "print(recording_group_names)"
   ]
  },
  {
   "cell_type": "code",
   "execution_count": null,
   "metadata": {},
   "outputs": [],
   "source": [
    "group_name='magland_synth_test'"
   ]
  },
  {
   "cell_type": "code",
   "execution_count": null,
   "metadata": {},
   "outputs": [],
   "source": [
    "X=kb.loadObject(\n",
    "    key=dict(\n",
    "        name='spikeforest_recording_group',\n",
    "        group_name=group_name\n",
    "    )\n",
    ")\n",
    "studies=X['studies']\n",
    "recordings=X['recordings']"
   ]
  },
  {
   "cell_type": "code",
   "execution_count": null,
   "metadata": {},
   "outputs": [],
   "source": [
    "sorter=sorter_ms4_thr3\n",
    "sorting_results=[]\n",
    "\n",
    "sa.initBatch(compute_resource='jfm-laptop')\n",
    "for rec in recordings:\n",
    "    sorting=sa.sort_recording(recording=rec,sorter=sorter)\n",
    "    sorting_results.append(dict(\n",
    "        recording=rec,\n",
    "        sorter=sorter,\n",
    "        sorting=sorting\n",
    "    ))\n",
    "    \n",
    "for result in sorting_results:\n",
    "    sorting=result['sorting']\n",
    "    sorting['summary']=sa.summarize_sorting(sorting=sorting)\n",
    "    sorting['comparison_with_truth']=sa.compare_with_truth(sorting=sorting)"
   ]
  },
  {
   "cell_type": "code",
   "execution_count": null,
   "metadata": {},
   "outputs": [],
   "source": [
    "kb.saveObject(\n",
    "    key=dict(\n",
    "        name='sorting_results',\n",
    "        group_name=group_name,\n",
    "        sorter_name=sorter['name']\n",
    "    ),\n",
    "    object=dict(\n",
    "        sorting_results=sorting_results\n",
    "    )\n",
    ")"
   ]
  },
  {
   "cell_type": "code",
   "execution_count": null,
   "metadata": {},
   "outputs": [],
   "source": []
  }
 ],
 "metadata": {
  "kernelspec": {
   "display_name": "Python 3",
   "language": "python",
   "name": "python3"
  },
  "language_info": {
   "codemirror_mode": {
    "name": "ipython",
    "version": 3
   },
   "file_extension": ".py",
   "mimetype": "text/x-python",
   "name": "python",
   "nbconvert_exporter": "python",
   "pygments_lexer": "ipython3",
   "version": "3.7.2"
  }
 },
 "nbformat": 4,
 "nbformat_minor": 2
}
