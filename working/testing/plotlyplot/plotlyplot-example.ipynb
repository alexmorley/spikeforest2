{
 "cells": [
  {
   "cell_type": "code",
   "execution_count": null,
   "metadata": {},
   "outputs": [],
   "source": [
    "%load_ext autoreload\n",
    "%autoreload 2\n",
    "\n",
    "import numpy as np\n",
    "\n",
    "import vdomr as vd\n",
    "vd.config_jupyter()"
   ]
  },
  {
   "cell_type": "code",
   "execution_count": null,
   "metadata": {},
   "outputs": [],
   "source": [
    "xx = np.linspace(0,1,10000)\n",
    "yy = np.cos((10*xx)**2)\n",
    "\n",
    "P = vd.components.PlotlyPlot(\n",
    "    data = dict(x=xx, y=yy),\n",
    "    opts=dict(margin=dict(t=5)),\n",
    "    size=(600,200)\n",
    ")\n",
    "\n",
    "X=vd.div(\n",
    "    vd.table(\n",
    "        vd.tr(\n",
    "            vd.td(vd.h3('row1-col1')),\n",
    "            vd.td(P),\n",
    "            vd.td('row1-col3')\n",
    "        ),\n",
    "        vd.tr(\n",
    "            vd.td('row2-col1'),\n",
    "            vd.td('test2'),\n",
    "            vd.td('row2-col3')\n",
    "        )\n",
    "    )\n",
    ")\n",
    "display(X)"
   ]
  }
 ],
 "metadata": {
  "kernelspec": {
   "display_name": "Python 3",
   "language": "python",
   "name": "python3"
  },
  "language_info": {
   "codemirror_mode": {
    "name": "ipython",
    "version": 3
   },
   "file_extension": ".py",
   "mimetype": "text/x-python",
   "name": "python",
   "nbconvert_exporter": "python",
   "pygments_lexer": "ipython3",
   "version": "3.6.8"
  }
 },
 "nbformat": 4,
 "nbformat_minor": 2
}
