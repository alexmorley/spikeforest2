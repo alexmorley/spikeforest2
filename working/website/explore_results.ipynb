{
 "cells": [
  {
   "cell_type": "code",
   "execution_count": 1,
   "metadata": {},
   "outputs": [],
   "source": [
    "%load_ext autoreload\n",
    "%autoreload 2\n",
    "\n",
    "from mountaintools import client as mt\n",
    "import os\n",
    "import pandas as pd\n",
    "import numpy as np\n",
    "import json"
   ]
  },
  {
   "cell_type": "code",
   "execution_count": 2,
   "metadata": {},
   "outputs": [],
   "source": [
    "mt.configDownloadFrom('spikeforest.kbucket')"
   ]
  },
  {
   "cell_type": "code",
   "execution_count": 25,
   "metadata": {},
   "outputs": [],
   "source": [
    "output_ids=[\n",
    "    \"paired_boyden32c\",\"paired_crcns\",\"paired_kampff\",\"paired_mea64c\",\n",
    "    \"synth_visapy\",\"synth_magland\",\"synth_mearec_tetrode\",\n",
    "    \"manual_franklab\",\"synth_bionet\",\"synth_mearec_neuronexus\"\n",
    "]\n",
    "# output_ids=[\n",
    "#     \"paired_boyden32c\",\"paired_crcns\",\"paired_kampff\",\"paired_mea64c\",\n",
    "#     \"synth_visapy\",\"synth_magland\",\"synth_mearec_tetrode\",\n",
    "#     \"manual_franklab\",\"synth_mearec_neuronexus\"\n",
    "# ]\n"
   ]
  },
  {
   "cell_type": "code",
   "execution_count": 26,
   "metadata": {},
   "outputs": [
    {
     "name": "stdout",
     "output_type": "stream",
     "text": [
      "******************************** LOADING ANALYSIS OUTPUT OBJECTS...\n",
      "Loading output object: paired_boyden32c\n",
      "Loading output object: paired_crcns\n",
      "Loading output object: paired_kampff\n",
      "Loading output object: paired_mea64c\n",
      "Loading output object: synth_visapy\n",
      "Loading output object: synth_magland\n",
      "Loading output object: synth_mearec_tetrode\n",
      "Loading output object: manual_franklab\n",
      "Loading output object: synth_bionet\n",
      "Loading output object: synth_mearec_neuronexus\n"
     ]
    }
   ],
   "source": [
    "print('******************************** LOADING ANALYSIS OUTPUT OBJECTS...')\n",
    "studies = []\n",
    "study_sets = []\n",
    "recordings = []\n",
    "sorting_results = []\n",
    "for output_id in output_ids:\n",
    "    print('Loading output object: {}'.format(output_id))\n",
    "    output_path = ('key://pairio/spikeforest/spikeforest_analysis_results.{}.json').format(output_id)\n",
    "    obj = mt.loadObject(path=output_path)\n",
    "    if obj:\n",
    "        studies = studies + obj['studies']\n",
    "        study_sets = study_sets + obj.get('study_sets', [])\n",
    "        recordings = recordings + obj['recordings']\n",
    "        sorting_results = sorting_results + obj['sorting_results']\n",
    "    else:\n",
    "        print('Unable to load object: '+output_path)"
   ]
  },
  {
   "cell_type": "code",
   "execution_count": 33,
   "metadata": {},
   "outputs": [
    {
     "data": {
      "text/plain": [
       "1.05"
      ]
     },
     "execution_count": 33,
     "metadata": {},
     "output_type": "execute_result"
    }
   ],
   "source": [
    "round(1.05234, 2)"
   ]
  },
  {
   "cell_type": "code",
   "execution_count": 27,
   "metadata": {},
   "outputs": [
    {
     "name": "stdout",
     "output_type": "stream",
     "text": [
      "['manual_tetrode_1200s', 'manual_tetrode_2400s', 'manual_tetrode_600s', 'mea_c30', 'paired_boyden32c', 'paired_crcns', 'paired_kampff', 'paired_mea64c', 'synth_bionet_drift', 'synth_bionet_shuffle', 'synth_bionet_static', 'synth_magland_noise10_K10_C4', 'synth_magland_noise10_K10_C8', 'synth_magland_noise10_K20_C4', 'synth_magland_noise10_K20_C8', 'synth_magland_noise20_K10_C4', 'synth_magland_noise20_K10_C8', 'synth_magland_noise20_K20_C4', 'synth_magland_noise20_K20_C8', 'synth_mearec_neuronexus_noise10_K10_C32', 'synth_mearec_neuronexus_noise10_K20_C32', 'synth_mearec_neuronexus_noise10_K40_C32', 'synth_mearec_neuronexus_noise20_K10_C32', 'synth_mearec_neuronexus_noise20_K20_C32', 'synth_mearec_neuronexus_noise20_K40_C32', 'synth_mearec_tetrode_noise10_K10_C4', 'synth_mearec_tetrode_noise10_K20_C4', 'synth_mearec_tetrode_noise20_K10_C4', 'synth_mearec_tetrode_noise20_K20_C4']\n"
     ]
    }
   ],
   "source": [
    "study_names = sorted(list(set([rec['study'] for rec in recordings])))\n",
    "print(study_names)"
   ]
  },
  {
   "cell_type": "code",
   "execution_count": 28,
   "metadata": {},
   "outputs": [],
   "source": [
    "sorter_names = sorted(list(set([sr['sorter']['name'] for sr in sorting_results])))"
   ]
  },
  {
   "cell_type": "code",
   "execution_count": 31,
   "metadata": {},
   "outputs": [],
   "source": [
    "def _assemble_study_analysis_result(*, study_name, recordings, sorting_results, sorter_names):\n",
    "    true_units = dict()\n",
    "    recording_names = []\n",
    "    for irec, rec in enumerate(recordings):\n",
    "        if rec['study'] == study_name:\n",
    "            recording_names.append(rec['name'])\n",
    "            true_units_info = mt.loadObject(path=rec['summary']['true_units_info'])\n",
    "            for unit_info in true_units_info:\n",
    "                id0=unit_info['unit_id']\n",
    "                true_units[study_name+'/'+rec['name']+'/{}'.format(id0)] = dict(\n",
    "                    unit_id = id0,\n",
    "                    recording_index = irec,\n",
    "                    snr=unit_info['snr'],\n",
    "                    firing_rate=unit_info['firing_rate'],\n",
    "                    num_events=unit_info['num_events'],\n",
    "                    sorting_results=dict()\n",
    "                )\n",
    "    for sr in sorting_results:\n",
    "        rec = sr['recording']\n",
    "        if rec['study'] == study_name:\n",
    "            if sr.get('comparison_with_truth', None):\n",
    "                comparison_with_truth = mt.loadObject(path=sr['comparison_with_truth']['json'])\n",
    "                if comparison_with_truth is None:\n",
    "                    print(sr)\n",
    "                    raise Exception('Unable to retrieve comparison with truth object for sorting result.')\n",
    "                sorter_name=sr['sorter']['name']\n",
    "                for unit_result in comparison_with_truth.values():\n",
    "                    id0=unit_result['unit_id']\n",
    "                    n_match = unit_result['num_matches']\n",
    "                    n_fp = unit_result['num_false_positives']\n",
    "                    n_fn = unit_result['num_false_negatives']\n",
    "                    accuracy = n_match / (n_match + n_fp + n_fn)\n",
    "                    if n_match + n_fp > 0:\n",
    "                        precision = n_match / (n_match + n_fp)\n",
    "                    else:\n",
    "                        precision = 0\n",
    "                    recall = n_match / (n_match + n_fn)\n",
    "                    true_units[study_name+'/'+rec['name']+'/{}'.format(id0)]['sorting_results'][sorter_name]=dict(\n",
    "                        accuracy=accuracy,\n",
    "                        precision=precision,\n",
    "                        recall=recall\n",
    "                    )\n",
    "\n",
    "    keys0 = sorted(true_units.keys())\n",
    "    true_units_list = [true_units[key] for key in keys0]\n",
    "    \n",
    "    snrs = [x['snr'] for x in true_units_list]\n",
    "    firing_rates = [x['firing_rate'] for x in true_units_list]\n",
    "    num_events = [x['num_events'] for x in true_units_list]\n",
    "    recording_indices = [x['recording_index'] for x in true_units_list]\n",
    "    unit_ids = [x['unit_id'] for x in true_units_list]\n",
    "    \n",
    "    study_analysis_result=dict(\n",
    "        study_name=study_name,\n",
    "        recording_names=recording_names,\n",
    "        snrs=snrs,\n",
    "        firing_rates=firing_rates,\n",
    "        num_events=num_events,\n",
    "        recording_indices=recording_indices,\n",
    "        unit_ids=unit_ids,\n",
    "        sorting_results=dict()\n",
    "    )\n",
    "    for sorter_name in sorter_names:\n",
    "        accuracies = [x['sorting_results'].get(sorter_name, {}).get('accuracy') for x in true_units_list]\n",
    "        precisions = [x['sorting_results'].get(sorter_name, {}).get('precision') for x in true_units_list]\n",
    "        recalls = [x['sorting_results'].get(sorter_name, {}).get('recall') for x in true_units_list]\n",
    "        study_analysis_result['sorting_results'][sorter_name]=dict(\n",
    "            accuracies=accuracies,\n",
    "            precisions=precisions,\n",
    "            recalls=recalls\n",
    "        )\n",
    "        \n",
    "    \n",
    "    return study_analysis_result\n",
    "\n",
    "study_analysis_results = [_assemble_study_analysis_result(study_name=study['name'], recordings=recordings, sorting_results=sorting_results, sorter_names=sorter_names) for study in studies]"
   ]
  },
  {
   "cell_type": "code",
   "execution_count": 32,
   "metadata": {},
   "outputs": [
    {
     "data": {
      "text/plain": [
       "'/home/magland/sha1-cache-new/1/7c/17c63cfaa8c47de72eb6adb5a8ac03f62c297ebd'"
      ]
     },
     "execution_count": 32,
     "metadata": {},
     "output_type": "execute_result"
    }
   ],
   "source": [
    "mt.realizeFile(path=mt.saveObject(object=study_analysis_results))"
   ]
  },
  {
   "cell_type": "code",
   "execution_count": 23,
   "metadata": {},
   "outputs": [
    {
     "data": {
      "text/plain": [
       "['paired_boyden32c',\n",
       " 'paired_crcns',\n",
       " 'paired_kampff',\n",
       " 'paired_mea64c',\n",
       " 'mea_c30',\n",
       " 'synth_magland_noise10_K10_C4',\n",
       " 'synth_magland_noise10_K10_C8',\n",
       " 'synth_magland_noise10_K20_C4',\n",
       " 'synth_magland_noise10_K20_C8',\n",
       " 'synth_magland_noise20_K10_C4',\n",
       " 'synth_magland_noise20_K10_C8',\n",
       " 'synth_magland_noise20_K20_C4',\n",
       " 'synth_magland_noise20_K20_C8',\n",
       " 'synth_mearec_tetrode_noise10_K10_C4',\n",
       " 'synth_mearec_tetrode_noise10_K20_C4',\n",
       " 'synth_mearec_tetrode_noise20_K10_C4',\n",
       " 'synth_mearec_tetrode_noise20_K20_C4',\n",
       " 'manual_tetrode_600s',\n",
       " 'manual_tetrode_1200s',\n",
       " 'manual_tetrode_2400s',\n",
       " 'synth_mearec_neuronexus_noise10_K10_C32',\n",
       " 'synth_mearec_neuronexus_noise10_K20_C32',\n",
       " 'synth_mearec_neuronexus_noise10_K40_C32',\n",
       " 'synth_mearec_neuronexus_noise20_K10_C32',\n",
       " 'synth_mearec_neuronexus_noise20_K20_C32',\n",
       " 'synth_mearec_neuronexus_noise20_K40_C32']"
      ]
     },
     "execution_count": 23,
     "metadata": {},
     "output_type": "execute_result"
    }
   ],
   "source": [
    "[study['name'] for study in studies]"
   ]
  },
  {
   "cell_type": "code",
   "execution_count": 17,
   "metadata": {},
   "outputs": [
    {
     "data": {
      "text/plain": [
       "['paired_boyden32c',\n",
       " 'paired_crcns',\n",
       " 'paired_kampff',\n",
       " 'paired_mea64c',\n",
       " 'mea_c30',\n",
       " 'synth_magland_noise10_K10_C4',\n",
       " 'synth_magland_noise10_K10_C8',\n",
       " 'synth_magland_noise10_K20_C4',\n",
       " 'synth_magland_noise10_K20_C8',\n",
       " 'synth_magland_noise20_K10_C4',\n",
       " 'synth_magland_noise20_K10_C8',\n",
       " 'synth_magland_noise20_K20_C4',\n",
       " 'synth_magland_noise20_K20_C8',\n",
       " 'synth_mearec_tetrode_noise10_K10_C4',\n",
       " 'synth_mearec_tetrode_noise10_K20_C4',\n",
       " 'synth_mearec_tetrode_noise20_K10_C4',\n",
       " 'synth_mearec_tetrode_noise20_K20_C4',\n",
       " 'manual_tetrode_600s',\n",
       " 'manual_tetrode_1200s',\n",
       " 'manual_tetrode_2400s',\n",
       " 'synth_mearec_neuronexus_noise10_K10_C32',\n",
       " 'synth_mearec_neuronexus_noise10_K20_C32',\n",
       " 'synth_mearec_neuronexus_noise10_K40_C32',\n",
       " 'synth_mearec_neuronexus_noise20_K10_C32',\n",
       " 'synth_mearec_neuronexus_noise20_K20_C32',\n",
       " 'synth_mearec_neuronexus_noise20_K40_C32']"
      ]
     },
     "execution_count": 17,
     "metadata": {},
     "output_type": "execute_result"
    }
   ],
   "source": [
    "[x['study_name'] for x in study_analysis_results]"
   ]
  },
  {
   "cell_type": "code",
   "execution_count": 72,
   "metadata": {},
   "outputs": [],
   "source": [
    "true_units_by_recording = dict()\n",
    "for rec in recordings:\n",
    "    snrs=[]\n",
    "    firing_rates=[]\n",
    "    num_events=[]\n",
    "    snr_by_id=dict()\n",
    "    firing_rate_by_id=dict()\n",
    "    num_events_by_id=dict()\n",
    "    true_units_info = mt.loadObject(path=rec['summary']['true_units_info'])\n",
    "    for unit_info in true_units_info:\n",
    "        id0=unit_info['unit_id']\n",
    "        snr_by_id[id0]=unit_info['snr']\n",
    "        firing_rate_by_id[id0]=unit_info['firing_rate']\n",
    "        num_events_by_id[id0]=unit_info['num_events']\n",
    "    true_units_by_recording[rec['study']+'/'+rec['name']]=dict(\n",
    "        snr_by_id=snr_by_id,\n",
    "        firing_rate_by_id=firing_rate_by_id,\n",
    "        num_events_by_id=num_events_by_id\n",
    "    )\n",
    "\n",
    "study_sorter_results = []\n",
    "for study in studies:\n",
    "    total_true_units = 0\n",
    "    for rec in recordings:\n",
    "        if rec['study'] == study['name']:\n",
    "            true_units_info = true_units_by_recording[rec['study']+'/'+rec['name']]\n",
    "            total_true_units = total_true_units + len(true_units_info['snr_by_id'].keys())\n",
    "            \n",
    "    for sorter_name in sorter_names:\n",
    "        srs = [sr for sr in sorting_results if (sr['sorter']['name'] == sorter_name) and (sr['recording']['study'] == study['name'])]\n",
    "        accuracies = []\n",
    "        precisions = []\n",
    "        recalls = []\n",
    "        snrs = []\n",
    "        firing_rates = []\n",
    "        num_events = []\n",
    "        for sr in srs:\n",
    "            if sr.get('comparison_with_truth', None):\n",
    "                comparison_with_truth = mt.loadObject(path=sr['comparison_with_truth']['json'])\n",
    "                if comparison_with_truth is None:\n",
    "                    print(sr)\n",
    "                    raise Exception('Unable to retrieve comparison with truth object for sorting result.')\n",
    "                true_units_info = true_units_by_recording[sr['recording']['study']+'/'+sr['recording']['name']]\n",
    "                for unit_result in comparison_with_truth.values():\n",
    "                    id0=unit_result['unit_id']\n",
    "                    n_match = unit_result['num_matches']\n",
    "                    n_fp = unit_result['num_false_positives']\n",
    "                    n_fn = unit_result['num_false_negatives']\n",
    "                    accuracy = n_match / (n_match + n_fp + n_fn)\n",
    "                    if n_match + n_fp > 0:\n",
    "                        precision = n_match / (n_match + n_fp)\n",
    "                    else:\n",
    "                        precision = 0\n",
    "                    recall = n_match / (n_match + n_fn)\n",
    "                    accuracies.append(accuracy)\n",
    "                    precisions.append(precision)\n",
    "                    recalls.append(recall)\n",
    "                    snrs.append(true_units_info['snr_by_id'][id0])\n",
    "                    firing_rates.append(true_units_info['firing_rate_by_id'][id0])\n",
    "                    num_events.append(true_units_info['num_events_by_id'][id0])\n",
    "        study_sorter_results.append(dict(\n",
    "            study=study['name'],\n",
    "            sorter=sorter_name,\n",
    "            accuracies=accuracies,\n",
    "            precisions=precisions,\n",
    "            recalls=recalls,\n",
    "            snrs=snrs,\n",
    "            firing_rates=firing_rates,\n",
    "            num_events=num_events,\n",
    "            total_true_units=total_true_units,\n",
    "            missed_true_units=total_true_units-len(snrs)\n",
    "        ))"
   ]
  },
  {
   "cell_type": "code",
   "execution_count": 73,
   "metadata": {},
   "outputs": [
    {
     "data": {
      "text/plain": [
       "'/home/magland/sha1-cache-new/f/6f/f6f4e1869fa0188c6d940d30e80c244988e80d79'"
      ]
     },
     "execution_count": 73,
     "metadata": {},
     "output_type": "execute_result"
    }
   ],
   "source": [
    "mt.realizeFile(mt.saveObject(object=study_sorter_results))"
   ]
  },
  {
   "cell_type": "code",
   "execution_count": 64,
   "metadata": {},
   "outputs": [
    {
     "name": "stdout",
     "output_type": "stream",
     "text": [
      "4 19 paired_boyden32c KiloSort2\n",
      "74 93 paired_crcns KiloSort2\n",
      "1 15 paired_kampff SpykingCircus\n",
      "18 18 paired_mea64c SpykingCircus\n",
      "100 100 synth_magland_noise10_K10_C4 KiloSort2\n",
      "200 200 synth_magland_noise10_K20_C4 KiloSort2\n",
      "100 100 synth_magland_noise20_K10_C4 KiloSort2\n",
      "200 200 synth_magland_noise20_K20_C4 KiloSort2\n",
      "100 100 synth_mearec_tetrode_noise10_K10_C4 KiloSort2\n",
      "200 200 synth_mearec_tetrode_noise10_K20_C4 KiloSort2\n",
      "100 100 synth_mearec_tetrode_noise20_K10_C4 KiloSort2\n",
      "200 200 synth_mearec_tetrode_noise20_K20_C4 KiloSort2\n",
      "104 104 manual_tetrode_600s KiloSort2\n",
      "52 52 manual_tetrode_1200s KiloSort2\n",
      "26 26 manual_tetrode_2400s KiloSort2\n",
      "8496 8496 synth_bionet_static SpykingCircus\n",
      "1416 8496 synth_bionet_drift KiloSort2\n",
      "8496 8496 synth_bionet_drift SpykingCircus\n",
      "708 8496 synth_bionet_shuffle KiloSort2\n",
      "8496 8496 synth_bionet_shuffle SpykingCircus\n",
      "30 100 synth_mearec_neuronexus_noise20_K10_C32 KiloSort2\n",
      "160 200 synth_mearec_neuronexus_noise20_K20_C32 KiloSort\n",
      "400 400 synth_mearec_neuronexus_noise20_K40_C32 KiloSort\n"
     ]
    }
   ],
   "source": [
    "for ssr in study_sorter_results:\n",
    "    if ssr['missed_true_units']:\n",
    "        if ssr['sorter'] != 'HerdingSpikes2':\n",
    "            print(ssr['missed_true_units'], ssr['total_true_units'], ssr['study'], ssr['sorter'])"
   ]
  },
  {
   "cell_type": "code",
   "execution_count": 17,
   "metadata": {},
   "outputs": [
    {
     "data": {
      "text/plain": [
       "{'recording': {'name': 'rec_16c_600s_11',\n",
       "  'study': 'hybrid_drift_16c_600s',\n",
       "  'directory': 'kbucket://15734439d8cf/groundtruth/hybrid_drift/rec_16c_600s_11',\n",
       "  'description': 'One of the recordings in the hybrid_drift_16c_600s study',\n",
       "  'summary': {'computed_info': {'samplerate': 30000.0,\n",
       "    'num_channels': 16,\n",
       "    'duration_sec': 600.0},\n",
       "   'plots': {},\n",
       "   'true_units_info': 'sha1://1106e8dba8d6119b8c6c050bbc9e7650cdfeea85/true_units_info.json'}},\n",
       " 'sorter': {'code': 'ms4',\n",
       "  'name': 'MountainSort4-thr3',\n",
       "  'processor_name': 'MountainSort4',\n",
       "  'params': {'detect_sign': -1, 'adjacency_radius': 50, 'detect_threshold': 3},\n",
       "  'compute_resource': 'default'},\n",
       " 'firings_true': 'kbucket://15734439d8cf/groundtruth/hybrid_drift/rec_16c_600s_11/firings_true.mda',\n",
       " 'processor_name': 'MountainSort4',\n",
       " 'processor_version': '4.2.0',\n",
       " 'execution_stats': {'start_time': 1553546477.836693,\n",
       "  'end_time': 1553546611.6152449,\n",
       "  'elapsed_sec': 133.7785518169403},\n",
       " 'console_out': 'sha1://3754f1f0faf75753251c625b791101999980e714/console_out.txt',\n",
       " 'container': 'default',\n",
       " 'firings': 'sha1://1d5f3a00cd14eab6996f78f445838b9250d25982/firings_out.mda',\n",
       " 'summary': {'plots': {}},\n",
       " 'comparison_with_truth': {'json': 'sha1://558101fddf6afe6b9080f071efb0fff72600c694/json_out.json',\n",
       "  'html': 'sha1://c6f583e740d070382cb2722e84f856038b0970ae/html_out.html'}}"
      ]
     },
     "execution_count": 17,
     "metadata": {},
     "output_type": "execute_result"
    }
   ],
   "source": [
    "sorting_results[0]"
   ]
  },
  {
   "cell_type": "code",
   "execution_count": null,
   "metadata": {},
   "outputs": [],
   "source": []
  },
  {
   "cell_type": "code",
   "execution_count": 18,
   "metadata": {},
   "outputs": [],
   "source": [
    "obj = dict(studies=studies, recordings=recordings, sorting_results=sorting_results)"
   ]
  },
  {
   "cell_type": "code",
   "execution_count": 19,
   "metadata": {},
   "outputs": [
    {
     "name": "stdout",
     "output_type": "stream",
     "text": [
      "Uploading to kachery --- (166.2 KiB): /home/magland/sha1-cache-new/tmp_mountainclient_koqfueomtv.txt -> http://kbucket.flatironinstitute.org:8080/set/sha1/ab9d36084bcd8c6f68cd674ee6bf496aeb8bf066?signature=cbc646c23494e1f977c961bf5b89aca3a053e1b2\n",
      "File uploaded (166.2 KiB) in 0.012670516967773438 sec\n",
      "sha1://ab9d36084bcd8c6f68cd674ee6bf496aeb8bf066/object.json\n"
     ]
    }
   ],
   "source": [
    "a=mt.saveObject(object=obj, share_id='kbucket')\n",
    "print(a)"
   ]
  },
  {
   "cell_type": "code",
   "execution_count": 11,
   "metadata": {},
   "outputs": [],
   "source": [
    "from copy import deepcopy"
   ]
  },
  {
   "cell_type": "code",
   "execution_count": 12,
   "metadata": {},
   "outputs": [
    {
     "data": {
      "text/plain": [
       "3"
      ]
     },
     "execution_count": 12,
     "metadata": {},
     "output_type": "execute_result"
    }
   ],
   "source": [
    "deepcopy(3)"
   ]
  },
  {
   "cell_type": "code",
   "execution_count": 5,
   "metadata": {},
   "outputs": [],
   "source": [
    "study_sets_by_study = dict()\n",
    "for study in studies:\n",
    "    study_sets_by_study[study['name']] = study['study_set']"
   ]
  },
  {
   "cell_type": "code",
   "execution_count": 6,
   "metadata": {},
   "outputs": [
    {
     "data": {
      "text/html": [
       "<div>\n",
       "<style scoped>\n",
       "    .dataframe tbody tr th:only-of-type {\n",
       "        vertical-align: middle;\n",
       "    }\n",
       "\n",
       "    .dataframe tbody tr th {\n",
       "        vertical-align: top;\n",
       "    }\n",
       "\n",
       "    .dataframe thead th {\n",
       "        text-align: right;\n",
       "    }\n",
       "</style>\n",
       "<table border=\"1\" class=\"dataframe\">\n",
       "  <thead>\n",
       "    <tr style=\"text-align: right;\">\n",
       "      <th></th>\n",
       "      <th>study_set</th>\n",
       "      <th>name</th>\n",
       "      <th>directory</th>\n",
       "    </tr>\n",
       "  </thead>\n",
       "  <tbody>\n",
       "    <tr>\n",
       "      <th>0</th>\n",
       "      <td>mearec_neuronexus</td>\n",
       "      <td>mearec_neuronexus_noise10_K10_C32</td>\n",
       "      <td>kbucket://15734439d8cf/groundtruth/mearec_synt...</td>\n",
       "    </tr>\n",
       "    <tr>\n",
       "      <th>1</th>\n",
       "      <td>mearec_neuronexus</td>\n",
       "      <td>mearec_neuronexus_noise10_K20_C32</td>\n",
       "      <td>kbucket://15734439d8cf/groundtruth/mearec_synt...</td>\n",
       "    </tr>\n",
       "    <tr>\n",
       "      <th>2</th>\n",
       "      <td>mearec_neuronexus</td>\n",
       "      <td>mearec_neuronexus_noise10_K40_C32</td>\n",
       "      <td>kbucket://15734439d8cf/groundtruth/mearec_synt...</td>\n",
       "    </tr>\n",
       "    <tr>\n",
       "      <th>3</th>\n",
       "      <td>mearec_neuronexus</td>\n",
       "      <td>mearec_neuronexus_noise20_K10_C32</td>\n",
       "      <td>kbucket://15734439d8cf/groundtruth/mearec_synt...</td>\n",
       "    </tr>\n",
       "    <tr>\n",
       "      <th>4</th>\n",
       "      <td>mearec_neuronexus</td>\n",
       "      <td>mearec_neuronexus_noise20_K20_C32</td>\n",
       "      <td>kbucket://15734439d8cf/groundtruth/mearec_synt...</td>\n",
       "    </tr>\n",
       "    <tr>\n",
       "      <th>5</th>\n",
       "      <td>mearec_neuronexus</td>\n",
       "      <td>mearec_neuronexus_noise20_K40_C32</td>\n",
       "      <td>kbucket://15734439d8cf/groundtruth/mearec_synt...</td>\n",
       "    </tr>\n",
       "    <tr>\n",
       "      <th>6</th>\n",
       "      <td>visapy_mea</td>\n",
       "      <td>visapy_mea</td>\n",
       "      <td>kbucket://15734439d8cf/groundtruth/visapy_mea</td>\n",
       "    </tr>\n",
       "    <tr>\n",
       "      <th>7</th>\n",
       "      <td>magland_synth</td>\n",
       "      <td>magland_synth_noise10_K10_C4</td>\n",
       "      <td>kbucket://15734439d8cf/groundtruth/magland_syn...</td>\n",
       "    </tr>\n",
       "    <tr>\n",
       "      <th>8</th>\n",
       "      <td>magland_synth</td>\n",
       "      <td>magland_synth_noise10_K10_C8</td>\n",
       "      <td>kbucket://15734439d8cf/groundtruth/magland_syn...</td>\n",
       "    </tr>\n",
       "    <tr>\n",
       "      <th>9</th>\n",
       "      <td>magland_synth</td>\n",
       "      <td>magland_synth_noise10_K20_C4</td>\n",
       "      <td>kbucket://15734439d8cf/groundtruth/magland_syn...</td>\n",
       "    </tr>\n",
       "    <tr>\n",
       "      <th>10</th>\n",
       "      <td>magland_synth</td>\n",
       "      <td>magland_synth_noise10_K20_C8</td>\n",
       "      <td>kbucket://15734439d8cf/groundtruth/magland_syn...</td>\n",
       "    </tr>\n",
       "    <tr>\n",
       "      <th>11</th>\n",
       "      <td>magland_synth</td>\n",
       "      <td>magland_synth_noise20_K10_C4</td>\n",
       "      <td>kbucket://15734439d8cf/groundtruth/magland_syn...</td>\n",
       "    </tr>\n",
       "    <tr>\n",
       "      <th>12</th>\n",
       "      <td>magland_synth</td>\n",
       "      <td>magland_synth_noise20_K10_C8</td>\n",
       "      <td>kbucket://15734439d8cf/groundtruth/magland_syn...</td>\n",
       "    </tr>\n",
       "    <tr>\n",
       "      <th>13</th>\n",
       "      <td>magland_synth</td>\n",
       "      <td>magland_synth_noise20_K20_C4</td>\n",
       "      <td>kbucket://15734439d8cf/groundtruth/magland_syn...</td>\n",
       "    </tr>\n",
       "    <tr>\n",
       "      <th>14</th>\n",
       "      <td>magland_synth</td>\n",
       "      <td>magland_synth_noise20_K20_C8</td>\n",
       "      <td>kbucket://15734439d8cf/groundtruth/magland_syn...</td>\n",
       "    </tr>\n",
       "    <tr>\n",
       "      <th>15</th>\n",
       "      <td>paired</td>\n",
       "      <td>paired_boyden32c</td>\n",
       "      <td>kbucket://15734439d8cf/groundtruth/paired_reco...</td>\n",
       "    </tr>\n",
       "    <tr>\n",
       "      <th>16</th>\n",
       "      <td>paired</td>\n",
       "      <td>paired_crcns</td>\n",
       "      <td>kbucket://15734439d8cf/groundtruth/paired_reco...</td>\n",
       "    </tr>\n",
       "    <tr>\n",
       "      <th>17</th>\n",
       "      <td>paired</td>\n",
       "      <td>paired_mea64c</td>\n",
       "      <td>kbucket://15734439d8cf/groundtruth/paired_reco...</td>\n",
       "    </tr>\n",
       "    <tr>\n",
       "      <th>18</th>\n",
       "      <td>paired</td>\n",
       "      <td>paired_neuropix32c</td>\n",
       "      <td>kbucket://15734439d8cf/groundtruth/paired_reco...</td>\n",
       "    </tr>\n",
       "    <tr>\n",
       "      <th>19</th>\n",
       "      <td>mearec_tetrode</td>\n",
       "      <td>mearec_tetrode_noise10_K10_C4</td>\n",
       "      <td>kbucket://15734439d8cf/groundtruth/mearec_synt...</td>\n",
       "    </tr>\n",
       "    <tr>\n",
       "      <th>20</th>\n",
       "      <td>mearec_tetrode</td>\n",
       "      <td>mearec_tetrode_noise10_K20_C4</td>\n",
       "      <td>kbucket://15734439d8cf/groundtruth/mearec_synt...</td>\n",
       "    </tr>\n",
       "    <tr>\n",
       "      <th>21</th>\n",
       "      <td>mearec_tetrode</td>\n",
       "      <td>mearec_tetrode_noise20_K10_C4</td>\n",
       "      <td>kbucket://15734439d8cf/groundtruth/mearec_synt...</td>\n",
       "    </tr>\n",
       "    <tr>\n",
       "      <th>22</th>\n",
       "      <td>mearec_tetrode</td>\n",
       "      <td>mearec_tetrode_noise20_K20_C4</td>\n",
       "      <td>kbucket://15734439d8cf/groundtruth/mearec_synt...</td>\n",
       "    </tr>\n",
       "    <tr>\n",
       "      <th>23</th>\n",
       "      <td>manual_tetrode</td>\n",
       "      <td>manual_tetrode_600s</td>\n",
       "      <td>kbucket://15734439d8cf/groundtruth/manual_sort...</td>\n",
       "    </tr>\n",
       "    <tr>\n",
       "      <th>24</th>\n",
       "      <td>manual_tetrode</td>\n",
       "      <td>manual_tetrode_1200s</td>\n",
       "      <td>kbucket://15734439d8cf/groundtruth/manual_sort...</td>\n",
       "    </tr>\n",
       "    <tr>\n",
       "      <th>25</th>\n",
       "      <td>manual_tetrode</td>\n",
       "      <td>manual_tetrode_2400s</td>\n",
       "      <td>kbucket://15734439d8cf/groundtruth/manual_sort...</td>\n",
       "    </tr>\n",
       "    <tr>\n",
       "      <th>26</th>\n",
       "      <td>bionet</td>\n",
       "      <td>bionet_static</td>\n",
       "      <td>kbucket://15734439d8cf/groundtruth/bionet/bion...</td>\n",
       "    </tr>\n",
       "    <tr>\n",
       "      <th>27</th>\n",
       "      <td>bionet</td>\n",
       "      <td>bionet_drift</td>\n",
       "      <td>kbucket://15734439d8cf/groundtruth/bionet/bion...</td>\n",
       "    </tr>\n",
       "    <tr>\n",
       "      <th>28</th>\n",
       "      <td>bionet</td>\n",
       "      <td>bionet_shuffle</td>\n",
       "      <td>kbucket://15734439d8cf/groundtruth/bionet/bion...</td>\n",
       "    </tr>\n",
       "  </tbody>\n",
       "</table>\n",
       "</div>"
      ],
      "text/plain": [
       "            study_set                               name  \\\n",
       "0   mearec_neuronexus  mearec_neuronexus_noise10_K10_C32   \n",
       "1   mearec_neuronexus  mearec_neuronexus_noise10_K20_C32   \n",
       "2   mearec_neuronexus  mearec_neuronexus_noise10_K40_C32   \n",
       "3   mearec_neuronexus  mearec_neuronexus_noise20_K10_C32   \n",
       "4   mearec_neuronexus  mearec_neuronexus_noise20_K20_C32   \n",
       "5   mearec_neuronexus  mearec_neuronexus_noise20_K40_C32   \n",
       "6          visapy_mea                         visapy_mea   \n",
       "7       magland_synth       magland_synth_noise10_K10_C4   \n",
       "8       magland_synth       magland_synth_noise10_K10_C8   \n",
       "9       magland_synth       magland_synth_noise10_K20_C4   \n",
       "10      magland_synth       magland_synth_noise10_K20_C8   \n",
       "11      magland_synth       magland_synth_noise20_K10_C4   \n",
       "12      magland_synth       magland_synth_noise20_K10_C8   \n",
       "13      magland_synth       magland_synth_noise20_K20_C4   \n",
       "14      magland_synth       magland_synth_noise20_K20_C8   \n",
       "15             paired                   paired_boyden32c   \n",
       "16             paired                       paired_crcns   \n",
       "17             paired                      paired_mea64c   \n",
       "18             paired                 paired_neuropix32c   \n",
       "19     mearec_tetrode      mearec_tetrode_noise10_K10_C4   \n",
       "20     mearec_tetrode      mearec_tetrode_noise10_K20_C4   \n",
       "21     mearec_tetrode      mearec_tetrode_noise20_K10_C4   \n",
       "22     mearec_tetrode      mearec_tetrode_noise20_K20_C4   \n",
       "23     manual_tetrode                manual_tetrode_600s   \n",
       "24     manual_tetrode               manual_tetrode_1200s   \n",
       "25     manual_tetrode               manual_tetrode_2400s   \n",
       "26             bionet                      bionet_static   \n",
       "27             bionet                       bionet_drift   \n",
       "28             bionet                     bionet_shuffle   \n",
       "\n",
       "                                            directory  \n",
       "0   kbucket://15734439d8cf/groundtruth/mearec_synt...  \n",
       "1   kbucket://15734439d8cf/groundtruth/mearec_synt...  \n",
       "2   kbucket://15734439d8cf/groundtruth/mearec_synt...  \n",
       "3   kbucket://15734439d8cf/groundtruth/mearec_synt...  \n",
       "4   kbucket://15734439d8cf/groundtruth/mearec_synt...  \n",
       "5   kbucket://15734439d8cf/groundtruth/mearec_synt...  \n",
       "6       kbucket://15734439d8cf/groundtruth/visapy_mea  \n",
       "7   kbucket://15734439d8cf/groundtruth/magland_syn...  \n",
       "8   kbucket://15734439d8cf/groundtruth/magland_syn...  \n",
       "9   kbucket://15734439d8cf/groundtruth/magland_syn...  \n",
       "10  kbucket://15734439d8cf/groundtruth/magland_syn...  \n",
       "11  kbucket://15734439d8cf/groundtruth/magland_syn...  \n",
       "12  kbucket://15734439d8cf/groundtruth/magland_syn...  \n",
       "13  kbucket://15734439d8cf/groundtruth/magland_syn...  \n",
       "14  kbucket://15734439d8cf/groundtruth/magland_syn...  \n",
       "15  kbucket://15734439d8cf/groundtruth/paired_reco...  \n",
       "16  kbucket://15734439d8cf/groundtruth/paired_reco...  \n",
       "17  kbucket://15734439d8cf/groundtruth/paired_reco...  \n",
       "18  kbucket://15734439d8cf/groundtruth/paired_reco...  \n",
       "19  kbucket://15734439d8cf/groundtruth/mearec_synt...  \n",
       "20  kbucket://15734439d8cf/groundtruth/mearec_synt...  \n",
       "21  kbucket://15734439d8cf/groundtruth/mearec_synt...  \n",
       "22  kbucket://15734439d8cf/groundtruth/mearec_synt...  \n",
       "23  kbucket://15734439d8cf/groundtruth/manual_sort...  \n",
       "24  kbucket://15734439d8cf/groundtruth/manual_sort...  \n",
       "25  kbucket://15734439d8cf/groundtruth/manual_sort...  \n",
       "26  kbucket://15734439d8cf/groundtruth/bionet/bion...  \n",
       "27  kbucket://15734439d8cf/groundtruth/bionet/bion...  \n",
       "28  kbucket://15734439d8cf/groundtruth/bionet/bion...  "
      ]
     },
     "execution_count": 6,
     "metadata": {},
     "output_type": "execute_result"
    }
   ],
   "source": [
    "pd.DataFrame(data=studies, columns=['study_set', 'name', 'directory'])"
   ]
  },
  {
   "cell_type": "code",
   "execution_count": 7,
   "metadata": {},
   "outputs": [
    {
     "data": {
      "text/html": [
       "<div>\n",
       "<style scoped>\n",
       "    .dataframe tbody tr th:only-of-type {\n",
       "        vertical-align: middle;\n",
       "    }\n",
       "\n",
       "    .dataframe tbody tr th {\n",
       "        vertical-align: top;\n",
       "    }\n",
       "\n",
       "    .dataframe thead th {\n",
       "        text-align: right;\n",
       "    }\n",
       "</style>\n",
       "<table border=\"1\" class=\"dataframe\">\n",
       "  <thead>\n",
       "    <tr style=\"text-align: right;\">\n",
       "      <th></th>\n",
       "      <th>study</th>\n",
       "      <th>name</th>\n",
       "      <th>samplerate</th>\n",
       "      <th>num_channels</th>\n",
       "      <th>duration_sec</th>\n",
       "    </tr>\n",
       "  </thead>\n",
       "  <tbody>\n",
       "    <tr>\n",
       "      <th>0</th>\n",
       "      <td>visapy_mea</td>\n",
       "      <td>set1</td>\n",
       "      <td>32000.0</td>\n",
       "      <td>30</td>\n",
       "      <td>300.0</td>\n",
       "    </tr>\n",
       "    <tr>\n",
       "      <th>1</th>\n",
       "      <td>visapy_mea</td>\n",
       "      <td>set2</td>\n",
       "      <td>32000.0</td>\n",
       "      <td>30</td>\n",
       "      <td>300.0</td>\n",
       "    </tr>\n",
       "    <tr>\n",
       "      <th>2</th>\n",
       "      <td>visapy_mea</td>\n",
       "      <td>set3</td>\n",
       "      <td>32000.0</td>\n",
       "      <td>30</td>\n",
       "      <td>300.0</td>\n",
       "    </tr>\n",
       "    <tr>\n",
       "      <th>3</th>\n",
       "      <td>visapy_mea</td>\n",
       "      <td>set4</td>\n",
       "      <td>32000.0</td>\n",
       "      <td>30</td>\n",
       "      <td>300.0</td>\n",
       "    </tr>\n",
       "    <tr>\n",
       "      <th>4</th>\n",
       "      <td>visapy_mea</td>\n",
       "      <td>set5</td>\n",
       "      <td>32000.0</td>\n",
       "      <td>30</td>\n",
       "      <td>300.0</td>\n",
       "    </tr>\n",
       "    <tr>\n",
       "      <th>5</th>\n",
       "      <td>visapy_mea</td>\n",
       "      <td>set6</td>\n",
       "      <td>32000.0</td>\n",
       "      <td>30</td>\n",
       "      <td>300.0</td>\n",
       "    </tr>\n",
       "  </tbody>\n",
       "</table>\n",
       "</div>"
      ],
      "text/plain": [
       "        study  name  samplerate  num_channels  duration_sec\n",
       "0  visapy_mea  set1     32000.0            30         300.0\n",
       "1  visapy_mea  set2     32000.0            30         300.0\n",
       "2  visapy_mea  set3     32000.0            30         300.0\n",
       "3  visapy_mea  set4     32000.0            30         300.0\n",
       "4  visapy_mea  set5     32000.0            30         300.0\n",
       "5  visapy_mea  set6     32000.0            30         300.0"
      ]
     },
     "execution_count": 7,
     "metadata": {},
     "output_type": "execute_result"
    }
   ],
   "source": [
    "study_set='visapy_mea'\n",
    "recordings2 = [dict(study=rec['study'], name=rec['name'], **rec['summary']['computed_info']) for rec in recordings]\n",
    "recordings2 = [rec for rec in recordings2 if study_sets_by_study[rec['study']]==study_set]\n",
    "pd.DataFrame(data=recordings2, columns=['study', 'name', 'samplerate', 'num_channels', 'duration_sec'])"
   ]
  },
  {
   "cell_type": "code",
   "execution_count": 8,
   "metadata": {},
   "outputs": [
    {
     "ename": "NameError",
     "evalue": "name 'sorter_codes' is not defined",
     "output_type": "error",
     "traceback": [
      "\u001b[0;31m---------------------------------------------------------------------------\u001b[0m",
      "\u001b[0;31mNameError\u001b[0m                                 Traceback (most recent call last)",
      "\u001b[0;32m<ipython-input-8-32052128318c>\u001b[0m in \u001b[0;36m<module>\u001b[0;34m\u001b[0m\n\u001b[0;32m----> 1\u001b[0;31m \u001b[0msorter_codes\u001b[0m\u001b[0;34m\u001b[0m\u001b[0;34m\u001b[0m\u001b[0m\n\u001b[0m",
      "\u001b[0;31mNameError\u001b[0m: name 'sorter_codes' is not defined"
     ]
    }
   ],
   "source": [
    "sorter_codes"
   ]
  },
  {
   "cell_type": "code",
   "execution_count": 9,
   "metadata": {},
   "outputs": [
    {
     "name": "stdout",
     "output_type": "stream",
     "text": [
      "Total elapsed: 111.28 hours -- 1904 sortings\n"
     ]
    }
   ],
   "source": [
    "all_elapsed = [SR['execution_stats']['elapsed_sec'] for SR in sorting_results]\n",
    "total_elapsed_sec = np.sum(all_elapsed)\n",
    "total_elapsed_hr = total_elapsed_sec/60/60\n",
    "print('Total elapsed: {:.2f} hours -- {} sortings'.format(total_elapsed_hr, len(all_elapsed)))"
   ]
  },
  {
   "cell_type": "code",
   "execution_count": 10,
   "metadata": {},
   "outputs": [
    {
     "name": "stdout",
     "output_type": "stream",
     "text": [
      "Total elapsed for sc: 45.78 hours -- 388 recordings\n",
      "Total elapsed for ks: 8.10 hours -- 352 recordings\n",
      "Total elapsed for ms4: 26.21 hours -- 388 recordings\n",
      "Total elapsed for irc: 14.50 hours -- 388 recordings\n",
      "Total elapsed for yass: 16.69 hours -- 388 recordings\n"
     ]
    }
   ],
   "source": [
    "sorter_codes=list(set([SR['sorter']['code'] for SR in sorting_results]))\n",
    "for code in sorter_codes:\n",
    "    all_elapsed = [SR['execution_stats']['elapsed_sec'] for SR in sorting_results if SR['sorter']['code']==code]\n",
    "    total_elapsed_sec = np.sum(all_elapsed)\n",
    "    total_elapsed_hr = total_elapsed_sec/60/60\n",
    "    print('Total elapsed for {}: {:.2f} hours -- {} recordings'.format(code, total_elapsed_hr, len(all_elapsed)))"
   ]
  },
  {
   "cell_type": "code",
   "execution_count": null,
   "metadata": {},
   "outputs": [],
   "source": []
  },
  {
   "cell_type": "code",
   "execution_count": 11,
   "metadata": {},
   "outputs": [
    {
     "name": "stdout",
     "output_type": "stream",
     "text": [
      "-----------------------------------------\n",
      "STUDY SET: magland_synth\n",
      "Total elapsed for sc: 4.93 hours -- 3.70 minutes per recording -- 80 recordings\n",
      "Total elapsed for ks: 1.32 hours -- 0.99 minutes per recording -- 80 recordings\n",
      "Total elapsed for ms4: 1.53 hours -- 1.15 minutes per recording -- 80 recordings\n",
      "Total elapsed for irc: 1.48 hours -- 1.11 minutes per recording -- 80 recordings\n",
      "Total elapsed for yass: 0.68 hours -- 0.51 minutes per recording -- 80 recordings\n",
      "-----------------------------------------\n",
      "STUDY SET: manual_tetrode\n",
      "Total elapsed for sc: 2.32 hours -- 6.63 minutes per recording -- 21 recordings\n",
      "Total elapsed for ks: 0.45 hours -- 1.29 minutes per recording -- 21 recordings\n",
      "Total elapsed for ms4: 0.30 hours -- 0.86 minutes per recording -- 21 recordings\n",
      "Total elapsed for irc: 0.48 hours -- 1.38 minutes per recording -- 21 recordings\n",
      "Total elapsed for yass: 0.30 hours -- 0.86 minutes per recording -- 21 recordings\n",
      "-----------------------------------------\n",
      "STUDY SET: bionet\n",
      "Total elapsed for sc: 12.01 hours -- 20.02 minutes per recording -- 36 recordings\n",
      "Total elapsed for ks: 0.00 hours -- nan minutes per recording -- 0 recordings\n",
      "Total elapsed for ms4: 4.97 hours -- 8.28 minutes per recording -- 36 recordings\n",
      "Total elapsed for irc: 7.48 hours -- 12.47 minutes per recording -- 36 recordings\n",
      "Total elapsed for yass: 6.21 hours -- 10.36 minutes per recording -- 36 recordings\n",
      "-----------------------------------------\n",
      "STUDY SET: mearec_tetrode\n",
      "Total elapsed for sc: 1.60 hours -- 2.39 minutes per recording -- 40 recordings\n",
      "Total elapsed for ks: 0.47 hours -- 0.71 minutes per recording -- 40 recordings\n",
      "Total elapsed for ms4: 0.51 hours -- 0.77 minutes per recording -- 40 recordings\n",
      "Total elapsed for irc: 0.40 hours -- 0.60 minutes per recording -- 40 recordings\n",
      "Total elapsed for yass: 0.30 hours -- 0.45 minutes per recording -- 40 recordings\n",
      "-----------------------------------------\n",
      "STUDY SET: visapy_mea\n",
      "Total elapsed for sc: 0.35 hours -- 3.54 minutes per recording -- 6 recordings\n",
      "Total elapsed for ks: 0.11 hours -- 1.08 minutes per recording -- 6 recordings\n",
      "Total elapsed for ms4: 0.23 hours -- 2.27 minutes per recording -- 6 recordings\n",
      "Total elapsed for irc: 0.07 hours -- 0.66 minutes per recording -- 6 recordings\n",
      "Total elapsed for yass: 0.33 hours -- 3.31 minutes per recording -- 6 recordings\n",
      "-----------------------------------------\n",
      "STUDY SET: paired\n",
      "Total elapsed for sc: 15.50 hours -- 6.41 minutes per recording -- 145 recordings\n",
      "Total elapsed for ks: 2.83 hours -- 1.17 minutes per recording -- 145 recordings\n",
      "Total elapsed for ms4: 5.48 hours -- 2.27 minutes per recording -- 145 recordings\n",
      "Total elapsed for irc: 2.43 hours -- 1.01 minutes per recording -- 145 recordings\n",
      "Total elapsed for yass: 4.73 hours -- 1.96 minutes per recording -- 145 recordings\n",
      "-----------------------------------------\n",
      "STUDY SET: mearec_neuronexus\n",
      "Total elapsed for sc: 9.06 hours -- 9.06 minutes per recording -- 60 recordings\n",
      "Total elapsed for ks: 2.91 hours -- 2.91 minutes per recording -- 60 recordings\n",
      "Total elapsed for ms4: 13.19 hours -- 13.19 minutes per recording -- 60 recordings\n",
      "Total elapsed for irc: 2.16 hours -- 2.16 minutes per recording -- 60 recordings\n",
      "Total elapsed for yass: 4.13 hours -- 4.13 minutes per recording -- 60 recordings\n"
     ]
    },
    {
     "name": "stderr",
     "output_type": "stream",
     "text": [
      "/home/magland/miniconda3/envs/devel/lib/python3.6/site-packages/ipykernel_launcher.py:10: RuntimeWarning: invalid value encountered in double_scalars\n",
      "  # Remove the CWD from sys.path while we load stuff.\n"
     ]
    }
   ],
   "source": [
    "study_sets = list(set(study_sets_by_study.values()))\n",
    "for study_set in study_sets:\n",
    "    print('STUDY SET: {}'.format(study_set))\n",
    "    sorting_results2 = [SR for SR in sorting_results if study_sets_by_study[SR['recording']['study']]==study_set]\n",
    "    for code in sorter_codes:\n",
    "        all_elapsed = [SR['execution_stats']['elapsed_sec'] for SR in sorting_results2 if SR['sorter']['code']==code]\n",
    "        total_elapsed_sec = np.sum(all_elapsed)\n",
    "        total_elapsed_hr = total_elapsed_sec/60/60\n",
    "        print('Total elapsed for {}: {:.2f} hours -- {:.2f} minutes per recording -- {} recordings'.format(code, total_elapsed_hr, total_elapsed_hr/len(all_elapsed)*60, len(all_elapsed)))"
   ]
  },
  {
   "cell_type": "code",
   "execution_count": null,
   "metadata": {},
   "outputs": [],
   "source": []
  }
 ],
 "metadata": {
  "kernelspec": {
   "display_name": "Python 3",
   "language": "python",
   "name": "python3"
  },
  "language_info": {
   "codemirror_mode": {
    "name": "ipython",
    "version": 3
   },
   "file_extension": ".py",
   "mimetype": "text/x-python",
   "name": "python",
   "nbconvert_exporter": "python",
   "pygments_lexer": "ipython3",
   "version": "3.6.8"
  }
 },
 "nbformat": 4,
 "nbformat_minor": 2
}
