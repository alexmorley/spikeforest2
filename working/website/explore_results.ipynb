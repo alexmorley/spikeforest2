{
 "cells": [
  {
   "cell_type": "code",
   "execution_count": 33,
   "metadata": {},
   "outputs": [
    {
     "name": "stdout",
     "output_type": "stream",
     "text": [
      "The autoreload extension is already loaded. To reload it, use:\n",
      "  %reload_ext autoreload\n"
     ]
    }
   ],
   "source": [
    "%load_ext autoreload\n",
    "%autoreload 2\n",
    "\n",
    "from mountaintools import client as mt\n",
    "import os\n",
    "import pandas as pd\n",
    "import numpy as np"
   ]
  },
  {
   "cell_type": "code",
   "execution_count": 2,
   "metadata": {},
   "outputs": [
    {
     "name": "stdout",
     "output_type": "stream",
     "text": [
      "MOUNTAIN CONFIG: remote database spikeforest (readonly); remote kb-share 69432e9201d0 (readonly)\n"
     ]
    }
   ],
   "source": [
    "mt.configRemoteReadonly(collection='spikeforest', share_id='spikeforest.spikeforest2')"
   ]
  },
  {
   "cell_type": "code",
   "execution_count": 6,
   "metadata": {},
   "outputs": [],
   "source": [
    "output_ids=['mearec_neuronexus', 'visapy_mea', 'magland_synth', 'paired', 'mearec_tetrode', 'manual_tetrode', 'bionet']"
   ]
  },
  {
   "cell_type": "code",
   "execution_count": 7,
   "metadata": {},
   "outputs": [
    {
     "name": "stdout",
     "output_type": "stream",
     "text": [
      "Downloading file --- (878.6 KiB): http://132.249.245.246:24352/69432e9201d0/download/sha1-cache/2/0c/20c4af908281f357a7259f407979a7ae455f267c -> /home/magland/sha1-cache-new/2/0c/20c4af908281f357a7259f407979a7ae455f267c\n",
      "Downloaded file (878.6 KiB) in 2.1449368000030518 sec.\n",
      "Downloading file --- (230.0 KiB): http://132.249.245.246:24352/69432e9201d0/download/sha1-cache/2/94/294de409267a69ed68e603be00eee87df8337ee1 -> /home/magland/sha1-cache-new/2/94/294de409267a69ed68e603be00eee87df8337ee1\n",
      "Downloaded file (230.0 KiB) in 1.2338745594024658 sec.\n",
      "Downloading file --- (116.1 KiB): http://132.249.245.246:24352/69432e9201d0/download/sha1-cache/9/b3/9b3d2cd4cd839e592ef8cda884017aaabfeca148 -> /home/magland/sha1-cache-new/9/b3/9b3d2cd4cd839e592ef8cda884017aaabfeca148\n",
      "Downloaded file (116.1 KiB) in 0.9306387901306152 sec.\n",
      "Downloading file --- (189.0 KiB): http://132.249.245.246:24352/69432e9201d0/download/sha1-cache/3/ab/3abaf2fae444b568a3b3433bf6706e9353ad9167 -> /home/magland/sha1-cache-new/3/ab/3abaf2fae444b568a3b3433bf6706e9353ad9167\n",
      "Downloaded file (189.0 KiB) in 1.1095590591430664 sec.\n"
     ]
    }
   ],
   "source": [
    "result_objects=[\n",
    "    mt.loadObject(\n",
    "        key=dict(\n",
    "            name='spikeforest_results'\n",
    "        ),\n",
    "        subkey=output_id\n",
    "    )\n",
    "    for output_id in output_ids\n",
    "]\n",
    "studies=[study for X in result_objects for study in X['studies']]\n",
    "recordings=[recording for X in result_objects for recording in X['recordings']]\n",
    "sorting_results=[sorting_result for X in result_objects for sorting_result in X['sorting_results']]"
   ]
  },
  {
   "cell_type": "code",
   "execution_count": 28,
   "metadata": {},
   "outputs": [],
   "source": [
    "study_sets_by_study = dict()\n",
    "for study in studies:\n",
    "    study_sets_by_study[study['name']] = study['study_set']"
   ]
  },
  {
   "cell_type": "code",
   "execution_count": 15,
   "metadata": {},
   "outputs": [
    {
     "data": {
      "text/html": [
       "<div>\n",
       "<style scoped>\n",
       "    .dataframe tbody tr th:only-of-type {\n",
       "        vertical-align: middle;\n",
       "    }\n",
       "\n",
       "    .dataframe tbody tr th {\n",
       "        vertical-align: top;\n",
       "    }\n",
       "\n",
       "    .dataframe thead th {\n",
       "        text-align: right;\n",
       "    }\n",
       "</style>\n",
       "<table border=\"1\" class=\"dataframe\">\n",
       "  <thead>\n",
       "    <tr style=\"text-align: right;\">\n",
       "      <th></th>\n",
       "      <th>study_set</th>\n",
       "      <th>name</th>\n",
       "      <th>directory</th>\n",
       "    </tr>\n",
       "  </thead>\n",
       "  <tbody>\n",
       "    <tr>\n",
       "      <th>0</th>\n",
       "      <td>mearec_neuronexus</td>\n",
       "      <td>mearec_neuronexus_noise10_K10_C32</td>\n",
       "      <td>kbucket://15734439d8cf/groundtruth/mearec_synt...</td>\n",
       "    </tr>\n",
       "    <tr>\n",
       "      <th>1</th>\n",
       "      <td>mearec_neuronexus</td>\n",
       "      <td>mearec_neuronexus_noise10_K20_C32</td>\n",
       "      <td>kbucket://15734439d8cf/groundtruth/mearec_synt...</td>\n",
       "    </tr>\n",
       "    <tr>\n",
       "      <th>2</th>\n",
       "      <td>mearec_neuronexus</td>\n",
       "      <td>mearec_neuronexus_noise10_K40_C32</td>\n",
       "      <td>kbucket://15734439d8cf/groundtruth/mearec_synt...</td>\n",
       "    </tr>\n",
       "    <tr>\n",
       "      <th>3</th>\n",
       "      <td>mearec_neuronexus</td>\n",
       "      <td>mearec_neuronexus_noise20_K10_C32</td>\n",
       "      <td>kbucket://15734439d8cf/groundtruth/mearec_synt...</td>\n",
       "    </tr>\n",
       "    <tr>\n",
       "      <th>4</th>\n",
       "      <td>mearec_neuronexus</td>\n",
       "      <td>mearec_neuronexus_noise20_K20_C32</td>\n",
       "      <td>kbucket://15734439d8cf/groundtruth/mearec_synt...</td>\n",
       "    </tr>\n",
       "    <tr>\n",
       "      <th>5</th>\n",
       "      <td>mearec_neuronexus</td>\n",
       "      <td>mearec_neuronexus_noise20_K40_C32</td>\n",
       "      <td>kbucket://15734439d8cf/groundtruth/mearec_synt...</td>\n",
       "    </tr>\n",
       "    <tr>\n",
       "      <th>6</th>\n",
       "      <td>visapy_mea</td>\n",
       "      <td>visapy_mea</td>\n",
       "      <td>kbucket://15734439d8cf/groundtruth/visapy_mea</td>\n",
       "    </tr>\n",
       "    <tr>\n",
       "      <th>7</th>\n",
       "      <td>magland_synth</td>\n",
       "      <td>magland_synth_noise10_K10_C4</td>\n",
       "      <td>kbucket://15734439d8cf/groundtruth/magland_syn...</td>\n",
       "    </tr>\n",
       "    <tr>\n",
       "      <th>8</th>\n",
       "      <td>magland_synth</td>\n",
       "      <td>magland_synth_noise10_K10_C8</td>\n",
       "      <td>kbucket://15734439d8cf/groundtruth/magland_syn...</td>\n",
       "    </tr>\n",
       "    <tr>\n",
       "      <th>9</th>\n",
       "      <td>magland_synth</td>\n",
       "      <td>magland_synth_noise10_K20_C4</td>\n",
       "      <td>kbucket://15734439d8cf/groundtruth/magland_syn...</td>\n",
       "    </tr>\n",
       "    <tr>\n",
       "      <th>10</th>\n",
       "      <td>magland_synth</td>\n",
       "      <td>magland_synth_noise10_K20_C8</td>\n",
       "      <td>kbucket://15734439d8cf/groundtruth/magland_syn...</td>\n",
       "    </tr>\n",
       "    <tr>\n",
       "      <th>11</th>\n",
       "      <td>magland_synth</td>\n",
       "      <td>magland_synth_noise20_K10_C4</td>\n",
       "      <td>kbucket://15734439d8cf/groundtruth/magland_syn...</td>\n",
       "    </tr>\n",
       "    <tr>\n",
       "      <th>12</th>\n",
       "      <td>magland_synth</td>\n",
       "      <td>magland_synth_noise20_K10_C8</td>\n",
       "      <td>kbucket://15734439d8cf/groundtruth/magland_syn...</td>\n",
       "    </tr>\n",
       "    <tr>\n",
       "      <th>13</th>\n",
       "      <td>magland_synth</td>\n",
       "      <td>magland_synth_noise20_K20_C4</td>\n",
       "      <td>kbucket://15734439d8cf/groundtruth/magland_syn...</td>\n",
       "    </tr>\n",
       "    <tr>\n",
       "      <th>14</th>\n",
       "      <td>magland_synth</td>\n",
       "      <td>magland_synth_noise20_K20_C8</td>\n",
       "      <td>kbucket://15734439d8cf/groundtruth/magland_syn...</td>\n",
       "    </tr>\n",
       "    <tr>\n",
       "      <th>15</th>\n",
       "      <td>paired</td>\n",
       "      <td>paired_boyden32c</td>\n",
       "      <td>kbucket://15734439d8cf/groundtruth/paired_reco...</td>\n",
       "    </tr>\n",
       "    <tr>\n",
       "      <th>16</th>\n",
       "      <td>paired</td>\n",
       "      <td>paired_crcns</td>\n",
       "      <td>kbucket://15734439d8cf/groundtruth/paired_reco...</td>\n",
       "    </tr>\n",
       "    <tr>\n",
       "      <th>17</th>\n",
       "      <td>paired</td>\n",
       "      <td>paired_mea64c</td>\n",
       "      <td>kbucket://15734439d8cf/groundtruth/paired_reco...</td>\n",
       "    </tr>\n",
       "    <tr>\n",
       "      <th>18</th>\n",
       "      <td>paired</td>\n",
       "      <td>paired_neuropix32c</td>\n",
       "      <td>kbucket://15734439d8cf/groundtruth/paired_reco...</td>\n",
       "    </tr>\n",
       "    <tr>\n",
       "      <th>19</th>\n",
       "      <td>mearec_tetrode</td>\n",
       "      <td>mearec_tetrode_noise10_K10_C4</td>\n",
       "      <td>kbucket://15734439d8cf/groundtruth/mearec_synt...</td>\n",
       "    </tr>\n",
       "    <tr>\n",
       "      <th>20</th>\n",
       "      <td>mearec_tetrode</td>\n",
       "      <td>mearec_tetrode_noise10_K20_C4</td>\n",
       "      <td>kbucket://15734439d8cf/groundtruth/mearec_synt...</td>\n",
       "    </tr>\n",
       "    <tr>\n",
       "      <th>21</th>\n",
       "      <td>mearec_tetrode</td>\n",
       "      <td>mearec_tetrode_noise20_K10_C4</td>\n",
       "      <td>kbucket://15734439d8cf/groundtruth/mearec_synt...</td>\n",
       "    </tr>\n",
       "    <tr>\n",
       "      <th>22</th>\n",
       "      <td>mearec_tetrode</td>\n",
       "      <td>mearec_tetrode_noise20_K20_C4</td>\n",
       "      <td>kbucket://15734439d8cf/groundtruth/mearec_synt...</td>\n",
       "    </tr>\n",
       "    <tr>\n",
       "      <th>23</th>\n",
       "      <td>manual_tetrode</td>\n",
       "      <td>manual_tetrode_600s</td>\n",
       "      <td>kbucket://15734439d8cf/groundtruth/manual_sort...</td>\n",
       "    </tr>\n",
       "    <tr>\n",
       "      <th>24</th>\n",
       "      <td>manual_tetrode</td>\n",
       "      <td>manual_tetrode_1200s</td>\n",
       "      <td>kbucket://15734439d8cf/groundtruth/manual_sort...</td>\n",
       "    </tr>\n",
       "    <tr>\n",
       "      <th>25</th>\n",
       "      <td>manual_tetrode</td>\n",
       "      <td>manual_tetrode_2400s</td>\n",
       "      <td>kbucket://15734439d8cf/groundtruth/manual_sort...</td>\n",
       "    </tr>\n",
       "    <tr>\n",
       "      <th>26</th>\n",
       "      <td>bionet</td>\n",
       "      <td>bionet_static</td>\n",
       "      <td>kbucket://15734439d8cf/groundtruth/bionet/bion...</td>\n",
       "    </tr>\n",
       "    <tr>\n",
       "      <th>27</th>\n",
       "      <td>bionet</td>\n",
       "      <td>bionet_drift</td>\n",
       "      <td>kbucket://15734439d8cf/groundtruth/bionet/bion...</td>\n",
       "    </tr>\n",
       "    <tr>\n",
       "      <th>28</th>\n",
       "      <td>bionet</td>\n",
       "      <td>bionet_shuffle</td>\n",
       "      <td>kbucket://15734439d8cf/groundtruth/bionet/bion...</td>\n",
       "    </tr>\n",
       "  </tbody>\n",
       "</table>\n",
       "</div>"
      ],
      "text/plain": [
       "            study_set                               name  \\\n",
       "0   mearec_neuronexus  mearec_neuronexus_noise10_K10_C32   \n",
       "1   mearec_neuronexus  mearec_neuronexus_noise10_K20_C32   \n",
       "2   mearec_neuronexus  mearec_neuronexus_noise10_K40_C32   \n",
       "3   mearec_neuronexus  mearec_neuronexus_noise20_K10_C32   \n",
       "4   mearec_neuronexus  mearec_neuronexus_noise20_K20_C32   \n",
       "5   mearec_neuronexus  mearec_neuronexus_noise20_K40_C32   \n",
       "6          visapy_mea                         visapy_mea   \n",
       "7       magland_synth       magland_synth_noise10_K10_C4   \n",
       "8       magland_synth       magland_synth_noise10_K10_C8   \n",
       "9       magland_synth       magland_synth_noise10_K20_C4   \n",
       "10      magland_synth       magland_synth_noise10_K20_C8   \n",
       "11      magland_synth       magland_synth_noise20_K10_C4   \n",
       "12      magland_synth       magland_synth_noise20_K10_C8   \n",
       "13      magland_synth       magland_synth_noise20_K20_C4   \n",
       "14      magland_synth       magland_synth_noise20_K20_C8   \n",
       "15             paired                   paired_boyden32c   \n",
       "16             paired                       paired_crcns   \n",
       "17             paired                      paired_mea64c   \n",
       "18             paired                 paired_neuropix32c   \n",
       "19     mearec_tetrode      mearec_tetrode_noise10_K10_C4   \n",
       "20     mearec_tetrode      mearec_tetrode_noise10_K20_C4   \n",
       "21     mearec_tetrode      mearec_tetrode_noise20_K10_C4   \n",
       "22     mearec_tetrode      mearec_tetrode_noise20_K20_C4   \n",
       "23     manual_tetrode                manual_tetrode_600s   \n",
       "24     manual_tetrode               manual_tetrode_1200s   \n",
       "25     manual_tetrode               manual_tetrode_2400s   \n",
       "26             bionet                      bionet_static   \n",
       "27             bionet                       bionet_drift   \n",
       "28             bionet                     bionet_shuffle   \n",
       "\n",
       "                                            directory  \n",
       "0   kbucket://15734439d8cf/groundtruth/mearec_synt...  \n",
       "1   kbucket://15734439d8cf/groundtruth/mearec_synt...  \n",
       "2   kbucket://15734439d8cf/groundtruth/mearec_synt...  \n",
       "3   kbucket://15734439d8cf/groundtruth/mearec_synt...  \n",
       "4   kbucket://15734439d8cf/groundtruth/mearec_synt...  \n",
       "5   kbucket://15734439d8cf/groundtruth/mearec_synt...  \n",
       "6       kbucket://15734439d8cf/groundtruth/visapy_mea  \n",
       "7   kbucket://15734439d8cf/groundtruth/magland_syn...  \n",
       "8   kbucket://15734439d8cf/groundtruth/magland_syn...  \n",
       "9   kbucket://15734439d8cf/groundtruth/magland_syn...  \n",
       "10  kbucket://15734439d8cf/groundtruth/magland_syn...  \n",
       "11  kbucket://15734439d8cf/groundtruth/magland_syn...  \n",
       "12  kbucket://15734439d8cf/groundtruth/magland_syn...  \n",
       "13  kbucket://15734439d8cf/groundtruth/magland_syn...  \n",
       "14  kbucket://15734439d8cf/groundtruth/magland_syn...  \n",
       "15  kbucket://15734439d8cf/groundtruth/paired_reco...  \n",
       "16  kbucket://15734439d8cf/groundtruth/paired_reco...  \n",
       "17  kbucket://15734439d8cf/groundtruth/paired_reco...  \n",
       "18  kbucket://15734439d8cf/groundtruth/paired_reco...  \n",
       "19  kbucket://15734439d8cf/groundtruth/mearec_synt...  \n",
       "20  kbucket://15734439d8cf/groundtruth/mearec_synt...  \n",
       "21  kbucket://15734439d8cf/groundtruth/mearec_synt...  \n",
       "22  kbucket://15734439d8cf/groundtruth/mearec_synt...  \n",
       "23  kbucket://15734439d8cf/groundtruth/manual_sort...  \n",
       "24  kbucket://15734439d8cf/groundtruth/manual_sort...  \n",
       "25  kbucket://15734439d8cf/groundtruth/manual_sort...  \n",
       "26  kbucket://15734439d8cf/groundtruth/bionet/bion...  \n",
       "27  kbucket://15734439d8cf/groundtruth/bionet/bion...  \n",
       "28  kbucket://15734439d8cf/groundtruth/bionet/bion...  "
      ]
     },
     "execution_count": 15,
     "metadata": {},
     "output_type": "execute_result"
    }
   ],
   "source": [
    "pd.DataFrame(data=studies, columns=['study_set', 'name', 'directory'])"
   ]
  },
  {
   "cell_type": "code",
   "execution_count": 31,
   "metadata": {},
   "outputs": [
    {
     "data": {
      "text/html": [
       "<div>\n",
       "<style scoped>\n",
       "    .dataframe tbody tr th:only-of-type {\n",
       "        vertical-align: middle;\n",
       "    }\n",
       "\n",
       "    .dataframe tbody tr th {\n",
       "        vertical-align: top;\n",
       "    }\n",
       "\n",
       "    .dataframe thead th {\n",
       "        text-align: right;\n",
       "    }\n",
       "</style>\n",
       "<table border=\"1\" class=\"dataframe\">\n",
       "  <thead>\n",
       "    <tr style=\"text-align: right;\">\n",
       "      <th></th>\n",
       "      <th>study</th>\n",
       "      <th>name</th>\n",
       "      <th>samplerate</th>\n",
       "      <th>num_channels</th>\n",
       "      <th>duration_sec</th>\n",
       "    </tr>\n",
       "  </thead>\n",
       "  <tbody>\n",
       "    <tr>\n",
       "      <th>0</th>\n",
       "      <td>visapy_mea</td>\n",
       "      <td>set1</td>\n",
       "      <td>32000.0</td>\n",
       "      <td>30</td>\n",
       "      <td>300.0</td>\n",
       "    </tr>\n",
       "    <tr>\n",
       "      <th>1</th>\n",
       "      <td>visapy_mea</td>\n",
       "      <td>set2</td>\n",
       "      <td>32000.0</td>\n",
       "      <td>30</td>\n",
       "      <td>300.0</td>\n",
       "    </tr>\n",
       "    <tr>\n",
       "      <th>2</th>\n",
       "      <td>visapy_mea</td>\n",
       "      <td>set3</td>\n",
       "      <td>32000.0</td>\n",
       "      <td>30</td>\n",
       "      <td>300.0</td>\n",
       "    </tr>\n",
       "    <tr>\n",
       "      <th>3</th>\n",
       "      <td>visapy_mea</td>\n",
       "      <td>set4</td>\n",
       "      <td>32000.0</td>\n",
       "      <td>30</td>\n",
       "      <td>300.0</td>\n",
       "    </tr>\n",
       "    <tr>\n",
       "      <th>4</th>\n",
       "      <td>visapy_mea</td>\n",
       "      <td>set5</td>\n",
       "      <td>32000.0</td>\n",
       "      <td>30</td>\n",
       "      <td>300.0</td>\n",
       "    </tr>\n",
       "    <tr>\n",
       "      <th>5</th>\n",
       "      <td>visapy_mea</td>\n",
       "      <td>set6</td>\n",
       "      <td>32000.0</td>\n",
       "      <td>30</td>\n",
       "      <td>300.0</td>\n",
       "    </tr>\n",
       "  </tbody>\n",
       "</table>\n",
       "</div>"
      ],
      "text/plain": [
       "        study  name  samplerate  num_channels  duration_sec\n",
       "0  visapy_mea  set1     32000.0            30         300.0\n",
       "1  visapy_mea  set2     32000.0            30         300.0\n",
       "2  visapy_mea  set3     32000.0            30         300.0\n",
       "3  visapy_mea  set4     32000.0            30         300.0\n",
       "4  visapy_mea  set5     32000.0            30         300.0\n",
       "5  visapy_mea  set6     32000.0            30         300.0"
      ]
     },
     "execution_count": 31,
     "metadata": {},
     "output_type": "execute_result"
    }
   ],
   "source": [
    "study_set='visapy_mea'\n",
    "recordings2 = [dict(study=rec['study'], name=rec['name'], **rec['summary']['computed_info']) for rec in recordings]\n",
    "recordings2 = [rec for rec in recordings2 if study_sets_by_study[rec['study']]==study_set]\n",
    "pd.DataFrame(data=recordings2, columns=['study', 'name', 'samplerate', 'num_channels', 'duration_sec'])"
   ]
  },
  {
   "cell_type": "code",
   "execution_count": 38,
   "metadata": {},
   "outputs": [
    {
     "data": {
      "text/plain": [
       "'ms4'"
      ]
     },
     "execution_count": 38,
     "metadata": {},
     "output_type": "execute_result"
    }
   ],
   "source": [
    "sorting_results[0]['sorter']['code']"
   ]
  },
  {
   "cell_type": "code",
   "execution_count": 39,
   "metadata": {},
   "outputs": [],
   "source": []
  },
  {
   "cell_type": "code",
   "execution_count": 40,
   "metadata": {},
   "outputs": [
    {
     "data": {
      "text/plain": [
       "['yass', 'irc', 'ms4', 'sc']"
      ]
     },
     "execution_count": 40,
     "metadata": {},
     "output_type": "execute_result"
    }
   ],
   "source": [
    "sorter_codes"
   ]
  },
  {
   "cell_type": "code",
   "execution_count": 63,
   "metadata": {},
   "outputs": [
    {
     "name": "stdout",
     "output_type": "stream",
     "text": [
      "Total elapsed: 103.18 hours -- 1552 sortings\n"
     ]
    }
   ],
   "source": [
    "all_elapsed = [SR['execution_stats']['elapsed_sec'] for SR in sorting_results]\n",
    "total_elapsed_sec = np.sum(all_elapsed)\n",
    "total_elapsed_hr = total_elapsed_sec/60/60\n",
    "print('Total elapsed: {:.2f} hours -- {} sortings'.format(total_elapsed_hr, len(all_elapsed)))"
   ]
  },
  {
   "cell_type": "code",
   "execution_count": 62,
   "metadata": {},
   "outputs": [
    {
     "name": "stdout",
     "output_type": "stream",
     "text": [
      "Total elapsed for yass: 16.69 hours -- 388 recordings\n",
      "Total elapsed for irc: 14.50 hours -- 388 recordings\n",
      "Total elapsed for ms4: 26.21 hours -- 388 recordings\n",
      "Total elapsed for sc: 45.78 hours -- 388 recordings\n"
     ]
    }
   ],
   "source": [
    "sorter_codes=list(set([SR['sorter']['code'] for SR in sorting_results]))\n",
    "for code in sorter_codes:\n",
    "    all_elapsed = [SR['execution_stats']['elapsed_sec'] for SR in sorting_results if SR['sorter']['code']==code]\n",
    "    total_elapsed_sec = np.sum(all_elapsed)\n",
    "    total_elapsed_hr = total_elapsed_sec/60/60\n",
    "    print('Total elapsed for {}: {:.2f} hours -- {} recordings'.format(code, total_elapsed_hr, len(all_elapsed)))"
   ]
  },
  {
   "cell_type": "code",
   "execution_count": 61,
   "metadata": {},
   "outputs": [
    {
     "name": "stdout",
     "output_type": "stream",
     "text": [
      "-----------------------------------------\n",
      "STUDY SET: magland_synth\n",
      "Total elapsed for yass: 0.68 hours -- 0.51 minutes per recording -- 80 recordings\n",
      "Total elapsed for irc: 1.48 hours -- 1.11 minutes per recording -- 80 recordings\n",
      "Total elapsed for ms4: 1.53 hours -- 1.15 minutes per recording -- 80 recordings\n",
      "Total elapsed for sc: 4.93 hours -- 3.70 minutes per recording -- 80 recordings\n",
      "-----------------------------------------\n",
      "STUDY SET: bionet\n",
      "Total elapsed for yass: 6.21 hours -- 10.36 minutes per recording -- 36 recordings\n",
      "Total elapsed for irc: 7.48 hours -- 12.47 minutes per recording -- 36 recordings\n",
      "Total elapsed for ms4: 4.97 hours -- 8.28 minutes per recording -- 36 recordings\n",
      "Total elapsed for sc: 12.01 hours -- 20.02 minutes per recording -- 36 recordings\n",
      "-----------------------------------------\n",
      "STUDY SET: paired\n",
      "Total elapsed for yass: 4.73 hours -- 1.96 minutes per recording -- 145 recordings\n",
      "Total elapsed for irc: 2.43 hours -- 1.01 minutes per recording -- 145 recordings\n",
      "Total elapsed for ms4: 5.48 hours -- 2.27 minutes per recording -- 145 recordings\n",
      "Total elapsed for sc: 15.50 hours -- 6.41 minutes per recording -- 145 recordings\n",
      "-----------------------------------------\n",
      "STUDY SET: manual_tetrode\n",
      "Total elapsed for yass: 0.30 hours -- 0.86 minutes per recording -- 21 recordings\n",
      "Total elapsed for irc: 0.48 hours -- 1.38 minutes per recording -- 21 recordings\n",
      "Total elapsed for ms4: 0.30 hours -- 0.86 minutes per recording -- 21 recordings\n",
      "Total elapsed for sc: 2.32 hours -- 6.63 minutes per recording -- 21 recordings\n",
      "-----------------------------------------\n",
      "STUDY SET: mearec_neuronexus\n",
      "Total elapsed for yass: 4.13 hours -- 4.13 minutes per recording -- 60 recordings\n",
      "Total elapsed for irc: 2.16 hours -- 2.16 minutes per recording -- 60 recordings\n",
      "Total elapsed for ms4: 13.19 hours -- 13.19 minutes per recording -- 60 recordings\n",
      "Total elapsed for sc: 9.06 hours -- 9.06 minutes per recording -- 60 recordings\n",
      "-----------------------------------------\n",
      "STUDY SET: visapy_mea\n",
      "Total elapsed for yass: 0.33 hours -- 3.31 minutes per recording -- 6 recordings\n",
      "Total elapsed for irc: 0.07 hours -- 0.66 minutes per recording -- 6 recordings\n",
      "Total elapsed for ms4: 0.23 hours -- 2.27 minutes per recording -- 6 recordings\n",
      "Total elapsed for sc: 0.35 hours -- 3.54 minutes per recording -- 6 recordings\n",
      "-----------------------------------------\n",
      "STUDY SET: mearec_tetrode\n",
      "Total elapsed for yass: 0.30 hours -- 0.45 minutes per recording -- 40 recordings\n",
      "Total elapsed for irc: 0.40 hours -- 0.60 minutes per recording -- 40 recordings\n",
      "Total elapsed for ms4: 0.51 hours -- 0.77 minutes per recording -- 40 recordings\n",
      "Total elapsed for sc: 1.60 hours -- 2.39 minutes per recording -- 40 recordings\n"
     ]
    }
   ],
   "source": [
    "study_sets = list(set(study_sets_by_study.values()))\n",
    "for study_set in study_sets:\n",
    "    print('-----------------------------------------')\n",
    "    print('STUDY SET: {}'.format(study_set))\n",
    "    sorting_results2 = [SR for SR in sorting_results if study_sets_by_study[SR['recording']['study']]==study_set]\n",
    "    for code in sorter_codes:\n",
    "        all_elapsed = [SR['execution_stats']['elapsed_sec'] for SR in sorting_results2 if SR['sorter']['code']==code]\n",
    "        total_elapsed_sec = np.sum(all_elapsed)\n",
    "        total_elapsed_hr = total_elapsed_sec/60/60\n",
    "        print('Total elapsed for {}: {:.2f} hours -- {:.2f} minutes per recording -- {} recordings'.format(code, total_elapsed_hr, total_elapsed_hr/len(all_elapsed)*60, len(all_elapsed)))"
   ]
  }
 ],
 "metadata": {
  "kernelspec": {
   "display_name": "Python 3",
   "language": "python",
   "name": "python3"
  },
  "language_info": {
   "codemirror_mode": {
    "name": "ipython",
    "version": 3
   },
   "file_extension": ".py",
   "mimetype": "text/x-python",
   "name": "python",
   "nbconvert_exporter": "python",
   "pygments_lexer": "ipython3",
   "version": "3.6.8"
  }
 },
 "nbformat": 4,
 "nbformat_minor": 2
}
