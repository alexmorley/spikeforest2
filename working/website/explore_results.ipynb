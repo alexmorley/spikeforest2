{
 "cells": [
  {
   "cell_type": "code",
   "execution_count": 12,
   "metadata": {},
   "outputs": [
    {
     "name": "stdout",
     "output_type": "stream",
     "text": [
      "The autoreload extension is already loaded. To reload it, use:\n",
      "  %reload_ext autoreload\n"
     ]
    }
   ],
   "source": [
    "%load_ext autoreload\n",
    "%autoreload 2\n",
    "\n",
    "from mountaintools import client as mt\n",
    "import os\n",
    "import pandas as pd\n",
    "import numpy as np\n",
    "import json"
   ]
  },
  {
   "cell_type": "code",
   "execution_count": 13,
   "metadata": {},
   "outputs": [
    {
     "name": "stdout",
     "output_type": "stream",
     "text": [
      "MOUNTAIN CONFIG: remote database spikeforest (readonly); remote kb-share 69432e9201d0 (readonly)\n"
     ]
    }
   ],
   "source": [
    "mt.configRemoteReadonly(collection='spikeforest', share_id='spikeforest.spikeforest2')"
   ]
  },
  {
   "cell_type": "code",
   "execution_count": 14,
   "metadata": {},
   "outputs": [],
   "source": [
    "#output_ids=['mearec_neuronexus', 'visapy_mea', 'magland_synth', 'paired', 'mearec_tetrode', 'manual_tetrode', 'bionet']\n",
    "#output_ids=['mearec_neuronexus']\n",
    "#output_ids=['visapy_mea']\n",
    "output_ids=['hybrid_drift']"
   ]
  },
  {
   "cell_type": "code",
   "execution_count": 15,
   "metadata": {},
   "outputs": [
    {
     "name": "stdout",
     "output_type": "stream",
     "text": [
      "Downloading file --- (164.3 KiB): http://132.249.245.246:24352/69432e9201d0/download/sha1-cache/d/3c/d3c9fb2d59f39ff4c0b3517ad7457b5b6e7d58af -> /home/magland/sha1-cache-new/d/3c/d3c9fb2d59f39ff4c0b3517ad7457b5b6e7d58af\n",
      "Downloaded file (164.3 KiB) in 0.8822462558746338 sec.\n"
     ]
    }
   ],
   "source": [
    "result_objects=[\n",
    "    mt.loadObject(\n",
    "        key=dict(\n",
    "            name='spikeforest_results'\n",
    "        ),\n",
    "        subkey=output_id\n",
    "    )\n",
    "    for output_id in output_ids\n",
    "]\n",
    "studies=[study for X in result_objects for study in X['studies']]\n",
    "recordings=[recording for X in result_objects for recording in X['recordings']]\n",
    "for rec in recordings:\n",
    "    rec['firings_true'] = rec['directory']+'/firings_true.mda'\n",
    "sorting_results=[sorting_result for X in result_objects for sorting_result in X['sorting_results']]"
   ]
  },
  {
   "cell_type": "code",
   "execution_count": 16,
   "metadata": {},
   "outputs": [
    {
     "data": {
      "text/plain": [
       "{'name': 'rec_16c_600s_11',\n",
       " 'study': 'hybrid_drift_16c_600s',\n",
       " 'directory': 'kbucket://15734439d8cf/groundtruth/hybrid_drift/rec_16c_600s_11',\n",
       " 'description': 'One of the recordings in the hybrid_drift_16c_600s study',\n",
       " 'summary': {'computed_info': {'samplerate': 30000.0,\n",
       "   'num_channels': 16,\n",
       "   'duration_sec': 600.0},\n",
       "  'plots': {},\n",
       "  'true_units_info': 'sha1://1106e8dba8d6119b8c6c050bbc9e7650cdfeea85/true_units_info.json'},\n",
       " 'firings_true': 'kbucket://15734439d8cf/groundtruth/hybrid_drift/rec_16c_600s_11/firings_true.mda'}"
      ]
     },
     "execution_count": 16,
     "metadata": {},
     "output_type": "execute_result"
    }
   ],
   "source": [
    "recordings[0]"
   ]
  },
  {
   "cell_type": "code",
   "execution_count": 17,
   "metadata": {},
   "outputs": [
    {
     "data": {
      "text/plain": [
       "{'recording': {'name': 'rec_16c_600s_11',\n",
       "  'study': 'hybrid_drift_16c_600s',\n",
       "  'directory': 'kbucket://15734439d8cf/groundtruth/hybrid_drift/rec_16c_600s_11',\n",
       "  'description': 'One of the recordings in the hybrid_drift_16c_600s study',\n",
       "  'summary': {'computed_info': {'samplerate': 30000.0,\n",
       "    'num_channels': 16,\n",
       "    'duration_sec': 600.0},\n",
       "   'plots': {},\n",
       "   'true_units_info': 'sha1://1106e8dba8d6119b8c6c050bbc9e7650cdfeea85/true_units_info.json'}},\n",
       " 'sorter': {'code': 'ms4',\n",
       "  'name': 'MountainSort4-thr3',\n",
       "  'processor_name': 'MountainSort4',\n",
       "  'params': {'detect_sign': -1, 'adjacency_radius': 50, 'detect_threshold': 3},\n",
       "  'compute_resource': 'default'},\n",
       " 'firings_true': 'kbucket://15734439d8cf/groundtruth/hybrid_drift/rec_16c_600s_11/firings_true.mda',\n",
       " 'processor_name': 'MountainSort4',\n",
       " 'processor_version': '4.2.0',\n",
       " 'execution_stats': {'start_time': 1553546477.836693,\n",
       "  'end_time': 1553546611.6152449,\n",
       "  'elapsed_sec': 133.7785518169403},\n",
       " 'console_out': 'sha1://3754f1f0faf75753251c625b791101999980e714/console_out.txt',\n",
       " 'container': 'default',\n",
       " 'firings': 'sha1://1d5f3a00cd14eab6996f78f445838b9250d25982/firings_out.mda',\n",
       " 'summary': {'plots': {}},\n",
       " 'comparison_with_truth': {'json': 'sha1://558101fddf6afe6b9080f071efb0fff72600c694/json_out.json',\n",
       "  'html': 'sha1://c6f583e740d070382cb2722e84f856038b0970ae/html_out.html'}}"
      ]
     },
     "execution_count": 17,
     "metadata": {},
     "output_type": "execute_result"
    }
   ],
   "source": [
    "sorting_results[0]"
   ]
  },
  {
   "cell_type": "code",
   "execution_count": null,
   "metadata": {},
   "outputs": [],
   "source": []
  },
  {
   "cell_type": "code",
   "execution_count": 18,
   "metadata": {},
   "outputs": [],
   "source": [
    "obj = dict(studies=studies, recordings=recordings, sorting_results=sorting_results)"
   ]
  },
  {
   "cell_type": "code",
   "execution_count": 19,
   "metadata": {},
   "outputs": [
    {
     "name": "stdout",
     "output_type": "stream",
     "text": [
      "Uploading to kachery --- (166.2 KiB): /home/magland/sha1-cache-new/tmp_mountainclient_koqfueomtv.txt -> http://kbucket.flatironinstitute.org:8080/set/sha1/ab9d36084bcd8c6f68cd674ee6bf496aeb8bf066?signature=cbc646c23494e1f977c961bf5b89aca3a053e1b2\n",
      "File uploaded (166.2 KiB) in 0.012670516967773438 sec\n",
      "sha1://ab9d36084bcd8c6f68cd674ee6bf496aeb8bf066/object.json\n"
     ]
    }
   ],
   "source": [
    "a=mt.saveObject(object=obj, share_id='kbucket')\n",
    "print(a)"
   ]
  },
  {
   "cell_type": "code",
   "execution_count": 11,
   "metadata": {},
   "outputs": [],
   "source": [
    "from copy import deepcopy"
   ]
  },
  {
   "cell_type": "code",
   "execution_count": 12,
   "metadata": {},
   "outputs": [
    {
     "data": {
      "text/plain": [
       "3"
      ]
     },
     "execution_count": 12,
     "metadata": {},
     "output_type": "execute_result"
    }
   ],
   "source": [
    "deepcopy(3)"
   ]
  },
  {
   "cell_type": "code",
   "execution_count": 5,
   "metadata": {},
   "outputs": [],
   "source": [
    "study_sets_by_study = dict()\n",
    "for study in studies:\n",
    "    study_sets_by_study[study['name']] = study['study_set']"
   ]
  },
  {
   "cell_type": "code",
   "execution_count": 6,
   "metadata": {},
   "outputs": [
    {
     "data": {
      "text/html": [
       "<div>\n",
       "<style scoped>\n",
       "    .dataframe tbody tr th:only-of-type {\n",
       "        vertical-align: middle;\n",
       "    }\n",
       "\n",
       "    .dataframe tbody tr th {\n",
       "        vertical-align: top;\n",
       "    }\n",
       "\n",
       "    .dataframe thead th {\n",
       "        text-align: right;\n",
       "    }\n",
       "</style>\n",
       "<table border=\"1\" class=\"dataframe\">\n",
       "  <thead>\n",
       "    <tr style=\"text-align: right;\">\n",
       "      <th></th>\n",
       "      <th>study_set</th>\n",
       "      <th>name</th>\n",
       "      <th>directory</th>\n",
       "    </tr>\n",
       "  </thead>\n",
       "  <tbody>\n",
       "    <tr>\n",
       "      <th>0</th>\n",
       "      <td>mearec_neuronexus</td>\n",
       "      <td>mearec_neuronexus_noise10_K10_C32</td>\n",
       "      <td>kbucket://15734439d8cf/groundtruth/mearec_synt...</td>\n",
       "    </tr>\n",
       "    <tr>\n",
       "      <th>1</th>\n",
       "      <td>mearec_neuronexus</td>\n",
       "      <td>mearec_neuronexus_noise10_K20_C32</td>\n",
       "      <td>kbucket://15734439d8cf/groundtruth/mearec_synt...</td>\n",
       "    </tr>\n",
       "    <tr>\n",
       "      <th>2</th>\n",
       "      <td>mearec_neuronexus</td>\n",
       "      <td>mearec_neuronexus_noise10_K40_C32</td>\n",
       "      <td>kbucket://15734439d8cf/groundtruth/mearec_synt...</td>\n",
       "    </tr>\n",
       "    <tr>\n",
       "      <th>3</th>\n",
       "      <td>mearec_neuronexus</td>\n",
       "      <td>mearec_neuronexus_noise20_K10_C32</td>\n",
       "      <td>kbucket://15734439d8cf/groundtruth/mearec_synt...</td>\n",
       "    </tr>\n",
       "    <tr>\n",
       "      <th>4</th>\n",
       "      <td>mearec_neuronexus</td>\n",
       "      <td>mearec_neuronexus_noise20_K20_C32</td>\n",
       "      <td>kbucket://15734439d8cf/groundtruth/mearec_synt...</td>\n",
       "    </tr>\n",
       "    <tr>\n",
       "      <th>5</th>\n",
       "      <td>mearec_neuronexus</td>\n",
       "      <td>mearec_neuronexus_noise20_K40_C32</td>\n",
       "      <td>kbucket://15734439d8cf/groundtruth/mearec_synt...</td>\n",
       "    </tr>\n",
       "    <tr>\n",
       "      <th>6</th>\n",
       "      <td>visapy_mea</td>\n",
       "      <td>visapy_mea</td>\n",
       "      <td>kbucket://15734439d8cf/groundtruth/visapy_mea</td>\n",
       "    </tr>\n",
       "    <tr>\n",
       "      <th>7</th>\n",
       "      <td>magland_synth</td>\n",
       "      <td>magland_synth_noise10_K10_C4</td>\n",
       "      <td>kbucket://15734439d8cf/groundtruth/magland_syn...</td>\n",
       "    </tr>\n",
       "    <tr>\n",
       "      <th>8</th>\n",
       "      <td>magland_synth</td>\n",
       "      <td>magland_synth_noise10_K10_C8</td>\n",
       "      <td>kbucket://15734439d8cf/groundtruth/magland_syn...</td>\n",
       "    </tr>\n",
       "    <tr>\n",
       "      <th>9</th>\n",
       "      <td>magland_synth</td>\n",
       "      <td>magland_synth_noise10_K20_C4</td>\n",
       "      <td>kbucket://15734439d8cf/groundtruth/magland_syn...</td>\n",
       "    </tr>\n",
       "    <tr>\n",
       "      <th>10</th>\n",
       "      <td>magland_synth</td>\n",
       "      <td>magland_synth_noise10_K20_C8</td>\n",
       "      <td>kbucket://15734439d8cf/groundtruth/magland_syn...</td>\n",
       "    </tr>\n",
       "    <tr>\n",
       "      <th>11</th>\n",
       "      <td>magland_synth</td>\n",
       "      <td>magland_synth_noise20_K10_C4</td>\n",
       "      <td>kbucket://15734439d8cf/groundtruth/magland_syn...</td>\n",
       "    </tr>\n",
       "    <tr>\n",
       "      <th>12</th>\n",
       "      <td>magland_synth</td>\n",
       "      <td>magland_synth_noise20_K10_C8</td>\n",
       "      <td>kbucket://15734439d8cf/groundtruth/magland_syn...</td>\n",
       "    </tr>\n",
       "    <tr>\n",
       "      <th>13</th>\n",
       "      <td>magland_synth</td>\n",
       "      <td>magland_synth_noise20_K20_C4</td>\n",
       "      <td>kbucket://15734439d8cf/groundtruth/magland_syn...</td>\n",
       "    </tr>\n",
       "    <tr>\n",
       "      <th>14</th>\n",
       "      <td>magland_synth</td>\n",
       "      <td>magland_synth_noise20_K20_C8</td>\n",
       "      <td>kbucket://15734439d8cf/groundtruth/magland_syn...</td>\n",
       "    </tr>\n",
       "    <tr>\n",
       "      <th>15</th>\n",
       "      <td>paired</td>\n",
       "      <td>paired_boyden32c</td>\n",
       "      <td>kbucket://15734439d8cf/groundtruth/paired_reco...</td>\n",
       "    </tr>\n",
       "    <tr>\n",
       "      <th>16</th>\n",
       "      <td>paired</td>\n",
       "      <td>paired_crcns</td>\n",
       "      <td>kbucket://15734439d8cf/groundtruth/paired_reco...</td>\n",
       "    </tr>\n",
       "    <tr>\n",
       "      <th>17</th>\n",
       "      <td>paired</td>\n",
       "      <td>paired_mea64c</td>\n",
       "      <td>kbucket://15734439d8cf/groundtruth/paired_reco...</td>\n",
       "    </tr>\n",
       "    <tr>\n",
       "      <th>18</th>\n",
       "      <td>paired</td>\n",
       "      <td>paired_neuropix32c</td>\n",
       "      <td>kbucket://15734439d8cf/groundtruth/paired_reco...</td>\n",
       "    </tr>\n",
       "    <tr>\n",
       "      <th>19</th>\n",
       "      <td>mearec_tetrode</td>\n",
       "      <td>mearec_tetrode_noise10_K10_C4</td>\n",
       "      <td>kbucket://15734439d8cf/groundtruth/mearec_synt...</td>\n",
       "    </tr>\n",
       "    <tr>\n",
       "      <th>20</th>\n",
       "      <td>mearec_tetrode</td>\n",
       "      <td>mearec_tetrode_noise10_K20_C4</td>\n",
       "      <td>kbucket://15734439d8cf/groundtruth/mearec_synt...</td>\n",
       "    </tr>\n",
       "    <tr>\n",
       "      <th>21</th>\n",
       "      <td>mearec_tetrode</td>\n",
       "      <td>mearec_tetrode_noise20_K10_C4</td>\n",
       "      <td>kbucket://15734439d8cf/groundtruth/mearec_synt...</td>\n",
       "    </tr>\n",
       "    <tr>\n",
       "      <th>22</th>\n",
       "      <td>mearec_tetrode</td>\n",
       "      <td>mearec_tetrode_noise20_K20_C4</td>\n",
       "      <td>kbucket://15734439d8cf/groundtruth/mearec_synt...</td>\n",
       "    </tr>\n",
       "    <tr>\n",
       "      <th>23</th>\n",
       "      <td>manual_tetrode</td>\n",
       "      <td>manual_tetrode_600s</td>\n",
       "      <td>kbucket://15734439d8cf/groundtruth/manual_sort...</td>\n",
       "    </tr>\n",
       "    <tr>\n",
       "      <th>24</th>\n",
       "      <td>manual_tetrode</td>\n",
       "      <td>manual_tetrode_1200s</td>\n",
       "      <td>kbucket://15734439d8cf/groundtruth/manual_sort...</td>\n",
       "    </tr>\n",
       "    <tr>\n",
       "      <th>25</th>\n",
       "      <td>manual_tetrode</td>\n",
       "      <td>manual_tetrode_2400s</td>\n",
       "      <td>kbucket://15734439d8cf/groundtruth/manual_sort...</td>\n",
       "    </tr>\n",
       "    <tr>\n",
       "      <th>26</th>\n",
       "      <td>bionet</td>\n",
       "      <td>bionet_static</td>\n",
       "      <td>kbucket://15734439d8cf/groundtruth/bionet/bion...</td>\n",
       "    </tr>\n",
       "    <tr>\n",
       "      <th>27</th>\n",
       "      <td>bionet</td>\n",
       "      <td>bionet_drift</td>\n",
       "      <td>kbucket://15734439d8cf/groundtruth/bionet/bion...</td>\n",
       "    </tr>\n",
       "    <tr>\n",
       "      <th>28</th>\n",
       "      <td>bionet</td>\n",
       "      <td>bionet_shuffle</td>\n",
       "      <td>kbucket://15734439d8cf/groundtruth/bionet/bion...</td>\n",
       "    </tr>\n",
       "  </tbody>\n",
       "</table>\n",
       "</div>"
      ],
      "text/plain": [
       "            study_set                               name  \\\n",
       "0   mearec_neuronexus  mearec_neuronexus_noise10_K10_C32   \n",
       "1   mearec_neuronexus  mearec_neuronexus_noise10_K20_C32   \n",
       "2   mearec_neuronexus  mearec_neuronexus_noise10_K40_C32   \n",
       "3   mearec_neuronexus  mearec_neuronexus_noise20_K10_C32   \n",
       "4   mearec_neuronexus  mearec_neuronexus_noise20_K20_C32   \n",
       "5   mearec_neuronexus  mearec_neuronexus_noise20_K40_C32   \n",
       "6          visapy_mea                         visapy_mea   \n",
       "7       magland_synth       magland_synth_noise10_K10_C4   \n",
       "8       magland_synth       magland_synth_noise10_K10_C8   \n",
       "9       magland_synth       magland_synth_noise10_K20_C4   \n",
       "10      magland_synth       magland_synth_noise10_K20_C8   \n",
       "11      magland_synth       magland_synth_noise20_K10_C4   \n",
       "12      magland_synth       magland_synth_noise20_K10_C8   \n",
       "13      magland_synth       magland_synth_noise20_K20_C4   \n",
       "14      magland_synth       magland_synth_noise20_K20_C8   \n",
       "15             paired                   paired_boyden32c   \n",
       "16             paired                       paired_crcns   \n",
       "17             paired                      paired_mea64c   \n",
       "18             paired                 paired_neuropix32c   \n",
       "19     mearec_tetrode      mearec_tetrode_noise10_K10_C4   \n",
       "20     mearec_tetrode      mearec_tetrode_noise10_K20_C4   \n",
       "21     mearec_tetrode      mearec_tetrode_noise20_K10_C4   \n",
       "22     mearec_tetrode      mearec_tetrode_noise20_K20_C4   \n",
       "23     manual_tetrode                manual_tetrode_600s   \n",
       "24     manual_tetrode               manual_tetrode_1200s   \n",
       "25     manual_tetrode               manual_tetrode_2400s   \n",
       "26             bionet                      bionet_static   \n",
       "27             bionet                       bionet_drift   \n",
       "28             bionet                     bionet_shuffle   \n",
       "\n",
       "                                            directory  \n",
       "0   kbucket://15734439d8cf/groundtruth/mearec_synt...  \n",
       "1   kbucket://15734439d8cf/groundtruth/mearec_synt...  \n",
       "2   kbucket://15734439d8cf/groundtruth/mearec_synt...  \n",
       "3   kbucket://15734439d8cf/groundtruth/mearec_synt...  \n",
       "4   kbucket://15734439d8cf/groundtruth/mearec_synt...  \n",
       "5   kbucket://15734439d8cf/groundtruth/mearec_synt...  \n",
       "6       kbucket://15734439d8cf/groundtruth/visapy_mea  \n",
       "7   kbucket://15734439d8cf/groundtruth/magland_syn...  \n",
       "8   kbucket://15734439d8cf/groundtruth/magland_syn...  \n",
       "9   kbucket://15734439d8cf/groundtruth/magland_syn...  \n",
       "10  kbucket://15734439d8cf/groundtruth/magland_syn...  \n",
       "11  kbucket://15734439d8cf/groundtruth/magland_syn...  \n",
       "12  kbucket://15734439d8cf/groundtruth/magland_syn...  \n",
       "13  kbucket://15734439d8cf/groundtruth/magland_syn...  \n",
       "14  kbucket://15734439d8cf/groundtruth/magland_syn...  \n",
       "15  kbucket://15734439d8cf/groundtruth/paired_reco...  \n",
       "16  kbucket://15734439d8cf/groundtruth/paired_reco...  \n",
       "17  kbucket://15734439d8cf/groundtruth/paired_reco...  \n",
       "18  kbucket://15734439d8cf/groundtruth/paired_reco...  \n",
       "19  kbucket://15734439d8cf/groundtruth/mearec_synt...  \n",
       "20  kbucket://15734439d8cf/groundtruth/mearec_synt...  \n",
       "21  kbucket://15734439d8cf/groundtruth/mearec_synt...  \n",
       "22  kbucket://15734439d8cf/groundtruth/mearec_synt...  \n",
       "23  kbucket://15734439d8cf/groundtruth/manual_sort...  \n",
       "24  kbucket://15734439d8cf/groundtruth/manual_sort...  \n",
       "25  kbucket://15734439d8cf/groundtruth/manual_sort...  \n",
       "26  kbucket://15734439d8cf/groundtruth/bionet/bion...  \n",
       "27  kbucket://15734439d8cf/groundtruth/bionet/bion...  \n",
       "28  kbucket://15734439d8cf/groundtruth/bionet/bion...  "
      ]
     },
     "execution_count": 6,
     "metadata": {},
     "output_type": "execute_result"
    }
   ],
   "source": [
    "pd.DataFrame(data=studies, columns=['study_set', 'name', 'directory'])"
   ]
  },
  {
   "cell_type": "code",
   "execution_count": 7,
   "metadata": {},
   "outputs": [
    {
     "data": {
      "text/html": [
       "<div>\n",
       "<style scoped>\n",
       "    .dataframe tbody tr th:only-of-type {\n",
       "        vertical-align: middle;\n",
       "    }\n",
       "\n",
       "    .dataframe tbody tr th {\n",
       "        vertical-align: top;\n",
       "    }\n",
       "\n",
       "    .dataframe thead th {\n",
       "        text-align: right;\n",
       "    }\n",
       "</style>\n",
       "<table border=\"1\" class=\"dataframe\">\n",
       "  <thead>\n",
       "    <tr style=\"text-align: right;\">\n",
       "      <th></th>\n",
       "      <th>study</th>\n",
       "      <th>name</th>\n",
       "      <th>samplerate</th>\n",
       "      <th>num_channels</th>\n",
       "      <th>duration_sec</th>\n",
       "    </tr>\n",
       "  </thead>\n",
       "  <tbody>\n",
       "    <tr>\n",
       "      <th>0</th>\n",
       "      <td>visapy_mea</td>\n",
       "      <td>set1</td>\n",
       "      <td>32000.0</td>\n",
       "      <td>30</td>\n",
       "      <td>300.0</td>\n",
       "    </tr>\n",
       "    <tr>\n",
       "      <th>1</th>\n",
       "      <td>visapy_mea</td>\n",
       "      <td>set2</td>\n",
       "      <td>32000.0</td>\n",
       "      <td>30</td>\n",
       "      <td>300.0</td>\n",
       "    </tr>\n",
       "    <tr>\n",
       "      <th>2</th>\n",
       "      <td>visapy_mea</td>\n",
       "      <td>set3</td>\n",
       "      <td>32000.0</td>\n",
       "      <td>30</td>\n",
       "      <td>300.0</td>\n",
       "    </tr>\n",
       "    <tr>\n",
       "      <th>3</th>\n",
       "      <td>visapy_mea</td>\n",
       "      <td>set4</td>\n",
       "      <td>32000.0</td>\n",
       "      <td>30</td>\n",
       "      <td>300.0</td>\n",
       "    </tr>\n",
       "    <tr>\n",
       "      <th>4</th>\n",
       "      <td>visapy_mea</td>\n",
       "      <td>set5</td>\n",
       "      <td>32000.0</td>\n",
       "      <td>30</td>\n",
       "      <td>300.0</td>\n",
       "    </tr>\n",
       "    <tr>\n",
       "      <th>5</th>\n",
       "      <td>visapy_mea</td>\n",
       "      <td>set6</td>\n",
       "      <td>32000.0</td>\n",
       "      <td>30</td>\n",
       "      <td>300.0</td>\n",
       "    </tr>\n",
       "  </tbody>\n",
       "</table>\n",
       "</div>"
      ],
      "text/plain": [
       "        study  name  samplerate  num_channels  duration_sec\n",
       "0  visapy_mea  set1     32000.0            30         300.0\n",
       "1  visapy_mea  set2     32000.0            30         300.0\n",
       "2  visapy_mea  set3     32000.0            30         300.0\n",
       "3  visapy_mea  set4     32000.0            30         300.0\n",
       "4  visapy_mea  set5     32000.0            30         300.0\n",
       "5  visapy_mea  set6     32000.0            30         300.0"
      ]
     },
     "execution_count": 7,
     "metadata": {},
     "output_type": "execute_result"
    }
   ],
   "source": [
    "study_set='visapy_mea'\n",
    "recordings2 = [dict(study=rec['study'], name=rec['name'], **rec['summary']['computed_info']) for rec in recordings]\n",
    "recordings2 = [rec for rec in recordings2 if study_sets_by_study[rec['study']]==study_set]\n",
    "pd.DataFrame(data=recordings2, columns=['study', 'name', 'samplerate', 'num_channels', 'duration_sec'])"
   ]
  },
  {
   "cell_type": "code",
   "execution_count": 8,
   "metadata": {},
   "outputs": [
    {
     "ename": "NameError",
     "evalue": "name 'sorter_codes' is not defined",
     "output_type": "error",
     "traceback": [
      "\u001b[0;31m---------------------------------------------------------------------------\u001b[0m",
      "\u001b[0;31mNameError\u001b[0m                                 Traceback (most recent call last)",
      "\u001b[0;32m<ipython-input-8-32052128318c>\u001b[0m in \u001b[0;36m<module>\u001b[0;34m\u001b[0m\n\u001b[0;32m----> 1\u001b[0;31m \u001b[0msorter_codes\u001b[0m\u001b[0;34m\u001b[0m\u001b[0;34m\u001b[0m\u001b[0m\n\u001b[0m",
      "\u001b[0;31mNameError\u001b[0m: name 'sorter_codes' is not defined"
     ]
    }
   ],
   "source": [
    "sorter_codes"
   ]
  },
  {
   "cell_type": "code",
   "execution_count": 9,
   "metadata": {},
   "outputs": [
    {
     "name": "stdout",
     "output_type": "stream",
     "text": [
      "Total elapsed: 111.28 hours -- 1904 sortings\n"
     ]
    }
   ],
   "source": [
    "all_elapsed = [SR['execution_stats']['elapsed_sec'] for SR in sorting_results]\n",
    "total_elapsed_sec = np.sum(all_elapsed)\n",
    "total_elapsed_hr = total_elapsed_sec/60/60\n",
    "print('Total elapsed: {:.2f} hours -- {} sortings'.format(total_elapsed_hr, len(all_elapsed)))"
   ]
  },
  {
   "cell_type": "code",
   "execution_count": 10,
   "metadata": {},
   "outputs": [
    {
     "name": "stdout",
     "output_type": "stream",
     "text": [
      "Total elapsed for sc: 45.78 hours -- 388 recordings\n",
      "Total elapsed for ks: 8.10 hours -- 352 recordings\n",
      "Total elapsed for ms4: 26.21 hours -- 388 recordings\n",
      "Total elapsed for irc: 14.50 hours -- 388 recordings\n",
      "Total elapsed for yass: 16.69 hours -- 388 recordings\n"
     ]
    }
   ],
   "source": [
    "sorter_codes=list(set([SR['sorter']['code'] for SR in sorting_results]))\n",
    "for code in sorter_codes:\n",
    "    all_elapsed = [SR['execution_stats']['elapsed_sec'] for SR in sorting_results if SR['sorter']['code']==code]\n",
    "    total_elapsed_sec = np.sum(all_elapsed)\n",
    "    total_elapsed_hr = total_elapsed_sec/60/60\n",
    "    print('Total elapsed for {}: {:.2f} hours -- {} recordings'.format(code, total_elapsed_hr, len(all_elapsed)))"
   ]
  },
  {
   "cell_type": "code",
   "execution_count": null,
   "metadata": {},
   "outputs": [],
   "source": []
  },
  {
   "cell_type": "code",
   "execution_count": 11,
   "metadata": {},
   "outputs": [
    {
     "name": "stdout",
     "output_type": "stream",
     "text": [
      "-----------------------------------------\n",
      "STUDY SET: magland_synth\n",
      "Total elapsed for sc: 4.93 hours -- 3.70 minutes per recording -- 80 recordings\n",
      "Total elapsed for ks: 1.32 hours -- 0.99 minutes per recording -- 80 recordings\n",
      "Total elapsed for ms4: 1.53 hours -- 1.15 minutes per recording -- 80 recordings\n",
      "Total elapsed for irc: 1.48 hours -- 1.11 minutes per recording -- 80 recordings\n",
      "Total elapsed for yass: 0.68 hours -- 0.51 minutes per recording -- 80 recordings\n",
      "-----------------------------------------\n",
      "STUDY SET: manual_tetrode\n",
      "Total elapsed for sc: 2.32 hours -- 6.63 minutes per recording -- 21 recordings\n",
      "Total elapsed for ks: 0.45 hours -- 1.29 minutes per recording -- 21 recordings\n",
      "Total elapsed for ms4: 0.30 hours -- 0.86 minutes per recording -- 21 recordings\n",
      "Total elapsed for irc: 0.48 hours -- 1.38 minutes per recording -- 21 recordings\n",
      "Total elapsed for yass: 0.30 hours -- 0.86 minutes per recording -- 21 recordings\n",
      "-----------------------------------------\n",
      "STUDY SET: bionet\n",
      "Total elapsed for sc: 12.01 hours -- 20.02 minutes per recording -- 36 recordings\n",
      "Total elapsed for ks: 0.00 hours -- nan minutes per recording -- 0 recordings\n",
      "Total elapsed for ms4: 4.97 hours -- 8.28 minutes per recording -- 36 recordings\n",
      "Total elapsed for irc: 7.48 hours -- 12.47 minutes per recording -- 36 recordings\n",
      "Total elapsed for yass: 6.21 hours -- 10.36 minutes per recording -- 36 recordings\n",
      "-----------------------------------------\n",
      "STUDY SET: mearec_tetrode\n",
      "Total elapsed for sc: 1.60 hours -- 2.39 minutes per recording -- 40 recordings\n",
      "Total elapsed for ks: 0.47 hours -- 0.71 minutes per recording -- 40 recordings\n",
      "Total elapsed for ms4: 0.51 hours -- 0.77 minutes per recording -- 40 recordings\n",
      "Total elapsed for irc: 0.40 hours -- 0.60 minutes per recording -- 40 recordings\n",
      "Total elapsed for yass: 0.30 hours -- 0.45 minutes per recording -- 40 recordings\n",
      "-----------------------------------------\n",
      "STUDY SET: visapy_mea\n",
      "Total elapsed for sc: 0.35 hours -- 3.54 minutes per recording -- 6 recordings\n",
      "Total elapsed for ks: 0.11 hours -- 1.08 minutes per recording -- 6 recordings\n",
      "Total elapsed for ms4: 0.23 hours -- 2.27 minutes per recording -- 6 recordings\n",
      "Total elapsed for irc: 0.07 hours -- 0.66 minutes per recording -- 6 recordings\n",
      "Total elapsed for yass: 0.33 hours -- 3.31 minutes per recording -- 6 recordings\n",
      "-----------------------------------------\n",
      "STUDY SET: paired\n",
      "Total elapsed for sc: 15.50 hours -- 6.41 minutes per recording -- 145 recordings\n",
      "Total elapsed for ks: 2.83 hours -- 1.17 minutes per recording -- 145 recordings\n",
      "Total elapsed for ms4: 5.48 hours -- 2.27 minutes per recording -- 145 recordings\n",
      "Total elapsed for irc: 2.43 hours -- 1.01 minutes per recording -- 145 recordings\n",
      "Total elapsed for yass: 4.73 hours -- 1.96 minutes per recording -- 145 recordings\n",
      "-----------------------------------------\n",
      "STUDY SET: mearec_neuronexus\n",
      "Total elapsed for sc: 9.06 hours -- 9.06 minutes per recording -- 60 recordings\n",
      "Total elapsed for ks: 2.91 hours -- 2.91 minutes per recording -- 60 recordings\n",
      "Total elapsed for ms4: 13.19 hours -- 13.19 minutes per recording -- 60 recordings\n",
      "Total elapsed for irc: 2.16 hours -- 2.16 minutes per recording -- 60 recordings\n",
      "Total elapsed for yass: 4.13 hours -- 4.13 minutes per recording -- 60 recordings\n"
     ]
    },
    {
     "name": "stderr",
     "output_type": "stream",
     "text": [
      "/home/magland/miniconda3/envs/devel/lib/python3.6/site-packages/ipykernel_launcher.py:10: RuntimeWarning: invalid value encountered in double_scalars\n",
      "  # Remove the CWD from sys.path while we load stuff.\n"
     ]
    }
   ],
   "source": [
    "study_sets = list(set(study_sets_by_study.values()))\n",
    "for study_set in study_sets:\n",
    "    print('STUDY SET: {}'.format(study_set))\n",
    "    sorting_results2 = [SR for SR in sorting_results if study_sets_by_study[SR['recording']['study']]==study_set]\n",
    "    for code in sorter_codes:\n",
    "        all_elapsed = [SR['execution_stats']['elapsed_sec'] for SR in sorting_results2 if SR['sorter']['code']==code]\n",
    "        total_elapsed_sec = np.sum(all_elapsed)\n",
    "        total_elapsed_hr = total_elapsed_sec/60/60\n",
    "        print('Total elapsed for {}: {:.2f} hours -- {:.2f} minutes per recording -- {} recordings'.format(code, total_elapsed_hr, total_elapsed_hr/len(all_elapsed)*60, len(all_elapsed)))"
   ]
  },
  {
   "cell_type": "code",
   "execution_count": null,
   "metadata": {},
   "outputs": [],
   "source": []
  }
 ],
 "metadata": {
  "kernelspec": {
   "display_name": "Python 3",
   "language": "python",
   "name": "python3"
  },
  "language_info": {
   "codemirror_mode": {
    "name": "ipython",
    "version": 3
   },
   "file_extension": ".py",
   "mimetype": "text/x-python",
   "name": "python",
   "nbconvert_exporter": "python",
   "pygments_lexer": "ipython3",
   "version": "3.6.8"
  }
 },
 "nbformat": 4,
 "nbformat_minor": 2
}
