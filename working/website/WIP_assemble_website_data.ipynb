{
 "cells": [
  {
   "cell_type": "markdown",
   "metadata": {},
   "source": [
    "## Assemble website data\n",
    "\n",
    "This notebook saves collections in .json files in the website_data/ directory\n",
    "\n",
    "StudySets.json\n",
    "Studies.json\n",
    "Recordings.json\n",
    "TrueUnits.json\n",
    "UnitResults.json\n",
    "Sorters.json\n",
    "\n",
    "## Schema\n",
    "\n",
    "StudySet\n",
    "* name (str)\n",
    "* [type (str) -- synthetic, real, hybrid, etc.]\n",
    "* [description (str)]\n",
    "    \n",
    "Study\n",
    "* name (str)\n",
    "* studySet (str)\n",
    "* description (str)\n",
    "* sorterNames (array of str)\n",
    "\n",
    "Note: study name is unique, even across study sets\n",
    "    \n",
    "Recording\n",
    "* name (str)\n",
    "* study (str)\n",
    "* directory (str) -- i.e., kbucket address\n",
    "* description (str)\n",
    "* sampleRateHz (float)\n",
    "* numChannels (int)\n",
    "* durationSec (float)\n",
    "* numTrueUnits (int)\n",
    "* [fileSizeBytes (int)]\n",
    "* spikeSign (int) [Hard-coded for now. In future, grab from params.json]\n",
    "\n",
    "TrueUnit\n",
    "* unitId (int)\n",
    "* recording (str)\n",
    "* study (str)\n",
    "* meanFiringRateHz (float)\n",
    "* numEvents (int)\n",
    "* peakChannel (int)\n",
    "* snr (float)\n",
    "\n",
    "SortingResult\n",
    "* recording (str)\n",
    "* recordingExt (str)\n",
    "* study (str)\n",
    "* sorter (str)\n",
    "* cpuTimeSec (float)\n",
    "* [runtime_info (object): timestamps, wall time, CPU time, RAM usage, error status]\n",
    "* [firingsOutputUrl (str)] TODO: jfm (two weeks)\n",
    "\n",
    "UnitResult\n",
    "* unitId (int)\n",
    "* recording (str)\n",
    "* recordingExt (str)\n",
    "* study (str)\n",
    "* sorter (str)\n",
    "* numMatches (int)\n",
    "* numFalsePositives (int)\n",
    "* numFalseNegatives (int)\n",
    "* checkAccuracy (float)\n",
    "* checkRecall (float)\n",
    "* checkPrecision (float)\n",
    "* bestSortedUnitId (int)\n",
    "* spikeSprayUrl (str) TODO: jfm to make this (next week)\n",
    "\n",
    "Sorter\n",
    "* name (str)\n",
    "* algorithm (str)\n",
    "* [algorithmVersion (str)] - future\n",
    "* processorName (str)\n",
    "* processorVersion (str)\n",
    "* sortingParameters (object)"
   ]
  },
  {
   "cell_type": "code",
   "execution_count": 1,
   "metadata": {},
   "outputs": [],
   "source": [
    "%load_ext autoreload\n",
    "%autoreload 2\n",
    "\n",
    "from mountaintools import client as mt\n",
    "import os"
   ]
  },
  {
   "cell_type": "code",
   "execution_count": 2,
   "metadata": {},
   "outputs": [
    {
     "name": "stdout",
     "output_type": "stream",
     "text": [
      "MOUNTAIN CONFIG: remote database spikeforest (readonly); remote kb-share 69432e9201d0 (readonly)\n"
     ]
    }
   ],
   "source": [
    "mt.configRemoteReadonly(collection='spikeforest', share_id='spikeforest.spikeforest2')"
   ]
  },
  {
   "cell_type": "code",
   "execution_count": 3,
   "metadata": {},
   "outputs": [],
   "source": [
    "output_ids=['mearec_neuronexus', 'visapy_mea', 'magland_synth', 'paired', 'mearec_tetrode', 'manual_tetrode', 'bionet']"
   ]
  },
  {
   "cell_type": "code",
   "execution_count": 4,
   "metadata": {},
   "outputs": [],
   "source": [
    "result_objects=[\n",
    "    mt.loadObject(\n",
    "        key=dict(\n",
    "            name='spikeforest_results'\n",
    "        ),\n",
    "        subkey=output_id\n",
    "    )\n",
    "    for output_id in output_ids\n",
    "]\n",
    "studies=[study for X in result_objects for study in X['studies']]\n",
    "recordings=[recording for X in result_objects for recording in X['recordings']]\n",
    "sorting_results=[sorting_result for X in result_objects for sorting_result in X['sorting_results']]\n",
    "\n",
    "if not os.path.exists('website_data'):\n",
    "    os.mkdir('website_data')"
   ]
  },
  {
   "cell_type": "code",
   "execution_count": 5,
   "metadata": {},
   "outputs": [
    {
     "name": "stdout",
     "output_type": "stream",
     "text": [
      "[{'name': 'mearec_neuronexus'}, {'name': 'visapy_mea'}, {'name': 'magland_synth'}, {'name': 'paired'}, {'name': 'mearec_tetrode'}, {'name': 'manual_tetrode'}, {'name': 'bionet'}]\n"
     ]
    }
   ],
   "source": [
    "### STUDY SETS\n",
    "\n",
    "study_sets_by_name=dict()\n",
    "for study in studies:\n",
    "    study_sets_by_name[study['study_set']]=dict(name=study['study_set'])\n",
    "\n",
    "StudySets=[]\n",
    "for study_set in study_sets_by_name.values():\n",
    "    StudySets.append(dict(\n",
    "        name=study_set['name']\n",
    "    ))\n",
    "\n",
    "mt.saveObject(object=StudySets, dest_path=os.path.abspath(os.path.join('website_data', 'StudySets.json')))\n",
    "print(StudySets)"
   ]
  },
  {
   "cell_type": "code",
   "execution_count": 6,
   "metadata": {},
   "outputs": [
    {
     "ename": "KeyboardInterrupt",
     "evalue": "",
     "output_type": "error",
     "traceback": [
      "\u001b[0;31m---------------------------------------------------------------------------\u001b[0m",
      "\u001b[0;31mTypeError\u001b[0m                                 Traceback (most recent call last)",
      "\u001b[0;32m~/miniconda3/envs/devel/lib/python3.6/site-packages/urllib3/connectionpool.py\u001b[0m in \u001b[0;36m_make_request\u001b[0;34m(self, conn, method, url, timeout, chunked, **httplib_request_kw)\u001b[0m\n\u001b[1;32m    376\u001b[0m             \u001b[0;32mtry\u001b[0m\u001b[0;34m:\u001b[0m  \u001b[0;31m# Python 2.7, use buffering of HTTP responses\u001b[0m\u001b[0;34m\u001b[0m\u001b[0;34m\u001b[0m\u001b[0m\n\u001b[0;32m--> 377\u001b[0;31m                 \u001b[0mhttplib_response\u001b[0m \u001b[0;34m=\u001b[0m \u001b[0mconn\u001b[0m\u001b[0;34m.\u001b[0m\u001b[0mgetresponse\u001b[0m\u001b[0;34m(\u001b[0m\u001b[0mbuffering\u001b[0m\u001b[0;34m=\u001b[0m\u001b[0;32mTrue\u001b[0m\u001b[0;34m)\u001b[0m\u001b[0;34m\u001b[0m\u001b[0;34m\u001b[0m\u001b[0m\n\u001b[0m\u001b[1;32m    378\u001b[0m             \u001b[0;32mexcept\u001b[0m \u001b[0mTypeError\u001b[0m\u001b[0;34m:\u001b[0m  \u001b[0;31m# Python 3\u001b[0m\u001b[0;34m\u001b[0m\u001b[0;34m\u001b[0m\u001b[0m\n",
      "\u001b[0;31mTypeError\u001b[0m: getresponse() got an unexpected keyword argument 'buffering'",
      "\nDuring handling of the above exception, another exception occurred:\n",
      "\u001b[0;31mKeyboardInterrupt\u001b[0m                         Traceback (most recent call last)",
      "\u001b[0;32m<ipython-input-6-52ce0d3da264>\u001b[0m in \u001b[0;36m<module>\u001b[0;34m\u001b[0m\n\u001b[1;32m      4\u001b[0m \u001b[0mTrueUnits\u001b[0m\u001b[0;34m=\u001b[0m\u001b[0;34m[\u001b[0m\u001b[0;34m]\u001b[0m\u001b[0;34m\u001b[0m\u001b[0;34m\u001b[0m\u001b[0m\n\u001b[1;32m      5\u001b[0m \u001b[0;32mfor\u001b[0m \u001b[0mrecording\u001b[0m \u001b[0;32min\u001b[0m \u001b[0mrecordings\u001b[0m\u001b[0;34m:\u001b[0m\u001b[0;34m\u001b[0m\u001b[0;34m\u001b[0m\u001b[0m\n\u001b[0;32m----> 6\u001b[0;31m     \u001b[0mtrue_units_info\u001b[0m\u001b[0;34m=\u001b[0m\u001b[0mmt\u001b[0m\u001b[0;34m.\u001b[0m\u001b[0mloadObject\u001b[0m\u001b[0;34m(\u001b[0m\u001b[0mpath\u001b[0m\u001b[0;34m=\u001b[0m\u001b[0mrecording\u001b[0m\u001b[0;34m[\u001b[0m\u001b[0;34m'summary'\u001b[0m\u001b[0;34m]\u001b[0m\u001b[0;34m[\u001b[0m\u001b[0;34m'true_units_info'\u001b[0m\u001b[0;34m]\u001b[0m\u001b[0;34m)\u001b[0m\u001b[0;34m\u001b[0m\u001b[0;34m\u001b[0m\u001b[0m\n\u001b[0m\u001b[1;32m      7\u001b[0m     \u001b[0;32mfor\u001b[0m \u001b[0munit_info\u001b[0m \u001b[0;32min\u001b[0m \u001b[0mtrue_units_info\u001b[0m\u001b[0;34m:\u001b[0m\u001b[0;34m\u001b[0m\u001b[0;34m\u001b[0m\u001b[0m\n\u001b[1;32m      8\u001b[0m         TrueUnits.append(dict(\n",
      "\u001b[0;32m~/src/spikeforest/mountaintools/mtlogging/mtlogging.py\u001b[0m in \u001b[0;36mwrapper\u001b[0;34m(*args, **kwargs)\u001b[0m\n\u001b[1;32m     23\u001b[0m             \u001b[0mnode\u001b[0m\u001b[0;34m.\u001b[0m\u001b[0mreportStart\u001b[0m\u001b[0;34m(\u001b[0m\u001b[0;34m)\u001b[0m\u001b[0;34m\u001b[0m\u001b[0;34m\u001b[0m\u001b[0m\n\u001b[1;32m     24\u001b[0m             \u001b[0;32mtry\u001b[0m\u001b[0;34m:\u001b[0m\u001b[0;34m\u001b[0m\u001b[0;34m\u001b[0m\u001b[0m\n\u001b[0;32m---> 25\u001b[0;31m                 \u001b[0mret\u001b[0m \u001b[0;34m=\u001b[0m \u001b[0mfunction\u001b[0m\u001b[0;34m(\u001b[0m\u001b[0;34m*\u001b[0m\u001b[0margs\u001b[0m\u001b[0;34m,\u001b[0m \u001b[0;34m**\u001b[0m\u001b[0mkwargs\u001b[0m\u001b[0;34m)\u001b[0m\u001b[0;34m\u001b[0m\u001b[0;34m\u001b[0m\u001b[0m\n\u001b[0m\u001b[1;32m     26\u001b[0m             \u001b[0;32mexcept\u001b[0m\u001b[0;34m:\u001b[0m\u001b[0;34m\u001b[0m\u001b[0;34m\u001b[0m\u001b[0m\n\u001b[1;32m     27\u001b[0m                 \u001b[0;32mif\u001b[0m \u001b[0mnode\u001b[0m\u001b[0;34m:\u001b[0m\u001b[0;34m\u001b[0m\u001b[0;34m\u001b[0m\u001b[0m\n",
      "\u001b[0;32m~/src/spikeforest/mountaintools/mountainclient/mountainclient.py\u001b[0m in \u001b[0;36mloadObject\u001b[0;34m(self, key, path, subkey, local_first)\u001b[0m\n\u001b[1;32m    712\u001b[0m \u001b[0;34m\u001b[0m\u001b[0m\n\u001b[1;32m    713\u001b[0m         txt = self.loadText(key=key, path=path,\n\u001b[0;32m--> 714\u001b[0;31m                             subkey=subkey, local_first=local_first)\n\u001b[0m\u001b[1;32m    715\u001b[0m         \u001b[0;32mif\u001b[0m \u001b[0mtxt\u001b[0m \u001b[0;32mis\u001b[0m \u001b[0;32mNone\u001b[0m\u001b[0;34m:\u001b[0m\u001b[0;34m\u001b[0m\u001b[0;34m\u001b[0m\u001b[0m\n\u001b[1;32m    716\u001b[0m             \u001b[0;32mreturn\u001b[0m \u001b[0;32mNone\u001b[0m\u001b[0;34m\u001b[0m\u001b[0;34m\u001b[0m\u001b[0m\n",
      "\u001b[0;32m~/src/spikeforest/mountaintools/mtlogging/mtlogging.py\u001b[0m in \u001b[0;36mwrapper\u001b[0;34m(*args, **kwargs)\u001b[0m\n\u001b[1;32m     23\u001b[0m             \u001b[0mnode\u001b[0m\u001b[0;34m.\u001b[0m\u001b[0mreportStart\u001b[0m\u001b[0;34m(\u001b[0m\u001b[0;34m)\u001b[0m\u001b[0;34m\u001b[0m\u001b[0;34m\u001b[0m\u001b[0m\n\u001b[1;32m     24\u001b[0m             \u001b[0;32mtry\u001b[0m\u001b[0;34m:\u001b[0m\u001b[0;34m\u001b[0m\u001b[0;34m\u001b[0m\u001b[0m\n\u001b[0;32m---> 25\u001b[0;31m                 \u001b[0mret\u001b[0m \u001b[0;34m=\u001b[0m \u001b[0mfunction\u001b[0m\u001b[0;34m(\u001b[0m\u001b[0;34m*\u001b[0m\u001b[0margs\u001b[0m\u001b[0;34m,\u001b[0m \u001b[0;34m**\u001b[0m\u001b[0mkwargs\u001b[0m\u001b[0;34m)\u001b[0m\u001b[0;34m\u001b[0m\u001b[0;34m\u001b[0m\u001b[0m\n\u001b[0m\u001b[1;32m     26\u001b[0m             \u001b[0;32mexcept\u001b[0m\u001b[0;34m:\u001b[0m\u001b[0;34m\u001b[0m\u001b[0;34m\u001b[0m\u001b[0m\n\u001b[1;32m     27\u001b[0m                 \u001b[0;32mif\u001b[0m \u001b[0mnode\u001b[0m\u001b[0;34m:\u001b[0m\u001b[0;34m\u001b[0m\u001b[0;34m\u001b[0m\u001b[0m\n",
      "\u001b[0;32m~/src/spikeforest/mountaintools/mountainclient/mountainclient.py\u001b[0m in \u001b[0;36mloadText\u001b[0;34m(self, key, path, subkey, local_first)\u001b[0m\n\u001b[1;32m    850\u001b[0m \u001b[0;34m\u001b[0m\u001b[0m\n\u001b[1;32m    851\u001b[0m         fname = self.realizeFile(\n\u001b[0;32m--> 852\u001b[0;31m             key=key, path=path, subkey=subkey, local_first=local_first)\n\u001b[0m\u001b[1;32m    853\u001b[0m         \u001b[0;32mif\u001b[0m \u001b[0mfname\u001b[0m \u001b[0;32mis\u001b[0m \u001b[0;32mNone\u001b[0m\u001b[0;34m:\u001b[0m\u001b[0;34m\u001b[0m\u001b[0;34m\u001b[0m\u001b[0m\n\u001b[1;32m    854\u001b[0m             \u001b[0;32mreturn\u001b[0m \u001b[0;32mNone\u001b[0m\u001b[0;34m\u001b[0m\u001b[0;34m\u001b[0m\u001b[0m\n",
      "\u001b[0;32m~/src/spikeforest/mountaintools/mtlogging/mtlogging.py\u001b[0m in \u001b[0;36mwrapper\u001b[0;34m(*args, **kwargs)\u001b[0m\n\u001b[1;32m     23\u001b[0m             \u001b[0mnode\u001b[0m\u001b[0;34m.\u001b[0m\u001b[0mreportStart\u001b[0m\u001b[0;34m(\u001b[0m\u001b[0;34m)\u001b[0m\u001b[0;34m\u001b[0m\u001b[0;34m\u001b[0m\u001b[0m\n\u001b[1;32m     24\u001b[0m             \u001b[0;32mtry\u001b[0m\u001b[0;34m:\u001b[0m\u001b[0;34m\u001b[0m\u001b[0;34m\u001b[0m\u001b[0m\n\u001b[0;32m---> 25\u001b[0;31m                 \u001b[0mret\u001b[0m \u001b[0;34m=\u001b[0m \u001b[0mfunction\u001b[0m\u001b[0;34m(\u001b[0m\u001b[0;34m*\u001b[0m\u001b[0margs\u001b[0m\u001b[0;34m,\u001b[0m \u001b[0;34m**\u001b[0m\u001b[0mkwargs\u001b[0m\u001b[0;34m)\u001b[0m\u001b[0;34m\u001b[0m\u001b[0;34m\u001b[0m\u001b[0m\n\u001b[0m\u001b[1;32m     26\u001b[0m             \u001b[0;32mexcept\u001b[0m\u001b[0;34m:\u001b[0m\u001b[0;34m\u001b[0m\u001b[0;34m\u001b[0m\u001b[0m\n\u001b[1;32m     27\u001b[0m                 \u001b[0;32mif\u001b[0m \u001b[0mnode\u001b[0m\u001b[0;34m:\u001b[0m\u001b[0;34m\u001b[0m\u001b[0;34m\u001b[0m\u001b[0m\n",
      "\u001b[0;32m~/src/spikeforest/mountaintools/mountainclient/mountainclient.py\u001b[0m in \u001b[0;36mrealizeFile\u001b[0;34m(self, path, key, subkey, dest_path, local_first, show_progress, share_id)\u001b[0m\n\u001b[1;32m    636\u001b[0m \u001b[0;34m\u001b[0m\u001b[0m\n\u001b[1;32m    637\u001b[0m         \u001b[0;32mif\u001b[0m \u001b[0mpath\u001b[0m \u001b[0;32mis\u001b[0m \u001b[0;32mnot\u001b[0m \u001b[0;32mNone\u001b[0m\u001b[0;34m:\u001b[0m\u001b[0;34m\u001b[0m\u001b[0;34m\u001b[0m\u001b[0m\n\u001b[0;32m--> 638\u001b[0;31m             \u001b[0;32mreturn\u001b[0m \u001b[0mself\u001b[0m\u001b[0;34m.\u001b[0m\u001b[0m_realize_file\u001b[0m\u001b[0;34m(\u001b[0m\u001b[0mpath\u001b[0m\u001b[0;34m=\u001b[0m\u001b[0mpath\u001b[0m\u001b[0;34m,\u001b[0m \u001b[0mshare_id\u001b[0m\u001b[0;34m=\u001b[0m\u001b[0mshare_id\u001b[0m\u001b[0;34m,\u001b[0m \u001b[0mdest_path\u001b[0m\u001b[0;34m=\u001b[0m\u001b[0mdest_path\u001b[0m\u001b[0;34m,\u001b[0m \u001b[0mshow_progress\u001b[0m\u001b[0;34m=\u001b[0m\u001b[0mshow_progress\u001b[0m\u001b[0;34m)\u001b[0m\u001b[0;34m\u001b[0m\u001b[0;34m\u001b[0m\u001b[0m\n\u001b[0m\u001b[1;32m    639\u001b[0m         \u001b[0;32melif\u001b[0m \u001b[0mkey\u001b[0m \u001b[0;32mis\u001b[0m \u001b[0;32mnot\u001b[0m \u001b[0;32mNone\u001b[0m\u001b[0;34m:\u001b[0m\u001b[0;34m\u001b[0m\u001b[0;34m\u001b[0m\u001b[0m\n\u001b[1;32m    640\u001b[0m             \u001b[0mval\u001b[0m \u001b[0;34m=\u001b[0m \u001b[0mself\u001b[0m\u001b[0;34m.\u001b[0m\u001b[0mgetValue\u001b[0m\u001b[0;34m(\u001b[0m\u001b[0mkey\u001b[0m\u001b[0;34m=\u001b[0m\u001b[0mkey\u001b[0m\u001b[0;34m,\u001b[0m \u001b[0msubkey\u001b[0m\u001b[0;34m=\u001b[0m\u001b[0msubkey\u001b[0m\u001b[0;34m,\u001b[0m \u001b[0mlocal_first\u001b[0m\u001b[0;34m=\u001b[0m\u001b[0mlocal_first\u001b[0m\u001b[0;34m)\u001b[0m\u001b[0;34m\u001b[0m\u001b[0;34m\u001b[0m\u001b[0m\n",
      "\u001b[0;32m~/src/spikeforest/mountaintools/mountainclient/mountainclient.py\u001b[0m in \u001b[0;36m_realize_file\u001b[0;34m(self, path, resolve_locally, local_only, share_id, dest_path, show_progress)\u001b[0m\n\u001b[1;32m   1182\u001b[0m                 \u001b[0;32mif\u001b[0m \u001b[0murl\u001b[0m\u001b[0;34m:\u001b[0m\u001b[0;34m\u001b[0m\u001b[0;34m\u001b[0m\u001b[0m\n\u001b[1;32m   1183\u001b[0m                     \u001b[0;32mif\u001b[0m \u001b[0mresolve_locally\u001b[0m\u001b[0;34m:\u001b[0m\u001b[0;34m\u001b[0m\u001b[0;34m\u001b[0m\u001b[0m\n\u001b[0;32m-> 1184\u001b[0;31m                         \u001b[0;32mreturn\u001b[0m \u001b[0mself\u001b[0m\u001b[0;34m.\u001b[0m\u001b[0m_local_db\u001b[0m\u001b[0;34m.\u001b[0m\u001b[0mrealizeFileFromUrl\u001b[0m\u001b[0;34m(\u001b[0m\u001b[0murl\u001b[0m\u001b[0;34m=\u001b[0m\u001b[0murl\u001b[0m\u001b[0;34m,\u001b[0m \u001b[0msha1\u001b[0m\u001b[0;34m=\u001b[0m\u001b[0msha1\u001b[0m\u001b[0;34m,\u001b[0m \u001b[0msize\u001b[0m\u001b[0;34m=\u001b[0m\u001b[0msize\u001b[0m\u001b[0;34m,\u001b[0m \u001b[0mdest_path\u001b[0m\u001b[0;34m=\u001b[0m\u001b[0mdest_path\u001b[0m\u001b[0;34m,\u001b[0m \u001b[0mshow_progress\u001b[0m\u001b[0;34m=\u001b[0m\u001b[0mshow_progress\u001b[0m\u001b[0;34m)\u001b[0m\u001b[0;34m\u001b[0m\u001b[0;34m\u001b[0m\u001b[0m\n\u001b[0m\u001b[1;32m   1185\u001b[0m                     \u001b[0;32melse\u001b[0m\u001b[0;34m:\u001b[0m\u001b[0;34m\u001b[0m\u001b[0;34m\u001b[0m\u001b[0m\n\u001b[1;32m   1186\u001b[0m                         \u001b[0;32mreturn\u001b[0m \u001b[0murl\u001b[0m\u001b[0;34m\u001b[0m\u001b[0;34m\u001b[0m\u001b[0m\n",
      "\u001b[0;32m~/src/spikeforest/mountaintools/mountainclient/mountainclient.py\u001b[0m in \u001b[0;36mrealizeFileFromUrl\u001b[0;34m(self, url, sha1, size, dest_path, show_progress)\u001b[0m\n\u001b[1;32m   1547\u001b[0m \u001b[0;34m\u001b[0m\u001b[0m\n\u001b[1;32m   1548\u001b[0m     \u001b[0;32mdef\u001b[0m \u001b[0mrealizeFileFromUrl\u001b[0m\u001b[0;34m(\u001b[0m\u001b[0mself\u001b[0m\u001b[0;34m,\u001b[0m \u001b[0;34m*\u001b[0m\u001b[0;34m,\u001b[0m \u001b[0murl\u001b[0m\u001b[0;34m,\u001b[0m \u001b[0msha1\u001b[0m\u001b[0;34m,\u001b[0m \u001b[0msize\u001b[0m\u001b[0;34m,\u001b[0m \u001b[0mdest_path\u001b[0m\u001b[0;34m=\u001b[0m\u001b[0;32mNone\u001b[0m\u001b[0;34m,\u001b[0m \u001b[0mshow_progress\u001b[0m\u001b[0;34m=\u001b[0m\u001b[0;32mFalse\u001b[0m\u001b[0;34m)\u001b[0m\u001b[0;34m:\u001b[0m\u001b[0;34m\u001b[0m\u001b[0;34m\u001b[0m\u001b[0m\n\u001b[0;32m-> 1549\u001b[0;31m         \u001b[0;32mreturn\u001b[0m \u001b[0mself\u001b[0m\u001b[0;34m.\u001b[0m\u001b[0m_sha1_cache\u001b[0m\u001b[0;34m.\u001b[0m\u001b[0mdownloadFile\u001b[0m\u001b[0;34m(\u001b[0m\u001b[0murl\u001b[0m\u001b[0;34m=\u001b[0m\u001b[0murl\u001b[0m\u001b[0;34m,\u001b[0m \u001b[0msha1\u001b[0m\u001b[0;34m=\u001b[0m\u001b[0msha1\u001b[0m\u001b[0;34m,\u001b[0m \u001b[0msize\u001b[0m\u001b[0;34m=\u001b[0m\u001b[0msize\u001b[0m\u001b[0;34m,\u001b[0m \u001b[0mtarget_path\u001b[0m\u001b[0;34m=\u001b[0m\u001b[0mdest_path\u001b[0m\u001b[0;34m,\u001b[0m \u001b[0mshow_progress\u001b[0m\u001b[0;34m=\u001b[0m\u001b[0mshow_progress\u001b[0m\u001b[0;34m)\u001b[0m\u001b[0;34m\u001b[0m\u001b[0;34m\u001b[0m\u001b[0m\n\u001b[0m\u001b[1;32m   1550\u001b[0m \u001b[0;34m\u001b[0m\u001b[0m\n\u001b[1;32m   1551\u001b[0m     \u001b[0;34m@\u001b[0m\u001b[0mmtlogging\u001b[0m\u001b[0;34m.\u001b[0m\u001b[0mlog\u001b[0m\u001b[0;34m(\u001b[0m\u001b[0;34m)\u001b[0m\u001b[0;34m\u001b[0m\u001b[0;34m\u001b[0m\u001b[0m\n",
      "\u001b[0;32m~/src/spikeforest/mountaintools/mountainclient/sha1cache.py\u001b[0m in \u001b[0;36mdownloadFile\u001b[0;34m(self, url, sha1, target_path, size, verbose, show_progress)\u001b[0m\n\u001b[1;32m     90\u001b[0m \u001b[0;34m\u001b[0m\u001b[0m\n\u001b[1;32m     91\u001b[0m         \u001b[0mtimer\u001b[0m\u001b[0;34m=\u001b[0m\u001b[0mtime\u001b[0m\u001b[0;34m.\u001b[0m\u001b[0mtime\u001b[0m\u001b[0;34m(\u001b[0m\u001b[0;34m)\u001b[0m\u001b[0;34m\u001b[0m\u001b[0;34m\u001b[0m\u001b[0m\n\u001b[0;32m---> 92\u001b[0;31m         \u001b[0msha1b\u001b[0m \u001b[0;34m=\u001b[0m \u001b[0msteady_download_and_compute_sha1\u001b[0m\u001b[0;34m(\u001b[0m\u001b[0murl\u001b[0m\u001b[0;34m=\u001b[0m\u001b[0murl\u001b[0m\u001b[0;34m,\u001b[0m \u001b[0mtarget_path\u001b[0m\u001b[0;34m=\u001b[0m\u001b[0mpath_tmp\u001b[0m\u001b[0;34m)\u001b[0m\u001b[0;34m\u001b[0m\u001b[0;34m\u001b[0m\u001b[0m\n\u001b[0m\u001b[1;32m     93\u001b[0m         \u001b[0melapsed\u001b[0m\u001b[0;34m=\u001b[0m\u001b[0mtime\u001b[0m\u001b[0;34m.\u001b[0m\u001b[0mtime\u001b[0m\u001b[0;34m(\u001b[0m\u001b[0;34m)\u001b[0m\u001b[0;34m-\u001b[0m\u001b[0mtimer\u001b[0m\u001b[0;34m\u001b[0m\u001b[0;34m\u001b[0m\u001b[0m\n\u001b[1;32m     94\u001b[0m \u001b[0;34m\u001b[0m\u001b[0m\n",
      "\u001b[0;32m~/src/spikeforest/mountaintools/mountainclient/steady_download_and_compute_sha1.py\u001b[0m in \u001b[0;36msteady_download_and_compute_sha1\u001b[0;34m(url, target_path, chunk_size)\u001b[0m\n\u001b[1;32m     21\u001b[0m                     \u001b[0;34m'Range'\u001b[0m\u001b[0;34m:\u001b[0m \u001b[0;34m'bytes={}-{}'\u001b[0m\u001b[0;34m.\u001b[0m\u001b[0mformat\u001b[0m\u001b[0;34m(\u001b[0m\u001b[0mii\u001b[0m\u001b[0;34m,\u001b[0m \u001b[0mjj\u001b[0m\u001b[0;34m-\u001b[0m\u001b[0;36m1\u001b[0m\u001b[0;34m)\u001b[0m\u001b[0;34m\u001b[0m\u001b[0;34m\u001b[0m\u001b[0m\n\u001b[1;32m     22\u001b[0m                 }\n\u001b[0;32m---> 23\u001b[0;31m                 \u001b[0mresponse\u001b[0m \u001b[0;34m=\u001b[0m \u001b[0mrequests\u001b[0m\u001b[0;34m.\u001b[0m\u001b[0mget\u001b[0m\u001b[0;34m(\u001b[0m\u001b[0murl\u001b[0m\u001b[0;34m,\u001b[0m \u001b[0mheaders\u001b[0m\u001b[0;34m=\u001b[0m\u001b[0mheaders\u001b[0m\u001b[0;34m,\u001b[0m \u001b[0mstream\u001b[0m\u001b[0;34m=\u001b[0m\u001b[0;32mTrue\u001b[0m\u001b[0;34m)\u001b[0m\u001b[0;34m\u001b[0m\u001b[0;34m\u001b[0m\u001b[0m\n\u001b[0m\u001b[1;32m     24\u001b[0m                 \u001b[0;32mfor\u001b[0m \u001b[0mchunk\u001b[0m \u001b[0;32min\u001b[0m \u001b[0mresponse\u001b[0m\u001b[0;34m.\u001b[0m\u001b[0miter_content\u001b[0m\u001b[0;34m(\u001b[0m\u001b[0mchunk_size\u001b[0m\u001b[0;34m=\u001b[0m\u001b[0;36m5120\u001b[0m\u001b[0;34m)\u001b[0m\u001b[0;34m:\u001b[0m\u001b[0;34m\u001b[0m\u001b[0;34m\u001b[0m\u001b[0m\n\u001b[1;32m     25\u001b[0m                     \u001b[0;32mif\u001b[0m \u001b[0mchunk\u001b[0m\u001b[0;34m:\u001b[0m  \u001b[0;31m# filter out keep-alive new chunks\u001b[0m\u001b[0;34m\u001b[0m\u001b[0;34m\u001b[0m\u001b[0m\n",
      "\u001b[0;32m~/miniconda3/envs/devel/lib/python3.6/site-packages/requests/api.py\u001b[0m in \u001b[0;36mget\u001b[0;34m(url, params, **kwargs)\u001b[0m\n\u001b[1;32m     73\u001b[0m \u001b[0;34m\u001b[0m\u001b[0m\n\u001b[1;32m     74\u001b[0m     \u001b[0mkwargs\u001b[0m\u001b[0;34m.\u001b[0m\u001b[0msetdefault\u001b[0m\u001b[0;34m(\u001b[0m\u001b[0;34m'allow_redirects'\u001b[0m\u001b[0;34m,\u001b[0m \u001b[0;32mTrue\u001b[0m\u001b[0;34m)\u001b[0m\u001b[0;34m\u001b[0m\u001b[0;34m\u001b[0m\u001b[0m\n\u001b[0;32m---> 75\u001b[0;31m     \u001b[0;32mreturn\u001b[0m \u001b[0mrequest\u001b[0m\u001b[0;34m(\u001b[0m\u001b[0;34m'get'\u001b[0m\u001b[0;34m,\u001b[0m \u001b[0murl\u001b[0m\u001b[0;34m,\u001b[0m \u001b[0mparams\u001b[0m\u001b[0;34m=\u001b[0m\u001b[0mparams\u001b[0m\u001b[0;34m,\u001b[0m \u001b[0;34m**\u001b[0m\u001b[0mkwargs\u001b[0m\u001b[0;34m)\u001b[0m\u001b[0;34m\u001b[0m\u001b[0;34m\u001b[0m\u001b[0m\n\u001b[0m\u001b[1;32m     76\u001b[0m \u001b[0;34m\u001b[0m\u001b[0m\n\u001b[1;32m     77\u001b[0m \u001b[0;34m\u001b[0m\u001b[0m\n",
      "\u001b[0;32m~/miniconda3/envs/devel/lib/python3.6/site-packages/requests/api.py\u001b[0m in \u001b[0;36mrequest\u001b[0;34m(method, url, **kwargs)\u001b[0m\n\u001b[1;32m     58\u001b[0m     \u001b[0;31m# cases, and look like a memory leak in others.\u001b[0m\u001b[0;34m\u001b[0m\u001b[0;34m\u001b[0m\u001b[0;34m\u001b[0m\u001b[0m\n\u001b[1;32m     59\u001b[0m     \u001b[0;32mwith\u001b[0m \u001b[0msessions\u001b[0m\u001b[0;34m.\u001b[0m\u001b[0mSession\u001b[0m\u001b[0;34m(\u001b[0m\u001b[0;34m)\u001b[0m \u001b[0;32mas\u001b[0m \u001b[0msession\u001b[0m\u001b[0;34m:\u001b[0m\u001b[0;34m\u001b[0m\u001b[0;34m\u001b[0m\u001b[0m\n\u001b[0;32m---> 60\u001b[0;31m         \u001b[0;32mreturn\u001b[0m \u001b[0msession\u001b[0m\u001b[0;34m.\u001b[0m\u001b[0mrequest\u001b[0m\u001b[0;34m(\u001b[0m\u001b[0mmethod\u001b[0m\u001b[0;34m=\u001b[0m\u001b[0mmethod\u001b[0m\u001b[0;34m,\u001b[0m \u001b[0murl\u001b[0m\u001b[0;34m=\u001b[0m\u001b[0murl\u001b[0m\u001b[0;34m,\u001b[0m \u001b[0;34m**\u001b[0m\u001b[0mkwargs\u001b[0m\u001b[0;34m)\u001b[0m\u001b[0;34m\u001b[0m\u001b[0;34m\u001b[0m\u001b[0m\n\u001b[0m\u001b[1;32m     61\u001b[0m \u001b[0;34m\u001b[0m\u001b[0m\n\u001b[1;32m     62\u001b[0m \u001b[0;34m\u001b[0m\u001b[0m\n",
      "\u001b[0;32m~/miniconda3/envs/devel/lib/python3.6/site-packages/requests/sessions.py\u001b[0m in \u001b[0;36mrequest\u001b[0;34m(self, method, url, params, data, headers, cookies, files, auth, timeout, allow_redirects, proxies, hooks, stream, verify, cert, json)\u001b[0m\n\u001b[1;32m    531\u001b[0m         }\n\u001b[1;32m    532\u001b[0m         \u001b[0msend_kwargs\u001b[0m\u001b[0;34m.\u001b[0m\u001b[0mupdate\u001b[0m\u001b[0;34m(\u001b[0m\u001b[0msettings\u001b[0m\u001b[0;34m)\u001b[0m\u001b[0;34m\u001b[0m\u001b[0;34m\u001b[0m\u001b[0m\n\u001b[0;32m--> 533\u001b[0;31m         \u001b[0mresp\u001b[0m \u001b[0;34m=\u001b[0m \u001b[0mself\u001b[0m\u001b[0;34m.\u001b[0m\u001b[0msend\u001b[0m\u001b[0;34m(\u001b[0m\u001b[0mprep\u001b[0m\u001b[0;34m,\u001b[0m \u001b[0;34m**\u001b[0m\u001b[0msend_kwargs\u001b[0m\u001b[0;34m)\u001b[0m\u001b[0;34m\u001b[0m\u001b[0;34m\u001b[0m\u001b[0m\n\u001b[0m\u001b[1;32m    534\u001b[0m \u001b[0;34m\u001b[0m\u001b[0m\n\u001b[1;32m    535\u001b[0m         \u001b[0;32mreturn\u001b[0m \u001b[0mresp\u001b[0m\u001b[0;34m\u001b[0m\u001b[0;34m\u001b[0m\u001b[0m\n",
      "\u001b[0;32m~/miniconda3/envs/devel/lib/python3.6/site-packages/requests/sessions.py\u001b[0m in \u001b[0;36msend\u001b[0;34m(self, request, **kwargs)\u001b[0m\n\u001b[1;32m    644\u001b[0m \u001b[0;34m\u001b[0m\u001b[0m\n\u001b[1;32m    645\u001b[0m         \u001b[0;31m# Send the request\u001b[0m\u001b[0;34m\u001b[0m\u001b[0;34m\u001b[0m\u001b[0;34m\u001b[0m\u001b[0m\n\u001b[0;32m--> 646\u001b[0;31m         \u001b[0mr\u001b[0m \u001b[0;34m=\u001b[0m \u001b[0madapter\u001b[0m\u001b[0;34m.\u001b[0m\u001b[0msend\u001b[0m\u001b[0;34m(\u001b[0m\u001b[0mrequest\u001b[0m\u001b[0;34m,\u001b[0m \u001b[0;34m**\u001b[0m\u001b[0mkwargs\u001b[0m\u001b[0;34m)\u001b[0m\u001b[0;34m\u001b[0m\u001b[0;34m\u001b[0m\u001b[0m\n\u001b[0m\u001b[1;32m    647\u001b[0m \u001b[0;34m\u001b[0m\u001b[0m\n\u001b[1;32m    648\u001b[0m         \u001b[0;31m# Total elapsed time of the request (approximately)\u001b[0m\u001b[0;34m\u001b[0m\u001b[0;34m\u001b[0m\u001b[0;34m\u001b[0m\u001b[0m\n",
      "\u001b[0;32m~/miniconda3/envs/devel/lib/python3.6/site-packages/requests/adapters.py\u001b[0m in \u001b[0;36msend\u001b[0;34m(self, request, stream, timeout, verify, cert, proxies)\u001b[0m\n\u001b[1;32m    447\u001b[0m                     \u001b[0mdecode_content\u001b[0m\u001b[0;34m=\u001b[0m\u001b[0;32mFalse\u001b[0m\u001b[0;34m,\u001b[0m\u001b[0;34m\u001b[0m\u001b[0;34m\u001b[0m\u001b[0m\n\u001b[1;32m    448\u001b[0m                     \u001b[0mretries\u001b[0m\u001b[0;34m=\u001b[0m\u001b[0mself\u001b[0m\u001b[0;34m.\u001b[0m\u001b[0mmax_retries\u001b[0m\u001b[0;34m,\u001b[0m\u001b[0;34m\u001b[0m\u001b[0;34m\u001b[0m\u001b[0m\n\u001b[0;32m--> 449\u001b[0;31m                     \u001b[0mtimeout\u001b[0m\u001b[0;34m=\u001b[0m\u001b[0mtimeout\u001b[0m\u001b[0;34m\u001b[0m\u001b[0;34m\u001b[0m\u001b[0m\n\u001b[0m\u001b[1;32m    450\u001b[0m                 )\n\u001b[1;32m    451\u001b[0m \u001b[0;34m\u001b[0m\u001b[0m\n",
      "\u001b[0;32m~/miniconda3/envs/devel/lib/python3.6/site-packages/urllib3/connectionpool.py\u001b[0m in \u001b[0;36murlopen\u001b[0;34m(self, method, url, body, headers, retries, redirect, assert_same_host, timeout, pool_timeout, release_conn, chunked, body_pos, **response_kw)\u001b[0m\n\u001b[1;32m    598\u001b[0m                                                   \u001b[0mtimeout\u001b[0m\u001b[0;34m=\u001b[0m\u001b[0mtimeout_obj\u001b[0m\u001b[0;34m,\u001b[0m\u001b[0;34m\u001b[0m\u001b[0;34m\u001b[0m\u001b[0m\n\u001b[1;32m    599\u001b[0m                                                   \u001b[0mbody\u001b[0m\u001b[0;34m=\u001b[0m\u001b[0mbody\u001b[0m\u001b[0;34m,\u001b[0m \u001b[0mheaders\u001b[0m\u001b[0;34m=\u001b[0m\u001b[0mheaders\u001b[0m\u001b[0;34m,\u001b[0m\u001b[0;34m\u001b[0m\u001b[0;34m\u001b[0m\u001b[0m\n\u001b[0;32m--> 600\u001b[0;31m                                                   chunked=chunked)\n\u001b[0m\u001b[1;32m    601\u001b[0m \u001b[0;34m\u001b[0m\u001b[0m\n\u001b[1;32m    602\u001b[0m             \u001b[0;31m# If we're going to release the connection in ``finally:``, then\u001b[0m\u001b[0;34m\u001b[0m\u001b[0;34m\u001b[0m\u001b[0;34m\u001b[0m\u001b[0m\n",
      "\u001b[0;32m~/miniconda3/envs/devel/lib/python3.6/site-packages/urllib3/connectionpool.py\u001b[0m in \u001b[0;36m_make_request\u001b[0;34m(self, conn, method, url, timeout, chunked, **httplib_request_kw)\u001b[0m\n\u001b[1;32m    378\u001b[0m             \u001b[0;32mexcept\u001b[0m \u001b[0mTypeError\u001b[0m\u001b[0;34m:\u001b[0m  \u001b[0;31m# Python 3\u001b[0m\u001b[0;34m\u001b[0m\u001b[0;34m\u001b[0m\u001b[0m\n\u001b[1;32m    379\u001b[0m                 \u001b[0;32mtry\u001b[0m\u001b[0;34m:\u001b[0m\u001b[0;34m\u001b[0m\u001b[0;34m\u001b[0m\u001b[0m\n\u001b[0;32m--> 380\u001b[0;31m                     \u001b[0mhttplib_response\u001b[0m \u001b[0;34m=\u001b[0m \u001b[0mconn\u001b[0m\u001b[0;34m.\u001b[0m\u001b[0mgetresponse\u001b[0m\u001b[0;34m(\u001b[0m\u001b[0;34m)\u001b[0m\u001b[0;34m\u001b[0m\u001b[0;34m\u001b[0m\u001b[0m\n\u001b[0m\u001b[1;32m    381\u001b[0m                 \u001b[0;32mexcept\u001b[0m \u001b[0mException\u001b[0m \u001b[0;32mas\u001b[0m \u001b[0me\u001b[0m\u001b[0;34m:\u001b[0m\u001b[0;34m\u001b[0m\u001b[0;34m\u001b[0m\u001b[0m\n\u001b[1;32m    382\u001b[0m                     \u001b[0;31m# Remove the TypeError from the exception chain in Python 3;\u001b[0m\u001b[0;34m\u001b[0m\u001b[0;34m\u001b[0m\u001b[0;34m\u001b[0m\u001b[0m\n",
      "\u001b[0;32m~/miniconda3/envs/devel/lib/python3.6/http/client.py\u001b[0m in \u001b[0;36mgetresponse\u001b[0;34m(self)\u001b[0m\n\u001b[1;32m   1329\u001b[0m         \u001b[0;32mtry\u001b[0m\u001b[0;34m:\u001b[0m\u001b[0;34m\u001b[0m\u001b[0;34m\u001b[0m\u001b[0m\n\u001b[1;32m   1330\u001b[0m             \u001b[0;32mtry\u001b[0m\u001b[0;34m:\u001b[0m\u001b[0;34m\u001b[0m\u001b[0;34m\u001b[0m\u001b[0m\n\u001b[0;32m-> 1331\u001b[0;31m                 \u001b[0mresponse\u001b[0m\u001b[0;34m.\u001b[0m\u001b[0mbegin\u001b[0m\u001b[0;34m(\u001b[0m\u001b[0;34m)\u001b[0m\u001b[0;34m\u001b[0m\u001b[0;34m\u001b[0m\u001b[0m\n\u001b[0m\u001b[1;32m   1332\u001b[0m             \u001b[0;32mexcept\u001b[0m \u001b[0mConnectionError\u001b[0m\u001b[0;34m:\u001b[0m\u001b[0;34m\u001b[0m\u001b[0;34m\u001b[0m\u001b[0m\n\u001b[1;32m   1333\u001b[0m                 \u001b[0mself\u001b[0m\u001b[0;34m.\u001b[0m\u001b[0mclose\u001b[0m\u001b[0;34m(\u001b[0m\u001b[0;34m)\u001b[0m\u001b[0;34m\u001b[0m\u001b[0;34m\u001b[0m\u001b[0m\n",
      "\u001b[0;32m~/miniconda3/envs/devel/lib/python3.6/http/client.py\u001b[0m in \u001b[0;36mbegin\u001b[0;34m(self)\u001b[0m\n\u001b[1;32m    295\u001b[0m         \u001b[0;31m# read until we get a non-100 response\u001b[0m\u001b[0;34m\u001b[0m\u001b[0;34m\u001b[0m\u001b[0;34m\u001b[0m\u001b[0m\n\u001b[1;32m    296\u001b[0m         \u001b[0;32mwhile\u001b[0m \u001b[0;32mTrue\u001b[0m\u001b[0;34m:\u001b[0m\u001b[0;34m\u001b[0m\u001b[0;34m\u001b[0m\u001b[0m\n\u001b[0;32m--> 297\u001b[0;31m             \u001b[0mversion\u001b[0m\u001b[0;34m,\u001b[0m \u001b[0mstatus\u001b[0m\u001b[0;34m,\u001b[0m \u001b[0mreason\u001b[0m \u001b[0;34m=\u001b[0m \u001b[0mself\u001b[0m\u001b[0;34m.\u001b[0m\u001b[0m_read_status\u001b[0m\u001b[0;34m(\u001b[0m\u001b[0;34m)\u001b[0m\u001b[0;34m\u001b[0m\u001b[0;34m\u001b[0m\u001b[0m\n\u001b[0m\u001b[1;32m    298\u001b[0m             \u001b[0;32mif\u001b[0m \u001b[0mstatus\u001b[0m \u001b[0;34m!=\u001b[0m \u001b[0mCONTINUE\u001b[0m\u001b[0;34m:\u001b[0m\u001b[0;34m\u001b[0m\u001b[0;34m\u001b[0m\u001b[0m\n\u001b[1;32m    299\u001b[0m                 \u001b[0;32mbreak\u001b[0m\u001b[0;34m\u001b[0m\u001b[0;34m\u001b[0m\u001b[0m\n",
      "\u001b[0;32m~/miniconda3/envs/devel/lib/python3.6/http/client.py\u001b[0m in \u001b[0;36m_read_status\u001b[0;34m(self)\u001b[0m\n\u001b[1;32m    256\u001b[0m \u001b[0;34m\u001b[0m\u001b[0m\n\u001b[1;32m    257\u001b[0m     \u001b[0;32mdef\u001b[0m \u001b[0m_read_status\u001b[0m\u001b[0;34m(\u001b[0m\u001b[0mself\u001b[0m\u001b[0;34m)\u001b[0m\u001b[0;34m:\u001b[0m\u001b[0;34m\u001b[0m\u001b[0;34m\u001b[0m\u001b[0m\n\u001b[0;32m--> 258\u001b[0;31m         \u001b[0mline\u001b[0m \u001b[0;34m=\u001b[0m \u001b[0mstr\u001b[0m\u001b[0;34m(\u001b[0m\u001b[0mself\u001b[0m\u001b[0;34m.\u001b[0m\u001b[0mfp\u001b[0m\u001b[0;34m.\u001b[0m\u001b[0mreadline\u001b[0m\u001b[0;34m(\u001b[0m\u001b[0m_MAXLINE\u001b[0m \u001b[0;34m+\u001b[0m \u001b[0;36m1\u001b[0m\u001b[0;34m)\u001b[0m\u001b[0;34m,\u001b[0m \u001b[0;34m\"iso-8859-1\"\u001b[0m\u001b[0;34m)\u001b[0m\u001b[0;34m\u001b[0m\u001b[0;34m\u001b[0m\u001b[0m\n\u001b[0m\u001b[1;32m    259\u001b[0m         \u001b[0;32mif\u001b[0m \u001b[0mlen\u001b[0m\u001b[0;34m(\u001b[0m\u001b[0mline\u001b[0m\u001b[0;34m)\u001b[0m \u001b[0;34m>\u001b[0m \u001b[0m_MAXLINE\u001b[0m\u001b[0;34m:\u001b[0m\u001b[0;34m\u001b[0m\u001b[0;34m\u001b[0m\u001b[0m\n\u001b[1;32m    260\u001b[0m             \u001b[0;32mraise\u001b[0m \u001b[0mLineTooLong\u001b[0m\u001b[0;34m(\u001b[0m\u001b[0;34m\"status line\"\u001b[0m\u001b[0;34m)\u001b[0m\u001b[0;34m\u001b[0m\u001b[0;34m\u001b[0m\u001b[0m\n",
      "\u001b[0;32m~/miniconda3/envs/devel/lib/python3.6/socket.py\u001b[0m in \u001b[0;36mreadinto\u001b[0;34m(self, b)\u001b[0m\n\u001b[1;32m    584\u001b[0m         \u001b[0;32mwhile\u001b[0m \u001b[0;32mTrue\u001b[0m\u001b[0;34m:\u001b[0m\u001b[0;34m\u001b[0m\u001b[0;34m\u001b[0m\u001b[0m\n\u001b[1;32m    585\u001b[0m             \u001b[0;32mtry\u001b[0m\u001b[0;34m:\u001b[0m\u001b[0;34m\u001b[0m\u001b[0;34m\u001b[0m\u001b[0m\n\u001b[0;32m--> 586\u001b[0;31m                 \u001b[0;32mreturn\u001b[0m \u001b[0mself\u001b[0m\u001b[0;34m.\u001b[0m\u001b[0m_sock\u001b[0m\u001b[0;34m.\u001b[0m\u001b[0mrecv_into\u001b[0m\u001b[0;34m(\u001b[0m\u001b[0mb\u001b[0m\u001b[0;34m)\u001b[0m\u001b[0;34m\u001b[0m\u001b[0;34m\u001b[0m\u001b[0m\n\u001b[0m\u001b[1;32m    587\u001b[0m             \u001b[0;32mexcept\u001b[0m \u001b[0mtimeout\u001b[0m\u001b[0;34m:\u001b[0m\u001b[0;34m\u001b[0m\u001b[0;34m\u001b[0m\u001b[0m\n\u001b[1;32m    588\u001b[0m                 \u001b[0mself\u001b[0m\u001b[0;34m.\u001b[0m\u001b[0m_timeout_occurred\u001b[0m \u001b[0;34m=\u001b[0m \u001b[0;32mTrue\u001b[0m\u001b[0;34m\u001b[0m\u001b[0;34m\u001b[0m\u001b[0m\n",
      "\u001b[0;31mKeyboardInterrupt\u001b[0m: "
     ]
    }
   ],
   "source": [
    "### RECORDINGS and TRUE UNITS\n",
    "\n",
    "Recordings=[]\n",
    "TrueUnits=[]\n",
    "for recording in recordings:\n",
    "    true_units_info=mt.loadObject(path=recording['summary']['true_units_info'])\n",
    "    for unit_info in true_units_info:\n",
    "        TrueUnits.append(dict(\n",
    "            unitId=unit_info['unit_id'],\n",
    "            recording=recording['name'],\n",
    "            recordingExt=recording['study']+':'+recording['name'],\n",
    "            study=recording['study'],\n",
    "            meanFiringRateHz=unit_info['firing_rate'],\n",
    "            numEvents=unit_info['num_events'],\n",
    "            peakChannel=unit_info['peak_channel'],\n",
    "            snr=unit_info['snr'],\n",
    "        ))\n",
    "    Recordings.append(dict(\n",
    "        name=recording['name'],\n",
    "        study=recording['study'],\n",
    "        directory=recording['directory'],\n",
    "        description=recording['description'],\n",
    "        sampleRateHz=recording['summary']['computed_info']['samplerate'],\n",
    "        numChannels=recording['summary']['computed_info']['num_channels'],\n",
    "        durationSec=recording['summary']['computed_info']['duration_sec'],\n",
    "        numTrueUnits=len(true_units_info),\n",
    "        spikeSign=-1\n",
    "    ))\n",
    "\n",
    "mt.saveObject(object=Recordings, dest_path=os.path.abspath(os.path.join('website_data', 'Recordings.json')))\n",
    "mt.saveObject(object=TrueUnits, dest_path=os.path.abspath(os.path.join('website_data', 'TrueUnits.json')))\n",
    "print('Num recordings:',len(Recordings))\n",
    "print('Num true units:',len(TrueUnits))\n",
    "print('studies for recordings:',set([recording['study'] for recording in Recordings]))"
   ]
  },
  {
   "cell_type": "code",
   "execution_count": 15,
   "metadata": {},
   "outputs": [
    {
     "name": "stdout",
     "output_type": "stream",
     "text": [
      "Warning: comparison with truth not found for sorting result: {} {}/{} SpykingCircus paired_mea64c 20160426_patch3\n",
      "Warning: comparison with truth not found for sorting result: {} {}/{} SpykingCircus paired_mea64c 20170621_patch1\n",
      "Warning: comparison with truth not found for sorting result: {} {}/{} SpykingCircus paired_mea64c 20170706_patch2\n",
      "Warning: comparison with truth not found for sorting result: {} {}/{} SpykingCircus paired_mea64c 20170706_patch3\n",
      "Warning: comparison with truth not found for sorting result: {} {}/{} SpykingCircus paired_mea64c 20170713_patch1\n",
      "Warning: comparison with truth not found for sorting result: {} {}/{} SpykingCircus paired_neuropix32c 2015_09_03_Pair_9_0A\n",
      "Warning: comparison with truth not found for sorting result: {} {}/{} SpykingCircus paired_neuropix32c 2015_09_03_Pair_9_0B\n",
      "Warning: comparison with truth not found for sorting result: {} {}/{} SpykingCircus paired_neuropix32c c16\n",
      "Warning: comparison with truth not found for sorting result: {} {}/{} SpykingCircus paired_neuropix32c c19\n",
      "Warning: comparison with truth not found for sorting result: {} {}/{} SpykingCircus paired_neuropix32c c26\n",
      "Warning: comparison with truth not found for sorting result: {} {}/{} SpykingCircus paired_neuropix32c c28\n",
      "Warning: comparison with truth not found for sorting result: {} {}/{} SpykingCircus bionet_static static_8x_A_2A\n",
      "Warning: comparison with truth not found for sorting result: {} {}/{} SpykingCircus bionet_static static_8x_A_2B\n",
      "Warning: comparison with truth not found for sorting result: {} {}/{} SpykingCircus bionet_static static_8x_A_4A\n",
      "Warning: comparison with truth not found for sorting result: {} {}/{} SpykingCircus bionet_static static_8x_A_4B\n",
      "Warning: comparison with truth not found for sorting result: {} {}/{} SpykingCircus bionet_static static_8x_B_2A\n",
      "Warning: comparison with truth not found for sorting result: {} {}/{} SpykingCircus bionet_static static_8x_B_2B\n",
      "Warning: comparison with truth not found for sorting result: {} {}/{} SpykingCircus bionet_static static_8x_B_4A\n",
      "Warning: comparison with truth not found for sorting result: {} {}/{} SpykingCircus bionet_static static_8x_B_4B\n",
      "Warning: comparison with truth not found for sorting result: {} {}/{} SpykingCircus bionet_static static_8x_C_2A\n",
      "Warning: comparison with truth not found for sorting result: {} {}/{} SpykingCircus bionet_static static_8x_C_2B\n",
      "Warning: comparison with truth not found for sorting result: {} {}/{} SpykingCircus bionet_static static_8x_C_4A\n",
      "Warning: comparison with truth not found for sorting result: {} {}/{} SpykingCircus bionet_static static_8x_C_4B\n",
      "Warning: comparison with truth not found for sorting result: {} {}/{} SpykingCircus bionet_drift drift_8x_A_2A\n",
      "Warning: comparison with truth not found for sorting result: {} {}/{} SpykingCircus bionet_drift drift_8x_A_2B\n",
      "Warning: comparison with truth not found for sorting result: {} {}/{} SpykingCircus bionet_drift drift_8x_A_4A\n",
      "Warning: comparison with truth not found for sorting result: {} {}/{} SpykingCircus bionet_drift drift_8x_A_4B\n",
      "Warning: comparison with truth not found for sorting result: {} {}/{} SpykingCircus bionet_drift drift_8x_B_2A\n",
      "Warning: comparison with truth not found for sorting result: {} {}/{} SpykingCircus bionet_drift drift_8x_B_2B\n",
      "Warning: comparison with truth not found for sorting result: {} {}/{} SpykingCircus bionet_drift drift_8x_B_4A\n",
      "Warning: comparison with truth not found for sorting result: {} {}/{} SpykingCircus bionet_drift drift_8x_B_4B\n",
      "Warning: comparison with truth not found for sorting result: {} {}/{} SpykingCircus bionet_drift drift_8x_C_2A\n",
      "Warning: comparison with truth not found for sorting result: {} {}/{} SpykingCircus bionet_drift drift_8x_C_2B\n",
      "Warning: comparison with truth not found for sorting result: {} {}/{} SpykingCircus bionet_drift drift_8x_C_4A\n",
      "Warning: comparison with truth not found for sorting result: {} {}/{} SpykingCircus bionet_drift drift_8x_C_4B\n",
      "Warning: comparison with truth not found for sorting result: {} {}/{} SpykingCircus bionet_shuffle shuffle_8x_A_2A\n",
      "Warning: comparison with truth not found for sorting result: {} {}/{} SpykingCircus bionet_shuffle shuffle_8x_A_2B\n",
      "Warning: comparison with truth not found for sorting result: {} {}/{} SpykingCircus bionet_shuffle shuffle_8x_A_4A\n",
      "Warning: comparison with truth not found for sorting result: {} {}/{} SpykingCircus bionet_shuffle shuffle_8x_A_4B\n",
      "Warning: comparison with truth not found for sorting result: {} {}/{} SpykingCircus bionet_shuffle shuffle_8x_B_2A\n",
      "Warning: comparison with truth not found for sorting result: {} {}/{} SpykingCircus bionet_shuffle shuffle_8x_B_2B\n",
      "Warning: comparison with truth not found for sorting result: {} {}/{} SpykingCircus bionet_shuffle shuffle_8x_B_4A\n",
      "Warning: comparison with truth not found for sorting result: {} {}/{} SpykingCircus bionet_shuffle shuffle_8x_B_4B\n",
      "Warning: comparison with truth not found for sorting result: {} {}/{} SpykingCircus bionet_shuffle shuffle_8x_C_2A\n",
      "Warning: comparison with truth not found for sorting result: {} {}/{} SpykingCircus bionet_shuffle shuffle_8x_C_2B\n",
      "Warning: comparison with truth not found for sorting result: {} {}/{} SpykingCircus bionet_shuffle shuffle_8x_C_4A\n",
      "Warning: comparison with truth not found for sorting result: {} {}/{} SpykingCircus bionet_shuffle shuffle_8x_C_4B\n",
      "Num unit results: 90945\n"
     ]
    }
   ],
   "source": [
    "### UNIT RESULTS and SORTING RESULTS\n",
    "\n",
    "UnitResults=[]\n",
    "SortingResults=[]\n",
    "sorter_names_by_study=dict()\n",
    "for sr in sorting_results:\n",
    "    if ('comparison_with_truth' in sr) and (sr['comparison_with_truth']):\n",
    "        SortingResults.append(dict(\n",
    "            recording=sr['recording']['name'],\n",
    "            study=sr['recording']['study'],\n",
    "            sorter=sr['sorter']['name'],\n",
    "            cpuTimeSec=sr['execution_stats'].get('elapsed_sec',None)\n",
    "        ))\n",
    "        comparison_with_truth=mt.loadObject(path=sr['comparison_with_truth']['json'])\n",
    "        for unit_result in comparison_with_truth.values():\n",
    "            study_name=sr['recording']['study']\n",
    "            sorter_name=sr['sorter']['name']\n",
    "            if study_name not in sorter_names_by_study:\n",
    "                sorter_names_by_study[study_name]=set()\n",
    "            sorter_names_by_study[study_name].add(sorter_name)\n",
    "            n_match=unit_result['num_matches']\n",
    "            n_fp=unit_result['num_false_positives']\n",
    "            n_fn=unit_result['num_false_negatives']\n",
    "            UnitResults.append(dict(\n",
    "                unitId=unit_result['unit_id'],\n",
    "                recording=sr['recording']['name'],\n",
    "                recordingExt=sr['recording']['study']+':'+sr['recording']['name'],\n",
    "                study=study_name,\n",
    "                sorter=sorter_name,\n",
    "                numMatches=n_match,\n",
    "                numFalsePositives=n_fp,\n",
    "                numFalseNegatives=n_fn,\n",
    "                checkAccuracy=n_match/(n_match+n_fp+n_fn),\n",
    "                #checkPrecision=n_match/(n_match+n_fp),\n",
    "                checkRecall=n_match/(n_match+n_fn),\n",
    "                bestSortedUnitId=unit_result['best_unit']\n",
    "            ))\n",
    "    else:\n",
    "        print('Warning: comparison with truth not found for sorting result: {} {}/{}', sr['sorter']['name'], sr['recording']['study'], sr['recording']['name'])\n",
    "for study in sorter_names_by_study.keys():\n",
    "    sorter_names_by_study[study]=list(sorter_names_by_study[study])\n",
    "    sorter_names_by_study[study].sort()\n",
    "mt.saveObject(object=UnitResults, dest_path=os.path.abspath(os.path.join('website_data', 'UnitResults.json')))  \n",
    "mt.saveObject(object=SortingResults, dest_path=os.path.abspath(os.path.join('website_data', 'SortingResults.json')))  \n",
    "print('Num unit results:',len(UnitResults))"
   ]
  },
  {
   "cell_type": "code",
   "execution_count": 16,
   "metadata": {},
   "outputs": [
    {
     "name": "stdout",
     "output_type": "stream",
     "text": [
      "['MountainSort4-thr3', 'SpykingCircus', 'Yass', 'IronClust-static']\n"
     ]
    }
   ],
   "source": [
    "### SORTERS\n",
    "\n",
    "sorters_by_name=dict()\n",
    "for sr in sorting_results:\n",
    "    sorters_by_name[sr['sorter']['name']]=sr['sorter']\n",
    "    \n",
    "Sorters=[]\n",
    "for name,sorter in sorters_by_name.items():\n",
    "    Sorters.append(dict(\n",
    "        name=sorter['name'],\n",
    "        algorithm=sorter['processor_name'], # right now the algorithm is the same as the processor name\n",
    "        processorName=sorter['processor_name'],\n",
    "        processorVersion='0', # jfm needs to provide this\n",
    "        sorting_parameters=sorter['params'] # Liz, even though most sorters have similar parameter names, it won't always be like that. The params is an arbitrary json object.\n",
    "    ))\n",
    "\n",
    "mt.saveObject(object=Sorters, dest_path=os.path.abspath(os.path.join('website_data', 'Sorters.json')))\n",
    "print([S['name'] for S in Sorters])"
   ]
  },
  {
   "cell_type": "code",
   "execution_count": 17,
   "metadata": {},
   "outputs": [
    {
     "name": "stdout",
     "output_type": "stream",
     "text": [
      "['mearec_neuronexus_noise10_K10_C32', 'mearec_neuronexus_noise10_K20_C32', 'mearec_neuronexus_noise10_K40_C32', 'mearec_neuronexus_noise20_K10_C32', 'mearec_neuronexus_noise20_K20_C32', 'mearec_neuronexus_noise20_K40_C32', 'visapy_mea', 'magland_synth_noise10_K10_C4', 'magland_synth_noise10_K10_C8', 'magland_synth_noise10_K20_C4', 'magland_synth_noise10_K20_C8', 'magland_synth_noise20_K10_C4', 'magland_synth_noise20_K10_C8', 'magland_synth_noise20_K20_C4', 'magland_synth_noise20_K20_C8', 'paired_boyden32c', 'paired_crcns', 'paired_mea64c', 'paired_neuropix32c', 'mearec_tetrode_noise10_K10_C4', 'mearec_tetrode_noise10_K20_C4', 'mearec_tetrode_noise20_K10_C4', 'mearec_tetrode_noise20_K20_C4', 'manual_tetrode_600s', 'manual_tetrode_1200s', 'manual_tetrode_2400s', 'bionet_static', 'bionet_drift', 'bionet_shuffle']\n"
     ]
    }
   ],
   "source": [
    "### STUDIES\n",
    "\n",
    "Studies=[]\n",
    "for study in studies:\n",
    "    Studies.append(dict(\n",
    "        name=study['name'],\n",
    "        studySet=study['study_set'],\n",
    "        description=study['description'],\n",
    "        sorterNames=sorter_names_by_study[study['name']]\n",
    "        # the following can be obtained from the other collections\n",
    "        # numRecordings, sorters, etc...\n",
    "    ))\n",
    "\n",
    "mt.saveObject(object=Studies, dest_path=os.path.abspath(os.path.join('website_data', 'Studies.json')))\n",
    "print([S['name'] for S in Studies])"
   ]
  },
  {
   "cell_type": "code",
   "execution_count": 18,
   "metadata": {},
   "outputs": [
    {
     "data": {
      "text/plain": [
       "1"
      ]
     },
     "execution_count": 18,
     "metadata": {},
     "output_type": "execute_result"
    }
   ],
   "source": [
    "int(1.3)"
   ]
  },
  {
   "cell_type": "code",
   "execution_count": 28,
   "metadata": {},
   "outputs": [],
   "source": [
    "def _adjust_srun_opts_for_num_jobs(srun_opts, num_workers, num_jobs):\n",
    "    vals = srun_opts.split()\n",
    "    for i in range(len(vals)):\n",
    "        if vals[i] == '-n' and (i+1<len(vals)):\n",
    "            nval = int(vals[i+1])\n",
    "            if num_jobs <= nval:\n",
    "                nval = num_jobs\n",
    "                num_workers = 1\n",
    "            elif num_jobs <= nval * (num_workers-1):\n",
    "                num_workers = int((num_jobs-1)/nval) + 1\n",
    "            vals[i+1] = str(nval)\n",
    "    return ' '.join(vals), num_workers"
   ]
  },
  {
   "cell_type": "code",
   "execution_count": 31,
   "metadata": {},
   "outputs": [
    {
     "name": "stdout",
     "output_type": "stream",
     "text": [
      "-n 12 4\n"
     ]
    }
   ],
   "source": [
    "a, b = _adjust_srun_opts_for_num_jobs(srun_opts='-n 12', num_workers=4, num_jobs=37)\n",
    "print(a, b)"
   ]
  },
  {
   "cell_type": "code",
   "execution_count": null,
   "metadata": {},
   "outputs": [],
   "source": []
  }
 ],
 "metadata": {
  "kernelspec": {
   "display_name": "Python 3",
   "language": "python",
   "name": "python3"
  },
  "language_info": {
   "codemirror_mode": {
    "name": "ipython",
    "version": 3
   },
   "file_extension": ".py",
   "mimetype": "text/x-python",
   "name": "python",
   "nbconvert_exporter": "python",
   "pygments_lexer": "ipython3",
   "version": "3.6.8"
  }
 },
 "nbformat": 4,
 "nbformat_minor": 2
}
