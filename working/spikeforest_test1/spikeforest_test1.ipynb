{
 "cells": [
  {
   "cell_type": "code",
   "execution_count": 5,
   "metadata": {},
   "outputs": [
    {
     "name": "stdout",
     "output_type": "stream",
     "text": [
      "The autoreload extension is already loaded. To reload it, use:\n",
      "  %reload_ext autoreload\n"
     ]
    }
   ],
   "source": [
    "%load_ext autoreload\n",
    "%autoreload 2\n",
    "import spikeforest_analysis as sa\n",
    "import spikeforest as sf\n",
    "from cairio import client as ca\n",
    "import os"
   ]
  },
  {
   "cell_type": "code",
   "execution_count": 6,
   "metadata": {},
   "outputs": [
    {
     "name": "stdout",
     "output_type": "stream",
     "text": [
      "CAIRIO CONFIG: remote database spikeforest (readwrite); remote kb-share 69432e9201d0 (readwrite)\n"
     ]
    }
   ],
   "source": [
    "password = os.environ.get('SPIKEFOREST_PASSWORD',None)\n",
    "ca.autoConfig(collection='spikeforest',key='spikeforest2-readwrite',password=password,ask_password=True)"
   ]
  },
  {
   "cell_type": "code",
   "execution_count": 7,
   "metadata": {},
   "outputs": [],
   "source": [
    "os.environ['MLPROCESSORS_FORCE_RUN']='FALSE'\n",
    "recording=dict(directory='kbucket://15734439d8cf/groundtruth/magland_synth/datasets_noise10_K10_C4/001_synth')\n",
    "recordings=[recording]"
   ]
  },
  {
   "cell_type": "code",
   "execution_count": 8,
   "metadata": {},
   "outputs": [],
   "source": [
    "sorter_ms4_thr3=dict(\n",
    "    name='MountainSort4-thr3',\n",
    "    processor_name='MountainSort4',\n",
    "    params=dict(\n",
    "        detect_sign=-1,\n",
    "        adjacency_radius=50,\n",
    "        detect_threshold=3.1\n",
    "    )\n",
    ")\n",
    "\n",
    "sorter_sc=dict(\n",
    "    name='SpykingCircus',\n",
    "    processor_name='SpykingCircus',\n",
    "    params=dict(\n",
    "        detect_sign=-1,\n",
    "        adjacency_radius=50\n",
    "    )\n",
    ")\n",
    "\n",
    "sorter_yass=dict(\n",
    "    name='yass',\n",
    "    processor_name='yass',\n",
    "    params=dict(\n",
    "        detect_sign=-1,\n",
    "        adjacency_radius=50\n",
    "    )   \n",
    ")\n",
    "sorters=[sorter_ms4_thr3,sorter_sc]"
   ]
  },
  {
   "cell_type": "code",
   "execution_count": 9,
   "metadata": {},
   "outputs": [
    {
     "name": "stdout",
     "output_type": "stream",
     "text": [
      ">>>>>> summarize recordings\n",
      "Testing whether share 15734439d8cf is directly accessible...\n",
      "Share 15734439d8cf is directly accessible.\n",
      "Testing whether share 69432e9201d0 is directly accessible...\n",
      "Share 69432e9201d0 is directly accessible.\n",
      "RUNNING: python /tmp/tmp8e2lkfm6/execute.py\n",
      "::::::::::::::::::::::::::::: ComputeRecordingInfo\n",
      "Found output \"json_out\" in cairio.\n",
      "Using outputs from cache.\n",
      "copying file: /mnt/ceph/users/jjun/sha1-cache/9/fb/9fba1b2b7d4a4248dea97ea0ffb39df8fc60b8a3 -> /tmp/tmp8e2lkfm6/output_json_out.json\n",
      "RUNNING: python /tmp/tmpvfvrucv4/execute.py\n",
      "::::::::::::::::::::::::::::: CreateTimeseriesPlot\n",
      "Found output \"jpg_out\" in cairio.\n",
      "Using outputs from cache.\n",
      "copying file: /mnt/ceph/users/jjun/sha1-cache/c/d0/cd0958b1f58faed6764e703deb3b70e59b2f1d27 -> /tmp/tmpvfvrucv4/output_jpg_out.jpg\n",
      "RUNNING: python /tmp/tmpvdj18xzz/execute.py\n",
      "::::::::::::::::::::::::::::: ComputeUnitsInfo\n",
      "Testing whether share 15734439d8cf is directly accessible...\n",
      "Share 15734439d8cf is directly accessible.\n",
      "Found output \"json_out\" in cairio.\n",
      "Using outputs from cache.\n",
      "copying file: /mnt/ceph/users/jjun/sha1-cache/4/c1/4c18517c121d600764f98721057a5f8a3a16f0be -> /tmp/tmpvdj18xzz/output_json_out.json\n",
      ">>>>>> sort recordings\n",
      "Locating container: sha1://a3842053423c633b62e70474be9d76068cdc1ea5/mountainsort4.simg\n",
      "Sorting recordings using MountainSort4\n",
      "RUNNING: python /tmp/tmpsn9jnigt/execute.py\n",
      "::::::::::::::::::::::::::::: MountainSort4\n",
      "Found output \"firings_out\" in cairio.\n",
      "Using outputs from cache.\n",
      "copying file: /mnt/ceph/users/jjun/sha1-cache/4/61/461a16cdd9db7c54790c725b335b55dafd73b9a0 -> /tmp/tmpsn9jnigt/output_firings_out.mda\n",
      "Uploading file --- (243 B): /mnt/ceph/users/jjun/sha1-cache/tmp_cairioclient_katnslkkgr.txt -> http://132.249.245.246:24342/upload/dab3fd08e01ed5d6fa8bf8b3987ed5c74737c4a1?signature=f6b725840ce740c7f9887a026f5e697850b25693\n",
      ">>>>>> summarize sortings\n",
      "RUNNING: python /tmp/tmpiwoc_ot0/execute.py\n",
      "::::::::::::::::::::::::::::: spikeforest.PlotAutoCorrelograms\n",
      "Found output \"plot_out\" in cairio.\n",
      "Using outputs from cache.\n",
      "copying file: /mnt/ceph/users/jjun/sha1-cache/1/88/1886e7988f0ac633aa20a4ed8da3ea4feffef944 -> /tmp/tmpiwoc_ot0/output_plot_out.jpg\n",
      ">>>>>> compare sortings with truth\n",
      "RUNNING: python /tmp/tmp66dcc1ht/execute.py\n",
      "::::::::::::::::::::::::::::: GenSortingComparisonTable\n",
      "Testing whether share 15734439d8cf is directly accessible...\n",
      "Share 15734439d8cf is directly accessible.\n",
      "Found output \"json_out\" in cairio.\n",
      "Found output \"html_out\" in cairio.\n",
      "Using outputs from cache.\n",
      "copying file: /mnt/ceph/users/jjun/sha1-cache/4/f1/4f149663ee4e4f800a1c41215cbe720da319b09c -> /tmp/tmp66dcc1ht/output_json_out.json\n",
      "copying file: /mnt/ceph/users/jjun/sha1-cache/7/f7/7f70823eac0ad0566c04984a8c64bd272da39ab3 -> /tmp/tmp66dcc1ht/output_html_out.html\n",
      ">>>>>> sort recordings\n",
      "Locating container: sha1://487fe664853285e65f8130a1138a4415f8acc4ca/spyking_circus.simg\n",
      "Sorting recordings using SpykingCircus\n",
      "RUNNING: python /tmp/tmp9e1lmzlp/execute.py\n",
      "::::::::::::::::::::::::::::: SpykingCircus\n",
      "Found output \"firings_out\" in cairio.\n",
      "Using outputs from cache.\n",
      "copying file: /mnt/ceph/users/jjun/sha1-cache/b/47/b47523d679d834eb36196487c872752b54a6693d -> /tmp/tmp9e1lmzlp/output_firings_out.mda\n",
      "Uploading file --- (243 B): /mnt/ceph/users/jjun/sha1-cache/tmp_cairioclient_fiboblgxel.txt -> http://132.249.245.246:24342/upload/ed64904c47189ec53e210e29be63db85e612696d?signature=f2dc4844c1265e721675ccf88323507094b11efc\n",
      ">>>>>> summarize sortings\n",
      "RUNNING: python /tmp/tmp9fomgsve/execute.py\n",
      "::::::::::::::::::::::::::::: spikeforest.PlotAutoCorrelograms\n",
      "Found output \"plot_out\" in cairio.\n",
      "Using outputs from cache.\n",
      "copying file: /mnt/ceph/users/jjun/sha1-cache/a/e8/ae88cdad704a6f72c1bc984725b1c4ab9eb125f6 -> /tmp/tmp9fomgsve/output_plot_out.jpg\n",
      ">>>>>> compare sortings with truth\n",
      "RUNNING: python /tmp/tmpdbyu9nbz/execute.py\n",
      "::::::::::::::::::::::::::::: GenSortingComparisonTable\n",
      "Testing whether share 15734439d8cf is directly accessible...\n",
      "Share 15734439d8cf is directly accessible.\n",
      "Found output \"json_out\" in cairio.\n",
      "Found output \"html_out\" in cairio.\n",
      "Using outputs from cache.\n",
      "copying file: /mnt/ceph/users/jjun/sha1-cache/0/4c/04c8d061cc45dccff581cc17ee87ff5eb90ae334 -> /tmp/tmpdbyu9nbz/output_json_out.json\n",
      "copying file: /mnt/ceph/users/jjun/sha1-cache/c/23/c23474d727c89fe9f02a0e5cf00a84af4f4b782a -> /tmp/tmpdbyu9nbz/output_html_out.html\n"
     ]
    }
   ],
   "source": [
    "#compute_resource='jfm-laptop'\n",
    "compute_resource = None\n",
    "recordings_B=sa.summarize_recordings(recordings=recordings,compute_resource=compute_resource)\n",
    "sorting_results=[]\n",
    "for sorter in sorters:\n",
    "    sortings_A=sa.sort_recordings(sorter=sorter,recordings=recordings_B,compute_resource=compute_resource)\n",
    "    sortings_B=sa.summarize_sortings(sortings=sortings_A,compute_resource=compute_resource)\n",
    "    sortings_C=sa.compare_sortings_with_truth(sortings=sortings_B,compute_resource=compute_resource)\n",
    "    sorting_results=sorting_results+sortings_C"
   ]
  },
  {
   "cell_type": "code",
   "execution_count": 10,
   "metadata": {},
   "outputs": [
    {
     "data": {
      "text/plain": [
       "[{'recording_name': None,\n",
       "  'study_name': None,\n",
       "  'sorter_name': 'SpykingCircus',\n",
       "  'recording_dir': 'kbucket://15734439d8cf/groundtruth/magland_synth/datasets_noise10_K10_C4/001_synth',\n",
       "  'channels': [],\n",
       "  'units_true': [],\n",
       "  'firings_true': 'kbucket://15734439d8cf/groundtruth/magland_synth/datasets_noise10_K10_C4/001_synth/firings_true.mda',\n",
       "  'sorting_params': {'detect_sign': -1, 'adjacency_radius': 50},\n",
       "  'processor_name': 'SpykingCircus',\n",
       "  'processor_version': '0.2.0',\n",
       "  'console_out': 'sha1://ed64904c47189ec53e210e29be63db85e612696d/console_out.txt',\n",
       "  'container': 'sha1://487fe664853285e65f8130a1138a4415f8acc4ca/spyking_circus.simg',\n",
       "  'firings': 'sha1://b47523d679d834eb36196487c872752b54a6693d/firings_out.mda'}]"
      ]
     },
     "execution_count": 10,
     "metadata": {},
     "output_type": "execute_result"
    }
   ],
   "source": [
    "sortings_A"
   ]
  },
  {
   "cell_type": "code",
   "execution_count": 11,
   "metadata": {},
   "outputs": [
    {
     "name": "stdout",
     "output_type": "stream",
     "text": [
      ">>>>>> summarize recordings\n",
      "RUNNING: python /tmp/tmphz9sxcxv/execute.py\n",
      "::::::::::::::::::::::::::::: ComputeRecordingInfo\n",
      "Found output \"json_out\" in cairio.\n",
      "Using outputs from cache.\n",
      "copying file: /mnt/ceph/users/jjun/sha1-cache/9/fb/9fba1b2b7d4a4248dea97ea0ffb39df8fc60b8a3 -> /tmp/tmphz9sxcxv/output_json_out.json\n",
      "RUNNING: python /tmp/tmp2l_78ehe/execute.py\n",
      "::::::::::::::::::::::::::::: CreateTimeseriesPlot\n",
      "Found output \"jpg_out\" in cairio.\n",
      "Using outputs from cache.\n",
      "copying file: /mnt/ceph/users/jjun/sha1-cache/c/d0/cd0958b1f58faed6764e703deb3b70e59b2f1d27 -> /tmp/tmp2l_78ehe/output_jpg_out.jpg\n",
      "RUNNING: python /tmp/tmput3gv4_6/execute.py\n",
      "::::::::::::::::::::::::::::: ComputeUnitsInfo\n",
      "Testing whether share 15734439d8cf is directly accessible...\n",
      "Share 15734439d8cf is directly accessible.\n",
      "Found output \"json_out\" in cairio.\n",
      "Using outputs from cache.\n",
      "copying file: /mnt/ceph/users/jjun/sha1-cache/4/c1/4c18517c121d600764f98721057a5f8a3a16f0be -> /tmp/tmput3gv4_6/output_json_out.json\n"
     ]
    }
   ],
   "source": [
    "summaries=sa.summarize_recordings(recordings=[recording],compute_resource=None)#'ccmlin008-default')\n",
    "recording['summary']=summaries[0]"
   ]
  },
  {
   "cell_type": "code",
   "execution_count": 12,
   "metadata": {},
   "outputs": [
    {
     "name": "stdout",
     "output_type": "stream",
     "text": [
      ">>>>>> sort recordings\n",
      "Locating container: sha1://a3842053423c633b62e70474be9d76068cdc1ea5/mountainsort4.simg\n",
      "Sorting recordings using MountainSort4\n",
      "RUNNING: python /tmp/tmpipxmiua2/execute.py\n",
      "::::::::::::::::::::::::::::: MountainSort4\n",
      "Found output \"firings_out\" in cairio.\n",
      "Using outputs from cache.\n",
      "copying file: /mnt/ceph/users/jjun/sha1-cache/4/61/461a16cdd9db7c54790c725b335b55dafd73b9a0 -> /tmp/tmpipxmiua2/output_firings_out.mda\n",
      "Uploading file --- (243 B): /mnt/ceph/users/jjun/sha1-cache/tmp_cairioclient_hnkeerwxnk.txt -> http://132.249.245.246:24342/upload/42790297689d09e1734bcfeedff56785de6966e0?signature=e2440e71627242b3d2e7a079a07f61267731a6dc\n",
      ">>>>>> sort recordings\n",
      "Locating container: sha1://487fe664853285e65f8130a1138a4415f8acc4ca/spyking_circus.simg\n",
      "Sorting recordings using SpykingCircus\n",
      "RUNNING: python /tmp/tmp8xg671bt/execute.py\n",
      "::::::::::::::::::::::::::::: SpykingCircus\n",
      "Found output \"firings_out\" in cairio.\n",
      "Using outputs from cache.\n",
      "copying file: /mnt/ceph/users/jjun/sha1-cache/b/47/b47523d679d834eb36196487c872752b54a6693d -> /tmp/tmp8xg671bt/output_firings_out.mda\n",
      "Uploading file --- (243 B): /mnt/ceph/users/jjun/sha1-cache/tmp_cairioclient_nfstfnxmeq.txt -> http://132.249.245.246:24342/upload/db52459ecd91f5c9ff371c344b184a1a9f4dc0ef?signature=3db58c48868d27d8c3c6dfe112643662becd55fb\n"
     ]
    }
   ],
   "source": [
    "sorter_ms4_thr3=dict(\n",
    "    name='MountainSort4-thr3',\n",
    "    processor_name='MountainSort4',\n",
    "    params=dict(\n",
    "        detect_sign=-1,\n",
    "        adjacency_radius=50,\n",
    "        detect_threshold=3.1\n",
    "    )\n",
    ")\n",
    "\n",
    "sorter_sc=dict(\n",
    "    name='SpykingCircus',\n",
    "    processor_name='SpykingCircus',\n",
    "    params=dict(\n",
    "        detect_sign=-1,\n",
    "        adjacency_radius=50\n",
    "    )\n",
    ")\n",
    "\n",
    "sorter_yass=dict(\n",
    "    name='yass',\n",
    "    processor_name='yass',\n",
    "    params=dict(\n",
    "        detect_sign=-1,\n",
    "        adjacency_radius=50\n",
    "    )\n",
    "    \n",
    ")\n",
    "\n",
    "compute_resource=None\n",
    "sorting_ms4=sa.sort_recordings(recordings=[recording],sorter=sorter_ms4_thr3,compute_resource=compute_resource)[0]\n",
    "sorting_sc=sa.sort_recordings(recordings=[recording],sorter=sorter_sc,compute_resource=compute_resource)[0]\n",
    "#sorting_yass=sa.sort_recordings(recordings=[recording],sorter=sorter_yass,compute_resource=compute_resource)[0]"
   ]
  },
  {
   "cell_type": "code",
   "execution_count": 13,
   "metadata": {},
   "outputs": [
    {
     "data": {
      "text/plain": [
       "{'recording_name': None,\n",
       " 'study_name': None,\n",
       " 'sorter_name': 'MountainSort4-thr3',\n",
       " 'recording_dir': 'kbucket://15734439d8cf/groundtruth/magland_synth/datasets_noise10_K10_C4/001_synth',\n",
       " 'channels': [],\n",
       " 'units_true': [],\n",
       " 'firings_true': 'kbucket://15734439d8cf/groundtruth/magland_synth/datasets_noise10_K10_C4/001_synth/firings_true.mda',\n",
       " 'sorting_params': {'detect_sign': -1,\n",
       "  'adjacency_radius': 50,\n",
       "  'detect_threshold': 3.1},\n",
       " 'processor_name': 'MountainSort4',\n",
       " 'processor_version': '4.2.0',\n",
       " 'console_out': 'sha1://42790297689d09e1734bcfeedff56785de6966e0/console_out.txt',\n",
       " 'container': 'sha1://a3842053423c633b62e70474be9d76068cdc1ea5/mountainsort4.simg',\n",
       " 'firings': 'sha1://461a16cdd9db7c54790c725b335b55dafd73b9a0/firings_out.mda'}"
      ]
     },
     "metadata": {},
     "output_type": "display_data"
    },
    {
     "name": "stdout",
     "output_type": "stream",
     "text": [
      "::::::::::::::::::::::::::::: MountainSort4\n",
      "Found output \"firings_out\" in cairio.\n",
      "Using outputs from cache.\n",
      "copying file: /mnt/ceph/users/jjun/sha1-cache/4/61/461a16cdd9db7c54790c725b335b55dafd73b9a0 -> /tmp/tmpipxmiua2/output_firings_out.mda\n",
      "\n"
     ]
    },
    {
     "data": {
      "text/plain": [
       "{'recording_name': None,\n",
       " 'study_name': None,\n",
       " 'sorter_name': 'SpykingCircus',\n",
       " 'recording_dir': 'kbucket://15734439d8cf/groundtruth/magland_synth/datasets_noise10_K10_C4/001_synth',\n",
       " 'channels': [],\n",
       " 'units_true': [],\n",
       " 'firings_true': 'kbucket://15734439d8cf/groundtruth/magland_synth/datasets_noise10_K10_C4/001_synth/firings_true.mda',\n",
       " 'sorting_params': {'detect_sign': -1, 'adjacency_radius': 50},\n",
       " 'processor_name': 'SpykingCircus',\n",
       " 'processor_version': '0.2.0',\n",
       " 'console_out': 'sha1://db52459ecd91f5c9ff371c344b184a1a9f4dc0ef/console_out.txt',\n",
       " 'container': 'sha1://487fe664853285e65f8130a1138a4415f8acc4ca/spyking_circus.simg',\n",
       " 'firings': 'sha1://b47523d679d834eb36196487c872752b54a6693d/firings_out.mda'}"
      ]
     },
     "metadata": {},
     "output_type": "display_data"
    },
    {
     "name": "stdout",
     "output_type": "stream",
     "text": [
      "::::::::::::::::::::::::::::: SpykingCircus\n",
      "Found output \"firings_out\" in cairio.\n",
      "Using outputs from cache.\n",
      "copying file: /mnt/ceph/users/jjun/sha1-cache/b/47/b47523d679d834eb36196487c872752b54a6693d -> /tmp/tmp8xg671bt/output_firings_out.mda\n",
      "\n"
     ]
    }
   ],
   "source": [
    "display(sorting_ms4)\n",
    "print(ca.loadText(path=sorting_ms4['console_out'])[0:1000])\n",
    "display(sorting_sc)\n",
    "print(ca.loadText(path=sorting_sc['console_out'])[0:1000])"
   ]
  },
  {
   "cell_type": "code",
   "execution_count": 16,
   "metadata": {},
   "outputs": [
    {
     "name": "stdout",
     "output_type": "stream",
     "text": [
      ">>>>>> summarize sortings\n",
      "RUNNING: python /tmp/tmpz6ci5m3_/execute.py\n",
      "::::::::::::::::::::::::::::: spikeforest.PlotAutoCorrelograms\n",
      "Found output \"plot_out\" in cairio.\n",
      "Using outputs from cache.\n",
      "copying file: /mnt/ceph/users/jjun/sha1-cache/1/88/1886e7988f0ac633aa20a4ed8da3ea4feffef944 -> /tmp/tmpz6ci5m3_/output_plot_out.jpg\n",
      ">>>>>> compare sortings with truth\n",
      "RUNNING: python /tmp/tmp17yq0acs/execute.py\n",
      "::::::::::::::::::::::::::::: GenSortingComparisonTable\n",
      "Testing whether share 15734439d8cf is directly accessible...\n",
      "Share 15734439d8cf is directly accessible.\n",
      "Found output \"json_out\" in cairio.\n",
      "Found output \"html_out\" in cairio.\n",
      "Using outputs from cache.\n",
      "copying file: /mnt/ceph/users/jjun/sha1-cache/4/f1/4f149663ee4e4f800a1c41215cbe720da319b09c -> /tmp/tmp17yq0acs/output_json_out.json\n",
      "copying file: /mnt/ceph/users/jjun/sha1-cache/7/f7/7f70823eac0ad0566c04984a8c64bd272da39ab3 -> /tmp/tmp17yq0acs/output_html_out.html\n"
     ]
    }
   ],
   "source": [
    "sorting_ms4['summary']=sa.summarize_sortings(sortings=[sorting_ms4],compute_resource=compute_resource)\n",
    "sorting_ms4['comparison_with_truth']=sa.compare_sortings_with_truth(sortings=[sorting_ms4],compute_resource=compute_resource)"
   ]
  },
  {
   "cell_type": "code",
   "execution_count": 17,
   "metadata": {},
   "outputs": [
    {
     "data": {
      "text/plain": [
       "{'recording_name': None,\n",
       " 'study_name': None,\n",
       " 'sorter_name': 'MountainSort4-thr3',\n",
       " 'recording_dir': 'kbucket://15734439d8cf/groundtruth/magland_synth/datasets_noise10_K10_C4/001_synth',\n",
       " 'channels': [],\n",
       " 'units_true': [],\n",
       " 'firings_true': 'kbucket://15734439d8cf/groundtruth/magland_synth/datasets_noise10_K10_C4/001_synth/firings_true.mda',\n",
       " 'sorting_params': {'detect_sign': -1,\n",
       "  'adjacency_radius': 50,\n",
       "  'detect_threshold': 3.1},\n",
       " 'processor_name': 'MountainSort4',\n",
       " 'processor_version': '4.2.0',\n",
       " 'console_out': 'sha1://42790297689d09e1734bcfeedff56785de6966e0/console_out.txt',\n",
       " 'container': 'sha1://a3842053423c633b62e70474be9d76068cdc1ea5/mountainsort4.simg',\n",
       " 'firings': 'sha1://461a16cdd9db7c54790c725b335b55dafd73b9a0/firings_out.mda',\n",
       " 'summary': [{'recording_name': None,\n",
       "   'study_name': None,\n",
       "   'sorter_name': 'MountainSort4-thr3',\n",
       "   'recording_dir': 'kbucket://15734439d8cf/groundtruth/magland_synth/datasets_noise10_K10_C4/001_synth',\n",
       "   'channels': [],\n",
       "   'units_true': [],\n",
       "   'firings_true': 'kbucket://15734439d8cf/groundtruth/magland_synth/datasets_noise10_K10_C4/001_synth/firings_true.mda',\n",
       "   'sorting_params': {'detect_sign': -1,\n",
       "    'adjacency_radius': 50,\n",
       "    'detect_threshold': 3.1},\n",
       "   'processor_name': 'MountainSort4',\n",
       "   'processor_version': '4.2.0',\n",
       "   'console_out': 'sha1://42790297689d09e1734bcfeedff56785de6966e0/console_out.txt',\n",
       "   'container': 'sha1://a3842053423c633b62e70474be9d76068cdc1ea5/mountainsort4.simg',\n",
       "   'firings': 'sha1://461a16cdd9db7c54790c725b335b55dafd73b9a0/firings_out.mda',\n",
       "   'summary': {'plots': {'autocorrelograms': 'sha1://1886e7988f0ac633aa20a4ed8da3ea4feffef944/autocorrelograms.jpg'}},\n",
       "   'comparison_with_truth': [{'recording_name': None,\n",
       "     'study_name': None,\n",
       "     'sorter_name': 'MountainSort4-thr3',\n",
       "     'recording_dir': 'kbucket://15734439d8cf/groundtruth/magland_synth/datasets_noise10_K10_C4/001_synth',\n",
       "     'channels': [],\n",
       "     'units_true': [],\n",
       "     'firings_true': 'kbucket://15734439d8cf/groundtruth/magland_synth/datasets_noise10_K10_C4/001_synth/firings_true.mda',\n",
       "     'sorting_params': {'detect_sign': -1,\n",
       "      'adjacency_radius': 50,\n",
       "      'detect_threshold': 3.1},\n",
       "     'processor_name': 'MountainSort4',\n",
       "     'processor_version': '4.2.0',\n",
       "     'console_out': 'sha1://42790297689d09e1734bcfeedff56785de6966e0/console_out.txt',\n",
       "     'container': 'sha1://a3842053423c633b62e70474be9d76068cdc1ea5/mountainsort4.simg',\n",
       "     'firings': 'sha1://461a16cdd9db7c54790c725b335b55dafd73b9a0/firings_out.mda',\n",
       "     'summary': [{'recording_name': None,\n",
       "       'study_name': None,\n",
       "       'sorter_name': 'MountainSort4-thr3',\n",
       "       'recording_dir': 'kbucket://15734439d8cf/groundtruth/magland_synth/datasets_noise10_K10_C4/001_synth',\n",
       "       'channels': [],\n",
       "       'units_true': [],\n",
       "       'firings_true': 'kbucket://15734439d8cf/groundtruth/magland_synth/datasets_noise10_K10_C4/001_synth/firings_true.mda',\n",
       "       'sorting_params': {'detect_sign': -1,\n",
       "        'adjacency_radius': 50,\n",
       "        'detect_threshold': 3.1},\n",
       "       'processor_name': 'MountainSort4',\n",
       "       'processor_version': '4.2.0',\n",
       "       'console_out': 'sha1://42790297689d09e1734bcfeedff56785de6966e0/console_out.txt',\n",
       "       'container': 'sha1://a3842053423c633b62e70474be9d76068cdc1ea5/mountainsort4.simg',\n",
       "       'firings': 'sha1://461a16cdd9db7c54790c725b335b55dafd73b9a0/firings_out.mda',\n",
       "       'summary': {'plots': {'autocorrelograms': 'sha1://1886e7988f0ac633aa20a4ed8da3ea4feffef944/autocorrelograms.jpg'}}}],\n",
       "     'comparison_with_truth': {'json': 'sha1://4f149663ee4e4f800a1c41215cbe720da319b09c/json_out.json',\n",
       "      'html': 'sha1://7f70823eac0ad0566c04984a8c64bd272da39ab3/html_out.html'}}]}],\n",
       " 'comparison_with_truth': [{'recording_name': None,\n",
       "   'study_name': None,\n",
       "   'sorter_name': 'MountainSort4-thr3',\n",
       "   'recording_dir': 'kbucket://15734439d8cf/groundtruth/magland_synth/datasets_noise10_K10_C4/001_synth',\n",
       "   'channels': [],\n",
       "   'units_true': [],\n",
       "   'firings_true': 'kbucket://15734439d8cf/groundtruth/magland_synth/datasets_noise10_K10_C4/001_synth/firings_true.mda',\n",
       "   'sorting_params': {'detect_sign': -1,\n",
       "    'adjacency_radius': 50,\n",
       "    'detect_threshold': 3.1},\n",
       "   'processor_name': 'MountainSort4',\n",
       "   'processor_version': '4.2.0',\n",
       "   'console_out': 'sha1://42790297689d09e1734bcfeedff56785de6966e0/console_out.txt',\n",
       "   'container': 'sha1://a3842053423c633b62e70474be9d76068cdc1ea5/mountainsort4.simg',\n",
       "   'firings': 'sha1://461a16cdd9db7c54790c725b335b55dafd73b9a0/firings_out.mda',\n",
       "   'summary': [{'recording_name': None,\n",
       "     'study_name': None,\n",
       "     'sorter_name': 'MountainSort4-thr3',\n",
       "     'recording_dir': 'kbucket://15734439d8cf/groundtruth/magland_synth/datasets_noise10_K10_C4/001_synth',\n",
       "     'channels': [],\n",
       "     'units_true': [],\n",
       "     'firings_true': 'kbucket://15734439d8cf/groundtruth/magland_synth/datasets_noise10_K10_C4/001_synth/firings_true.mda',\n",
       "     'sorting_params': {'detect_sign': -1,\n",
       "      'adjacency_radius': 50,\n",
       "      'detect_threshold': 3.1},\n",
       "     'processor_name': 'MountainSort4',\n",
       "     'processor_version': '4.2.0',\n",
       "     'console_out': 'sha1://42790297689d09e1734bcfeedff56785de6966e0/console_out.txt',\n",
       "     'container': 'sha1://a3842053423c633b62e70474be9d76068cdc1ea5/mountainsort4.simg',\n",
       "     'firings': 'sha1://461a16cdd9db7c54790c725b335b55dafd73b9a0/firings_out.mda',\n",
       "     'summary': {'plots': {'autocorrelograms': 'sha1://1886e7988f0ac633aa20a4ed8da3ea4feffef944/autocorrelograms.jpg'}},\n",
       "     'comparison_with_truth': [{'recording_name': None,\n",
       "       'study_name': None,\n",
       "       'sorter_name': 'MountainSort4-thr3',\n",
       "       'recording_dir': 'kbucket://15734439d8cf/groundtruth/magland_synth/datasets_noise10_K10_C4/001_synth',\n",
       "       'channels': [],\n",
       "       'units_true': [],\n",
       "       'firings_true': 'kbucket://15734439d8cf/groundtruth/magland_synth/datasets_noise10_K10_C4/001_synth/firings_true.mda',\n",
       "       'sorting_params': {'detect_sign': -1,\n",
       "        'adjacency_radius': 50,\n",
       "        'detect_threshold': 3.1},\n",
       "       'processor_name': 'MountainSort4',\n",
       "       'processor_version': '4.2.0',\n",
       "       'console_out': 'sha1://42790297689d09e1734bcfeedff56785de6966e0/console_out.txt',\n",
       "       'container': 'sha1://a3842053423c633b62e70474be9d76068cdc1ea5/mountainsort4.simg',\n",
       "       'firings': 'sha1://461a16cdd9db7c54790c725b335b55dafd73b9a0/firings_out.mda',\n",
       "       'summary': [{'recording_name': None,\n",
       "         'study_name': None,\n",
       "         'sorter_name': 'MountainSort4-thr3',\n",
       "         'recording_dir': 'kbucket://15734439d8cf/groundtruth/magland_synth/datasets_noise10_K10_C4/001_synth',\n",
       "         'channels': [],\n",
       "         'units_true': [],\n",
       "         'firings_true': 'kbucket://15734439d8cf/groundtruth/magland_synth/datasets_noise10_K10_C4/001_synth/firings_true.mda',\n",
       "         'sorting_params': {'detect_sign': -1,\n",
       "          'adjacency_radius': 50,\n",
       "          'detect_threshold': 3.1},\n",
       "         'processor_name': 'MountainSort4',\n",
       "         'processor_version': '4.2.0',\n",
       "         'console_out': 'sha1://42790297689d09e1734bcfeedff56785de6966e0/console_out.txt',\n",
       "         'container': 'sha1://a3842053423c633b62e70474be9d76068cdc1ea5/mountainsort4.simg',\n",
       "         'firings': 'sha1://461a16cdd9db7c54790c725b335b55dafd73b9a0/firings_out.mda',\n",
       "         'summary': {'plots': {'autocorrelograms': 'sha1://1886e7988f0ac633aa20a4ed8da3ea4feffef944/autocorrelograms.jpg'}}}],\n",
       "       'comparison_with_truth': {'json': 'sha1://4f149663ee4e4f800a1c41215cbe720da319b09c/json_out.json',\n",
       "        'html': 'sha1://7f70823eac0ad0566c04984a8c64bd272da39ab3/html_out.html'}}]}],\n",
       "   'comparison_with_truth': {'json': 'sha1://4f149663ee4e4f800a1c41215cbe720da319b09c/json_out.json',\n",
       "    'html': 'sha1://7f70823eac0ad0566c04984a8c64bd272da39ab3/html_out.html'}}]}"
      ]
     },
     "execution_count": 17,
     "metadata": {},
     "output_type": "execute_result"
    }
   ],
   "source": [
    "sorting_ms4"
   ]
  },
  {
   "cell_type": "code",
   "execution_count": 18,
   "metadata": {},
   "outputs": [
    {
     "data": {
      "text/plain": [
       "{'0': {'unit_id': 1,\n",
       "  'accuracy': '1.0000',\n",
       "  'best_unit': 1,\n",
       "  'matched_unit': 1,\n",
       "  'num_matches': 1398,\n",
       "  'num_false_negatives': 0,\n",
       "  'num_false_positives': 0,\n",
       "  'f_n': '0.0000',\n",
       "  'f_p': '0.0000'},\n",
       " '1': {'unit_id': 2,\n",
       "  'accuracy': '0.9929',\n",
       "  'best_unit': 4,\n",
       "  'matched_unit': 4,\n",
       "  'num_matches': 1393,\n",
       "  'num_false_negatives': 9,\n",
       "  'num_false_positives': 1,\n",
       "  'f_n': '0.0064',\n",
       "  'f_p': '0.0007'},\n",
       " '2': {'unit_id': 3,\n",
       "  'accuracy': '0.9858',\n",
       "  'best_unit': 3,\n",
       "  'matched_unit': 3,\n",
       "  'num_matches': 1389,\n",
       "  'num_false_negatives': 18,\n",
       "  'num_false_positives': 2,\n",
       "  'f_n': '0.0128',\n",
       "  'f_p': '0.0014'},\n",
       " '3': {'unit_id': 4,\n",
       "  'accuracy': '0.9833',\n",
       "  'best_unit': 7,\n",
       "  'matched_unit': 7,\n",
       "  'num_matches': 1417,\n",
       "  'num_false_negatives': 21,\n",
       "  'num_false_positives': 3,\n",
       "  'f_n': '0.0146',\n",
       "  'f_p': '0.0021'},\n",
       " '4': {'unit_id': 5,\n",
       "  'accuracy': '0.9782',\n",
       "  'best_unit': 5,\n",
       "  'matched_unit': 5,\n",
       "  'num_matches': 1391,\n",
       "  'num_false_negatives': 29,\n",
       "  'num_false_positives': 2,\n",
       "  'f_n': '0.0204',\n",
       "  'f_p': '0.0014'},\n",
       " '5': {'unit_id': 6,\n",
       "  'accuracy': '0.9809',\n",
       "  'best_unit': 8,\n",
       "  'matched_unit': 8,\n",
       "  'num_matches': 1383,\n",
       "  'num_false_negatives': 11,\n",
       "  'num_false_positives': 16,\n",
       "  'f_n': '0.0079',\n",
       "  'f_p': '0.0114'},\n",
       " '6': {'unit_id': 7,\n",
       "  'accuracy': '0.9815',\n",
       "  'best_unit': 10,\n",
       "  'matched_unit': 10,\n",
       "  'num_matches': 1376,\n",
       "  'num_false_negatives': 23,\n",
       "  'num_false_positives': 3,\n",
       "  'f_n': '0.0164',\n",
       "  'f_p': '0.0022'},\n",
       " '7': {'unit_id': 8,\n",
       "  'accuracy': '0.9840',\n",
       "  'best_unit': 9,\n",
       "  'matched_unit': 9,\n",
       "  'num_matches': 1415,\n",
       "  'num_false_negatives': 18,\n",
       "  'num_false_positives': 5,\n",
       "  'f_n': '0.0126',\n",
       "  'f_p': '0.0035'},\n",
       " '8': {'unit_id': 9,\n",
       "  'accuracy': '0.9886',\n",
       "  'best_unit': 12,\n",
       "  'matched_unit': 12,\n",
       "  'num_matches': 1386,\n",
       "  'num_false_negatives': 15,\n",
       "  'num_false_positives': 1,\n",
       "  'f_n': '0.0107',\n",
       "  'f_p': '0.0007'},\n",
       " '9': {'unit_id': 10,\n",
       "  'accuracy': '0.9958',\n",
       "  'best_unit': 14,\n",
       "  'matched_unit': 14,\n",
       "  'num_matches': 1415,\n",
       "  'num_false_negatives': 6,\n",
       "  'num_false_positives': 0,\n",
       "  'f_n': '0.0042',\n",
       "  'f_p': '0.0000'}}"
      ]
     },
     "execution_count": 18,
     "metadata": {},
     "output_type": "execute_result"
    }
   ],
   "source": [
    "ca.loadObject(path='sha1://cbc3f0d7beb8f94d3bf4287b38ca4b05782f94ec/table.json')"
   ]
  },
  {
   "cell_type": "code",
   "execution_count": null,
   "metadata": {},
   "outputs": [],
   "source": []
  }
 ],
 "metadata": {
  "kernelspec": {
   "display_name": "Python 3",
   "language": "python",
   "name": "python3"
  },
  "language_info": {
   "codemirror_mode": {
    "name": "ipython",
    "version": 3
   },
   "file_extension": ".py",
   "mimetype": "text/x-python",
   "name": "python",
   "nbconvert_exporter": "python",
   "pygments_lexer": "ipython3",
   "version": "3.6.8"
  }
 },
 "nbformat": 4,
 "nbformat_minor": 2
}
