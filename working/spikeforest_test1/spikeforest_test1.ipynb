{
 "cells": [
  {
   "cell_type": "code",
   "execution_count": 1,
   "metadata": {},
   "outputs": [],
   "source": [
    "%load_ext autoreload\n",
    "%autoreload 2\n",
    "import spikeforest_analysis as sa\n",
    "import spikeforest as sf\n",
    "from cairio import client as ca"
   ]
  },
  {
   "cell_type": "code",
   "execution_count": 2,
   "metadata": {},
   "outputs": [
    {
     "name": "stdin",
     "output_type": "stream",
     "text": [
      "Enter password:  ····\n"
     ]
    },
    {
     "name": "stdout",
     "output_type": "stream",
     "text": [
      "CAIRIO CONFIG: remote database spikeforest (readwrite); remote kb-share 69432e9201d0 (readwrite)\n"
     ]
    }
   ],
   "source": [
    "ca.autoConfig(collection='spikeforest',key='spikeforest2-readwrite',ask_password=True)"
   ]
  },
  {
   "cell_type": "code",
   "execution_count": 3,
   "metadata": {},
   "outputs": [],
   "source": [
    "recording=dict(directory='kbucket://15734439d8cf/groundtruth/magland_synth/datasets_noise10_K10_C4/001_synth')"
   ]
  },
  {
   "cell_type": "code",
   "execution_count": 14,
   "metadata": {},
   "outputs": [
    {
     "name": "stdout",
     "output_type": "stream",
     "text": [
      "Uploading file --- (47.1 KiB): /tmp/tmp_cairioclient_hieiqyniyf.txt -> http://132.249.245.246:24342/upload/b6b60af9270541c62abc0e15db71cf0a9b3b54a4?signature=cdc4790dd240229493da831ae6795a10be4b4f9b\n",
      "Already on server (**)\n",
      "Already on server (**)\n",
      "RUNNING: python /tmp/tmp8pw201g1/execute.py\n",
      "::::::::::::::::::::::::::::: ComputeRecordingInfo\n",
      "MLPR EXECUTING::::::::::::::::::::::::::::: ComputeRecordingInfo\n",
      "Testing whether share 15734439d8cf is directly accessible...\n",
      "Share 15734439d8cf is not directly accessible.\n",
      "MLPR FINISHED ::::::::::::::::::::::::::::: ComputeRecordingInfo\n",
      "RUNNING: python /tmp/tmplxihdvyn/execute.py\n",
      "::::::::::::::::::::::::::::: CreateTimeseriesPlot\n",
      "MLPR EXECUTING::::::::::::::::::::::::::::: CreateTimeseriesPlot\n",
      "Testing whether share 15734439d8cf is directly accessible...\n",
      "Share 15734439d8cf is not directly accessible.\n",
      "MLPR FINISHED ::::::::::::::::::::::::::::: CreateTimeseriesPlot\n",
      "RUNNING: python /tmp/tmpjf9g74zw/execute.py\n",
      "::::::::::::::::::::::::::::: ComputeUnitsInfo\n",
      "Testing whether share 15734439d8cf is directly accessible...\n",
      "Share 15734439d8cf is not directly accessible.\n",
      "MLPR EXECUTING::::::::::::::::::::::::::::: ComputeUnitsInfo\n",
      "computing templates...\n",
      ".\n",
      "MLPR FINISHED ::::::::::::::::::::::::::::: ComputeUnitsInfo\n",
      "Uploading file --- (1.1 KiB): /tmp/tmpjf9g74zw/output_json_out.json -> http://132.249.245.246:24342/upload/faa0db59b6337f96ab0827271ec362b443d109e5?signature=c6c096a8475934b677c11ba0a5b524a2a7c3177b\n",
      "Waiting until file is on kbucket 69432e9201d0 (sha1=faa0db59b6337f96ab0827271ec362b443d109e5)\n"
     ]
    }
   ],
   "source": [
    "summaries=sa.summarize_recordings(recordings=[recording])\n",
    "recording['summary']=summaries[0]"
   ]
  },
  {
   "cell_type": "code",
   "execution_count": 6,
   "metadata": {},
   "outputs": [],
   "source": [
    "import os\n",
    "os.environ['MLPROCESSORS_FORCE_RUN']='FALSE'"
   ]
  },
  {
   "cell_type": "code",
   "execution_count": 7,
   "metadata": {},
   "outputs": [
    {
     "name": "stdout",
     "output_type": "stream",
     "text": [
      "Locating container: sha1://a3842053423c633b62e70474be9d76068cdc1ea5/mountainsort4.simg\n",
      "Sorting recording kbucket://15734439d8cf/groundtruth/magland_synth/datasets_noise10_K10_C4/001_synth using MountainSort4\n",
      "::::::::::::::::::::::::::::: MountainSort4\n",
      "Found output \"firings_out\" in cairio.\n",
      "Using outputs from cache.\n",
      "Saving firings_out...\n",
      "Assembling result...\n",
      "Done sorting.\n"
     ]
    }
   ],
   "source": [
    "sorter_ms4_thr3=dict(\n",
    "    name='MountainSort4-thr3',\n",
    "    processor_name='MountainSort4',\n",
    "    params=dict(\n",
    "        detect_sign=-1,\n",
    "        adjacency_radius=50,\n",
    "        detect_threshold=3.1\n",
    "    )\n",
    ")\n",
    "\n",
    "sorting=sa.sort_recording(recording=recording,sorter=sorter_ms4_thr3)"
   ]
  },
  {
   "cell_type": "code",
   "execution_count": 8,
   "metadata": {},
   "outputs": [
    {
     "data": {
      "text/plain": [
       "{'recording_name': None,\n",
       " 'study_name': None,\n",
       " 'sorter_name': 'MountainSort4-thr3',\n",
       " 'recording_dir': 'kbucket://15734439d8cf/groundtruth/magland_synth/datasets_noise10_K10_C4/001_synth',\n",
       " 'channels': [],\n",
       " 'units_true': [],\n",
       " 'firings_true': 'kbucket://15734439d8cf/groundtruth/magland_synth/datasets_noise10_K10_C4/001_synth/firings_true.mda',\n",
       " 'sorting_params': {'detect_sign': -1,\n",
       "  'adjacency_radius': 50,\n",
       "  'detect_threshold': 3.1},\n",
       " 'processor_name': 'MountainSort4',\n",
       " 'processor_version': '4.2.0',\n",
       " 'execution_stats': {'start_time': 1549634787.057781,\n",
       "  'end_time': 1549634808.3937225,\n",
       "  'elapsed_sec': 21.335941553115845},\n",
       " 'console_out': 'sha1://e0da24aeb174f787d2c1d6edc76b857b19906d62/console_out.txt',\n",
       " 'container': 'sha1://a3842053423c633b62e70474be9d76068cdc1ea5/mountainsort4.simg',\n",
       " 'firings': 'sha1://9715ae26477b2446ca860be25e25833fe6b04e70/firings_out.mda'}"
      ]
     },
     "execution_count": 8,
     "metadata": {},
     "output_type": "execute_result"
    }
   ],
   "source": [
    "sorting"
   ]
  },
  {
   "cell_type": "code",
   "execution_count": 9,
   "metadata": {},
   "outputs": [],
   "source": [
    "from cairio import client as ca"
   ]
  },
  {
   "cell_type": "code",
   "execution_count": 10,
   "metadata": {},
   "outputs": [
    {
     "name": "stdout",
     "output_type": "stream",
     "text": [
      "::::::::::::::::::::::::::::: MountainSort4\n",
      "MLPR EXECUTING::::::::::::::::::::::::::::: MountainSort4\n",
      "MountainSort4......\n",
      "Using {} workers None\n",
      "Using 4 workers.\n",
      "Using tmpdir: /tmp/tmppoykv497\n",
      "Num. workers = 4\n",
      "Preparing /tmp/tmppoykv497/timeseries.hdf5...\n",
      "Preparing neighborhood sorters (M=4, N=18000000)...\n",
      "/usr/lib/python3.6/importlib/_bootstrap.py:219: RuntimeWarning: numpy.ufunc size changed, may indicate binary incompatibility. Expected 216, got 192\n",
      "  return f(*args, **kwds)\n",
      "/usr/lib/python3.6/importlib/_bootstrap.py:219: ImportWarning: can't resolve package from __spec__ or __package__, falling back on __name__ and __path__\n",
      "  return f(*args, **kwds)\n",
      "/usr/lib/python3.6/importlib/_bootstrap.py:219: RuntimeWarning: numpy.ufunc size changed, may indicate binary incompatibility. Expected 216, got 192\n",
      "  return f(*args, **kwds)\n",
      "/usr/lib/python3.6/importlib/_bootstrap.py:219: ImportWarning: can't resolve package from __spec__ or __package__, falling back on __name__ and __path__\n",
      "  return f(*args, **kwds)\n",
      "/usr/lib/python3.6/importlib/_bootstrap.py:219: RuntimeWarning: numpy.ufunc size changed, may indicate binary incompatibility. Expected 192 from C header, got 216 from PyObject\n",
      "  return f(*args, **kwds)\n",
      "Neighboorhood of channel 0 has 4 channels.\n",
      "Detecting events on channel 1 (phase1)...\n",
      "Neighboorhood of channel 1 has 4 channels.\n",
      "Detecting events on channel 2 (phase1)...\n",
      "Neighboorhood of channel 2 has 4 channels.\n",
      "Detecting events on channel 3 (phase1)...\n",
      "Neighboorhood of channel 3 has 4 channels.\n",
      "Detecting events on channel 4 (phase1)...\n",
      "Elapsed time for detect on neighborhood: 0:00:03.519141\n",
      "Num events detected on channel 3 (phase1): 14399\n",
      "Computing PCA features for channel 3 (phase1)...\n",
      "Elapsed time for detect on neighborhood: 0:00:03.557548\n",
      "Num events detected on channel 2 (phase1): 16252\n",
      "Computing PCA features for channel 2 (phase1)...\n",
      "Elapsed time for detect on neighborhood: 0:00:03.817436\n",
      "Num events detected on channel 4 (phase1): 15464\n",
      "Computing PCA features for channel 4 (phase1)...\n",
      "Elapsed time for detect on neighborhood: 0:00:03.848224\n",
      "Num events detected on channel 1 (phase1): 10049\n",
      "Computing PCA features for channel 1 (phase1)...\n",
      "Clustering for channel 3 (phase1)...\n",
      "Clustering for channel 1 (phase1)...\n",
      "Clustering for channel 2 (phase1)...\n",
      "Clustering for channel 4 (phase1)...\n",
      "Found 11 clusters for channel 1 (phase1)...\n",
      "Computing templates for channel 1 (phase1)...\n",
      "Found 11 clusters for channel 3 (phase1)...\n",
      "Computing templates for channel 3 (phase1)...\n",
      "Found 11 clusters for channel 2 (phase1)...\n",
      "Computing templates for channel 2 (phase1)...\n",
      "Found 11 clusters for channel 4 (phase1)...\n",
      "Computing templates for channel 4 (phase1)...\n",
      "Re-assigning events for channel 1 (phase1)...\n",
      "Re-assigning 4 events from 1 to 2 with dt=-3 (k=1)\n",
      "Re-assigning 1 events from 1 to 3 with dt=-5 (k=4)\n",
      "Re-assigning 2 events from 1 to 2 with dt=-3 (k=5)\n",
      "Re-assigning events for channel 3 (phase1)...\n",
      "Re-assigning 257 events from 3 to 2 with dt=-1 (k=1)\n",
      "Re-assigning 2 events from 3 to 1 with dt=-7 (k=3)\n",
      "Re-assigning 1 events from 3 to 2 with dt=-3 (k=6)\n",
      "Re-assigning 115 events from 3 to 1 with dt=-2 (k=10)\n",
      "Re-assigning events for channel 2 (phase1)...\n",
      "Re-assigning 33 events from 2 to 3 with dt=-4 (k=3)\n",
      "Re-assigning 491 events from 2 to 3 with dt=-1 (k=4)\n",
      "Re-assigning 6 events from 2 to 1 with dt=1 (k=5)\n",
      "Re-assigning 10 events from 2 to 3 with dt=-3 (k=6)\n",
      "Re-assigning events for channel 4 (phase1)...\n",
      "Re-assigning 60 events from 4 to 2 with dt=-5 (k=2)\n",
      "Re-assigning 32 events from 4 to 3 with dt=-1 (k=3)\n",
      "Re-assigning 1 events from 4 to 3 with dt=-4 (k=5)\n",
      "Re-assigning 3 events from 4 to 3 with dt=2 (k=6)\n",
      "Re-assigning 5 events from 4 to 1 with dt=-5 (k=9)\n",
      "Neighboorhood of channel 0 has 4 channels.\n",
      "Computing PCA features for channel 1 (phase2)...\n",
      "Neighboorhood of channel 3 has 4 channels.\n",
      "Computing PCA features for channel 4 (phase2)...\n",
      "Neighboorhood of channel 1 has 4 channels.\n",
      "Computing PCA features for channel 2 (phase2)...\n",
      "Neighboorhood of channel 2 has 4 channels.\n",
      "Computing PCA features for channel 3 (phase2)...\n",
      "No duplicate events found for channel 0 in phase2\n",
      "Clustering for channel 1 (phase2)...\n",
      "No duplicate events found for channel 1 in phase2\n",
      "Clustering for channel 2 (phase2)...\n",
      "No duplicate events found for channel 2 in phase2\n",
      "Clustering for channel 3 (phase2)...\n",
      "No duplicate events found for channel 3 in phase2\n",
      "Clustering for channel 4 (phase2)...\n",
      "Found 3 clusters for channel 1 (phase2)...\n",
      "Found 2 clusters for channel 4 (phase2)...\n",
      "Found 4 clusters for channel 2 (phase2)...\n",
      "Found 5 clusters for channel 3 (phase2)...\n",
      "Preparing output...\n",
      "Done with ms4alg.\n",
      "Cleaning tmpdir::::: /tmp/tmppoykv497\n",
      "MLPR FINISHED ::::::::::::::::::::::::::::: MountainSort4\n",
      "\n"
     ]
    }
   ],
   "source": [
    "print(ca.loadText(path=sorting['console_out']))"
   ]
  },
  {
   "cell_type": "code",
   "execution_count": 11,
   "metadata": {},
   "outputs": [
    {
     "name": "stdout",
     "output_type": "stream",
     "text": [
      "::::::::::::::::::::::::::::: spikeforest.PlotAutoCorrelograms\n",
      "MLPR EXECUTING::::::::::::::::::::::::::::: spikeforest.PlotAutoCorrelograms\n",
      "MLPR FINISHED ::::::::::::::::::::::::::::: spikeforest.PlotAutoCorrelograms\n",
      "Uploading file --- (100 B): /tmp/tmp_cairioclient_szzwmshwyc.txt -> http://132.249.245.246:24342/upload/3cdcda925fdb7428cf15cf0f3c52e9fec82f3c32?signature=7d413a1c6f7d0a8fc9e956730352067f518c2c53\n",
      "::::::::::::::::::::::::::::: GenSortingComparisonTable\n",
      "MLPR EXECUTING::::::::::::::::::::::::::::: GenSortingComparisonTable\n",
      "MLPR FINISHED ::::::::::::::::::::::::::::: GenSortingComparisonTable\n",
      "Uploading file --- (99 B): /tmp/tmp_cairioclient_fzshqhzsgr.txt -> http://132.249.245.246:24342/upload/e7c79151a8c6d59dee9faf6719e8ddb88711337e?signature=2347bde506ada1635c8f58b4b51dd3bd02b7583a\n"
     ]
    }
   ],
   "source": [
    "sorting['summary']=sa.summarize_sorting(sorting=sorting)\n",
    "sorting['comparison_with_truth']=sa.compare_with_truth(sorting=sorting)"
   ]
  },
  {
   "cell_type": "code",
   "execution_count": 12,
   "metadata": {},
   "outputs": [
    {
     "data": {
      "text/plain": [
       "{'recording_name': None,\n",
       " 'study_name': None,\n",
       " 'sorter_name': 'MountainSort4-thr3',\n",
       " 'recording_dir': 'kbucket://15734439d8cf/groundtruth/magland_synth/datasets_noise10_K10_C4/001_synth',\n",
       " 'channels': [],\n",
       " 'units_true': [],\n",
       " 'firings_true': 'kbucket://15734439d8cf/groundtruth/magland_synth/datasets_noise10_K10_C4/001_synth/firings_true.mda',\n",
       " 'sorting_params': {'detect_sign': -1,\n",
       "  'adjacency_radius': 50,\n",
       "  'detect_threshold': 3.1},\n",
       " 'processor_name': 'MountainSort4',\n",
       " 'processor_version': '4.2.0',\n",
       " 'execution_stats': {'start_time': 1549634787.057781,\n",
       "  'end_time': 1549634808.3937225,\n",
       "  'elapsed_sec': 21.335941553115845},\n",
       " 'console_out': 'sha1://e0da24aeb174f787d2c1d6edc76b857b19906d62/console_out.txt',\n",
       " 'container': 'sha1://a3842053423c633b62e70474be9d76068cdc1ea5/mountainsort4.simg',\n",
       " 'firings': 'sha1://9715ae26477b2446ca860be25e25833fe6b04e70/firings_out.mda',\n",
       " 'summary': {'plots': {'autocorrelograms': 'sha1://0fdcda29ef3e49f09b0fb73844fa06a5cfabccec/autocorrelograms.jpg'}},\n",
       " 'comparison_with_truth': {'json': 'sha1://cbc3f0d7beb8f94d3bf4287b38ca4b05782f94ec/table.json',\n",
       "  'html': 'sha1://b88805e970376cc3e814277195f947b898981535/table.html'}}"
      ]
     },
     "execution_count": 12,
     "metadata": {},
     "output_type": "execute_result"
    }
   ],
   "source": [
    "sorting"
   ]
  },
  {
   "cell_type": "code",
   "execution_count": 13,
   "metadata": {},
   "outputs": [
    {
     "data": {
      "text/plain": [
       "{'0': {'unit_id': 1,\n",
       "  'accuracy': '1.0000',\n",
       "  'best_unit': 1,\n",
       "  'matched_unit': 1,\n",
       "  'num_matches': 1398,\n",
       "  'num_false_negatives': 0,\n",
       "  'num_false_positives': 0,\n",
       "  'f_n': '0.0000',\n",
       "  'f_p': '0.0000'},\n",
       " '1': {'unit_id': 2,\n",
       "  'accuracy': '0.9929',\n",
       "  'best_unit': 4,\n",
       "  'matched_unit': 4,\n",
       "  'num_matches': 1393,\n",
       "  'num_false_negatives': 9,\n",
       "  'num_false_positives': 1,\n",
       "  'f_n': '0.0064',\n",
       "  'f_p': '0.0007'},\n",
       " '2': {'unit_id': 3,\n",
       "  'accuracy': '0.9858',\n",
       "  'best_unit': 3,\n",
       "  'matched_unit': 3,\n",
       "  'num_matches': 1389,\n",
       "  'num_false_negatives': 18,\n",
       "  'num_false_positives': 2,\n",
       "  'f_n': '0.0128',\n",
       "  'f_p': '0.0014'},\n",
       " '3': {'unit_id': 4,\n",
       "  'accuracy': '0.9833',\n",
       "  'best_unit': 7,\n",
       "  'matched_unit': 7,\n",
       "  'num_matches': 1417,\n",
       "  'num_false_negatives': 21,\n",
       "  'num_false_positives': 3,\n",
       "  'f_n': '0.0146',\n",
       "  'f_p': '0.0021'},\n",
       " '4': {'unit_id': 5,\n",
       "  'accuracy': '0.9782',\n",
       "  'best_unit': 5,\n",
       "  'matched_unit': 5,\n",
       "  'num_matches': 1391,\n",
       "  'num_false_negatives': 29,\n",
       "  'num_false_positives': 2,\n",
       "  'f_n': '0.0204',\n",
       "  'f_p': '0.0014'},\n",
       " '5': {'unit_id': 6,\n",
       "  'accuracy': '0.9809',\n",
       "  'best_unit': 8,\n",
       "  'matched_unit': 8,\n",
       "  'num_matches': 1383,\n",
       "  'num_false_negatives': 11,\n",
       "  'num_false_positives': 16,\n",
       "  'f_n': '0.0079',\n",
       "  'f_p': '0.0114'},\n",
       " '6': {'unit_id': 7,\n",
       "  'accuracy': '0.9815',\n",
       "  'best_unit': 10,\n",
       "  'matched_unit': 10,\n",
       "  'num_matches': 1376,\n",
       "  'num_false_negatives': 23,\n",
       "  'num_false_positives': 3,\n",
       "  'f_n': '0.0164',\n",
       "  'f_p': '0.0022'},\n",
       " '7': {'unit_id': 8,\n",
       "  'accuracy': '0.9840',\n",
       "  'best_unit': 9,\n",
       "  'matched_unit': 9,\n",
       "  'num_matches': 1415,\n",
       "  'num_false_negatives': 18,\n",
       "  'num_false_positives': 5,\n",
       "  'f_n': '0.0126',\n",
       "  'f_p': '0.0035'},\n",
       " '8': {'unit_id': 9,\n",
       "  'accuracy': '0.9886',\n",
       "  'best_unit': 12,\n",
       "  'matched_unit': 12,\n",
       "  'num_matches': 1386,\n",
       "  'num_false_negatives': 15,\n",
       "  'num_false_positives': 1,\n",
       "  'f_n': '0.0107',\n",
       "  'f_p': '0.0007'},\n",
       " '9': {'unit_id': 10,\n",
       "  'accuracy': '0.9958',\n",
       "  'best_unit': 14,\n",
       "  'matched_unit': 14,\n",
       "  'num_matches': 1415,\n",
       "  'num_false_negatives': 6,\n",
       "  'num_false_positives': 0,\n",
       "  'f_n': '0.0042',\n",
       "  'f_p': '0.0000'}}"
      ]
     },
     "execution_count": 13,
     "metadata": {},
     "output_type": "execute_result"
    }
   ],
   "source": [
    "ca.loadObject(path='sha1://cbc3f0d7beb8f94d3bf4287b38ca4b05782f94ec/table.json')"
   ]
  },
  {
   "cell_type": "code",
   "execution_count": null,
   "metadata": {},
   "outputs": [],
   "source": []
  }
 ],
 "metadata": {
  "kernelspec": {
   "display_name": "Python 3",
   "language": "python",
   "name": "python3"
  },
  "language_info": {
   "codemirror_mode": {
    "name": "ipython",
    "version": 3
   },
   "file_extension": ".py",
   "mimetype": "text/x-python",
   "name": "python",
   "nbconvert_exporter": "python",
   "pygments_lexer": "ipython3",
   "version": "3.7.2"
  }
 },
 "nbformat": 4,
 "nbformat_minor": 2
}
