{
 "cells": [
  {
   "cell_type": "code",
   "execution_count": 1,
   "metadata": {},
   "outputs": [],
   "source": [
    "%load_ext autoreload\n",
    "%autoreload 2\n",
    "import spikeforest_analysis as sa\n",
    "import spikeforest as sf\n",
    "from cairio import client as ca"
   ]
  },
  {
   "cell_type": "code",
   "execution_count": 2,
   "metadata": {},
   "outputs": [],
   "source": [
    "#ca.autoConfig(collection='spikeforest',key='spikeforest2-readwrite',ask_password=True)"
   ]
  },
  {
   "cell_type": "code",
   "execution_count": 19,
   "metadata": {},
   "outputs": [],
   "source": [
    "import os\n",
    "os.environ['MLPROCESSORS_FORCE_RUN']='FALSE'\n",
    "recording=dict(directory='kbucket://15734439d8cf/groundtruth/magland_synth/datasets_noise10_K10_C4/001_synth')\n",
    "recordings=[recording]"
   ]
  },
  {
   "cell_type": "code",
   "execution_count": 20,
   "metadata": {},
   "outputs": [],
   "source": [
    "sorter_ms4_thr3=dict(\n",
    "    name='MountainSort4-thr3',\n",
    "    processor_name='MountainSort4',\n",
    "    params=dict(\n",
    "        detect_sign=-1,\n",
    "        adjacency_radius=50,\n",
    "        detect_threshold=3.1\n",
    "    )\n",
    ")\n",
    "\n",
    "sorter_sc=dict(\n",
    "    name='SpykingCircus',\n",
    "    processor_name='SpykingCircus',\n",
    "    params=dict(\n",
    "        detect_sign=-1,\n",
    "        adjacency_radius=50\n",
    "    )\n",
    ")\n",
    "\n",
    "sorter_yass=dict(\n",
    "    name='yass',\n",
    "    processor_name='yass',\n",
    "    params=dict(\n",
    "        detect_sign=-1,\n",
    "        adjacency_radius=50\n",
    "    )   \n",
    ")\n",
    "sorters=[sorter_ms4_thr3,sorter_sc]"
   ]
  },
  {
   "cell_type": "code",
   "execution_count": 28,
   "metadata": {},
   "outputs": [
    {
     "name": "stdout",
     "output_type": "stream",
     "text": [
      ">>>>>> sort recordings\n",
      "Locating container: sha1://a3842053423c633b62e70474be9d76068cdc1ea5/mountainsort4.simg\n",
      "Sorting recordings using MountainSort4\n",
      "Retrieving batch batch_mi09iDd6ie\n",
      "Batch has 1 jobs.\n",
      "Cleared 0 jobs.\n",
      "Batch batch_mi09iDd6ie (initialized)\n",
      "JOBS: 0 ready, 0 running, 0 finished, 1 total\n",
      "Batch batch_mi09iDd6ie (running)\n",
      "JOBS: 1 ready, 0 running, 0 finished, 1 total\n",
      "Batch batch_mi09iDd6ie (running)\n",
      "JOBS: 0 ready, 0 running, 1 finished, 1 total\n",
      "Finished.\n",
      ">>>>>> summarize sortings\n",
      "Retrieving batch batch_IU5A5nIYoj\n",
      "Batch has 1 jobs.\n",
      "Cleared 0 jobs.\n",
      "Batch batch_IU5A5nIYoj (initialized)\n",
      "JOBS: 0 ready, 0 running, 0 finished, 1 total\n",
      "Batch batch_IU5A5nIYoj (running)\n",
      "JOBS: 1 ready, 0 running, 0 finished, 1 total\n",
      "Batch batch_IU5A5nIYoj (running)\n",
      "JOBS: 0 ready, 1 running, 0 finished, 1 total\n",
      "Finished.\n",
      ">>>>>> compare sortings with truth\n",
      "Retrieving batch batch_WolUJv8DnW\n",
      "Batch has 1 jobs.\n",
      "Cleared 0 jobs.\n",
      "Batch batch_WolUJv8DnW (initialized)\n",
      "JOBS: 0 ready, 0 running, 0 finished, 1 total\n",
      "Batch batch_WolUJv8DnW (running)\n",
      "JOBS: 1 ready, 0 running, 0 finished, 1 total\n",
      "Batch batch_WolUJv8DnW (running)\n",
      "JOBS: 0 ready, 1 running, 0 finished, 1 total\n",
      "Finished.\n",
      ">>>>>> sort recordings\n",
      "Locating container: sha1://487fe664853285e65f8130a1138a4415f8acc4ca/spyking_circus.simg\n",
      "Sorting recordings using SpykingCircus\n",
      "Computing sha1 of /tmp/sha1-cache/4/87/487fe664853285e65f8130a1138a4415f8acc4ca\n",
      "Retrieving batch batch_1SHjb7rsbQ\n",
      "Batch has 1 jobs.\n",
      "Cleared 0 jobs.\n",
      "Batch batch_1SHjb7rsbQ (initialized)\n",
      "JOBS: 0 ready, 0 running, 0 finished, 1 total\n",
      "Batch batch_1SHjb7rsbQ (running)\n",
      "JOBS: 1 ready, 0 running, 0 finished, 1 total\n",
      "Batch batch_1SHjb7rsbQ (running)\n",
      "JOBS: 0 ready, 1 running, 0 finished, 1 total\n",
      "Finished.\n",
      ">>>>>> summarize sortings\n",
      "Retrieving batch batch_9SFGyzf86k\n",
      "Batch has 1 jobs.\n",
      "Cleared 0 jobs.\n",
      "Batch batch_9SFGyzf86k (initialized)\n",
      "JOBS: 0 ready, 0 running, 0 finished, 1 total\n",
      "Batch batch_9SFGyzf86k (running)\n",
      "JOBS: 1 ready, 0 running, 0 finished, 1 total\n",
      "Batch batch_9SFGyzf86k (running)\n",
      "JOBS: 0 ready, 1 running, 0 finished, 1 total\n",
      "Finished.\n",
      ">>>>>> compare sortings with truth\n",
      "Retrieving batch batch_duANOfWzvf\n",
      "Batch has 1 jobs.\n",
      "Cleared 0 jobs.\n",
      "Batch batch_duANOfWzvf (initialized)\n",
      "JOBS: 0 ready, 0 running, 0 finished, 1 total\n",
      "Batch batch_duANOfWzvf (running)\n",
      "JOBS: 1 ready, 0 running, 0 finished, 1 total\n",
      "Batch batch_duANOfWzvf (running)\n",
      "JOBS: 0 ready, 1 running, 0 finished, 1 total\n",
      "Batch batch_duANOfWzvf (running)\n",
      "JOBS: 0 ready, 0 running, 1 finished, 1 total\n",
      "Finished.\n"
     ]
    }
   ],
   "source": [
    "compute_resource='jfm-laptop'\n",
    "recordings_B=sa.summarize_recordings(recordings=recordings,compute_resource=compute_resource)\n",
    "sorting_results=[]\n",
    "for sorter in sorters:\n",
    "    sortings_A=sa.sort_recordings(sorter=sorter,recordings=recordings_B,compute_resource=compute_resource)\n",
    "    sortings_B=sa.summarize_sortings(sortings=sortings_A,compute_resource=compute_resource)\n",
    "    sortings_C=sa.compare_sortings_with_truth(sortings=sortings_B,compute_resource=compute_resource)\n",
    "    sorting_results=sorting_results+sortings_C"
   ]
  },
  {
   "cell_type": "code",
   "execution_count": 18,
   "metadata": {},
   "outputs": [
    {
     "data": {
      "text/plain": [
       "[{'recording_name': None,\n",
       "  'study_name': None,\n",
       "  'sorter_name': 'MountainSort4-thr3',\n",
       "  'recording_dir': 'kbucket://15734439d8cf/groundtruth/magland_synth/datasets_noise10_K10_C4/001_synth',\n",
       "  'channels': [],\n",
       "  'units_true': [],\n",
       "  'firings_true': 'kbucket://15734439d8cf/groundtruth/magland_synth/datasets_noise10_K10_C4/001_synth/firings_true.mda',\n",
       "  'sorting_params': {'detect_sign': -1,\n",
       "   'adjacency_radius': 50,\n",
       "   'detect_threshold': 3.1},\n",
       "  'processor_name': 'MountainSort4',\n",
       "  'processor_version': '4.2.0',\n",
       "  'console_out': 'sha1://188838949b7d528a4adac01daa514fefe76e9ed4/console_out.txt',\n",
       "  'container': 'sha1://a3842053423c633b62e70474be9d76068cdc1ea5/mountainsort4.simg',\n",
       "  'firings': 'sha1://c16becd282fccf16982b6e070cdfadeff3823396/firings_out.mda'}]"
      ]
     },
     "execution_count": 18,
     "metadata": {},
     "output_type": "execute_result"
    }
   ],
   "source": [
    "sortings_A"
   ]
  },
  {
   "cell_type": "code",
   "execution_count": null,
   "metadata": {},
   "outputs": [],
   "source": [
    "summaries=sa.summarize_recordings(recordings=[recording],compute_resource=None)#'ccmlin008-default')\n",
    "recording['summary']=summaries[0]"
   ]
  },
  {
   "cell_type": "code",
   "execution_count": null,
   "metadata": {},
   "outputs": [],
   "source": [
    "sorter_ms4_thr3=dict(\n",
    "    name='MountainSort4-thr3',\n",
    "    processor_name='MountainSort4',\n",
    "    params=dict(\n",
    "        detect_sign=-1,\n",
    "        adjacency_radius=50,\n",
    "        detect_threshold=3.1\n",
    "    )\n",
    ")\n",
    "\n",
    "sorter_sc=dict(\n",
    "    name='SpykingCircus',\n",
    "    processor_name='SpykingCircus',\n",
    "    params=dict(\n",
    "        detect_sign=-1,\n",
    "        adjacency_radius=50\n",
    "    )\n",
    ")\n",
    "\n",
    "sorter_yass=dict(\n",
    "    name='yass',\n",
    "    processor_name='yass',\n",
    "    params=dict(\n",
    "        detect_sign=-1,\n",
    "        adjacency_radius=50\n",
    "    )\n",
    "    \n",
    ")\n",
    "\n",
    "compute_resource=None\n",
    "#sorting_ms4=sa.sort_recordings(recordings=[recording],sorter=sorter_ms4_thr3,compute_resource=compute_resource)[0]\n",
    "#sorting_sc=sa.sort_recordings(recordings=[recording],sorter=sorter_sc,compute_resource=compute_resource)[0]\n",
    "sorting_yass=sa.sort_recordings(recordings=[recording],sorter=sorter_yass,compute_resource=compute_resource)[0]"
   ]
  },
  {
   "cell_type": "code",
   "execution_count": 7,
   "metadata": {},
   "outputs": [
    {
     "data": {
      "text/plain": [
       "{'recording_name': None,\n",
       " 'study_name': None,\n",
       " 'sorter_name': 'MountainSort4-thr3',\n",
       " 'recording_dir': 'kbucket://15734439d8cf/groundtruth/magland_synth/datasets_noise10_K10_C4/001_synth',\n",
       " 'channels': [],\n",
       " 'units_true': [],\n",
       " 'firings_true': 'kbucket://15734439d8cf/groundtruth/magland_synth/datasets_noise10_K10_C4/001_synth/firings_true.mda',\n",
       " 'sorting_params': {'detect_sign': -1,\n",
       "  'adjacency_radius': 50,\n",
       "  'detect_threshold': 3.1},\n",
       " 'processor_name': 'MountainSort4',\n",
       " 'processor_version': '4.2.0',\n",
       " 'console_out': 'sha1://f45b7b62eb02d24e46b495a2199322de8bb4d713/console_out.txt',\n",
       " 'container': 'sha1://a3842053423c633b62e70474be9d76068cdc1ea5/mountainsort4.simg',\n",
       " 'firings': 'sha1://9715ae26477b2446ca860be25e25833fe6b04e70/firings_out.mda'}"
      ]
     },
     "metadata": {},
     "output_type": "display_data"
    },
    {
     "name": "stdout",
     "output_type": "stream",
     "text": [
      "CAIRIO CONFIG: remote database spikeforest (readwrite); remote kb-share 69432e9201d0 (readwrite)\n",
      "::::::::::::::::::::::::::::: MountainSort4\n",
      "Found output \"firings_out\" in cairio.\n",
      "Using outputs from cache.\n",
      "copying file: /mnt/ceph/users/magland/sha1-cache/9/71/9715ae26477b2446ca860be25e25833fe6b04e70 -> /tmp/tmp5_gkwqnj/output_firings_out.mda\n",
      "\n"
     ]
    },
    {
     "data": {
      "text/plain": [
       "{'recording_name': None,\n",
       " 'study_name': None,\n",
       " 'sorter_name': 'SpykingCircus',\n",
       " 'recording_dir': 'kbucket://15734439d8cf/groundtruth/magland_synth/datasets_noise10_K10_C4/001_synth',\n",
       " 'channels': [],\n",
       " 'units_true': [],\n",
       " 'firings_true': 'kbucket://15734439d8cf/groundtruth/magland_synth/datasets_noise10_K10_C4/001_synth/firings_true.mda',\n",
       " 'sorting_params': {'detect_sign': -1, 'adjacency_radius': 50},\n",
       " 'processor_name': 'SpykingCircus',\n",
       " 'processor_version': '0.2.0',\n",
       " 'console_out': 'sha1://b7967970ca1fca09ce272540c5192669e08cdd16/console_out.txt',\n",
       " 'container': 'sha1://487fe664853285e65f8130a1138a4415f8acc4ca/spyking_circus.simg',\n",
       " 'firings': 'sha1://b47523d679d834eb36196487c872752b54a6693d/firings_out.mda'}"
      ]
     },
     "metadata": {},
     "output_type": "display_data"
    },
    {
     "name": "stdout",
     "output_type": "stream",
     "text": [
      "CAIRIO CONFIG: remote database spikeforest (readwrite); remote kb-share 69432e9201d0 (readwrite)\n",
      "::::::::::::::::::::::::::::: SpykingCircus\n",
      "RUNNING: singularity exec -B /mnt/ceph/users/magland/sha1-cache:/sha1-cache -B /tmp:/tmp -B /tmp/tmpblj162er:/execute_in_container/outputdir_firings_out -B /tmp/tmpblj162er/processor_source:/execute_in_container/processor_source -B /tmp/tmp4evs6yn8/execute_in_container.py:/execute_in_container/execute_in_container.py --contain -e /mnt/ceph/users/magland/sha1-cache/4/87/487fe664853285e65f8130a1138a4415f8acc4ca bash -c \"KBUCKET_CACHE_DIR=/sha1-cache  python /execute_in_container/execute_in_container.py\"\n",
      "::::::::::::::::::::::::::::: SpykingCircus\n",
      "\n",
      "MLPR EXECUTING::::::::::::::::::::::::::::: SpykingCircus\n",
      "\n",
      "'group' property is not available and it will not be saved.\n",
      "\n",
      "Running spyking circus...\n",
      "\n",
      "RUNNING: spyking-circus /tmp/ironclust-tmp-CVBWNZRMJC/spyking_circus/recording.npy  \n",
      "\n",
      "\n",
      "\n",
      "\n",
      "  0%|                                            |[00:00<?, ?it/s]\n",
      "\n",
      " 50\n"
     ]
    }
   ],
   "source": [
    "display(sorting_ms4)\n",
    "print(ca.loadText(path=sorting_ms4['console_out'])[0:1000])\n",
    "display(sorting_sc)\n",
    "print(ca.loadText(path=sorting_sc['console_out'])[0:1000])"
   ]
  },
  {
   "cell_type": "code",
   "execution_count": 9,
   "metadata": {},
   "outputs": [
    {
     "name": "stdout",
     "output_type": "stream",
     "text": [
      "::::::::::::::::::::::::::::: spikeforest.PlotAutoCorrelograms\n",
      "Found output \"plot_out\" in cairio.\n",
      "Using outputs from cache.\n",
      "::::::::::::::::::::::::::::: GenSortingComparisonTable\n",
      "Testing whether share 15734439d8cf is directly accessible...\n",
      "Share 15734439d8cf is not directly accessible.\n",
      "Found output \"json_out\" in cairio.\n",
      "Found output \"html_out\" in cairio.\n",
      "Using outputs from cache.\n"
     ]
    }
   ],
   "source": [
    "sorting_ms4['summary']=sa.summarize_sorting(sorting=sorting_ms4)\n",
    "sorting_ms4['comparison_with_truth']=sa.compare_with_truth(sorting=sorting_ms4)"
   ]
  },
  {
   "cell_type": "code",
   "execution_count": 12,
   "metadata": {},
   "outputs": [
    {
     "data": {
      "text/plain": [
       "{'recording_name': None,\n",
       " 'study_name': None,\n",
       " 'sorter_name': 'MountainSort4-thr3',\n",
       " 'recording_dir': 'kbucket://15734439d8cf/groundtruth/magland_synth/datasets_noise10_K10_C4/001_synth',\n",
       " 'channels': [],\n",
       " 'units_true': [],\n",
       " 'firings_true': 'kbucket://15734439d8cf/groundtruth/magland_synth/datasets_noise10_K10_C4/001_synth/firings_true.mda',\n",
       " 'sorting_params': {'detect_sign': -1,\n",
       "  'adjacency_radius': 50,\n",
       "  'detect_threshold': 3.1},\n",
       " 'processor_name': 'MountainSort4',\n",
       " 'processor_version': '4.2.0',\n",
       " 'execution_stats': {'start_time': 1549634787.057781,\n",
       "  'end_time': 1549634808.3937225,\n",
       "  'elapsed_sec': 21.335941553115845},\n",
       " 'console_out': 'sha1://e0da24aeb174f787d2c1d6edc76b857b19906d62/console_out.txt',\n",
       " 'container': 'sha1://a3842053423c633b62e70474be9d76068cdc1ea5/mountainsort4.simg',\n",
       " 'firings': 'sha1://9715ae26477b2446ca860be25e25833fe6b04e70/firings_out.mda',\n",
       " 'summary': {'plots': {'autocorrelograms': 'sha1://0fdcda29ef3e49f09b0fb73844fa06a5cfabccec/autocorrelograms.jpg'}},\n",
       " 'comparison_with_truth': {'json': 'sha1://cbc3f0d7beb8f94d3bf4287b38ca4b05782f94ec/table.json',\n",
       "  'html': 'sha1://b88805e970376cc3e814277195f947b898981535/table.html'}}"
      ]
     },
     "execution_count": 12,
     "metadata": {},
     "output_type": "execute_result"
    }
   ],
   "source": [
    "sorting"
   ]
  },
  {
   "cell_type": "code",
   "execution_count": 13,
   "metadata": {},
   "outputs": [
    {
     "data": {
      "text/plain": [
       "{'0': {'unit_id': 1,\n",
       "  'accuracy': '1.0000',\n",
       "  'best_unit': 1,\n",
       "  'matched_unit': 1,\n",
       "  'num_matches': 1398,\n",
       "  'num_false_negatives': 0,\n",
       "  'num_false_positives': 0,\n",
       "  'f_n': '0.0000',\n",
       "  'f_p': '0.0000'},\n",
       " '1': {'unit_id': 2,\n",
       "  'accuracy': '0.9929',\n",
       "  'best_unit': 4,\n",
       "  'matched_unit': 4,\n",
       "  'num_matches': 1393,\n",
       "  'num_false_negatives': 9,\n",
       "  'num_false_positives': 1,\n",
       "  'f_n': '0.0064',\n",
       "  'f_p': '0.0007'},\n",
       " '2': {'unit_id': 3,\n",
       "  'accuracy': '0.9858',\n",
       "  'best_unit': 3,\n",
       "  'matched_unit': 3,\n",
       "  'num_matches': 1389,\n",
       "  'num_false_negatives': 18,\n",
       "  'num_false_positives': 2,\n",
       "  'f_n': '0.0128',\n",
       "  'f_p': '0.0014'},\n",
       " '3': {'unit_id': 4,\n",
       "  'accuracy': '0.9833',\n",
       "  'best_unit': 7,\n",
       "  'matched_unit': 7,\n",
       "  'num_matches': 1417,\n",
       "  'num_false_negatives': 21,\n",
       "  'num_false_positives': 3,\n",
       "  'f_n': '0.0146',\n",
       "  'f_p': '0.0021'},\n",
       " '4': {'unit_id': 5,\n",
       "  'accuracy': '0.9782',\n",
       "  'best_unit': 5,\n",
       "  'matched_unit': 5,\n",
       "  'num_matches': 1391,\n",
       "  'num_false_negatives': 29,\n",
       "  'num_false_positives': 2,\n",
       "  'f_n': '0.0204',\n",
       "  'f_p': '0.0014'},\n",
       " '5': {'unit_id': 6,\n",
       "  'accuracy': '0.9809',\n",
       "  'best_unit': 8,\n",
       "  'matched_unit': 8,\n",
       "  'num_matches': 1383,\n",
       "  'num_false_negatives': 11,\n",
       "  'num_false_positives': 16,\n",
       "  'f_n': '0.0079',\n",
       "  'f_p': '0.0114'},\n",
       " '6': {'unit_id': 7,\n",
       "  'accuracy': '0.9815',\n",
       "  'best_unit': 10,\n",
       "  'matched_unit': 10,\n",
       "  'num_matches': 1376,\n",
       "  'num_false_negatives': 23,\n",
       "  'num_false_positives': 3,\n",
       "  'f_n': '0.0164',\n",
       "  'f_p': '0.0022'},\n",
       " '7': {'unit_id': 8,\n",
       "  'accuracy': '0.9840',\n",
       "  'best_unit': 9,\n",
       "  'matched_unit': 9,\n",
       "  'num_matches': 1415,\n",
       "  'num_false_negatives': 18,\n",
       "  'num_false_positives': 5,\n",
       "  'f_n': '0.0126',\n",
       "  'f_p': '0.0035'},\n",
       " '8': {'unit_id': 9,\n",
       "  'accuracy': '0.9886',\n",
       "  'best_unit': 12,\n",
       "  'matched_unit': 12,\n",
       "  'num_matches': 1386,\n",
       "  'num_false_negatives': 15,\n",
       "  'num_false_positives': 1,\n",
       "  'f_n': '0.0107',\n",
       "  'f_p': '0.0007'},\n",
       " '9': {'unit_id': 10,\n",
       "  'accuracy': '0.9958',\n",
       "  'best_unit': 14,\n",
       "  'matched_unit': 14,\n",
       "  'num_matches': 1415,\n",
       "  'num_false_negatives': 6,\n",
       "  'num_false_positives': 0,\n",
       "  'f_n': '0.0042',\n",
       "  'f_p': '0.0000'}}"
      ]
     },
     "execution_count": 13,
     "metadata": {},
     "output_type": "execute_result"
    }
   ],
   "source": [
    "ca.loadObject(path='sha1://cbc3f0d7beb8f94d3bf4287b38ca4b05782f94ec/table.json')"
   ]
  },
  {
   "cell_type": "code",
   "execution_count": null,
   "metadata": {},
   "outputs": [],
   "source": []
  }
 ],
 "metadata": {
  "kernelspec": {
   "display_name": "Python 3",
   "language": "python",
   "name": "python3"
  },
  "language_info": {
   "codemirror_mode": {
    "name": "ipython",
    "version": 3
   },
   "file_extension": ".py",
   "mimetype": "text/x-python",
   "name": "python",
   "nbconvert_exporter": "python",
   "pygments_lexer": "ipython3",
   "version": "3.7.2"
  }
 },
 "nbformat": 4,
 "nbformat_minor": 2
}
