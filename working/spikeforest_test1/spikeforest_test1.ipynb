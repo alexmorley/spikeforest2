{
 "cells": [
  {
   "cell_type": "code",
   "execution_count": 1,
   "metadata": {},
   "outputs": [],
   "source": [
    "%load_ext autoreload\n",
    "%autoreload 2\n",
    "import spikeforest_analysis as sa\n",
    "import spikeforest as sf\n",
    "from cairio import client as ca"
   ]
  },
  {
   "cell_type": "code",
   "execution_count": 2,
   "metadata": {},
   "outputs": [
    {
     "name": "stdin",
     "output_type": "stream",
     "text": [
      "Enter password:  ····\n"
     ]
    },
    {
     "name": "stdout",
     "output_type": "stream",
     "text": [
      "CAIRIO CONFIG: remote database spikeforest (readwrite); remote kb-share 69432e9201d0 (readwrite)\n"
     ]
    }
   ],
   "source": [
    "ca.autoConfig(collection='spikeforest',key='spikeforest2-readwrite',ask_password=True)"
   ]
  },
  {
   "cell_type": "code",
   "execution_count": 3,
   "metadata": {},
   "outputs": [],
   "source": [
    "recording=dict(directory='kbucket://15734439d8cf/groundtruth/magland_synth/datasets_noise10_K10_C4/001_synth')"
   ]
  },
  {
   "cell_type": "code",
   "execution_count": 4,
   "metadata": {},
   "outputs": [
    {
     "name": "stdout",
     "output_type": "stream",
     "text": [
      "Testing whether share 15734439d8cf is directly accessible...\n",
      "Share 15734439d8cf is not directly accessible.\n",
      "Testing whether share 69432e9201d0 is directly accessible...\n",
      "Share 69432e9201d0 is directly accessible.\n",
      "Retrieving batch batch_XGncK1iAgW\n",
      "Batch has 3 jobs.\n",
      "Cleared 0 jobs.\n",
      "Uploading file --- (37 B): /tmp/tmp_cairioclient_qrtkkvxege.txt -> http://132.249.245.246:24342/upload/37ff72f56d25b8757fe3b311251fc02d28dc44c3?signature=49d26ce2295191e913f27fe25e855a0ee7d9f739\n",
      "Batch batch_XGncK1iAgW (initialized)\n",
      "JOBS: 0 ready, 0 running, 0 finished, 3 total\n",
      "Batch batch_XGncK1iAgW (preparing)\n",
      "JOBS: 2 ready, 0 running, 0 finished, 3 total\n",
      "Batch batch_XGncK1iAgW (running)\n",
      "JOBS: 3 ready, 0 running, 0 finished, 3 total\n",
      "Batch batch_XGncK1iAgW (running)\n",
      "JOBS: 0 ready, 3 running, 0 finished, 3 total\n",
      "Batch batch_XGncK1iAgW (running)\n",
      "JOBS: 0 ready, 0 running, 3 finished, 3 total\n",
      "Batch batch_XGncK1iAgW (assembling)\n",
      "JOBS: 0 ready, 0 running, 3 finished, 3 total\n",
      "Batch batch_XGncK1iAgW (done_assembling)\n",
      "JOBS: 0 ready, 0 running, 3 finished, 3 total\n",
      "Finished.\n",
      "{'outputs': {'jpg_out': 'sha1://cd0958b1f58faed6764e703deb3b70e59b2f1d27/jpg_out.jpg'}, 'console_out': 'CAIRIO CONFIG: remote database spikeforest (readwrite); remote kb-share 69432e9201d0 (readwrite)\\n::::::::::::::::::::::::::::: CreateTimeseriesPlot\\nFound output \"jpg_out\" in cairio.\\nUsing outputs from cache.\\ncopying file: /tmp/sha1-cache/c/d0/cd0958b1f58faed6764e703deb3b70e59b2f1d27 -> /tmp/tmpfouhsdit/output_jpg_out.jpg\\n'}\n"
     ]
    }
   ],
   "source": [
    "summaries=sa.summarize_recordings(recordings=[recording])\n",
    "recording['summary']=summaries[0]"
   ]
  },
  {
   "cell_type": "code",
   "execution_count": 12,
   "metadata": {},
   "outputs": [],
   "source": [
    "import os\n",
    "os.environ['MLPROCESSORS_FORCE_RUN']='TRUE'"
   ]
  },
  {
   "cell_type": "code",
   "execution_count": 13,
   "metadata": {},
   "outputs": [
    {
     "name": "stdout",
     "output_type": "stream",
     "text": [
      "Locating container: sha1://a3842053423c633b62e70474be9d76068cdc1ea5/mountainsort4.simg\n",
      "Sorting recording kbucket://15734439d8cf/groundtruth/magland_synth/datasets_noise10_K10_C4/001_synth using MountainSort4\n",
      "::::::::::::::::::::::::::::: MountainSort4\n",
      "Found output \"firings_out\" in cairio.\n",
      "Found outputs in cache, but forcing run...\n",
      "RUNNING: singularity exec -B /tmp/sha1-cache:/sha1-cache -B /tmp:/tmp -B /tmp/mlprocessors:/execute_in_container/outputdir_firings_out -B /home/project/spikesorters/mountainsort4:/execute_in_container/processor_source -B /tmp/tmper_gz3s0/execute_in_container.py:/execute_in_container/execute_in_container.py --contain -e /tmp/sha1-cache/a/38/a3842053423c633b62e70474be9d76068cdc1ea5 bash -c \"KBUCKET_CACHE_DIR=/sha1-cache  python /execute_in_container/execute_in_container.py\"\n",
      "::::::::::::::::::::::::::::: MountainSort4\n",
      "MLPR EXECUTING::::::::::::::::::::::::::::: MountainSort4\n",
      "MountainSort4......\n",
      "Using {} workers None\n",
      "Using 4 workers.\n",
      "Using tmpdir: /tmp/tmppoykv497\n",
      "Num. workers = 4\n",
      "Preparing /tmp/tmppoykv497/timeseries.hdf5...\n",
      "Preparing neighborhood sorters (M=4, N=18000000)...\n",
      "/usr/lib/python3.6/importlib/_bootstrap.py:219: RuntimeWarning: numpy.ufunc size changed, may indicate binary incompatibility. Expected 216, got 192\n",
      "  return f(*args, **kwds)\n",
      "/usr/lib/python3.6/importlib/_bootstrap.py:219: ImportWarning: can't resolve package from __spec__ or __package__, falling back on __name__ and __path__\n",
      "  return f(*args, **kwds)\n",
      "/usr/lib/python3.6/importlib/_bootstrap.py:219: RuntimeWarning: numpy.ufunc size changed, may indicate binary incompatibility. Expected 216, got 192\n",
      "  return f(*args, **kwds)\n",
      "/usr/lib/python3.6/importlib/_bootstrap.py:219: ImportWarning: can't resolve package from __spec__ or __package__, falling back on __name__ and __path__\n",
      "  return f(*args, **kwds)\n",
      "/usr/lib/python3.6/importlib/_bootstrap.py:219: RuntimeWarning: numpy.ufunc size changed, may indicate binary incompatibility. Expected 192 from C header, got 216 from PyObject\n",
      "  return f(*args, **kwds)\n",
      "Neighboorhood of channel 0 has 4 channels.\n",
      "Detecting events on channel 1 (phase1)...\n",
      "Neighboorhood of channel 1 has 4 channels.\n",
      "Detecting events on channel 2 (phase1)...\n",
      "Neighboorhood of channel 2 has 4 channels.\n",
      "Detecting events on channel 3 (phase1)...\n",
      "Neighboorhood of channel 3 has 4 channels.\n",
      "Detecting events on channel 4 (phase1)...\n",
      "Elapsed time for detect on neighborhood: 0:00:03.519141\n",
      "Num events detected on channel 3 (phase1): 14399\n",
      "Computing PCA features for channel 3 (phase1)...\n",
      "Elapsed time for detect on neighborhood: 0:00:03.557548\n",
      "Num events detected on channel 2 (phase1): 16252\n",
      "Computing PCA features for channel 2 (phase1)...\n",
      "Elapsed time for detect on neighborhood: 0:00:03.817436\n",
      "Num events detected on channel 4 (phase1): 15464\n",
      "Computing PCA features for channel 4 (phase1)...\n",
      "Elapsed time for detect on neighborhood: 0:00:03.848224\n",
      "Num events detected on channel 1 (phase1): 10049\n",
      "Computing PCA features for channel 1 (phase1)...\n",
      "Clustering for channel 3 (phase1)...\n",
      "Clustering for channel 1 (phase1)...\n",
      "Clustering for channel 2 (phase1)...\n",
      "Clustering for channel 4 (phase1)...\n",
      "Found 11 clusters for channel 1 (phase1)...\n",
      "Computing templates for channel 1 (phase1)...\n",
      "Found 11 clusters for channel 3 (phase1)...\n",
      "Computing templates for channel 3 (phase1)...\n",
      "Found 11 clusters for channel 2 (phase1)...\n",
      "Computing templates for channel 2 (phase1)...\n",
      "Found 11 clusters for channel 4 (phase1)...\n",
      "Computing templates for channel 4 (phase1)...\n",
      "Re-assigning events for channel 1 (phase1)...\n",
      "Re-assigning 4 events from 1 to 2 with dt=-3 (k=1)\n",
      "Re-assigning 1 events from 1 to 3 with dt=-5 (k=4)\n",
      "Re-assigning 2 events from 1 to 2 with dt=-3 (k=5)\n",
      "Re-assigning events for channel 3 (phase1)...\n",
      "Re-assigning 257 events from 3 to 2 with dt=-1 (k=1)\n",
      "Re-assigning 2 events from 3 to 1 with dt=-7 (k=3)\n",
      "Re-assigning 1 events from 3 to 2 with dt=-3 (k=6)\n",
      "Re-assigning 115 events from 3 to 1 with dt=-2 (k=10)\n",
      "Re-assigning events for channel 2 (phase1)...\n",
      "Re-assigning 33 events from 2 to 3 with dt=-4 (k=3)\n",
      "Re-assigning 491 events from 2 to 3 with dt=-1 (k=4)\n",
      "Re-assigning 6 events from 2 to 1 with dt=1 (k=5)\n",
      "Re-assigning 10 events from 2 to 3 with dt=-3 (k=6)\n",
      "Re-assigning events for channel 4 (phase1)...\n",
      "Re-assigning 60 events from 4 to 2 with dt=-5 (k=2)\n",
      "Re-assigning 32 events from 4 to 3 with dt=-1 (k=3)\n",
      "Re-assigning 1 events from 4 to 3 with dt=-4 (k=5)\n",
      "Re-assigning 3 events from 4 to 3 with dt=2 (k=6)\n",
      "Re-assigning 5 events from 4 to 1 with dt=-5 (k=9)\n",
      "Neighboorhood of channel 0 has 4 channels.\n",
      "Computing PCA features for channel 1 (phase2)...\n",
      "Neighboorhood of channel 3 has 4 channels.\n",
      "Computing PCA features for channel 4 (phase2)...\n",
      "Neighboorhood of channel 1 has 4 channels.\n",
      "Computing PCA features for channel 2 (phase2)...\n",
      "Neighboorhood of channel 2 has 4 channels.\n",
      "Computing PCA features for channel 3 (phase2)...\n",
      "No duplicate events found for channel 0 in phase2\n",
      "Clustering for channel 1 (phase2)...\n",
      "No duplicate events found for channel 1 in phase2\n",
      "Clustering for channel 2 (phase2)...\n",
      "No duplicate events found for channel 2 in phase2\n",
      "Clustering for channel 3 (phase2)...\n",
      "No duplicate events found for channel 3 in phase2\n",
      "Clustering for channel 4 (phase2)...\n",
      "Found 3 clusters for channel 1 (phase2)...\n",
      "Found 2 clusters for channel 4 (phase2)...\n",
      "Found 4 clusters for channel 2 (phase2)...\n",
      "Found 5 clusters for channel 3 (phase2)...\n",
      "Preparing output...\n",
      "Done with ms4alg.\n",
      "Cleaning tmpdir::::: /tmp/tmppoykv497\n",
      "MLPR FINISHED ::::::::::::::::::::::::::::: MountainSort4\n",
      "Uploading file --- (100 B): /tmp/tmp_cairioclient_jiwgqgokzg.txt -> http://132.249.245.246:24342/upload/a832950ca4b5e4f44b698847056237ac7e98b2f4?signature=507d95991c889a1f34eeaddef62e6f340de73536\n",
      "Uploading file --- (4.6 KiB): /tmp/tmp_cairioclient_jmqfiqlnhw.txt -> http://132.249.245.246:24342/upload/e0da24aeb174f787d2c1d6edc76b857b19906d62?signature=d7ca4b23ea1b3151ff7161aea88b44fd6b010ba9\n",
      "Saving firings_out...\n",
      "Uploading file --- (580.0 KiB): /tmp/sha1-cache/9/71/9715ae26477b2446ca860be25e25833fe6b04e70 -> http://132.249.245.246:24342/upload/9715ae26477b2446ca860be25e25833fe6b04e70?signature=5eea7bbb6f58dbf2464e39810e3ba5e04755f095\n",
      "Assembling result...\n",
      "Already on server (**)\n",
      "Done sorting.\n"
     ]
    }
   ],
   "source": [
    "sorter_ms4_thr3=dict(\n",
    "    name='MountainSort4-thr3',\n",
    "    processor_name='MountainSort4',\n",
    "    params=dict(\n",
    "        detect_sign=-1,\n",
    "        adjacency_radius=50,\n",
    "        detect_threshold=3.1\n",
    "    )\n",
    ")\n",
    "\n",
    "sorting=sa.sort_recording(recording=recording,sorter=sorter_ms4_thr3)"
   ]
  },
  {
   "cell_type": "code",
   "execution_count": 14,
   "metadata": {},
   "outputs": [
    {
     "data": {
      "text/plain": [
       "{'recording_name': None,\n",
       " 'study_name': None,\n",
       " 'sorter_name': 'MountainSort4-thr3',\n",
       " 'recording_dir': 'kbucket://15734439d8cf/groundtruth/magland_synth/datasets_noise10_K10_C4/001_synth',\n",
       " 'channels': [],\n",
       " 'units_true': [],\n",
       " 'firings_true': 'kbucket://15734439d8cf/groundtruth/magland_synth/datasets_noise10_K10_C4/001_synth/firings_true.mda',\n",
       " 'sorting_params': {'detect_sign': -1,\n",
       "  'adjacency_radius': 50,\n",
       "  'detect_threshold': 3.1},\n",
       " 'processor_name': 'MountainSort4',\n",
       " 'processor_version': '4.2.0',\n",
       " 'execution_stats': {'start_time': 1549634787.057781,\n",
       "  'end_time': 1549634808.3937225,\n",
       "  'elapsed_sec': 21.335941553115845},\n",
       " 'console_out': 'sha1://e0da24aeb174f787d2c1d6edc76b857b19906d62/console_out.txt',\n",
       " 'container': 'sha1://a3842053423c633b62e70474be9d76068cdc1ea5/mountainsort4.simg',\n",
       " 'firings': 'sha1://9715ae26477b2446ca860be25e25833fe6b04e70/9715ae26477b2446ca860be25e25833fe6b04e70'}"
      ]
     },
     "execution_count": 14,
     "metadata": {},
     "output_type": "execute_result"
    }
   ],
   "source": [
    "sorting"
   ]
  },
  {
   "cell_type": "code",
   "execution_count": 15,
   "metadata": {},
   "outputs": [],
   "source": [
    "from cairio import client as ca"
   ]
  },
  {
   "cell_type": "code",
   "execution_count": 16,
   "metadata": {},
   "outputs": [
    {
     "name": "stdout",
     "output_type": "stream",
     "text": [
      "::::::::::::::::::::::::::::: MountainSort4\n",
      "MLPR EXECUTING::::::::::::::::::::::::::::: MountainSort4\n",
      "MountainSort4......\n",
      "Using {} workers None\n",
      "Using 4 workers.\n",
      "Using tmpdir: /tmp/tmppoykv497\n",
      "Num. workers = 4\n",
      "Preparing /tmp/tmppoykv497/timeseries.hdf5...\n",
      "Preparing neighborhood sorters (M=4, N=18000000)...\n",
      "/usr/lib/python3.6/importlib/_bootstrap.py:219: RuntimeWarning: numpy.ufunc size changed, may indicate binary incompatibility. Expected 216, got 192\n",
      "  return f(*args, **kwds)\n",
      "/usr/lib/python3.6/importlib/_bootstrap.py:219: ImportWarning: can't resolve package from __spec__ or __package__, falling back on __name__ and __path__\n",
      "  return f(*args, **kwds)\n",
      "/usr/lib/python3.6/importlib/_bootstrap.py:219: RuntimeWarning: numpy.ufunc size changed, may indicate binary incompatibility. Expected 216, got 192\n",
      "  return f(*args, **kwds)\n",
      "/usr/lib/python3.6/importlib/_bootstrap.py:219: ImportWarning: can't resolve package from __spec__ or __package__, falling back on __name__ and __path__\n",
      "  return f(*args, **kwds)\n",
      "/usr/lib/python3.6/importlib/_bootstrap.py:219: RuntimeWarning: numpy.ufunc size changed, may indicate binary incompatibility. Expected 192 from C header, got 216 from PyObject\n",
      "  return f(*args, **kwds)\n",
      "Neighboorhood of channel 0 has 4 channels.\n",
      "Detecting events on channel 1 (phase1)...\n",
      "Neighboorhood of channel 1 has 4 channels.\n",
      "Detecting events on channel 2 (phase1)...\n",
      "Neighboorhood of channel 2 has 4 channels.\n",
      "Detecting events on channel 3 (phase1)...\n",
      "Neighboorhood of channel 3 has 4 channels.\n",
      "Detecting events on channel 4 (phase1)...\n",
      "Elapsed time for detect on neighborhood: 0:00:03.519141\n",
      "Num events detected on channel 3 (phase1): 14399\n",
      "Computing PCA features for channel 3 (phase1)...\n",
      "Elapsed time for detect on neighborhood: 0:00:03.557548\n",
      "Num events detected on channel 2 (phase1): 16252\n",
      "Computing PCA features for channel 2 (phase1)...\n",
      "Elapsed time for detect on neighborhood: 0:00:03.817436\n",
      "Num events detected on channel 4 (phase1): 15464\n",
      "Computing PCA features for channel 4 (phase1)...\n",
      "Elapsed time for detect on neighborhood: 0:00:03.848224\n",
      "Num events detected on channel 1 (phase1): 10049\n",
      "Computing PCA features for channel 1 (phase1)...\n",
      "Clustering for channel 3 (phase1)...\n",
      "Clustering for channel 1 (phase1)...\n",
      "Clustering for channel 2 (phase1)...\n",
      "Clustering for channel 4 (phase1)...\n",
      "Found 11 clusters for channel 1 (phase1)...\n",
      "Computing templates for channel 1 (phase1)...\n",
      "Found 11 clusters for channel 3 (phase1)...\n",
      "Computing templates for channel 3 (phase1)...\n",
      "Found 11 clusters for channel 2 (phase1)...\n",
      "Computing templates for channel 2 (phase1)...\n",
      "Found 11 clusters for channel 4 (phase1)...\n",
      "Computing templates for channel 4 (phase1)...\n",
      "Re-assigning events for channel 1 (phase1)...\n",
      "Re-assigning 4 events from 1 to 2 with dt=-3 (k=1)\n",
      "Re-assigning 1 events from 1 to 3 with dt=-5 (k=4)\n",
      "Re-assigning 2 events from 1 to 2 with dt=-3 (k=5)\n",
      "Re-assigning events for channel 3 (phase1)...\n",
      "Re-assigning 257 events from 3 to 2 with dt=-1 (k=1)\n",
      "Re-assigning 2 events from 3 to 1 with dt=-7 (k=3)\n",
      "Re-assigning 1 events from 3 to 2 with dt=-3 (k=6)\n",
      "Re-assigning 115 events from 3 to 1 with dt=-2 (k=10)\n",
      "Re-assigning events for channel 2 (phase1)...\n",
      "Re-assigning 33 events from 2 to 3 with dt=-4 (k=3)\n",
      "Re-assigning 491 events from 2 to 3 with dt=-1 (k=4)\n",
      "Re-assigning 6 events from 2 to 1 with dt=1 (k=5)\n",
      "Re-assigning 10 events from 2 to 3 with dt=-3 (k=6)\n",
      "Re-assigning events for channel 4 (phase1)...\n",
      "Re-assigning 60 events from 4 to 2 with dt=-5 (k=2)\n",
      "Re-assigning 32 events from 4 to 3 with dt=-1 (k=3)\n",
      "Re-assigning 1 events from 4 to 3 with dt=-4 (k=5)\n",
      "Re-assigning 3 events from 4 to 3 with dt=2 (k=6)\n",
      "Re-assigning 5 events from 4 to 1 with dt=-5 (k=9)\n",
      "Neighboorhood of channel 0 has 4 channels.\n",
      "Computing PCA features for channel 1 (phase2)...\n",
      "Neighboorhood of channel 3 has 4 channels.\n",
      "Computing PCA features for channel 4 (phase2)...\n",
      "Neighboorhood of channel 1 has 4 channels.\n",
      "Computing PCA features for channel 2 (phase2)...\n",
      "Neighboorhood of channel 2 has 4 channels.\n",
      "Computing PCA features for channel 3 (phase2)...\n",
      "No duplicate events found for channel 0 in phase2\n",
      "Clustering for channel 1 (phase2)...\n",
      "No duplicate events found for channel 1 in phase2\n",
      "Clustering for channel 2 (phase2)...\n",
      "No duplicate events found for channel 2 in phase2\n",
      "Clustering for channel 3 (phase2)...\n",
      "No duplicate events found for channel 3 in phase2\n",
      "Clustering for channel 4 (phase2)...\n",
      "Found 3 clusters for channel 1 (phase2)...\n",
      "Found 2 clusters for channel 4 (phase2)...\n",
      "Found 4 clusters for channel 2 (phase2)...\n",
      "Found 5 clusters for channel 3 (phase2)...\n",
      "Preparing output...\n",
      "Done with ms4alg.\n",
      "Cleaning tmpdir::::: /tmp/tmppoykv497\n",
      "MLPR FINISHED ::::::::::::::::::::::::::::: MountainSort4\n",
      "\n"
     ]
    }
   ],
   "source": [
    "print(ca.loadText(path=sorting['console_out']))"
   ]
  },
  {
   "cell_type": "code",
   "execution_count": 17,
   "metadata": {},
   "outputs": [
    {
     "name": "stdout",
     "output_type": "stream",
     "text": [
      "::::::::::::::::::::::::::::: spikeforest.PlotAutoCorrelograms\n",
      "MLPR EXECUTING::::::::::::::::::::::::::::: spikeforest.PlotAutoCorrelograms\n",
      "MLPR FINISHED ::::::::::::::::::::::::::::: spikeforest.PlotAutoCorrelograms\n",
      "Uploading file --- (97 B): /tmp/tmp_cairioclient_knkalxufcg.txt -> http://132.249.245.246:24342/upload/96950ed4cae3add0153f28d51291c53006236591?signature=4e8dfcdcb880eb0b232e479d1b8e3d1409d268b8\n",
      "Uploading file --- (40.7 KiB): /tmp/sha1-cache/0/fd/0fdcda29ef3e49f09b0fb73844fa06a5cfabccec -> http://132.249.245.246:24342/upload/0fdcda29ef3e49f09b0fb73844fa06a5cfabccec?signature=e720df6f1005feda7ff95ff8d941b2ea5f950a71\n",
      "::::::::::::::::::::::::::::: GenSortingComparisonTable\n",
      "MLPR EXECUTING::::::::::::::::::::::::::::: GenSortingComparisonTable\n",
      "MLPR FINISHED ::::::::::::::::::::::::::::: GenSortingComparisonTable\n",
      "Uploading file --- (100 B): /tmp/tmp_cairioclient_bqlueomdzz.txt -> http://132.249.245.246:24342/upload/bc32b3dc1476ce91f31c67e56b29303dba56d219?signature=cc083dc9a307a3f642035e373aa984b4e99442ab\n",
      "Uploading file --- (1.8 KiB): /tmp/sha1-cache/c/bc/cbc3f0d7beb8f94d3bf4287b38ca4b05782f94ec -> http://132.249.245.246:24342/upload/cbc3f0d7beb8f94d3bf4287b38ca4b05782f94ec?signature=681b97ab9b5c1cc336a882613b20d505176f49af\n",
      "Uploading file --- (2.4 KiB): /tmp/sha1-cache/b/88/b88805e970376cc3e814277195f947b898981535 -> http://132.249.245.246:24342/upload/b88805e970376cc3e814277195f947b898981535?signature=cfa09c15b0ed046e29b472405b96c314ac606f2c\n"
     ]
    }
   ],
   "source": [
    "sorting['summary']=sa.summarize_sorting(sorting=sorting)\n",
    "sorting['comparison_with_truth']=sa.compare_with_truth(sorting=sorting)"
   ]
  },
  {
   "cell_type": "code",
   "execution_count": 18,
   "metadata": {},
   "outputs": [
    {
     "data": {
      "text/plain": [
       "{'recording_name': None,\n",
       " 'study_name': None,\n",
       " 'sorter_name': 'MountainSort4-thr3',\n",
       " 'recording_dir': 'kbucket://15734439d8cf/groundtruth/magland_synth/datasets_noise10_K10_C4/001_synth',\n",
       " 'channels': [],\n",
       " 'units_true': [],\n",
       " 'firings_true': 'kbucket://15734439d8cf/groundtruth/magland_synth/datasets_noise10_K10_C4/001_synth/firings_true.mda',\n",
       " 'sorting_params': {'detect_sign': -1,\n",
       "  'adjacency_radius': 50,\n",
       "  'detect_threshold': 3.1},\n",
       " 'processor_name': 'MountainSort4',\n",
       " 'processor_version': '4.2.0',\n",
       " 'execution_stats': {'start_time': 1549634787.057781,\n",
       "  'end_time': 1549634808.3937225,\n",
       "  'elapsed_sec': 21.335941553115845},\n",
       " 'console_out': 'sha1://e0da24aeb174f787d2c1d6edc76b857b19906d62/console_out.txt',\n",
       " 'container': 'sha1://a3842053423c633b62e70474be9d76068cdc1ea5/mountainsort4.simg',\n",
       " 'firings': 'sha1://9715ae26477b2446ca860be25e25833fe6b04e70/9715ae26477b2446ca860be25e25833fe6b04e70',\n",
       " 'summary': {'plots': {'autocorrelograms': 'sha1://0fdcda29ef3e49f09b0fb73844fa06a5cfabccec/autocorrelograms.jpg'}},\n",
       " 'comparison_with_truth': {'json': 'sha1://cbc3f0d7beb8f94d3bf4287b38ca4b05782f94ec/table.json',\n",
       "  'html': 'sha1://b88805e970376cc3e814277195f947b898981535/table.html'}}"
      ]
     },
     "execution_count": 18,
     "metadata": {},
     "output_type": "execute_result"
    }
   ],
   "source": [
    "sorting"
   ]
  },
  {
   "cell_type": "code",
   "execution_count": null,
   "metadata": {},
   "outputs": [],
   "source": []
  }
 ],
 "metadata": {
  "kernelspec": {
   "display_name": "Python 3",
   "language": "python",
   "name": "python3"
  },
  "language_info": {
   "codemirror_mode": {
    "name": "ipython",
    "version": 3
   },
   "file_extension": ".py",
   "mimetype": "text/x-python",
   "name": "python",
   "nbconvert_exporter": "python",
   "pygments_lexer": "ipython3",
   "version": "3.7.2"
  }
 },
 "nbformat": 4,
 "nbformat_minor": 2
}
