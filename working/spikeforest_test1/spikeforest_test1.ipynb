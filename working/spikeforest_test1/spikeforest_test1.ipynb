{
 "cells": [
  {
   "cell_type": "code",
   "execution_count": 2,
   "metadata": {},
   "outputs": [],
   "source": [
    "%load_ext autoreload\n",
    "%autoreload 2\n",
    "import spikeforest_analysis as sa\n",
    "import spikeforest as sf\n",
    "from cairio import client as ca\n",
    "import os"
   ]
  },
  {
   "cell_type": "code",
   "execution_count": 3,
   "metadata": {},
   "outputs": [
    {
     "name": "stdin",
     "output_type": "stream",
     "text": [
      "Enter password:  ····\n"
     ]
    },
    {
     "name": "stdout",
     "output_type": "stream",
     "text": [
      "CAIRIO CONFIG: remote database spikeforest (readwrite); remote kb-share 69432e9201d0 (readwrite)\n"
     ]
    }
   ],
   "source": [
    "password = os.environ.get('SPIKEFOREST_PASSWORD',None)\n",
    "ca.autoConfig(collection='spikeforest',key='spikeforest2-readwrite',password=password,ask_password=True)"
   ]
  },
  {
   "cell_type": "code",
   "execution_count": 4,
   "metadata": {},
   "outputs": [],
   "source": [
    "os.environ['MLPROCESSORS_FORCE_RUN']='FALSE'\n",
    "recording=dict(directory='kbucket://15734439d8cf/groundtruth/magland_synth/datasets_noise10_K10_C4/001_synth')\n",
    "recordings=[recording]"
   ]
  },
  {
   "cell_type": "code",
   "execution_count": 5,
   "metadata": {},
   "outputs": [
    {
     "name": "stdout",
     "output_type": "stream",
     "text": [
      "/tmp/sha1-cache/c/19/c192559d2df3f99d7328d85cdc6f96248c2b24a3\n"
     ]
    }
   ],
   "source": [
    "print(ca.realizeFile('sha1://c192559d2df3f99d7328d85cdc6f96248c2b24a3/02-11-2019/yass.simg'))"
   ]
  },
  {
   "cell_type": "code",
   "execution_count": null,
   "metadata": {},
   "outputs": [],
   "source": [
    "sorter_ms4_thr3=dict(\n",
    "    name='MountainSort4-thr3',\n",
    "    processor_name='MountainSort4',\n",
    "    params=dict(\n",
    "        detect_sign=-1,\n",
    "        adjacency_radius=50,\n",
    "        detect_threshold=3.1\n",
    "    )\n",
    ")\n",
    "\n",
    "sorter_sc=dict(\n",
    "    name='SpykingCircus',\n",
    "    processor_name='SpykingCircus',\n",
    "    params=dict(\n",
    "        detect_sign=-1,\n",
    "        adjacency_radius=50\n",
    "    )\n",
    ")\n",
    "\n",
    "sorter_yass=dict(\n",
    "    name='yass',\n",
    "    processor_name='yass',\n",
    "    params=dict(\n",
    "        detect_sign=-1,\n",
    "        adjacency_radius=50\n",
    "    )   \n",
    ")\n",
    "sorters=[sorter_ms4_thr3,sorter_sc]"
   ]
  },
  {
   "cell_type": "code",
   "execution_count": null,
   "metadata": {},
   "outputs": [],
   "source": [
    "from spikesorters import yass"
   ]
  },
  {
   "cell_type": "code",
   "execution_count": null,
   "metadata": {},
   "outputs": [],
   "source": [
    "#compute_resource='jfm-laptop'\n",
    "compute_resource = None\n",
    "recordings_B=sa.summarize_recordings(recordings=recordings,compute_resource=compute_resource)\n",
    "sorting_results=[]\n",
    "for sorter in sorters:\n",
    "    sortings_A=sa.sort_recordings(sorter=sorter,recordings=recordings_B,compute_resource=compute_resource)\n",
    "    sortings_B=sa.summarize_sortings(sortings=sortings_A,compute_resource=compute_resource)\n",
    "    sortings_C=sa.compare_sortings_with_truth(sortings=sortings_B,compute_resource=compute_resource)\n",
    "    sorting_results=sorting_results+sortings_C"
   ]
  },
  {
   "cell_type": "code",
   "execution_count": null,
   "metadata": {},
   "outputs": [],
   "source": [
    "sortings_A"
   ]
  },
  {
   "cell_type": "code",
   "execution_count": null,
   "metadata": {},
   "outputs": [],
   "source": [
    "summaries=sa.summarize_recordings(recordings=[recording],compute_resource=None)#'ccmlin008-default')\n",
    "recording['summary']=summaries[0]"
   ]
  },
  {
   "cell_type": "code",
   "execution_count": null,
   "metadata": {},
   "outputs": [],
   "source": [
    "sorter_ms4_thr3=dict(\n",
    "    name='MountainSort4-thr3',\n",
    "    processor_name='MountainSort4',\n",
    "    params=dict(\n",
    "        detect_sign=-1,\n",
    "        adjacency_radius=50,\n",
    "        detect_threshold=3.1\n",
    "    )\n",
    ")\n",
    "\n",
    "sorter_sc=dict(\n",
    "    name='SpykingCircus',\n",
    "    processor_name='SpykingCircus',\n",
    "    params=dict(\n",
    "        detect_sign=-1,\n",
    "        adjacency_radius=50\n",
    "    )\n",
    ")\n",
    "\n",
    "sorter_yass=dict(\n",
    "    name='yass',\n",
    "    processor_name='yass',\n",
    "    params=dict(\n",
    "        detect_sign=-1,\n",
    "        adjacency_radius=50\n",
    "    )\n",
    "    \n",
    ")\n",
    "\n",
    "compute_resource=None\n",
    "sorting_ms4=sa.sort_recordings(recordings=[recording],sorter=sorter_ms4_thr3,compute_resource=compute_resource)[0]\n",
    "sorting_sc=sa.sort_recordings(recordings=[recording],sorter=sorter_sc,compute_resource=compute_resource)[0]\n",
    "#sorting_yass=sa.sort_recordings(recordings=[recording],sorter=sorter_yass,compute_resource=compute_resource)[0]"
   ]
  },
  {
   "cell_type": "code",
   "execution_count": null,
   "metadata": {},
   "outputs": [],
   "source": [
    "display(sorting_ms4)\n",
    "print(ca.loadText(path=sorting_ms4['console_out'])[0:1000])\n",
    "display(sorting_sc)\n",
    "print(ca.loadText(path=sorting_sc['console_out'])[0:1000])"
   ]
  },
  {
   "cell_type": "code",
   "execution_count": null,
   "metadata": {},
   "outputs": [],
   "source": [
    "sorting_ms4['summary']=sa.summarize_sortings(sortings=[sorting_ms4],compute_resource=compute_resource)\n",
    "sorting_ms4['comparison_with_truth']=sa.compare_sortings_with_truth(sortings=[sorting_ms4],compute_resource=compute_resource)"
   ]
  },
  {
   "cell_type": "code",
   "execution_count": null,
   "metadata": {},
   "outputs": [],
   "source": [
    "sorting_ms4"
   ]
  },
  {
   "cell_type": "code",
   "execution_count": null,
   "metadata": {},
   "outputs": [],
   "source": [
    "ca.loadObject(path='sha1://cbc3f0d7beb8f94d3bf4287b38ca4b05782f94ec/table.json')"
   ]
  },
  {
   "cell_type": "code",
   "execution_count": null,
   "metadata": {},
   "outputs": [],
   "source": []
  }
 ],
 "metadata": {
  "kernelspec": {
   "display_name": "Python 3",
   "language": "python",
   "name": "python3"
  },
  "language_info": {
   "codemirror_mode": {
    "name": "ipython",
    "version": 3
   },
   "file_extension": ".py",
   "mimetype": "text/x-python",
   "name": "python",
   "nbconvert_exporter": "python",
   "pygments_lexer": "ipython3",
   "version": "3.7.2"
  }
 },
 "nbformat": 4,
 "nbformat_minor": 2
}
