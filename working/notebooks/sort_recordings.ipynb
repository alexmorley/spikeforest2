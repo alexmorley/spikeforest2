{
 "cells": [
  {
   "cell_type": "code",
   "execution_count": 1,
   "metadata": {},
   "outputs": [
    {
     "name": "stdin",
     "output_type": "stream",
     "text": [
      "Enter password:  ····\n"
     ]
    },
    {
     "name": "stdout",
     "output_type": "stream",
     "text": [
      "CAIRIO CONFIG: remote database spikeforest (readwrite); remote kb-share 69432e9201d0 (readwrite)\n"
     ]
    }
   ],
   "source": [
    "%load_ext autoreload\n",
    "%autoreload 2\n",
    "\n",
    "import spikeforest as sf\n",
    "from cairio import client as ca\n",
    "import spikeforest_analysis as sa\n",
    "\n",
    "ca.autoConfig(collection='spikeforest',key='spikeforest2-readwrite',ask_password=True)"
   ]
  },
  {
   "cell_type": "code",
   "execution_count": 2,
   "metadata": {},
   "outputs": [],
   "source": [
    "sorter_ms4_thr3=dict(\n",
    "    name='MountainSort4-thr3',\n",
    "    processor_name='MountainSort4',\n",
    "    params=dict(\n",
    "        detect_sign=-1,\n",
    "        adjacency_radius=50,\n",
    "        detect_threshold=3.1\n",
    "    )\n",
    ")"
   ]
  },
  {
   "cell_type": "code",
   "execution_count": 9,
   "metadata": {},
   "outputs": [
    {
     "data": {
      "text/plain": [
       "'sha1://7aef8d92aebe2a15e92ad70f4f205811cfe24898/object.json'"
      ]
     },
     "execution_count": 9,
     "metadata": {},
     "output_type": "execute_result"
    }
   ],
   "source": [
    "sorters_by_recording_group=dict(\n",
    "    magland_synth_test=[\n",
    "        sorter_ms4_thr3\n",
    "    ]\n",
    ")\n",
    "\n",
    "ca.saveObject(\n",
    "    key=dict(\n",
    "        name='spikeforest_sorters_by_recording_group',\n",
    "    ),\n",
    "    object=sorters_by_study\n",
    ")"
   ]
  },
  {
   "cell_type": "code",
   "execution_count": 10,
   "metadata": {},
   "outputs": [
    {
     "name": "stdout",
     "output_type": "stream",
     "text": [
      "['magland_synth', 'magland_synth_test']\n"
     ]
    }
   ],
   "source": [
    "recording_group_names=ca.loadObject(\n",
    "    key=dict(name='spikeforest_recording_group_names')\n",
    ")\n",
    "print(recording_group_names)"
   ]
  },
  {
   "cell_type": "code",
   "execution_count": 11,
   "metadata": {},
   "outputs": [],
   "source": [
    "group_name='magland_synth_test'"
   ]
  },
  {
   "cell_type": "code",
   "execution_count": 12,
   "metadata": {},
   "outputs": [],
   "source": [
    "X=ca.loadObject(\n",
    "    key=dict(\n",
    "        name='spikeforest_recording_group',\n",
    "        group_name=group_name\n",
    "    )\n",
    ")\n",
    "studies=X['studies']\n",
    "recordings=X['recordings']"
   ]
  },
  {
   "cell_type": "code",
   "execution_count": 15,
   "metadata": {},
   "outputs": [
    {
     "name": "stdout",
     "output_type": "stream",
     "text": [
      "Locating container: sha1://a3842053423c633b62e70474be9d76068cdc1ea5/mountainsort4.simg\n",
      "Sorting recordings using MountainSort4\n",
      "Retrieving batch batch_s81O5AdrtI\n",
      "Batch has 3 jobs.\n",
      "Cleared 0 jobs.\n",
      "Batch batch_s81O5AdrtI (initialized)\n",
      "JOBS: 0 ready, 0 running, 0 finished, 3 total\n",
      "Batch batch_s81O5AdrtI (preparing)\n",
      "JOBS: 0 ready, 0 running, 0 finished, 3 total\n",
      "Batch batch_s81O5AdrtI (preparing)\n",
      "JOBS: 3 ready, 0 running, 0 finished, 3 total\n",
      "Batch batch_s81O5AdrtI (running)\n",
      "JOBS: 3 ready, 0 running, 0 finished, 3 total\n",
      "Batch batch_s81O5AdrtI (running)\n",
      "JOBS: 2 ready, 1 running, 0 finished, 3 total\n",
      "Batch batch_s81O5AdrtI (running)\n",
      "JOBS: 0 ready, 3 running, 0 finished, 3 total\n",
      "Batch batch_s81O5AdrtI (running)\n",
      "JOBS: 0 ready, 0 running, 3 finished, 3 total\n",
      "Batch batch_s81O5AdrtI (assembling)\n",
      "JOBS: 0 ready, 0 running, 3 finished, 3 total\n",
      "Finished.\n",
      "Downloading file --- (4.0 KiB): http://132.249.245.246:24352/69432e9201d0/download/sha1-cache/b/db/bdba4ca6b695c70c8a5f7e986a6eeafbd647c15d -> /tmp/sha1-cache/b/db/bdba4ca6b695c70c8a5f7e986a6eeafbd647c15d\n",
      "Uploading file --- (343 B): /tmp/tmp_cairioclient_ommvdgsbzm.txt -> http://132.249.245.246:24342/upload/0ad4e4593eaa34d5566f61cf16e28557b368ed39?signature=0cff8bd0632dd565ec00da0176fcbc4988533708\n",
      "Uploading file --- (343 B): /tmp/tmp_cairioclient_esvwhgsyqi.txt -> http://132.249.245.246:24342/upload/ff3201578edfff79c24c9255e5a9c858383c15ed?signature=38854496db24fac9887a85c69ecfb1bdb01e34f5\n",
      "Uploading file --- (343 B): /tmp/tmp_cairioclient_zwaxnjpcjf.txt -> http://132.249.245.246:24342/upload/481ecd457b30171f0a02839f7bf43ed28a876657?signature=c533ec760d7fa3a50c689772533a1f61ed460bce\n",
      "Uploading file --- (2.3 KiB): /tmp/tmp_cairioclient_gcknoohbdu.txt -> http://132.249.245.246:24342/upload/cfd2d6263fc49a6f812cfa4357e236a7e9d3ed0a?signature=f2c238097109bed194d7dbf1299da0d86a19c52f\n"
     ]
    }
   ],
   "source": [
    "sorters=sorters_by_recording_group[group_name]\n",
    "for sorter in sorters:\n",
    "    sorting_results=sa.sort_recordings(recordings=recordings,sorter=sorter,compute_resource='ccmlin008-default')\n",
    "    ca.saveObject(\n",
    "        key=dict(\n",
    "            name='sorting_results',\n",
    "            group_name=group_name,\n",
    "            sorter=sorter['name']\n",
    "        ),\n",
    "        object=dict(\n",
    "            sorting_results=sorting_results\n",
    "        )\n",
    "    )"
   ]
  },
  {
   "cell_type": "code",
   "execution_count": 16,
   "metadata": {},
   "outputs": [],
   "source": [
    "a=ca.loadObject(\n",
    "    key=dict(\n",
    "        name='sorting_results',\n",
    "        group_name='magland_synth_test',\n",
    "        sorter='MountainSort4-thr3'\n",
    "    )\n",
    ")"
   ]
  },
  {
   "cell_type": "code",
   "execution_count": 19,
   "metadata": {},
   "outputs": [
    {
     "data": {
      "text/plain": [
       "{'recording_name': '001_synth',\n",
       " 'study_name': 'magland_synth_noise10_K10_C4',\n",
       " 'sorter_name': 'MountainSort4-thr3',\n",
       " 'recording_dir': 'kbucket://15734439d8cf/groundtruth/magland_synth/datasets_noise10_K10_C4/003_synth',\n",
       " 'channels': [],\n",
       " 'units_true': [],\n",
       " 'firings_true': 'kbucket://15734439d8cf/groundtruth/magland_synth/datasets_noise10_K10_C4/001_synth/firings_true.mda',\n",
       " 'sorting_params': {'detect_sign': -1,\n",
       "  'adjacency_radius': 50,\n",
       "  'detect_threshold': 3.1},\n",
       " 'processor_name': 'MountainSort4',\n",
       " 'processor_version': '4.2.0',\n",
       " 'console_out': 'sha1://0ad4e4593eaa34d5566f61cf16e28557b368ed39/console_out.txt',\n",
       " 'container': 'sha1://a3842053423c633b62e70474be9d76068cdc1ea5/mountainsort4.simg',\n",
       " 'firings': 'sha1://9715ae26477b2446ca860be25e25833fe6b04e70/firings_out.mda'}"
      ]
     },
     "execution_count": 19,
     "metadata": {},
     "output_type": "execute_result"
    }
   ],
   "source": [
    "a['sorting_results'][0]"
   ]
  },
  {
   "cell_type": "code",
   "execution_count": null,
   "metadata": {},
   "outputs": [],
   "source": []
  }
 ],
 "metadata": {
  "kernelspec": {
   "display_name": "Python 3",
   "language": "python",
   "name": "python3"
  },
  "language_info": {
   "codemirror_mode": {
    "name": "ipython",
    "version": 3
   },
   "file_extension": ".py",
   "mimetype": "text/x-python",
   "name": "python",
   "nbconvert_exporter": "python",
   "pygments_lexer": "ipython3",
   "version": "3.7.2"
  }
 },
 "nbformat": 4,
 "nbformat_minor": 2
}
