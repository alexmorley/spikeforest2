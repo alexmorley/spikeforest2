{
 "cells": [
  {
   "cell_type": "code",
   "execution_count": 1,
   "metadata": {},
   "outputs": [
    {
     "name": "stdin",
     "output_type": "stream",
     "text": [
      "Enter password:  ····\n"
     ]
    },
    {
     "name": "stdout",
     "output_type": "stream",
     "text": [
      "CAIRIO CONFIG: remote database spikeforest (readwrite); remote kb-share 69432e9201d0 (readwrite)\n"
     ]
    }
   ],
   "source": [
    "%load_ext autoreload\n",
    "%autoreload 2\n",
    "\n",
    "import spikeforest as sf\n",
    "from cairio import client as ca\n",
    "import spikeforest_analysis as sa\n",
    "\n",
    "ca.autoConfig(collection='spikeforest',key='spikeforest2-readwrite',ask_password=True)"
   ]
  },
  {
   "cell_type": "code",
   "execution_count": 12,
   "metadata": {},
   "outputs": [
    {
     "name": "stdout",
     "output_type": "stream",
     "text": [
      "Computing sha1 of /home/project/mountaintools/containers/mountaintools_basic/mountaintools_basic.simg\n",
      "Uploading file --- (384.3 MiB): /home/project/mountaintools/containers/mountaintools_basic/mountaintools_basic.simg -> http://132.249.245.246:24342/upload/51b40c7c244a8d98d33993cbd0baa7e69a0daac0?signature=dc2453e15b3ae59955003fa5873b91662b309989\n"
     ]
    },
    {
     "data": {
      "text/plain": [
       "'sha1://51b40c7c244a8d98d33993cbd0baa7e69a0daac0/mountaintools_basic.simg'"
      ]
     },
     "execution_count": 12,
     "metadata": {},
     "output_type": "execute_result"
    }
   ],
   "source": [
    "ca.saveFile('/home/project/mountaintools/containers/mountaintools_basic/mountaintools_basic.simg')"
   ]
  },
  {
   "cell_type": "code",
   "execution_count": 13,
   "metadata": {},
   "outputs": [
    {
     "name": "stdout",
     "output_type": "stream",
     "text": [
      "['magland_synth', 'magland_synth_test']\n"
     ]
    }
   ],
   "source": [
    "recording_group_names=ca.loadObject(\n",
    "    key=dict(name='spikeforest_recording_group_names')\n",
    ")\n",
    "print(recording_group_names)"
   ]
  },
  {
   "cell_type": "code",
   "execution_count": 14,
   "metadata": {},
   "outputs": [],
   "source": [
    "group_name='magland_synth_test'"
   ]
  },
  {
   "cell_type": "code",
   "execution_count": 15,
   "metadata": {},
   "outputs": [],
   "source": [
    "X=ca.loadObject(\n",
    "    key=dict(\n",
    "        name='spikeforest_recording_group',\n",
    "        group_name=group_name\n",
    "    )\n",
    ")\n",
    "studies=X['studies']\n",
    "recordings=X['recordings']"
   ]
  },
  {
   "cell_type": "code",
   "execution_count": 16,
   "metadata": {},
   "outputs": [],
   "source": [
    "import os\n",
    "os.environ['MLPROCESSORS_FORCE_RUN']='TRUE'"
   ]
  },
  {
   "cell_type": "code",
   "execution_count": 17,
   "metadata": {},
   "outputs": [
    {
     "name": "stdout",
     "output_type": "stream",
     "text": [
      "Computing sha1 of /tmp/sha1-cache/5/1b/51b40c7c244a8d98d33993cbd0baa7e69a0daac0\n",
      "Uploading file --- (48.7 KiB): /tmp/tmp_cairioclient_snizdwkszt.txt -> http://132.249.245.246:24342/upload/5142199e6ed199f08ef92002e4f7baf4b93f7a53?signature=cbc9e3c7b0589e31ff2697735dcb4102da353035\n",
      "Already on server (**)\n",
      "Already on server (**)\n",
      "Already on server (**)\n",
      "Already on server (**)\n",
      "Already on server (**)\n",
      "Already on server (**)\n",
      "RUNNING: python /tmp/tmpt18r_shq/execute.py\n",
      "::::::::::::::::::::::::::::: ComputeRecordingInfo\n",
      "Found output \"json_out\" in cairio.\n",
      "Found outputs in cache, but forcing run...\n",
      "RUNNING: singularity exec -B /tmp/sha1-cache:/sha1-cache -B /tmp:/tmp -B /tmp/tmpt18r_shq:/execute_in_container/outputdir_json_out -B /tmp/tmpt18r_shq/processor_source:/execute_in_container/processor_source -B /tmp/tmp8abg5zmu/execute_in_container.py:/execute_in_container/execute_in_container.py --contain -e /tmp/sha1-cache/5/1b/51b40c7c244a8d98d33993cbd0baa7e69a0daac0 bash -c \"KBUCKET_CACHE_DIR=/sha1-cache  python /execute_in_container/execute_in_container.py\"\n",
      "Traceback (most recent call last):\n",
      "\n",
      "  File \"/execute_in_container/execute_in_container.py\", line 2, in <module>\n",
      "\n",
      "    from processor_source.summarize_recordings import ComputeRecordingInfo\n",
      "\n",
      "  File \"/execute_in_container/processor_source/__init__.py\", line 1, in <module>\n",
      "\n",
      "    from .summarize_recordings import summarize_recordings\n",
      "\n",
      "  File \"/execute_in_container/processor_source/summarize_recordings.py\", line 1, in <module>\n",
      "\n",
      "    import spikeextractors as si\n",
      "\n",
      "  File \"/src/spikeforest2/spikeextractors/__init__.py\", line 10, in <module>\n",
      "\n",
      "    from .extractors.mearecextractors.mearecextractors import MEArecRecordingExtractor, MEArecSortingExtractor\n",
      "\n",
      "  File \"/src/spikeforest2/spikeextractors/extractors/mearecextractors/__init__.py\", line 1, in <module>\n",
      "\n",
      "    from .mearecextractors import MEArecRecordingExtractor, MEArecSortingExtractor\n",
      "\n",
      "  File \"/src/spikeforest2/spikeextractors/extractors/mearecextractors/mearecextractors.py\", line 6, in <module>\n",
      "\n",
      "    import h5py\n",
      "\n",
      "ModuleNotFoundError: No module named 'h5py'\n",
      "\n",
      "Traceback (most recent call last):\n",
      "  File \"/tmp/tmpt18r_shq/execute.py\", line 8, in <module>\n",
      "    main()\n",
      "  File \"/tmp/tmpt18r_shq/execute.py\", line 5, in main\n",
      "    ComputeRecordingInfo.execute(_cache=True, _force_run=True, _keep_temp_files=None, _container='/tmp/sha1-cache/5/1b/51b40c7c244a8d98d33993cbd0baa7e69a0daac0', recording_dir='kbucket://15734439d8cf/groundtruth/magland_synth/datasets_noise10_K10_C4/001_synth', json_out='/tmp/tmpt18r_shq/output_json_out.json', channels=[])\n",
      "  File \"/home/project/mountaintools/mlprocessors/core.py\", line 505, in execute\n",
      "    return execute(proc, **kwargs)\n",
      "  File \"/home/project/mountaintools/mlprocessors/execute.py\", line 848, in execute\n",
      "    _force_run=True, _keep_temp_files=_keep_temp_files, _system_call_prefix=_system_call_prefix)\n",
      "  File \"/home/project/mountaintools/mlprocessors/execute.py\", line 344, in _execute_in_container\n",
      "    raise Exception('Processor returned a non-zero exit code')\n",
      "Exception: Processor returned a non-zero exit code\n"
     ]
    },
    {
     "ename": "Exception",
     "evalue": "Non-zero return code when running processor job",
     "output_type": "error",
     "traceback": [
      "\u001b[0;31m---------------------------------------------------------------------------\u001b[0m",
      "\u001b[0;31mException\u001b[0m                                 Traceback (most recent call last)",
      "\u001b[0;32m<ipython-input-17-9b17f7d74cee>\u001b[0m in \u001b[0;36m<module>\u001b[0;34m\u001b[0m\n\u001b[0;32m----> 1\u001b[0;31m \u001b[0msummarized_recordings\u001b[0m\u001b[0;34m=\u001b[0m\u001b[0msa\u001b[0m\u001b[0;34m.\u001b[0m\u001b[0msummarize_recordings\u001b[0m\u001b[0;34m(\u001b[0m\u001b[0mrecordings\u001b[0m\u001b[0;34m)\u001b[0m\u001b[0;34m\u001b[0m\u001b[0;34m\u001b[0m\u001b[0m\n\u001b[0m\u001b[1;32m      2\u001b[0m \u001b[0;34m\u001b[0m\u001b[0m\n\u001b[1;32m      3\u001b[0m ca.saveObject(\n\u001b[1;32m      4\u001b[0m     key=dict(\n\u001b[1;32m      5\u001b[0m         \u001b[0mname\u001b[0m\u001b[0;34m=\u001b[0m\u001b[0;34m'summarized_recordings'\u001b[0m\u001b[0;34m,\u001b[0m\u001b[0;34m\u001b[0m\u001b[0;34m\u001b[0m\u001b[0m\n",
      "\u001b[0;32m/home/project/spikeforest_analysis/summarize_recordings.py\u001b[0m in \u001b[0;36msummarize_recordings\u001b[0;34m(recordings, compute_resource)\u001b[0m\n\u001b[1;32m     49\u001b[0m \u001b[0;34m\u001b[0m\u001b[0m\n\u001b[1;32m     50\u001b[0m     \u001b[0mall_jobs\u001b[0m\u001b[0;34m=\u001b[0m\u001b[0mjobs_info\u001b[0m\u001b[0;34m+\u001b[0m\u001b[0mjobs_timeseries_plot\u001b[0m\u001b[0;34m+\u001b[0m\u001b[0mjobs_units_info\u001b[0m\u001b[0;34m\u001b[0m\u001b[0;34m\u001b[0m\u001b[0m\n\u001b[0;32m---> 51\u001b[0;31m     \u001b[0mmlpr\u001b[0m\u001b[0;34m.\u001b[0m\u001b[0mexecuteBatch\u001b[0m\u001b[0;34m(\u001b[0m\u001b[0mjobs\u001b[0m\u001b[0;34m=\u001b[0m\u001b[0mall_jobs\u001b[0m\u001b[0;34m,\u001b[0m\u001b[0mnum_workers\u001b[0m\u001b[0;34m=\u001b[0m\u001b[0;32mNone\u001b[0m\u001b[0;34m,\u001b[0m\u001b[0mcompute_resource\u001b[0m\u001b[0;34m=\u001b[0m\u001b[0mcompute_resource\u001b[0m\u001b[0;34m)\u001b[0m\u001b[0;34m\u001b[0m\u001b[0;34m\u001b[0m\u001b[0m\n\u001b[0m\u001b[1;32m     52\u001b[0m \u001b[0;34m\u001b[0m\u001b[0m\n\u001b[1;32m     53\u001b[0m     \u001b[0msummarized_recordings\u001b[0m\u001b[0;34m=\u001b[0m\u001b[0;34m[\u001b[0m\u001b[0;34m]\u001b[0m\u001b[0;34m\u001b[0m\u001b[0;34m\u001b[0m\u001b[0m\n",
      "\u001b[0;32m/home/project/mountaintools/mlprocessors/execute.py\u001b[0m in \u001b[0;36mexecuteBatch\u001b[0;34m(jobs, num_workers, compute_resource, batch_name)\u001b[0m\n\u001b[1;32m    534\u001b[0m     \u001b[0mtimer\u001b[0m \u001b[0;34m=\u001b[0m \u001b[0mtime\u001b[0m\u001b[0;34m.\u001b[0m\u001b[0mtime\u001b[0m\u001b[0;34m(\u001b[0m\u001b[0;34m)\u001b[0m\u001b[0;34m\u001b[0m\u001b[0;34m\u001b[0m\u001b[0m\n\u001b[1;32m    535\u001b[0m     \u001b[0;32mfor\u001b[0m \u001b[0mjob\u001b[0m \u001b[0;32min\u001b[0m \u001b[0mjobs\u001b[0m\u001b[0;34m:\u001b[0m\u001b[0;34m\u001b[0m\u001b[0;34m\u001b[0m\u001b[0m\n\u001b[0;32m--> 536\u001b[0;31m         \u001b[0mjob\u001b[0m\u001b[0;34m[\u001b[0m\u001b[0;34m'result'\u001b[0m\u001b[0;34m]\u001b[0m \u001b[0;34m=\u001b[0m \u001b[0mexecuteJob\u001b[0m\u001b[0;34m(\u001b[0m\u001b[0mjob\u001b[0m\u001b[0;34m)\u001b[0m\u001b[0;34m\u001b[0m\u001b[0;34m\u001b[0m\u001b[0m\n\u001b[0m\u001b[1;32m    537\u001b[0m \u001b[0;34m\u001b[0m\u001b[0m\n\u001b[1;32m    538\u001b[0m \u001b[0;34m\u001b[0m\u001b[0m\n",
      "\u001b[0;32m/home/project/mountaintools/mlprocessors/execute.py\u001b[0m in \u001b[0;36mexecuteJob\u001b[0;34m(job)\u001b[0m\n\u001b[1;32m    593\u001b[0m             'python {}/execute.py'.format(tempdir))\n\u001b[1;32m    594\u001b[0m         \u001b[0;32mif\u001b[0m \u001b[0mretcode\u001b[0m \u001b[0;34m!=\u001b[0m \u001b[0;36m0\u001b[0m\u001b[0;34m:\u001b[0m\u001b[0;34m\u001b[0m\u001b[0;34m\u001b[0m\u001b[0m\n\u001b[0;32m--> 595\u001b[0;31m             \u001b[0;32mraise\u001b[0m \u001b[0mException\u001b[0m\u001b[0;34m(\u001b[0m\u001b[0;34m'Non-zero return code when running processor job'\u001b[0m\u001b[0;34m)\u001b[0m\u001b[0;34m\u001b[0m\u001b[0;34m\u001b[0m\u001b[0m\n\u001b[0m\u001b[1;32m    596\u001b[0m         ret = dict(\n\u001b[1;32m    597\u001b[0m             \u001b[0moutputs\u001b[0m\u001b[0;34m=\u001b[0m\u001b[0mdict\u001b[0m\u001b[0;34m(\u001b[0m\u001b[0;34m)\u001b[0m\u001b[0;34m,\u001b[0m\u001b[0;34m\u001b[0m\u001b[0;34m\u001b[0m\u001b[0m\n",
      "\u001b[0;31mException\u001b[0m: Non-zero return code when running processor job"
     ]
    }
   ],
   "source": [
    "summarized_recordings=sa.summarize_recordings(recordings)\n",
    "    \n",
    "ca.saveObject(\n",
    "    key=dict(\n",
    "        name='summarized_recordings',\n",
    "        group_name=group_name\n",
    "    ),\n",
    "    object=dict(\n",
    "        studies=studies,\n",
    "        recordings=summarized_recordings\n",
    "    )\n",
    ")"
   ]
  },
  {
   "cell_type": "code",
   "execution_count": null,
   "metadata": {},
   "outputs": [],
   "source": [
    "a=dict(status=None)\n",
    "print(a.get('status','Unknown'))"
   ]
  },
  {
   "cell_type": "code",
   "execution_count": null,
   "metadata": {},
   "outputs": [],
   "source": [
    "summarized_recordings[0]"
   ]
  },
  {
   "cell_type": "code",
   "execution_count": null,
   "metadata": {},
   "outputs": [],
   "source": [
    "summarized_recordings[0]"
   ]
  }
 ],
 "metadata": {
  "kernelspec": {
   "display_name": "Python 3",
   "language": "python",
   "name": "python3"
  },
  "language_info": {
   "codemirror_mode": {
    "name": "ipython",
    "version": 3
   },
   "file_extension": ".py",
   "mimetype": "text/x-python",
   "name": "python",
   "nbconvert_exporter": "python",
   "pygments_lexer": "ipython3",
   "version": "3.7.2"
  }
 },
 "nbformat": 4,
 "nbformat_minor": 2
}
