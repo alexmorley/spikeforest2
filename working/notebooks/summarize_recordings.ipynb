{
 "cells": [
  {
   "cell_type": "code",
   "execution_count": 1,
   "metadata": {},
   "outputs": [
    {
     "name": "stdin",
     "output_type": "stream",
     "text": [
      "Enter password:  ····\n"
     ]
    },
    {
     "name": "stdout",
     "output_type": "stream",
     "text": [
      "CAIRIO CONFIG: remote database spikeforest (readwrite); remote kb-share 69432e9201d0 (readwrite)\n"
     ]
    }
   ],
   "source": [
    "%load_ext autoreload\n",
    "%autoreload 2\n",
    "\n",
    "import spikeforest as sf\n",
    "from cairio import client as ca\n",
    "import spikeforest_analysis as sa\n",
    "\n",
    "ca.autoConfig(collection='spikeforest',key='spikeforest2-readwrite',ask_password=True)"
   ]
  },
  {
   "cell_type": "code",
   "execution_count": 2,
   "metadata": {},
   "outputs": [
    {
     "name": "stdout",
     "output_type": "stream",
     "text": [
      "Testing whether share 69432e9201d0 is directly accessible...\n",
      "Share 69432e9201d0 is directly accessible.\n"
     ]
    },
    {
     "data": {
      "text/plain": [
       "'sha1://e800f9c19ad440756cc49cce196bb93126e1d00c/mountaintools_basic.simg'"
      ]
     },
     "execution_count": 2,
     "metadata": {},
     "output_type": "execute_result"
    }
   ],
   "source": [
    "ca.saveFile('/home/project/mountaintools/containers/mountaintools_basic/mountaintools_basic.simg')"
   ]
  },
  {
   "cell_type": "code",
   "execution_count": 3,
   "metadata": {},
   "outputs": [
    {
     "name": "stdout",
     "output_type": "stream",
     "text": [
      "['magland_synth', 'magland_synth_test']\n"
     ]
    }
   ],
   "source": [
    "recording_group_names=ca.loadObject(\n",
    "    key=dict(name='spikeforest_recording_group_names')\n",
    ")\n",
    "print(recording_group_names)"
   ]
  },
  {
   "cell_type": "code",
   "execution_count": 4,
   "metadata": {},
   "outputs": [],
   "source": [
    "group_name='magland_synth_test'"
   ]
  },
  {
   "cell_type": "code",
   "execution_count": 5,
   "metadata": {},
   "outputs": [],
   "source": [
    "X=ca.loadObject(\n",
    "    key=dict(\n",
    "        name='spikeforest_recording_group',\n",
    "        group_name=group_name\n",
    "    )\n",
    ")\n",
    "studies=X['studies']\n",
    "recordings=X['recordings']"
   ]
  },
  {
   "cell_type": "code",
   "execution_count": 8,
   "metadata": {},
   "outputs": [],
   "source": [
    "import os\n",
    "os.environ['MLPROCESSORS_FORCE_RUN']='TRUE'"
   ]
  },
  {
   "cell_type": "code",
   "execution_count": 9,
   "metadata": {},
   "outputs": [
    {
     "name": "stdout",
     "output_type": "stream",
     "text": [
      "Uploading file --- (7.9 KiB): /tmp/tmp_cairioclient_xwdhwsgwwi.txt -> http://132.249.245.246:24342/upload/e2ee1d419a2a8028f32b234179ee81f76378c8d0?signature=90211f31ca5a00fa4010ebcbccb69adcd390ca21\n",
      "Retrieving batch batch_mUgdso2WHf\n",
      "Batch has 9 jobs.\n",
      "Cleared 0 jobs.\n",
      "Batch batch_mUgdso2WHf (initialized)\n",
      "JOBS: 0 ready, 0 running, 0 finished, 9 total\n",
      "Batch batch_mUgdso2WHf (preparing)\n",
      "JOBS: 0 ready, 0 running, 0 finished, 9 total\n",
      "Batch batch_mUgdso2WHf (preparing)\n",
      "JOBS: 1 ready, 0 running, 0 finished, 9 total\n",
      "Batch batch_mUgdso2WHf (preparing)\n",
      "JOBS: 3 ready, 0 running, 0 finished, 9 total\n",
      "Batch batch_mUgdso2WHf (preparing)\n",
      "JOBS: 5 ready, 0 running, 0 finished, 9 total\n",
      "Batch batch_mUgdso2WHf (preparing)\n",
      "JOBS: 8 ready, 0 running, 0 finished, 9 total\n",
      "Batch batch_mUgdso2WHf (running)\n",
      "JOBS: 9 ready, 0 running, 0 finished, 9 total\n",
      "Batch batch_mUgdso2WHf (running)\n",
      "JOBS: 8 ready, 1 running, 0 finished, 9 total\n",
      "Batch batch_mUgdso2WHf (running)\n",
      "JOBS: 8 ready, 0 running, 1 finished, 9 total\n",
      "Batch batch_mUgdso2WHf (running)\n",
      "JOBS: 7 ready, 1 running, 1 finished, 9 total\n",
      "Batch batch_mUgdso2WHf (running)\n",
      "JOBS: 7 ready, 0 running, 2 finished, 9 total\n",
      "Batch batch_mUgdso2WHf (running)\n",
      "JOBS: 6 ready, 1 running, 2 finished, 9 total\n",
      "Batch batch_mUgdso2WHf (running)\n",
      "JOBS: 6 ready, 0 running, 3 finished, 9 total\n",
      "Batch batch_mUgdso2WHf (running)\n",
      "JOBS: 5 ready, 1 running, 3 finished, 9 total\n",
      "Batch batch_mUgdso2WHf (running)\n",
      "JOBS: 5 ready, 0 running, 4 finished, 9 total\n",
      "Batch batch_mUgdso2WHf (running)\n",
      "JOBS: 4 ready, 1 running, 4 finished, 9 total\n",
      "Batch batch_mUgdso2WHf (running)\n",
      "JOBS: 4 ready, 0 running, 5 finished, 9 total\n",
      "Batch batch_mUgdso2WHf (running)\n",
      "JOBS: 3 ready, 1 running, 5 finished, 9 total\n",
      "Batch batch_mUgdso2WHf (running)\n",
      "JOBS: 3 ready, 0 running, 6 finished, 9 total\n",
      "Batch batch_mUgdso2WHf (running)\n",
      "JOBS: 2 ready, 1 running, 6 finished, 9 total\n",
      "Batch batch_mUgdso2WHf (running)\n",
      "JOBS: 2 ready, 0 running, 7 finished, 9 total\n",
      "Batch batch_mUgdso2WHf (running)\n",
      "JOBS: 1 ready, 1 running, 7 finished, 9 total\n",
      "Batch batch_mUgdso2WHf (running)\n",
      "JOBS: 1 ready, 0 running, 8 finished, 9 total\n",
      "Batch batch_mUgdso2WHf (running)\n",
      "JOBS: 0 ready, 1 running, 8 finished, 9 total\n",
      "Batch batch_mUgdso2WHf (running)\n",
      "JOBS: 0 ready, 0 running, 9 finished, 9 total\n",
      "Batch batch_mUgdso2WHf (assembling)\n",
      "JOBS: 0 ready, 0 running, 9 finished, 9 total\n",
      "Finished.\n",
      "Downloading file --- (22.0 KiB): http://132.249.245.246:24352/69432e9201d0/download/sha1-cache/7/63/763e9105d5407a0ee2463b16f1519f6c1661265e -> /tmp/sha1-cache/7/63/763e9105d5407a0ee2463b16f1519f6c1661265e\n",
      "Downloading file --- (1.1 KiB): http://132.249.245.246:24352/69432e9201d0/download/sha1-cache/3/b1/3b111cdbba6bf743a659418c4bf5976efde3368b -> /tmp/sha1-cache/3/b1/3b111cdbba6bf743a659418c4bf5976efde3368b\n",
      "Downloading file --- (1.1 KiB): http://132.249.245.246:24352/69432e9201d0/download/sha1-cache/9/50/950dc5063258078230f8953e219ea818e873bea3 -> /tmp/sha1-cache/9/50/950dc5063258078230f8953e219ea818e873bea3\n",
      "Downloading file --- (1.1 KiB): http://132.249.245.246:24352/69432e9201d0/download/sha1-cache/8/3e/83edcb034b4916113dd5ae6e890a00f527be0358 -> /tmp/sha1-cache/8/3e/83edcb034b4916113dd5ae6e890a00f527be0358\n",
      "Uploading file --- (2.4 KiB): /tmp/tmp_cairioclient_ytvgzzmcdk.txt -> http://132.249.245.246:24342/upload/7507da16ec6f2e17c01195da7634e9a4d7364655?signature=89bc3a5f2c1a9c1e460bd73fd57ab829944f06e3\n"
     ]
    },
    {
     "data": {
      "text/plain": [
       "'sha1://7507da16ec6f2e17c01195da7634e9a4d7364655/object.json'"
      ]
     },
     "execution_count": 9,
     "metadata": {},
     "output_type": "execute_result"
    }
   ],
   "source": [
    "summarized_recordings=sa.summarize_recordings(recordings,compute_resource='ccmlin008-default')\n",
    "    \n",
    "ca.saveObject(\n",
    "    key=dict(\n",
    "        name='summarized_recordings',\n",
    "        group_name=group_name\n",
    "    ),\n",
    "    object=dict(\n",
    "        studies=studies,\n",
    "        recordings=summarized_recordings\n",
    "    )\n",
    ")"
   ]
  },
  {
   "cell_type": "code",
   "execution_count": null,
   "metadata": {},
   "outputs": [],
   "source": [
    "a=dict(status=None)\n",
    "print(a.get('status','Unknown'))"
   ]
  },
  {
   "cell_type": "code",
   "execution_count": null,
   "metadata": {},
   "outputs": [],
   "source": [
    "summarized_recordings[0]"
   ]
  },
  {
   "cell_type": "code",
   "execution_count": null,
   "metadata": {},
   "outputs": [],
   "source": [
    "summarized_recordings[0]"
   ]
  }
 ],
 "metadata": {
  "kernelspec": {
   "display_name": "Python 3",
   "language": "python",
   "name": "python3"
  },
  "language_info": {
   "codemirror_mode": {
    "name": "ipython",
    "version": 3
   },
   "file_extension": ".py",
   "mimetype": "text/x-python",
   "name": "python",
   "nbconvert_exporter": "python",
   "pygments_lexer": "ipython3",
   "version": "3.7.2"
  }
 },
 "nbformat": 4,
 "nbformat_minor": 2
}
