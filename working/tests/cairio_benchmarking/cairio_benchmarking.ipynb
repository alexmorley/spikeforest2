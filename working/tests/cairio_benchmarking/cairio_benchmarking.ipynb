{
 "cells": [
  {
   "cell_type": "code",
   "execution_count": 10,
   "metadata": {},
   "outputs": [],
   "source": [
    "from mountaintools import client as ca\n",
    "import random\n",
    "import time\n",
    "import json"
   ]
  },
  {
   "cell_type": "code",
   "execution_count": 11,
   "metadata": {},
   "outputs": [],
   "source": [
    "def run_cairio_test(num_keys=20):\n",
    "    timer=time.time()\n",
    "    for j in range(1,num_keys):\n",
    "        key='test-key-{}'.format(j)\n",
    "        val='test-value-{}'.format(random.randint(0,10000))\n",
    "        ca.setValue(key=key,value=val)\n",
    "        val2=ca.getValue(key=key)\n",
    "        assert (val==val2)\n",
    "    elapsed=time.time()-timer\n",
    "    print('Cairio: Elapsed time {} seconds... {} operations per second'.format(elapsed,num_keys*2/elapsed))\n",
    "    \n",
    "def run_kbucket_test(num_keys=20):\n",
    "    timer=time.time()\n",
    "    for j in range(1,num_keys):\n",
    "        key='test-key-kb-{}'.format(j)\n",
    "        obj=dict(name='test-object',num=random.randint(0,10))\n",
    "        ca.saveObject(key=key,object=obj)\n",
    "        obj2=ca.loadObject(key=key)\n",
    "        assert (json.dumps(obj)==json.dumps(obj2))\n",
    "    elapsed=time.time()-timer\n",
    "    print('KBucket: Elapsed time {} seconds... {} operations per second'.format(elapsed,num_keys*2/elapsed))"
   ]
  },
  {
   "cell_type": "code",
   "execution_count": 19,
   "metadata": {},
   "outputs": [
    {
     "name": "stdout",
     "output_type": "stream",
     "text": [
      "CAIRIO CONFIG: local database; local sha-1 cache\n",
      "Cairio: Elapsed time 0.005756378173828125 seconds... 6948.813783962889 operations per second\n",
      "KBucket: Elapsed time 0.024347305297851562 seconds... 1642.8922835879357 operations per second\n"
     ]
    }
   ],
   "source": [
    "# Use local database (just disk, not http/MongoDB)\n",
    "ca.setRemoteConfig(collection='',token='',share_id='',upload_token='')\n",
    "run_cairio_test()\n",
    "run_kbucket_test()"
   ]
  },
  {
   "cell_type": "code",
   "execution_count": 20,
   "metadata": {},
   "outputs": [
    {
     "name": "stdout",
     "output_type": "stream",
     "text": [
      "CAIRIO CONFIG: remote database test_collection (readwrite); local sha-1 cache\n",
      "Cairio: Elapsed time 0.0729670524597168 seconds... 548.1926246381263 operations per second\n",
      "KBucket: Elapsed time 0.07367634773254395 seconds... 542.9150769688791 operations per second\n"
     ]
    }
   ],
   "source": [
    "# Use local server (must be running on port 3010 and have test_collection created with the given token)\n",
    "ca.setRemoteConfig(url='http://localhost:3010',collection='test_collection',token='test_token',share_id='',upload_token='')\n",
    "run_cairio_test()\n",
    "run_kbucket_test()"
   ]
  },
  {
   "cell_type": "code",
   "execution_count": 22,
   "metadata": {},
   "outputs": [
    {
     "name": "stdout",
     "output_type": "stream",
     "text": [
      "CAIRIO CONFIG: remote database spikeforest (readwrite); remote kb-share 69432e9201d0 (readwrite)\n"
     ]
    },
    {
     "name": "stdin",
     "output_type": "stream",
     "text": [
      "Enter password:  ····\n"
     ]
    },
    {
     "name": "stdout",
     "output_type": "stream",
     "text": [
      "CAIRIO CONFIG: remote database spikeforest (readwrite); remote kb-share 69432e9201d0 (readwrite)\n",
      "Cairio: Elapsed time 55.00645899772644 seconds... 0.7271873290671792 operations per second\n",
      "KBucket: Elapsed time 63.79747772216797 seconds... 0.6269840349205692 operations per second\n"
     ]
    }
   ],
   "source": [
    "# Use the spikeforest collection on the central cairio server\n",
    "ca.setRemoteConfig(url='') # use default cairio url\n",
    "ca.autoConfig(collection='spikeforest',key='spikeforest2-readwrite',ask_password=True)\n",
    "run_cairio_test()\n",
    "run_kbucket_test()"
   ]
  },
  {
   "cell_type": "code",
   "execution_count": null,
   "metadata": {},
   "outputs": [],
   "source": []
  }
 ],
 "metadata": {
  "kernelspec": {
   "display_name": "Python 3",
   "language": "python",
   "name": "python3"
  },
  "language_info": {
   "codemirror_mode": {
    "name": "ipython",
    "version": 3
   },
   "file_extension": ".py",
   "mimetype": "text/x-python",
   "name": "python",
   "nbconvert_exporter": "python",
   "pygments_lexer": "ipython3",
   "version": "3.6.8"
  }
 },
 "nbformat": 4,
 "nbformat_minor": 2
}
