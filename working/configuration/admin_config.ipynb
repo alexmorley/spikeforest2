{
 "cells": [
  {
   "cell_type": "markdown",
   "metadata": {},
   "source": [
    "## Configuration of cairio.org\n",
    "\n",
    "Right now the central cairio server is hosted on https://pairio.org:20443\n",
    "\n",
    "This is a linode server\n",
    "\n",
    "Inside a tmux session called cairio:\n",
    "\n",
    "```\n",
    "cd ~/src/spikeforest2/mountaintools/cairioserver\n",
    "```\n",
    "\n",
    "See .env file containing:\n",
    "\n",
    "```\n",
    "PORT=20443\n",
    "CAIRIO_ADMIN_TOKEN=******\n",
    "```\n",
    "\n",
    "To run the server:\n",
    "\n",
    "```\n",
    "npm install .\n",
    "node cairioserver.js\n",
    "```\n",
    "\n",
    "There are instructions in the home directory for setting up firewall and renewing the certs"
   ]
  },
  {
   "cell_type": "code",
   "execution_count": 1,
   "metadata": {},
   "outputs": [],
   "source": [
    "%load_ext autoreload\n",
    "%autoreload 2\n",
    "\n",
    "# import cairio client and other packages\n",
    "from mountaintools import client as mt\n",
    "from mountaintools import CairioClient\n",
    "from getpass import getpass\n",
    "import os\n",
    "from getpass import getpass\n",
    "import json\n",
    "from simplecrypt import encrypt, decrypt\n",
    "import base64\n",
    "from dotenv import load_dotenv"
   ]
  },
  {
   "cell_type": "code",
   "execution_count": 2,
   "metadata": {},
   "outputs": [],
   "source": [
    "# Load secret stuff from the cairio.env file (only on the admin's computer)\n",
    "\n",
    "load_dotenv(dotenv_path='cairio.env',verbose=True)\n",
    "CAIRIO_ADMIN_TOKEN=os.environ['CAIRIO_ADMIN_TOKEN']\n",
    "mt.setPairioToken('admin', CAIRIO_ADMIN_TOKEN)"
   ]
  },
  {
   "cell_type": "code",
   "execution_count": 3,
   "metadata": {},
   "outputs": [
    {
     "data": {
      "text/plain": [
       "True"
      ]
     },
     "execution_count": 3,
     "metadata": {},
     "output_type": "execute_result"
    }
   ],
   "source": [
    "# Let's set up the admin collection where we will store the user login information\n",
    "# It will have the same token as the admin token\n",
    "\n",
    "mt.addRemoteCollection(collection='admin', token=CAIRIO_ADMIN_TOKEN, admin_token=CAIRIO_ADMIN_TOKEN)"
   ]
  },
  {
   "cell_type": "code",
   "execution_count": 7,
   "metadata": {},
   "outputs": [],
   "source": [
    "# Now let's add some users.\n",
    "\n",
    "def set_user_config(user,config,password):\n",
    "    key=dict(\n",
    "        name='user_config',\n",
    "        user=user\n",
    "    )\n",
    "    if password is None:\n",
    "        password=getpass('Enter an encryption password for {}: '.format(user))\n",
    "    val=base64.b64encode(encrypt(password,json.dumps(config))).decode()\n",
    "    cc=CairioClient()\n",
    "    cc.setPairioToken(collection='admin',token=CAIRIO_ADMIN_TOKEN)\n",
    "    cc.setValue(\n",
    "        key=key,\n",
    "        value=val,\n",
    "        collection='admin'\n",
    "    )\n",
    "\n",
    "# user=magland, jjun\n",
    "config_sf=dict(\n",
    "    kbucket_shares=[\n",
    "        dict(hub='kbucket.flatironinstitute.org',name='sf_raw',node_id='15734439d8cf'),\n",
    "        dict(hub='kbucket.flatironinstitute.org',name='spikeforest1',node_id='7317cea8265b',upload_token=os.environ['SPIKEFOREST1_UPLOAD_TOKEN']),\n",
    "        dict(hub='kbucket.flatironinstitute.org',name='spikeforest2',node_id='69432e9201d0',upload_token=os.environ['SPIKEFOREST2_UPLOAD_TOKEN']),\n",
    "        dict(hub='kbucket.flatironinstitute.org',name='spikeforest3',node_id='f044bb130923',upload_token=os.environ['SPIKEFOREST3_UPLOAD_TOKEN'])\n",
    "    ],\n",
    "    cairio_collections=[\n",
    "        dict(database='default',name='spikeforest',token=os.environ['SPIKEFOREST_TOKEN'])\n",
    "    ],\n",
    "    pairio_tokens=dict(\n",
    "        spikeforest=os.environ['SPIKEFOREST_TOKEN']\n",
    "    ),\n",
    "    kachery_upload_tokens={\n",
    "        'public':os.environ['KACHERY_PUBLIC_TOKEN'],\n",
    "        'kbucket':os.environ['KACHERY_KBUCKET_TOKEN'],\n",
    "        'spikeforest.public':os.environ['KACHERY_PUBLIC_TOKEN'],\n",
    "        'spikeforest.kbucket':os.environ['KACHERY_KBUCKET_TOKEN']\n",
    "    }\n",
    ")\n",
    "# user=morley\n",
    "config_morley=dict(\n",
    "    kbucket_shares=[\n",
    "        dict(hub='kbucket.flatironinstitute.org',name='morleyshare',node_id='b906f94785d5',upload_token=os.environ['MORLEYSHARE_UPLOAD_TOKEN'])\n",
    "    ],\n",
    "    cairio_collections=[\n",
    "        dict(database='default',name='morley',token=os.environ['MORLEY_TOKEN'])\n",
    "    ],\n",
    "    pairio_tokens=dict(\n",
    "        morley=os.environ['MORLEY_TOKEN']\n",
    "    ),\n",
    "    kachery_upload_tokens={\n",
    "        'public':os.environ['KACHERY_PUBLIC_TOKEN'],\n",
    "        'spikeforest.public':os.environ['KACHERY_PUBLIC_TOKEN']\n",
    "    }\n",
    ")\n",
    "set_user_config('magland',config_sf,password=os.getenv('MAGLAND_PASSWORD'))\n",
    "set_user_config('jjun',config_sf,password=os.getenv('JJUN_PASSWORD'))\n",
    "set_user_config('morley',config_morley,password=os.getenv('MORLEY_PASSWORD'))"
   ]
  },
  {
   "cell_type": "code",
   "execution_count": 8,
   "metadata": {},
   "outputs": [
    {
     "name": "stdin",
     "output_type": "stream",
     "text": [
      "Mountain password for magland:  ·····\n"
     ]
    },
    {
     "name": "stdout",
     "output_type": "stream",
     "text": [
      "Logging in as magland...\n",
      "Logged in as magland\n"
     ]
    }
   ],
   "source": [
    "# Now this is how we would log in as magland and configure the cairio client:\n",
    "\n",
    "mt.login(user='magland', ask_password=True)\n",
    "mt.configDownloadFrom(['spikeforest.kbucket'])"
   ]
  },
  {
   "cell_type": "code",
   "execution_count": 7,
   "metadata": {},
   "outputs": [
    {
     "data": {
      "text/plain": [
       "True"
      ]
     },
     "execution_count": 7,
     "metadata": {},
     "output_type": "execute_result"
    }
   ],
   "source": [
    "# Let's set the token for the remote collections\n",
    "\n",
    "mt.addRemoteCollection(collection='spikeforest', token=os.environ['SPIKEFOREST_TOKEN'], admin_token=CAIRIO_ADMIN_TOKEN)\n",
    "mt.addRemoteCollection(collection='morley', token=os.environ['MORLEY_TOKEN'], admin_token=CAIRIO_ADMIN_TOKEN)"
   ]
  },
  {
   "cell_type": "code",
   "execution_count": 9,
   "metadata": {},
   "outputs": [
    {
     "name": "stdin",
     "output_type": "stream",
     "text": [
      "Mountain password for morley:  ········\n"
     ]
    },
    {
     "name": "stdout",
     "output_type": "stream",
     "text": [
      "Logging in as morley...\n",
      "Logged in as morley\n"
     ]
    },
    {
     "data": {
      "text/plain": [
       "True"
      ]
     },
     "execution_count": 9,
     "metadata": {},
     "output_type": "execute_result"
    }
   ],
   "source": [
    "# test morley login\n",
    "mt.login(user='morley',ask_password=True)\n",
    "mt.setValue(key='morleyshare',value='b906f94785d5')"
   ]
  },
  {
   "cell_type": "code",
   "execution_count": 10,
   "metadata": {},
   "outputs": [
    {
     "data": {
      "text/plain": [
       "'sha1://81b50a6e50e4553389e6be429fb28841e0249f75/object.json'"
      ]
     },
     "execution_count": 10,
     "metadata": {},
     "output_type": "execute_result"
    }
   ],
   "source": [
    "mt.saveObject(key='testkey',object=dict(test='object'))"
   ]
  },
  {
   "cell_type": "code",
   "execution_count": 13,
   "metadata": {},
   "outputs": [
    {
     "name": "stdin",
     "output_type": "stream",
     "text": [
      "Mountain password for magland:  ·····\n"
     ]
    },
    {
     "name": "stdout",
     "output_type": "stream",
     "text": [
      "Logging in as magland...\n",
      "Logged in as magland\n",
      "{'test': 1}\n",
      "{'test': 2}\n"
     ]
    }
   ],
   "source": [
    "###### Let's do a test\n",
    "mt.login(user='magland',ask_password=True)\n",
    "mt.configDownloadFrom('spikeforest.spikeforest2')\n",
    "\n",
    "mt.saveObject(key='test1',object=dict(test=1))\n",
    "print(mt.loadObject(key='test1'))\n",
    "mt.saveObject(key='test1',object=dict(test=2))\n",
    "print(mt.loadObject(key='test1'))"
   ]
  },
  {
   "cell_type": "code",
   "execution_count": 14,
   "metadata": {},
   "outputs": [
    {
     "data": {
      "text/plain": [
       "True"
      ]
     },
     "execution_count": 14,
     "metadata": {},
     "output_type": "execute_result"
    }
   ],
   "source": [
    "# Let's make aliases so we don't need to remember the share_id for the kbucket shares\n",
    "mt.setValue(key='spikeforest2',value='69432e9201d0')\n",
    "mt.setValue(key='spikeforest3',value='f044bb130923')"
   ]
  },
  {
   "cell_type": "code",
   "execution_count": 15,
   "metadata": {},
   "outputs": [],
   "source": [
    "# Now we can do this!\n",
    "mt.configDownloadFrom('spikeforest.spikeforest2')"
   ]
  },
  {
   "cell_type": "code",
   "execution_count": 6,
   "metadata": {},
   "outputs": [
    {
     "data": {
      "text/plain": [
       "True"
      ]
     },
     "execution_count": 6,
     "metadata": {},
     "output_type": "execute_result"
    }
   ],
   "source": [
    "# Set up the kachery aliases\n",
    "mt.setValue(key='kbucket', value='http://pairio.org:12001', collection='spikeforest')\n",
    "mt.setValue(key='public', value='http://45.79.176.243:8080', collection='spikeforest')"
   ]
  },
  {
   "cell_type": "code",
   "execution_count": null,
   "metadata": {},
   "outputs": [],
   "source": []
  }
 ],
 "metadata": {
  "kernelspec": {
   "display_name": "Python 3",
   "language": "python",
   "name": "python3"
  },
  "language_info": {
   "codemirror_mode": {
    "name": "ipython",
    "version": 3
   },
   "file_extension": ".py",
   "mimetype": "text/x-python",
   "name": "python",
   "nbconvert_exporter": "python",
   "pygments_lexer": "ipython3",
   "version": "3.6.8"
  }
 },
 "nbformat": 4,
 "nbformat_minor": 2
}
