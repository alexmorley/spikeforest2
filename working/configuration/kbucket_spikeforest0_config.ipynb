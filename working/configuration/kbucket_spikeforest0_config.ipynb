{
 "cells": [
  {
   "cell_type": "markdown",
   "metadata": {},
   "source": [
    "## Configuration of kbucket share on ccmlin008\n",
    "\n",
    "Inside a tmux session called spikeforest0:\n",
    "\n",
    "```\n",
    "cd ~/kbnodes/spikeforest0\n",
    "kbucket-host . --auto\n",
    "```\n",
    "\n",
    "(it is a symbolic link to ceph)\n",
    "\n",
    "Then, inside a tmux session called spikeforest0-cas:\n",
    "    \n",
    "```\n",
    "cd ~/kbnodes/spikeforest0\n",
    "casuploadserver\n",
    "```\n",
    "\n",
    "Note that the following are contained in the .env file:\n",
    "\n",
    "```\n",
    "PORT the listen port\n",
    "CAS_UPLOAD_DIR the absolute path of the directory to store uploaded files\n",
    "CAS_UPLOAD_TOKEN\n",
    "```\n",
    "\n",
    "This entire directory is hidden from other users via\n",
    "\n",
    "```\n",
    "chmod -R go-rwx .\n",
    "```"
   ]
  },
  {
   "cell_type": "code",
   "execution_count": null,
   "metadata": {},
   "outputs": [],
   "source": [
    "# For convenience, let's put all this info in the password-protected config location"
   ]
  },
  {
   "cell_type": "code",
   "execution_count": 1,
   "metadata": {},
   "outputs": [],
   "source": [
    "from cairio import client as ca\n",
    "from getpass import getpass\n",
    "import json"
   ]
  },
  {
   "cell_type": "code",
   "execution_count": 16,
   "metadata": {},
   "outputs": [
    {
     "name": "stdin",
     "output_type": "stream",
     "text": [
      "Enter password:  ····\n"
     ]
    }
   ],
   "source": [
    "ca.setRemoteConfig(collection='spikeforest',token=ca.getValue(collection='spikeforest',key='token',password=getpass('Enter password: ')))"
   ]
  },
  {
   "cell_type": "code",
   "execution_count": 18,
   "metadata": {},
   "outputs": [
    {
     "name": "stdout",
     "output_type": "stream",
     "text": [
      "the value on spikeforest3 - test3\n"
     ]
    }
   ],
   "source": [
    "ca.setValue(key='some-test-key',value='the value on spikeforest3 - test3')\n",
    "print(ca.getValue(collection='spikeforest',key='some-test-key'))"
   ]
  },
  {
   "cell_type": "code",
   "execution_count": 11,
   "metadata": {},
   "outputs": [
    {
     "name": "stdin",
     "output_type": "stream",
     "text": [
      "Enter password:  ····\n",
      "Enter upload token:  ········\n"
     ]
    },
    {
     "data": {
      "text/plain": [
       "True"
      ]
     },
     "execution_count": 11,
     "metadata": {},
     "output_type": "execute_result"
    }
   ],
   "source": [
    "# Let's store the read/write configuration that allows saving data to the spikeforest0 kbucket share\n",
    "password=getpass('Enter password: ')\n",
    "upload_token=getpass('Enter upload token: ')\n",
    "config=dict(\n",
    "    collection='spikeforest',\n",
    "    token=ca.getValue(key='token',password=password),\n",
    "    share_id='110887a470ab',\n",
    "    upload_token=upload_token\n",
    ")\n",
    "ca.setValue(key='spikeforest0-readwrite',password=password,value=json.dumps(config))"
   ]
  },
  {
   "cell_type": "code",
   "execution_count": 12,
   "metadata": {},
   "outputs": [
    {
     "name": "stdin",
     "output_type": "stream",
     "text": [
      "Enter password:  ····\n"
     ]
    }
   ],
   "source": [
    "# Now, we have the entire configuration password protected like so:\n",
    "\n",
    "config=ca.getValue(collection='spikeforest',key='spikeforest0-readwrite',password=getpass('Enter password: '),parse_json=True)\n",
    "ca.setRemoteConfig(**config)"
   ]
  },
  {
   "cell_type": "code",
   "execution_count": 10,
   "metadata": {},
   "outputs": [
    {
     "data": {
      "text/plain": [
       "True"
      ]
     },
     "execution_count": 10,
     "metadata": {},
     "output_type": "execute_result"
    }
   ],
   "source": [
    "# Let's put in the readonly access\n",
    "\n",
    "config=dict(\n",
    "    collection='spikeforest',\n",
    "    token='',\n",
    "    share_id='110887a470ab',\n",
    "    upload_token=''\n",
    ")\n",
    "ca.setValue(key='spikeforest0-readonly',value=json.dumps(config))\n",
    "\n",
    "config=dict(\n",
    "    collection='spikeforest',\n",
    "    token='',\n",
    "    share_id='7317cea8265b',\n",
    "    upload_token=''\n",
    ")\n",
    "ca.setValue(key='spikeforest1-readonly',value=json.dumps(config))\n",
    "\n",
    "config=dict(\n",
    "    collection='spikeforest',\n",
    "    token='',\n",
    "    share_id='69432e9201d0',\n",
    "    upload_token=''\n",
    ")\n",
    "ca.setValue(key='spikeforest2-readonly',value=json.dumps(config))"
   ]
  },
  {
   "cell_type": "code",
   "execution_count": 14,
   "metadata": {},
   "outputs": [],
   "source": [
    "# So this is what we can do to configure as readonly\n",
    "\n",
    "config=ca.getValue(collection='spikeforest',key='spikeforest0-readonly',parse_json=True)\n",
    "ca.setRemoteConfig(**config)"
   ]
  },
  {
   "cell_type": "code",
   "execution_count": 2,
   "metadata": {},
   "outputs": [],
   "source": [
    "# READONLY\n",
    "ca.autoConfig(collection='spikeforest',key='spikeforest0-readonly')"
   ]
  },
  {
   "cell_type": "code",
   "execution_count": 2,
   "metadata": {},
   "outputs": [
    {
     "name": "stdin",
     "output_type": "stream",
     "text": [
      "Enter password:  ····\n"
     ]
    },
    {
     "name": "stdout",
     "output_type": "stream",
     "text": [
      "CAIRIO CONFIG: remote database spikeforest (readwrite); remote kb-share 110887a470ab (readwrite)\n"
     ]
    }
   ],
   "source": [
    "# READWRITE to spikeforest0\n",
    "ca.autoConfig(collection='spikeforest',key='spikeforest0-readwrite',ask_password=True)"
   ]
  },
  {
   "cell_type": "code",
   "execution_count": 5,
   "metadata": {},
   "outputs": [
    {
     "name": "stdout",
     "output_type": "stream",
     "text": [
      "the value on spikeforest3 - test7\n"
     ]
    }
   ],
   "source": [
    "ca.setValue(key='some-test-key',value='the value on spikeforest3 - test7')\n",
    "print(ca.getValue(collection='spikeforest',key='some-test-key'))"
   ]
  },
  {
   "cell_type": "code",
   "execution_count": null,
   "metadata": {},
   "outputs": [],
   "source": [
    "# SPIKEFOREST1 - readwrite\n",
    "password=getpass('Enter password: ')\n",
    "upload_token=getpass('Enter upload token for spikeforest1: ')\n",
    "config=dict(\n",
    "    collection='spikeforest',\n",
    "    token=ca.getValue(key='token',password=password),\n",
    "    share_id='69432e9201d0',\n",
    "    upload_token=upload_token\n",
    ")\n",
    "ca.setValue(key='spikeforest1-readwrite',password=password,value=json.dumps(config))"
   ]
  },
  {
   "cell_type": "code",
   "execution_count": null,
   "metadata": {},
   "outputs": [],
   "source": [
    "# SPIKEFOREST2 - readwrite\n",
    "\n",
    "password=getpass('Enter password: ')\n",
    "upload_token=getpass('Enter upload token for spikeforest2: ')\n",
    "config=dict(\n",
    "    collection='spikeforest',\n",
    "    token=ca.getValue(key='token',password=password),\n",
    "    share_id='69432e9201d0',\n",
    "    upload_token=upload_token\n",
    ")\n",
    "ca.setValue(key='spikeforest2-readwrite',password=password,value=json.dumps(config))"
   ]
  },
  {
   "cell_type": "code",
   "execution_count": 4,
   "metadata": {},
   "outputs": [
    {
     "name": "stdin",
     "output_type": "stream",
     "text": [
      "Enter password:  ····\n"
     ]
    },
    {
     "name": "stdout",
     "output_type": "stream",
     "text": [
      "CAIRIO CONFIG: remote database spikeforest (readwrite); remote kb-share 69432e9201d0 (readwrite)\n"
     ]
    }
   ],
   "source": [
    "# READWRITE to spikeforest2\n",
    "ca.autoConfig(collection='spikeforest',key='spikeforest2-readwrite',ask_password=True)"
   ]
  },
  {
   "cell_type": "code",
   "execution_count": 8,
   "metadata": {},
   "outputs": [
    {
     "data": {
      "text/plain": [
       "'testing'"
      ]
     },
     "execution_count": 8,
     "metadata": {},
     "output_type": "execute_result"
    }
   ],
   "source": [
    "ca.loadText(path=ca.saveText('testing'))"
   ]
  },
  {
   "cell_type": "code",
   "execution_count": null,
   "metadata": {},
   "outputs": [],
   "source": []
  }
 ],
 "metadata": {
  "kernelspec": {
   "display_name": "Python 3",
   "language": "python",
   "name": "python3"
  },
  "language_info": {
   "codemirror_mode": {
    "name": "ipython",
    "version": 3
   },
   "file_extension": ".py",
   "mimetype": "text/x-python",
   "name": "python",
   "nbconvert_exporter": "python",
   "pygments_lexer": "ipython3",
   "version": "3.6.7"
  }
 },
 "nbformat": 4,
 "nbformat_minor": 2
}
