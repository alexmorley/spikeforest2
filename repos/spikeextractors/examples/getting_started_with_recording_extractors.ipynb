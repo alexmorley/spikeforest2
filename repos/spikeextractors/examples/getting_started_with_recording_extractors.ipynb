{
 "cells": [
  {
   "cell_type": "code",
   "execution_count": null,
   "metadata": {},
   "outputs": [],
   "source": [
    "# Imports\n",
    "import numpy as np\n",
    "import spikeextractors as se"
   ]
  },
  {
   "cell_type": "code",
   "execution_count": null,
   "metadata": {},
   "outputs": [],
   "source": [
    "# Properties of the in-memory dataset\n",
    "num_channels=7\n",
    "samplerate=30000\n",
    "duration=20\n",
    "num_timepoints=int(samplerate*duration)"
   ]
  },
  {
   "cell_type": "code",
   "execution_count": null,
   "metadata": {},
   "outputs": [],
   "source": [
    "# Generate a pure-noise timeseries dataset and a linear geometry\n",
    "timeseries=np.random.normal(0,10,(num_channels,num_timepoints))\n",
    "geom=np.zeros((num_channels,2))\n",
    "geom[:,0]=range(num_channels)"
   ]
  },
  {
   "cell_type": "code",
   "execution_count": null,
   "metadata": {},
   "outputs": [],
   "source": [
    "# Define the in-memory recording extractor\n",
    "RX=se.NumpyRecordingExtractor(timeseries=timeseries,geom=geom,samplerate=samplerate)"
   ]
  },
  {
   "cell_type": "code",
   "execution_count": null,
   "metadata": {},
   "outputs": [],
   "source": [
    "# Demonstrate the API for extracting information\n",
    "print('Num. channels = {}'.format(len(RX.getChannelIds())))\n",
    "print('Sampling frequency = {} Hz'.format(RX.getSamplingFrequency()))\n",
    "print('Num. timepoints = {}'.format(RX.getNumFrames()))\n",
    "print('Stdev. on third channel = {}'.format(np.std(RX.getTraces(channel_ids=2))))\n",
    "print('Location of third electrode = {}'.format(RX.getChannelProperty(channel_id=2, property_name='location')))"
   ]
  },
  {
   "cell_type": "code",
   "execution_count": null,
   "metadata": {},
   "outputs": [],
   "source": [
    "# Write this dataset in the MountainSort format\n",
    "se.MdaRecordingExtractor.writeRecording(recording=RX,save_path='sample_mountainsort_dataset')"
   ]
  },
  {
   "cell_type": "code",
   "execution_count": null,
   "metadata": {},
   "outputs": [],
   "source": [
    "# Read this dataset with the Mda recording extractor\n",
    "RX2=se.MdaRecordingExtractor(dataset_directory='sample_mountainsort_dataset')"
   ]
  },
  {
   "cell_type": "code",
   "execution_count": null,
   "metadata": {},
   "outputs": [],
   "source": [
    "# We should get he same information as above\n",
    "print('Num. channels = {}'.format(len(RX2.getChannelIds())))\n",
    "print('Sampling frequency = {} Hz'.format(RX2.getSamplingFrequency()))\n",
    "print('Num. timepoints = {}'.format(RX2.getNumFrames()))\n",
    "print('Stdev. on third channel = {}'.format(np.std(RX2.getTraces(channel_ids=2))))\n",
    "print('Location of third electrode = {}'.format(RX.getChannelProperty(channel_id=4, property_name='location')))"
   ]
  },
  {
   "cell_type": "code",
   "execution_count": null,
   "metadata": {},
   "outputs": [],
   "source": [
    "#Putting Epochs into our recording (Adding a name to a time period in the recording)\n",
    "RX2.addEpoch(epoch_name='stimulation', start_frame=1000, end_frame=6000)\n",
    "RX2.addEpoch(epoch_name='post_stimulation', start_frame=6000, end_frame=10000)\n",
    "RX2.addEpoch(epoch_name='pre_stimulation', start_frame=0, end_frame=1000)"
   ]
  },
  {
   "cell_type": "code",
   "execution_count": null,
   "metadata": {},
   "outputs": [],
   "source": [
    "#Check Epoch names in our recording\n",
    "RX2.getEpochNames()"
   ]
  },
  {
   "cell_type": "code",
   "execution_count": null,
   "metadata": {},
   "outputs": [],
   "source": [
    "#Return a SubRecordingExtractor that is a view to our epoch. Can view info about it in parent extractor\n",
    "RX3 = RX2.getEpoch(epoch_name='stimulation')\n",
    "epoch_info = RX2.getEpochInfo('stimulation')\n",
    "start_frame = epoch_info['start_frame']\n",
    "end_frame = epoch_info['end_frame']\n",
    "\n",
    "print('Epoch Name = stimulation')\n",
    "print('Start Frame = {}'.format(start_frame))\n",
    "print('End Frame = {}'.format(end_frame))\n",
    "print('Mean. on second channel during stimulation = {}'.format(np.mean(RX3.getTraces(channel_ids=1))))\n",
    "print('Location of third electrode = {}'.format(RX.getChannelProperty(channel_id=2, property_name='location')))"
   ]
  },
  {
   "cell_type": "code",
   "execution_count": null,
   "metadata": {},
   "outputs": [],
   "source": [
    "# Can extract an arbitrary subset of your data/channels manually without epoch functionality\n",
    "RX4=se.SubRecordingExtractor(parent_recording=RX2,channel_ids=[2,3,4,5],start_frame=14000,\n",
    "                             end_frame=16000)"
   ]
  },
  {
   "cell_type": "code",
   "execution_count": null,
   "metadata": {},
   "outputs": [],
   "source": [
    "# Show the information for this sub-dataset\n",
    "print('Num. channels = {}'.format(len(RX4.getChannelIds())))\n",
    "print('Sampling frequency = {} Hz'.format(RX4.getSamplingFrequency()))\n",
    "print('Num. timepoints = {}'.format(RX4.getNumFrames()))\n",
    "print('Stdev. on third channel = {}'.format(np.std(RX4.getTraces(channel_ids=2))))\n",
    "print('Location of third electrode = {}'.format(RX4.getChannelProperty(channel_id=2, property_name='location')))"
   ]
  },
  {
   "cell_type": "code",
   "execution_count": null,
   "metadata": {},
   "outputs": [],
   "source": [
    "#Can rename the sub-dataset channel ids (Channel id mapping: 0-->2, 1-->3, 2-->4, 3-->5)\n",
    "RX5=se.SubRecordingExtractor(parent_recording=RX2,channel_ids=[2,3,4,5], \n",
    "                             renamed_channel_ids = [0,1,2,3],\n",
    "                             start_frame=14000,end_frame=16000)\n",
    "print('New ids = {}'.format(RX5.getChannelIds()))\n",
    "print('Original ids = {}'.format(RX5.getOriginalChannelIds([0,1,2,3])))"
   ]
  },
  {
   "cell_type": "code",
   "execution_count": null,
   "metadata": {},
   "outputs": [],
   "source": [
    "# Show the information for this sub-dataset \n",
    "print('Num. channels = {}'.format(len(RX5.getChannelIds())))\n",
    "print('Sampling frequency = {} Hz'.format(RX5.getSamplingFrequency()))\n",
    "print('Num. timepoints = {}'.format(RX5.getNumFrames()))\n",
    "print('Stdev. on third channel = {}'.format(np.std(RX5.getTraces(channel_ids=0))))\n",
    "print('Location of third electrode = {}'.format(RX5.getChannelProperty(channel_id=0, property_name='location')))"
   ]
  }
 ],
 "metadata": {
  "kernelspec": {
   "display_name": "Python [conda env:spikeinterface]",
   "language": "python",
   "name": "conda-env-spikeinterface-py"
  },
  "language_info": {
   "codemirror_mode": {
    "name": "ipython",
    "version": 3
   },
   "file_extension": ".py",
   "mimetype": "text/x-python",
   "name": "python",
   "nbconvert_exporter": "python",
   "pygments_lexer": "ipython3",
   "version": "3.7.1"
  }
 },
 "nbformat": 4,
 "nbformat_minor": 2
}
