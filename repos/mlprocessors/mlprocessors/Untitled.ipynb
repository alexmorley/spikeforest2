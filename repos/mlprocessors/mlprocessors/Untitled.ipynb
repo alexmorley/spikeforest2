{
 "cells": [
  {
   "cell_type": "code",
   "execution_count": 1,
   "metadata": {},
   "outputs": [
    {
     "name": "stdout",
     "output_type": "stream",
     "text": [
      "vdomr: using colab\n"
     ]
    }
   ],
   "source": [
    "%load_ext autoreload\n",
    "%autoreload 2\n",
    "import mlprocessors as mlpr\n",
    "from kbucket import client as kb\n",
    "import batcho\n",
    "import spikeforest as sf"
   ]
  },
  {
   "cell_type": "code",
   "execution_count": 2,
   "metadata": {},
   "outputs": [
    {
     "name": "stdin",
     "output_type": "stream",
     "text": [
      "Enter password:  ····\n"
     ]
    },
    {
     "name": "stdout",
     "output_type": "stream",
     "text": [
      "Pairio user set to spikeforest. Test succeeded.\n"
     ]
    }
   ],
   "source": [
    "sf.kbucketConfigRemote(name='spikeforest1-readwrite',ask_password=True)"
   ]
  },
  {
   "cell_type": "code",
   "execution_count": 3,
   "metadata": {},
   "outputs": [],
   "source": [
    "from test_processor import test_processor"
   ]
  },
  {
   "cell_type": "code",
   "execution_count": 5,
   "metadata": {},
   "outputs": [
    {
     "name": "stdout",
     "output_type": "stream",
     "text": [
      "::::::::::::::::::::::::::::: test.test_processor\n",
      "Found output \"output_file\" in cache collection: spikeforest\n",
      "Found job in cache, but not all output files exist.\n",
      "MLPR EXECUTING::::::::::::::::::::::::::::: test.test_processor\n",
      "Sleeping for 1 seconds.\n",
      "param1=1, param2=8\n",
      "from .core import *\n",
      "from .registry import *\n",
      "from .validators import *\n",
      "\n",
      "__all__ = [ \n",
      "    \"Input\", \"Output\", \n",
      "    \"Parameter\", \"StringParameter\", \"IntegerParameter\", \"FloatParameter\", \n",
      "    \"Processor\", \n",
      "    \"registry\", \"register_processor\", \"ProcessorRegistry\",\n",
      "    \"Validator\", \"ValueValidator\", \"RegexValidator\", \"FileExtensionValidator\", \"FileExistsValidator\",\n",
      "    \"invoke\"\n",
      "]\n",
      "\n",
      "MLPR FINISHED ::::::::::::::::::::::::::::: test.test_processor\n"
     ]
    },
    {
     "data": {
      "text/plain": [
       "<mlprocessors.execute.ProcessorExecuteOutput at 0x7fb6ee845080>"
      ]
     },
     "execution_count": 5,
     "metadata": {},
     "output_type": "execute_result"
    }
   ],
   "source": [
    "test_processor.execute(\n",
    "    input_file='__init__.py',\n",
    "    output_file='test2.py',\n",
    "    param1=1,\n",
    "    param2=8,\n",
    "    _cache=True,\n",
    "    _system_call=False,\n",
    "    _system_call_prefix=None,\n",
    "    _keep_temp_files=False\n",
    ")"
   ]
  },
  {
   "cell_type": "code",
   "execution_count": 12,
   "metadata": {},
   "outputs": [
    {
     "name": "stdout",
     "output_type": "stream",
     "text": [
      "Already on server.\n",
      "Already on server.\n",
      "Already on server.\n",
      "Already on server.\n",
      "Already on server.\n",
      "Already on server.\n",
      "Already on server.\n",
      "Already on server.\n",
      "Already on server.\n",
      "Retrieving batch test_mlpr_batch\n",
      "Batch has 4 jobs.\n",
      "Cleared 4 jobs.\n"
     ]
    }
   ],
   "source": [
    "jobs=[\n",
    "    test_processor.createJob(\n",
    "        input_file='__init__.py',\n",
    "        _container='sha1://a3842053423c633b62e70474be9d76068cdc1ea5/mountainsort4.simg',\n",
    "        output_file=dict(ext='.py',upload=True),\n",
    "        param1=param,\n",
    "        param2=14\n",
    "    )\n",
    "    for param in range(1,5)\n",
    "]\n",
    "batcho.set_batch(batch_name='test_mlpr_batch',jobs=jobs,compute_resource='jfm-laptop')\n",
    "batcho.clear_batch_jobs(batch_name='test_mlpr_batch')"
   ]
  },
  {
   "cell_type": "code",
   "execution_count": 10,
   "metadata": {},
   "outputs": [
    {
     "name": "stdout",
     "output_type": "stream",
     "text": [
      "['finished', 'finished', 'finished', 'running']\n"
     ]
    }
   ],
   "source": [
    "statuses=batcho.get_batch_job_statuses(batch_name='test_mlpr_batch')\n",
    "print([a['status'] for a in statuses])"
   ]
  },
  {
   "cell_type": "code",
   "execution_count": 11,
   "metadata": {},
   "outputs": [
    {
     "name": "stdout",
     "output_type": "stream",
     "text": [
      "param1=1, param2=13\n",
      "from .core import *\n",
      "from .registry import *\n",
      "from .validators import *\n",
      "\n",
      "__all__ = [ \n",
      "    \"Input\", \"Output\", \n",
      "    \"Parameter\", \"StringParameter\", \"IntegerParameter\", \"FloatParameter\", \n",
      "    \"Processor\", \n",
      "    \"registry\", \"register_processor\", \"ProcessorRegistry\",\n",
      "    \"Validator\", \"ValueValidator\", \"RegexValidator\", \"FileExtensionValidator\", \"FileExistsValidator\",\n",
      "    \"invoke\"\n",
      "]\n",
      "\n"
     ]
    }
   ],
   "source": [
    "results=batcho.get_batch_results(batch_name='test_mlpr_batch')['results']\n",
    "fname0=kb.realizeFile(results[0]['result']['outputs']['output_file'])\n",
    "with open(fname0) as f:\n",
    "    print(f.read())"
   ]
  },
  {
   "cell_type": "code",
   "execution_count": 57,
   "metadata": {},
   "outputs": [
    {
     "name": "stdout",
     "output_type": "stream",
     "text": [
      "RUNNING: python /tmp/tmp64i0n11k/execute.py\n",
      "::::::::::::::::::::::::::::: test.test_processor\n",
      "\n",
      "Found output \"output_file\" in cache collection: [local]\n",
      "\n",
      "Using outputs from cache: [local]\n",
      "\n",
      "copying file: /home/magland/kbucket_cache/b/39/b3989e30e7873ef95205d4e4ccf0964df60fa3df -> /tmp/tmp64i0n11k/output_output_file.py\n",
      "\n",
      "Already on server.\n",
      "\n"
     ]
    }
   ],
   "source": [
    "print(batcho.get_batch_job_console_output(batch_name='test_mlpr_batch',job_index=2))"
   ]
  },
  {
   "cell_type": "code",
   "execution_count": 58,
   "metadata": {},
   "outputs": [
    {
     "ename": "Exception",
     "evalue": "Unable to find file.",
     "output_type": "error",
     "traceback": [
      "\u001b[0;31m---------------------------------------------------------------------------\u001b[0m",
      "\u001b[0;31mException\u001b[0m                                 Traceback (most recent call last)",
      "\u001b[0;32m<ipython-input-58-c2c315015110>\u001b[0m in \u001b[0;36m<module>\u001b[0;34m\u001b[0m\n\u001b[0;32m----> 1\u001b[0;31m \u001b[0mobj\u001b[0m\u001b[0;34m=\u001b[0m\u001b[0mkb\u001b[0m\u001b[0;34m.\u001b[0m\u001b[0mloadObject\u001b[0m\u001b[0;34m(\u001b[0m\u001b[0mkey\u001b[0m\u001b[0;34m=\u001b[0m\u001b[0mdict\u001b[0m\u001b[0;34m(\u001b[0m\u001b[0mname\u001b[0m\u001b[0;34m=\u001b[0m\u001b[0;34m'nopoe'\u001b[0m\u001b[0;34m)\u001b[0m\u001b[0;34m)\u001b[0m\u001b[0;34m\u001b[0m\u001b[0;34m\u001b[0m\u001b[0m\n\u001b[0m",
      "\u001b[0;32m/home/project/kbucket/kbucketclient.py\u001b[0m in \u001b[0;36mloadObject\u001b[0;34m(self, format, share_ids, key, path, collection, local, remote)\u001b[0m\n\u001b[1;32m    267\u001b[0m     \u001b[0mfname\u001b[0m\u001b[0;34m=\u001b[0m\u001b[0mself\u001b[0m\u001b[0;34m.\u001b[0m\u001b[0mrealizeFile\u001b[0m\u001b[0;34m(\u001b[0m\u001b[0mshare_ids\u001b[0m\u001b[0;34m=\u001b[0m\u001b[0mshare_ids\u001b[0m\u001b[0;34m,\u001b[0m\u001b[0mkey\u001b[0m\u001b[0;34m=\u001b[0m\u001b[0mkey\u001b[0m\u001b[0;34m,\u001b[0m\u001b[0mpath\u001b[0m\u001b[0;34m=\u001b[0m\u001b[0mpath\u001b[0m\u001b[0;34m,\u001b[0m\u001b[0mcollection\u001b[0m\u001b[0;34m=\u001b[0m\u001b[0mcollection\u001b[0m\u001b[0;34m,\u001b[0m\u001b[0mlocal\u001b[0m\u001b[0;34m=\u001b[0m\u001b[0mlocal\u001b[0m\u001b[0;34m,\u001b[0m\u001b[0mremote\u001b[0m\u001b[0;34m=\u001b[0m\u001b[0mremote\u001b[0m\u001b[0;34m)\u001b[0m\u001b[0;34m\u001b[0m\u001b[0;34m\u001b[0m\u001b[0m\n\u001b[1;32m    268\u001b[0m     \u001b[0;32mif\u001b[0m \u001b[0mfname\u001b[0m \u001b[0;32mis\u001b[0m \u001b[0;32mNone\u001b[0m\u001b[0;34m:\u001b[0m\u001b[0;34m\u001b[0m\u001b[0;34m\u001b[0m\u001b[0m\n\u001b[0;32m--> 269\u001b[0;31m       \u001b[0;32mraise\u001b[0m \u001b[0mException\u001b[0m\u001b[0;34m(\u001b[0m\u001b[0;34m'Unable to find file.'\u001b[0m\u001b[0;34m)\u001b[0m\u001b[0;34m\u001b[0m\u001b[0;34m\u001b[0m\u001b[0m\n\u001b[0m\u001b[1;32m    270\u001b[0m     \u001b[0;32mif\u001b[0m \u001b[0mformat\u001b[0m\u001b[0;34m==\u001b[0m\u001b[0;34m'json'\u001b[0m\u001b[0;34m:\u001b[0m\u001b[0;34m\u001b[0m\u001b[0;34m\u001b[0m\u001b[0m\n\u001b[1;32m    271\u001b[0m       \u001b[0mret\u001b[0m\u001b[0;34m=\u001b[0m\u001b[0m_read_json_file\u001b[0m\u001b[0;34m(\u001b[0m\u001b[0mfname\u001b[0m\u001b[0;34m)\u001b[0m\u001b[0;34m\u001b[0m\u001b[0;34m\u001b[0m\u001b[0m\n",
      "\u001b[0;31mException\u001b[0m: Unable to find file."
     ]
    }
   ],
   "source": [
    "obj=kb.loadObject(key=dict(name='nopoe'))"
   ]
  },
  {
   "cell_type": "code",
   "execution_count": 8,
   "metadata": {},
   "outputs": [
    {
     "name": "stdout",
     "output_type": "stream",
     "text": [
      "::::::::::::::::::::::::::::: test.test_processor\n",
      "Found output \"output_file\" in cache collection: spikeforest\n",
      "Using outputs from cache: spikeforest\n"
     ]
    },
    {
     "data": {
      "text/plain": [
       "<mlprocessors.execute.ProcessorExecuteOutput at 0x7fadc0e98b00>"
      ]
     },
     "execution_count": 8,
     "metadata": {},
     "output_type": "execute_result"
    }
   ],
   "source": [
    "test_processor.execute(\n",
    "    input_file='__init__.py',\n",
    "    output_file={'ext':'.py'},\n",
    "    param1=24\n",
    ")"
   ]
  },
  {
   "cell_type": "code",
   "execution_count": 13,
   "metadata": {},
   "outputs": [
    {
     "data": {
      "text/plain": [
       "\u001b[0;31mSignature:\u001b[0m \u001b[0mbatcho\u001b[0m\u001b[0;34m.\u001b[0m\u001b[0mprepare_batch\u001b[0m\u001b[0;34m(\u001b[0m\u001b[0;34m*\u001b[0m\u001b[0;34m,\u001b[0m \u001b[0mbatch_name\u001b[0m\u001b[0;34m,\u001b[0m \u001b[0mclear_jobs\u001b[0m\u001b[0;34m=\u001b[0m\u001b[0;32mFalse\u001b[0m\u001b[0;34m,\u001b[0m \u001b[0mjob_index\u001b[0m\u001b[0;34m=\u001b[0m\u001b[0;32mNone\u001b[0m\u001b[0;34m)\u001b[0m\u001b[0;34m\u001b[0m\u001b[0;34m\u001b[0m\u001b[0m\n",
       "\u001b[0;31mDocstring:\u001b[0m <no docstring>\n",
       "\u001b[0;31mFile:\u001b[0m      /home/project/batcho/batcho.py\n",
       "\u001b[0;31mType:\u001b[0m      function\n"
      ]
     },
     "metadata": {},
     "output_type": "display_data"
    }
   ],
   "source": [
    "batcho.prepare_batch?"
   ]
  },
  {
   "cell_type": "code",
   "execution_count": 14,
   "metadata": {},
   "outputs": [
    {
     "name": "stdout",
     "output_type": "stream",
     "text": [
      "Retrieving batch test_mlpr_batch\n",
      "Batch has 1 jobs.\n",
      "Preparing job test.test_processor (version: 0.1.1) (container: sha1://a3842053423c633b62e70474be9d76068cdc1ea5/mountainsort4.simg)\n",
      "Prepared 1 jobs.\n",
      "Retrieving batch test_mlpr_batch\n",
      "Batch has 1 jobs.\n",
      "Acquired lock for job test.test_processor (version: 0.1.1) (container: sha1://a3842053423c633b62e70474be9d76068cdc1ea5/mountainsort4.simg)\n",
      "Running job test.test_processor (version: 0.1.1) (container: sha1://a3842053423c633b62e70474be9d76068cdc1ea5/mountainsort4.simg)\n",
      "RUNNING: python /tmp/tmpdo500pj2/execute.py\n",
      "::::::::::::::::::::::::::::: test.test_processor\n",
      "Found output \"output_file\" in cache collection: [local]\n",
      "Found outputs in cache, but forcing run...\n",
      "RUNNING: singularity exec -B /tmp/sha1-cache:/sha1-cache -B /tmp:/tmp -B /tmp/sha1-cache/7/11/71199d4d357f63f533e5fe45f59c9f5193caddd5:/execute_in_container/input_input_file -B /tmp/mlprocessors:/execute_in_container/outputdir_output_file -B /tmp/tmpdo500pj2/processor_source:/execute_in_container/processor_source -B /tmp/tmpbosauw0x/execute_in_container.py:/execute_in_container/execute_in_container.py --contain -e /tmp/sha1-cache/a/38/a3842053423c633b62e70474be9d76068cdc1ea5 bash -c \"KBUCKET_CACHE_DIR=/sha1-cache  python /execute_in_container/execute_in_container.py\"\n",
      "python: singularity: command not found\n",
      "\n",
      "Traceback (most recent call last):\n",
      "  File \"/tmp/tmpdo500pj2/execute.py\", line 8, in <module>\n",
      "    main()\n",
      "  File \"/tmp/tmpdo500pj2/execute.py\", line 5, in main\n",
      "    test_processor.execute(_cache=True, _force_run=True, _keep_temp_files=None, _container='/tmp/sha1-cache/a/38/a3842053423c633b62e70474be9d76068cdc1ea5', input_file='sha1://71199d4d357f63f533e5fe45f59c9f5193caddd5/__init__.py', output_file={\"ext\": \".py\"}, param1=9)\n",
      "  File \"/home/project/mlprocessors/core.py\", line 465, in execute\n",
      "    return execute(proc,**kwargs)\n",
      "  File \"/home/project/mlprocessors/execute.py\", line 605, in execute\n",
      "    _execute_in_container(proc, X, container=_container, tempdir=tempdir, **kwargs, _cache=_cache, _force_run=_force_run, _keep_temp_files=_keep_temp_files, _system_call_prefix=_system_call_prefix)\n",
      "  File \"/home/project/mlprocessors/execute.py\", line 293, in _execute_in_container\n",
      "    raise Exception('Processor returned a non-zero exit code')\n",
      "Exception: Processor returned a non-zero exit code\n",
      "Ran 1 jobs.\n"
     ]
    }
   ],
   "source": [
    "batcho.prepare_batch(batch_name='test_mlpr_batch',clear_jobs=True)\n",
    "batcho.run_batch(batch_name='test_mlpr_batch')"
   ]
  },
  {
   "cell_type": "code",
   "execution_count": 6,
   "metadata": {},
   "outputs": [
    {
     "name": "stdout",
     "output_type": "stream",
     "text": [
      "realizeFile 1\n",
      "realizeFile 2\n"
     ]
    },
    {
     "ename": "Exception",
     "evalue": "Unable to realize file for upload: /home/magland/src/spikeforest2/spikesorters/containers/mountainsort4/mountainsort4.simg",
     "output_type": "error",
     "traceback": [
      "\u001b[0;31m---------------------------------------------------------------------------\u001b[0m",
      "\u001b[0;31mException\u001b[0m                                 Traceback (most recent call last)",
      "\u001b[0;32m<ipython-input-6-011ceaa70f18>\u001b[0m in \u001b[0;36m<module>\u001b[0;34m\u001b[0m\n\u001b[0;32m----> 1\u001b[0;31m \u001b[0mkb\u001b[0m\u001b[0;34m.\u001b[0m\u001b[0msaveFile\u001b[0m\u001b[0;34m(\u001b[0m\u001b[0;34m'/home/magland/src/spikeforest2/spikesorters/containers/mountainsort4/mountainsort4.simg'\u001b[0m\u001b[0;34m)\u001b[0m\u001b[0;34m\u001b[0m\u001b[0;34m\u001b[0m\u001b[0m\n\u001b[0m",
      "\u001b[0;32m/home/project/kbucket/kbucketclient.py\u001b[0m in \u001b[0;36msaveFile\u001b[0;34m(self, fname, key, share_id, upload_token, basename, remote)\u001b[0m\n\u001b[1;32m    248\u001b[0m \u001b[0;34m\u001b[0m\u001b[0m\n\u001b[1;32m    249\u001b[0m   \u001b[0;32mdef\u001b[0m \u001b[0msaveFile\u001b[0m\u001b[0;34m(\u001b[0m\u001b[0mself\u001b[0m\u001b[0;34m,\u001b[0m\u001b[0mfname\u001b[0m\u001b[0;34m,\u001b[0m\u001b[0;34m*\u001b[0m\u001b[0;34m,\u001b[0m\u001b[0mkey\u001b[0m\u001b[0;34m=\u001b[0m\u001b[0;32mNone\u001b[0m\u001b[0;34m,\u001b[0m\u001b[0mshare_id\u001b[0m\u001b[0;34m=\u001b[0m\u001b[0;32mNone\u001b[0m\u001b[0;34m,\u001b[0m\u001b[0mupload_token\u001b[0m\u001b[0;34m=\u001b[0m\u001b[0;32mNone\u001b[0m\u001b[0;34m,\u001b[0m\u001b[0mbasename\u001b[0m\u001b[0;34m=\u001b[0m\u001b[0;32mNone\u001b[0m\u001b[0;34m,\u001b[0m\u001b[0mremote\u001b[0m\u001b[0;34m=\u001b[0m\u001b[0;32mNone\u001b[0m\u001b[0;34m)\u001b[0m\u001b[0;34m:\u001b[0m\u001b[0;34m\u001b[0m\u001b[0;34m\u001b[0m\u001b[0m\n\u001b[0;32m--> 250\u001b[0;31m     \u001b[0mret\u001b[0m\u001b[0;34m=\u001b[0m\u001b[0mself\u001b[0m\u001b[0;34m.\u001b[0m\u001b[0m_save_file_helper\u001b[0m\u001b[0;34m(\u001b[0m\u001b[0mfname\u001b[0m\u001b[0;34m,\u001b[0m\u001b[0mshare_id\u001b[0m\u001b[0;34m=\u001b[0m\u001b[0mshare_id\u001b[0m\u001b[0;34m,\u001b[0m\u001b[0mupload_token\u001b[0m\u001b[0;34m=\u001b[0m\u001b[0mupload_token\u001b[0m\u001b[0;34m,\u001b[0m\u001b[0mbasename\u001b[0m\u001b[0;34m=\u001b[0m\u001b[0mbasename\u001b[0m\u001b[0;34m,\u001b[0m\u001b[0mremote\u001b[0m\u001b[0;34m=\u001b[0m\u001b[0mremote\u001b[0m\u001b[0;34m)\u001b[0m\u001b[0;34m\u001b[0m\u001b[0;34m\u001b[0m\u001b[0m\n\u001b[0m\u001b[1;32m    251\u001b[0m \u001b[0;34m\u001b[0m\u001b[0m\n\u001b[1;32m    252\u001b[0m     \u001b[0;32mif\u001b[0m \u001b[0mkey\u001b[0m\u001b[0;34m:\u001b[0m\u001b[0;34m\u001b[0m\u001b[0;34m\u001b[0m\u001b[0m\n",
      "\u001b[0;32m/home/project/kbucket/kbucketclient.py\u001b[0m in \u001b[0;36m_save_file_helper\u001b[0;34m(self, path, share_id, upload_token, basename, remote)\u001b[0m\n\u001b[1;32m    207\u001b[0m     \u001b[0mpath\u001b[0m\u001b[0;34m=\u001b[0m\u001b[0mself\u001b[0m\u001b[0;34m.\u001b[0m\u001b[0mrealizeFile\u001b[0m\u001b[0;34m(\u001b[0m\u001b[0mpath0\u001b[0m\u001b[0;34m)\u001b[0m\u001b[0;34m\u001b[0m\u001b[0;34m\u001b[0m\u001b[0m\n\u001b[1;32m    208\u001b[0m     \u001b[0;32mif\u001b[0m \u001b[0;32mnot\u001b[0m \u001b[0mpath\u001b[0m\u001b[0;34m:\u001b[0m\u001b[0;34m\u001b[0m\u001b[0;34m\u001b[0m\u001b[0m\n\u001b[0;32m--> 209\u001b[0;31m       \u001b[0;32mraise\u001b[0m \u001b[0mException\u001b[0m\u001b[0;34m(\u001b[0m\u001b[0;34m'Unable to realize file for upload: '\u001b[0m\u001b[0;34m+\u001b[0m\u001b[0mpath0\u001b[0m\u001b[0;34m)\u001b[0m\u001b[0;34m\u001b[0m\u001b[0;34m\u001b[0m\u001b[0m\n\u001b[0m\u001b[1;32m    210\u001b[0m     \u001b[0msha1\u001b[0m\u001b[0;34m=\u001b[0m\u001b[0mself\u001b[0m\u001b[0;34m.\u001b[0m\u001b[0mcomputeFileSha1\u001b[0m\u001b[0;34m(\u001b[0m\u001b[0mpath\u001b[0m\u001b[0;34m)\u001b[0m\u001b[0;34m\u001b[0m\u001b[0;34m\u001b[0m\u001b[0m\n\u001b[1;32m    211\u001b[0m \u001b[0;34m\u001b[0m\u001b[0m\n",
      "\u001b[0;31mException\u001b[0m: Unable to realize file for upload: /home/magland/src/spikeforest2/spikesorters/containers/mountainsort4/mountainsort4.simg"
     ]
    }
   ],
   "source": [
    "kb.saveFile('/home/magland/src/spikeforest2/spikesorters/containers/mountainsort4/mountainsort4.simg')"
   ]
  },
  {
   "cell_type": "code",
   "execution_count": 7,
   "metadata": {},
   "outputs": [
    {
     "name": "stdout",
     "output_type": "stream",
     "text": [
      "{'processor_name': 'test.test_processor', 'processor_version': '0.1.1', 'processor_source_basename': 'test_processor.py', 'processor_code': 'sha1://b7aa22fd32794d8792f34d7fb1cd7e6ae96638d5/code.json', 'container': 'sha1://a3842053423c633b62e70474be9d76068cdc1ea5/mountainsort4.simg', 'inputs': {'input_file': 'sha1://bf72b301de612b819c6d8f65a23beb820a75558f/__init__.py'}, 'outputs': {'output_file': {'ext': '.py'}}, 'parameters': {'param1': 9}}\n"
     ]
    }
   ],
   "source": [
    "mlpr.executeKBucketJob(key=dict(name='test_remote_processing'))"
   ]
  },
  {
   "cell_type": "code",
   "execution_count": 5,
   "metadata": {},
   "outputs": [],
   "source": [
    "from kbucket import client as kb"
   ]
  },
  {
   "cell_type": "code",
   "execution_count": 6,
   "metadata": {},
   "outputs": [
    {
     "data": {
      "text/plain": [
       "'sha1://28a5add34a615d4e761d561d290caeb04f600a7e/test2.py'"
      ]
     },
     "execution_count": 6,
     "metadata": {},
     "output_type": "execute_result"
    }
   ],
   "source": [
    "kb.saveFile('test2.py')"
   ]
  },
  {
   "cell_type": "code",
   "execution_count": 7,
   "metadata": {},
   "outputs": [
    {
     "ename": "Exception",
     "evalue": "Cannot write code to already existing directory: testout",
     "output_type": "error",
     "traceback": [
      "\u001b[0;31m---------------------------------------------------------------------------\u001b[0m",
      "\u001b[0;31mException\u001b[0m                                 Traceback (most recent call last)",
      "\u001b[0;32m<ipython-input-7-c38c2c6778bb>\u001b[0m in \u001b[0;36m<module>\u001b[0;34m\u001b[0m\n\u001b[1;32m     37\u001b[0m \u001b[0;34m\u001b[0m\u001b[0m\n\u001b[1;32m     38\u001b[0m \u001b[0mcode\u001b[0m\u001b[0;34m=\u001b[0m\u001b[0m_read_python_code_of_directory\u001b[0m\u001b[0;34m(\u001b[0m\u001b[0;34m'.'\u001b[0m\u001b[0;34m)\u001b[0m\u001b[0;34m\u001b[0m\u001b[0;34m\u001b[0m\u001b[0m\n\u001b[0;32m---> 39\u001b[0;31m \u001b[0m_write_python_code_to_directory\u001b[0m\u001b[0;34m(\u001b[0m\u001b[0;34m'testout'\u001b[0m\u001b[0;34m,\u001b[0m\u001b[0mcode\u001b[0m\u001b[0;34m)\u001b[0m\u001b[0;34m\u001b[0m\u001b[0;34m\u001b[0m\u001b[0m\n\u001b[0m",
      "\u001b[0;32m<ipython-input-7-c38c2c6778bb>\u001b[0m in \u001b[0;36m_write_python_code_to_directory\u001b[0;34m(dirname, code)\u001b[0m\n\u001b[1;32m     27\u001b[0m \u001b[0;32mdef\u001b[0m \u001b[0m_write_python_code_to_directory\u001b[0m\u001b[0;34m(\u001b[0m\u001b[0mdirname\u001b[0m\u001b[0;34m,\u001b[0m\u001b[0mcode\u001b[0m\u001b[0;34m)\u001b[0m\u001b[0;34m:\u001b[0m\u001b[0;34m\u001b[0m\u001b[0;34m\u001b[0m\u001b[0m\n\u001b[1;32m     28\u001b[0m     \u001b[0;32mif\u001b[0m \u001b[0mos\u001b[0m\u001b[0;34m.\u001b[0m\u001b[0mpath\u001b[0m\u001b[0;34m.\u001b[0m\u001b[0mexists\u001b[0m\u001b[0;34m(\u001b[0m\u001b[0mdirname\u001b[0m\u001b[0;34m)\u001b[0m\u001b[0;34m:\u001b[0m\u001b[0;34m\u001b[0m\u001b[0;34m\u001b[0m\u001b[0m\n\u001b[0;32m---> 29\u001b[0;31m         \u001b[0;32mraise\u001b[0m \u001b[0mException\u001b[0m\u001b[0;34m(\u001b[0m\u001b[0;34m'Cannot write code to already existing directory: {}'\u001b[0m\u001b[0;34m.\u001b[0m\u001b[0mformat\u001b[0m\u001b[0;34m(\u001b[0m\u001b[0mdirname\u001b[0m\u001b[0;34m)\u001b[0m\u001b[0;34m)\u001b[0m\u001b[0;34m\u001b[0m\u001b[0;34m\u001b[0m\u001b[0m\n\u001b[0m\u001b[1;32m     30\u001b[0m     \u001b[0mos\u001b[0m\u001b[0;34m.\u001b[0m\u001b[0mmkdir\u001b[0m\u001b[0;34m(\u001b[0m\u001b[0mdirname\u001b[0m\u001b[0;34m)\u001b[0m\u001b[0;34m\u001b[0m\u001b[0;34m\u001b[0m\u001b[0m\n\u001b[1;32m     31\u001b[0m     \u001b[0;32mfor\u001b[0m \u001b[0mitem\u001b[0m \u001b[0;32min\u001b[0m \u001b[0mcode\u001b[0m\u001b[0;34m[\u001b[0m\u001b[0;34m'files'\u001b[0m\u001b[0;34m]\u001b[0m\u001b[0;34m:\u001b[0m\u001b[0;34m\u001b[0m\u001b[0;34m\u001b[0m\u001b[0m\n",
      "\u001b[0;31mException\u001b[0m: Cannot write code to already existing directory: testout"
     ]
    }
   ],
   "source": [
    "import os\n",
    "def _read_python_code_of_directory(dirname):\n",
    "    files=[]\n",
    "    dirs=[]\n",
    "    for fname in os.listdir(dirname):\n",
    "        if os.path.isfile(dirname+'/'+fname):\n",
    "            if fname.endswith('.py'):\n",
    "                with open(dirname+'/'+fname) as f:\n",
    "                    txt=f.read()\n",
    "                files.append(dict(\n",
    "                    name=fname,\n",
    "                    content=txt\n",
    "                ))\n",
    "        elif os.path.isdir(dirname+'/'+fname):\n",
    "            if (not fname.startswith('__')) and (not fname.startswith('.')):\n",
    "                content=_read_python_code_of_directory(dirname+'/'+fname)\n",
    "                if len(content['files'])+len(content['dirs'])>0:\n",
    "                    dirs.append(dict(\n",
    "                        name=fname,\n",
    "                        content=content\n",
    "                    ))\n",
    "    return dict(\n",
    "        files=files,\n",
    "        dirs=dirs\n",
    "    )\n",
    "\n",
    "def _write_python_code_to_directory(dirname,code):\n",
    "    if os.path.exists(dirname):\n",
    "        raise Exception('Cannot write code to already existing directory: {}'.format(dirname))\n",
    "    os.mkdir(dirname)\n",
    "    for item in code['files']:\n",
    "        fname0=dirname+'/'+item['name']\n",
    "        with open(fname0,'w') as f:\n",
    "            f.write(item['content'])\n",
    "    for item in code['dirs']:\n",
    "        _write_python_code_to_directory(dirname+'/'+item['name'],item['content'])\n",
    "\n",
    "code=_read_python_code_of_directory('.')\n",
    "_write_python_code_to_directory('testout',code)"
   ]
  },
  {
   "cell_type": "code",
   "execution_count": 26,
   "metadata": {},
   "outputs": [],
   "source": [
    "%%bash\n",
    "echo \"test content\" > test2/testfile.py"
   ]
  },
  {
   "cell_type": "code",
   "execution_count": 9,
   "metadata": {},
   "outputs": [
    {
     "data": {
      "text/plain": [
       "'sha1://bf21a9e8fbc5a3846fb05b4fa0859e0917b2202f/object.json'"
      ]
     },
     "execution_count": 9,
     "metadata": {},
     "output_type": "execute_result"
    }
   ],
   "source": [
    "kb.saveObject({})"
   ]
  },
  {
   "cell_type": "code",
   "execution_count": null,
   "metadata": {},
   "outputs": [],
   "source": []
  }
 ],
 "metadata": {
  "kernelspec": {
   "display_name": "Python 3",
   "language": "python",
   "name": "python3"
  },
  "language_info": {
   "codemirror_mode": {
    "name": "ipython",
    "version": 3
   },
   "file_extension": ".py",
   "mimetype": "text/x-python",
   "name": "python",
   "nbconvert_exporter": "python",
   "pygments_lexer": "ipython3",
   "version": "3.7.2"
  }
 },
 "nbformat": 4,
 "nbformat_minor": 2
}
