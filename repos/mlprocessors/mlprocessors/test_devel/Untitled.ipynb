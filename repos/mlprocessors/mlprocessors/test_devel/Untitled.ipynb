{
 "cells": [
  {
   "cell_type": "code",
   "execution_count": null,
   "metadata": {},
   "outputs": [],
   "source": [
    "%load_ext autoreload\n",
    "%autoreload 2\n",
    "import mlprocessors as mlpr\n",
    "from kbucket import client as kb\n",
    "import batcho\n",
    "import spikeforest as sf\n",
    "import vdomr as vd\n",
    "vd.config_jupyter()"
   ]
  },
  {
   "cell_type": "code",
   "execution_count": null,
   "metadata": {},
   "outputs": [],
   "source": [
    "class TestComponent(vd.Component):\n",
    "    def __init__(self):\n",
    "        vd.Component.__init__(self)\n",
    "        self._message='hello.'\n",
    "    def _on_click(self):\n",
    "        self._message=self._message+' click'\n",
    "        self.refresh()\n",
    "    def render(self):\n",
    "        a=vd.span(self._message)\n",
    "        return vd.div(a,' ',vd.button('click',onclick=self._on_click))\n",
    "\n",
    "X=TestComponent()\n",
    "display(X)"
   ]
  },
  {
   "cell_type": "code",
   "execution_count": null,
   "metadata": {},
   "outputs": [],
   "source": [
    "#sf.kbucketConfigRemote(name='spikeforest1-readwrite',ask_password=True)\n",
    "sf.kbucketConfigLocal()"
   ]
  },
  {
   "cell_type": "code",
   "execution_count": null,
   "metadata": {},
   "outputs": [],
   "source": [
    "from test_processor import test_processor"
   ]
  },
  {
   "cell_type": "code",
   "execution_count": null,
   "metadata": {},
   "outputs": [],
   "source": [
    "kb.saveFile('testfile.txt')\n",
    "jobs=[\n",
    "    test_processor.createJob(\n",
    "        input_file='testfile.txt',\n",
    "        _container='sha1://a3842053423c633b62e70474be9d76068cdc1ea5/mountainsort4.simg',\n",
    "        output_file=dict(ext='.py',upload=True),\n",
    "        param1=param,\n",
    "        param2=101\n",
    "    )\n",
    "    for param in range(1,5)\n",
    "]\n",
    "batcho.set_batch(batch_name='test_mlpr_batch',jobs=jobs,compute_resource='jfm-laptop')\n",
    "batcho.clear_batch_jobs(batch_name='test_mlpr_batch')"
   ]
  },
  {
   "cell_type": "code",
   "execution_count": null,
   "metadata": {},
   "outputs": [],
   "source": [
    "statuses=batcho.get_batch_job_statuses(batch_name='test_mlpr_batch')\n",
    "print([a['status'] for a in statuses])"
   ]
  },
  {
   "cell_type": "code",
   "execution_count": null,
   "metadata": {},
   "outputs": [],
   "source": [
    "results=batcho.get_batch_results(batch_name='test_mlpr_batch')['results']\n",
    "fname0=kb.realizeFile(results[0]['result']['outputs']['output_file'])\n",
    "with open(fname0) as f:\n",
    "    print(f.read())"
   ]
  },
  {
   "cell_type": "code",
   "execution_count": null,
   "metadata": {},
   "outputs": [],
   "source": [
    "print(batcho.get_batch_job_console_output(batch_name='test_mlpr_batch',job_index=2))"
   ]
  }
 ],
 "metadata": {
  "kernelspec": {
   "display_name": "Python 3",
   "language": "python",
   "name": "python3"
  },
  "language_info": {
   "codemirror_mode": {
    "name": "ipython",
    "version": 3
   },
   "file_extension": ".py",
   "mimetype": "text/x-python",
   "name": "python",
   "nbconvert_exporter": "python",
   "pygments_lexer": "ipython3",
   "version": "3.7.2"
  }
 },
 "nbformat": 4,
 "nbformat_minor": 2
}
