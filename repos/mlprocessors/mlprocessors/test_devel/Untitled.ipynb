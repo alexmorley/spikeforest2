{
 "cells": [
  {
   "cell_type": "code",
   "execution_count": 1,
   "metadata": {},
   "outputs": [
    {
     "name": "stdout",
     "output_type": "stream",
     "text": [
      "vdomr: using colab\n"
     ]
    }
   ],
   "source": [
    "%load_ext autoreload\n",
    "%autoreload 2\n",
    "import mlprocessors as mlpr\n",
    "from kbucket import client as kb\n",
    "import batcho\n",
    "import spikeforest as sf"
   ]
  },
  {
   "cell_type": "code",
   "execution_count": 2,
   "metadata": {},
   "outputs": [],
   "source": [
    "#sf.kbucketConfigRemote(name='spikeforest1-readwrite',ask_password=True)\n",
    "sf.kbucketConfigLocal()"
   ]
  },
  {
   "cell_type": "code",
   "execution_count": 3,
   "metadata": {},
   "outputs": [],
   "source": [
    "from test_processor import test_processor"
   ]
  },
  {
   "cell_type": "code",
   "execution_count": 11,
   "metadata": {},
   "outputs": [
    {
     "name": "stdout",
     "output_type": "stream",
     "text": [
      "Retrieving batch test_mlpr_batch\n",
      "Batch has 4 jobs.\n",
      "Cleared 4 jobs.\n"
     ]
    },
    {
     "data": {
      "text/plain": [
       "True"
      ]
     },
     "execution_count": 11,
     "metadata": {},
     "output_type": "execute_result"
    }
   ],
   "source": [
    "kb.saveFile('testfile.txt')\n",
    "jobs=[\n",
    "    test_processor.createJob(\n",
    "        input_file='testfile.txt',\n",
    "        _container='sha1://a3842053423c633b62e70474be9d76068cdc1ea5/mountainsort4.simg',\n",
    "        output_file=dict(ext='.py',upload=True),\n",
    "        param1=param,\n",
    "        param2=101\n",
    "    )\n",
    "    for param in range(1,5)\n",
    "]\n",
    "batcho.set_batch(batch_name='test_mlpr_batch',jobs=jobs,compute_resource='jfm-laptop')\n",
    "batcho.clear_batch_jobs(batch_name='test_mlpr_batch')"
   ]
  },
  {
   "cell_type": "code",
   "execution_count": 8,
   "metadata": {},
   "outputs": [
    {
     "name": "stdout",
     "output_type": "stream",
     "text": [
      "Retrieving batch test_mlpr_batch\n",
      "[None, None, None, None]\n"
     ]
    }
   ],
   "source": [
    "statuses=batcho.get_batch_job_statuses(batch_name='test_mlpr_batch')\n",
    "print([a['status'] for a in statuses])"
   ]
  },
  {
   "cell_type": "code",
   "execution_count": 49,
   "metadata": {},
   "outputs": [
    {
     "name": "stdout",
     "output_type": "stream",
     "text": [
      "Downloading file --- (0.0 MB): http://132.249.245.246:24351/7317cea8265b/download/sha1-cache/2/d5/2d59d61efa74ea466de12dad683cb82d7f594daa -> /tmp/sha1-cache/2/d5/2d59d61efa74ea466de12dad683cb82d7f594daa\n",
      "param1=1, param2=101\n",
      "from .core import *\n",
      "from .registry import *\n",
      "from .validators import *\n",
      "\n",
      "__all__ = [ \n",
      "    \"Input\", \"Output\", \n",
      "    \"Parameter\", \"StringParameter\", \"IntegerParameter\", \"FloatParameter\", \n",
      "    \"Processor\", \n",
      "    \"registry\", \"register_processor\", \"ProcessorRegistry\",\n",
      "    \"Validator\", \"ValueValidator\", \"RegexValidator\", \"FileExtensionValidator\", \"FileExistsValidator\",\n",
      "    \"invoke\"\n",
      "]\n",
      "\n"
     ]
    }
   ],
   "source": [
    "results=batcho.get_batch_results(batch_name='test_mlpr_batch')['results']\n",
    "fname0=kb.realizeFile(results[0]['result']['outputs']['output_file'])\n",
    "with open(fname0) as f:\n",
    "    print(f.read())"
   ]
  },
  {
   "cell_type": "code",
   "execution_count": 57,
   "metadata": {},
   "outputs": [
    {
     "name": "stdout",
     "output_type": "stream",
     "text": [
      "RUNNING: python /tmp/tmp64i0n11k/execute.py\n",
      "::::::::::::::::::::::::::::: test.test_processor\n",
      "\n",
      "Found output \"output_file\" in cache collection: [local]\n",
      "\n",
      "Using outputs from cache: [local]\n",
      "\n",
      "copying file: /home/magland/kbucket_cache/b/39/b3989e30e7873ef95205d4e4ccf0964df60fa3df -> /tmp/tmp64i0n11k/output_output_file.py\n",
      "\n",
      "Already on server.\n",
      "\n"
     ]
    }
   ],
   "source": [
    "print(batcho.get_batch_job_console_output(batch_name='test_mlpr_batch',job_index=2))"
   ]
  }
 ],
 "metadata": {
  "kernelspec": {
   "display_name": "Python 3",
   "language": "python",
   "name": "python3"
  },
  "language_info": {
   "codemirror_mode": {
    "name": "ipython",
    "version": 3
   },
   "file_extension": ".py",
   "mimetype": "text/x-python",
   "name": "python",
   "nbconvert_exporter": "python",
   "pygments_lexer": "ipython3",
   "version": "3.7.2"
  }
 },
 "nbformat": 4,
 "nbformat_minor": 2
}
