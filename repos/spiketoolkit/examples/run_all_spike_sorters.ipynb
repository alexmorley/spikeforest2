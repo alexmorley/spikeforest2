{
 "cells": [
  {
   "cell_type": "code",
   "execution_count": 18,
   "metadata": {},
   "outputs": [
    {
     "name": "stdout",
     "output_type": "stream",
     "text": [
      "The autoreload extension is already loaded. To reload it, use:\n",
      "  %reload_ext autoreload\n"
     ]
    }
   ],
   "source": [
    "# For development purposes, reload imported modules when source changes\n",
    "%load_ext autoreload\n",
    "%autoreload 2\n",
    "\n",
    "import spikeextractors as se\n",
    "import spikewidgets as sw\n",
    "import spiketoolkit as st\n",
    "import os, sys"
   ]
  },
  {
   "cell_type": "code",
   "execution_count": 19,
   "metadata": {},
   "outputs": [],
   "source": [
    "# Create a toy example dataset\n",
    "recording, sorting_true=sw.example_datasets.toy_example1(duration=60)"
   ]
  },
  {
   "cell_type": "code",
   "execution_count": 20,
   "metadata": {},
   "outputs": [
    {
     "data": {
      "application/vnd.jupyter.widget-view+json": {
       "model_id": "61d864b9340c4471b8b18517a62c299b",
       "version_major": 2,
       "version_minor": 0
      },
      "text/plain": [
       "VBox(children=(HBox(children=(Button(icon='plus-square', layout=Layout(width='40px'), style=ButtonStyle(), too…"
      ]
     },
     "metadata": {},
     "output_type": "display_data"
    },
    {
     "data": {
      "image/png": "[encoded data removed]",
      "text/plain": [
       "<Figure size 504x180 with 1 Axes>"
      ]
     },
     "metadata": {
      "needs_background": "light"
     },
     "output_type": "display_data"
    }
   ],
   "source": [
    "# View the filtered timeseries data\n",
    "filt=st.filters.bandpass_filter(recording,freq_min=300,freq_max=6000)\n",
    "sw.TimeseriesWidget(recording=filt,width=7,height=2.5).display()"
   ]
  },
  {
   "cell_type": "code",
   "execution_count": 7,
   "metadata": {},
   "outputs": [],
   "source": [
    "# Create a temporary working directory if needed\n",
    "if not os.path.exists('tmp'): os.mkdir('tmp')"
   ]
  },
  {
   "cell_type": "code",
   "execution_count": 8,
   "metadata": {},
   "outputs": [
    {
     "name": "stdout",
     "output_type": "stream",
     "text": [
      "Using tmpdir: /tmp/tmp7wa0jph9\n",
      "Preparing /tmp/tmp7wa0jph9/timeseries.hdf5...\n",
      "Preparing neighborhood sorters (M=4, N=1800000)...\n",
      "Detecting events on channel 1 (phase1)...\n",
      "Num events detected on channel 1 (phase1): 1554\n",
      "Computing PCA features for channel 1 (phase1)...\n",
      "Clustering for channel 1 (phase1)...\n",
      "Found 6 clusters for channel 1 (phase1)...\n",
      "Computing templates for channel 1 (phase1)...\n",
      "Re-assigning events for channel 1 (phase1)...\n",
      "Detecting events on channel 2 (phase1)...\n",
      "Num events detected on channel 2 (phase1): 1157\n",
      "Computing PCA features for channel 2 (phase1)...\n",
      "Clustering for channel 2 (phase1)...\n",
      "Found 9 clusters for channel 2 (phase1)...\n",
      "Computing templates for channel 2 (phase1)...\n",
      "Re-assigning events for channel 2 (phase1)...\n",
      "Detecting events on channel 3 (phase1)...\n",
      "Num events detected on channel 3 (phase1): 821\n",
      "Computing PCA features for channel 3 (phase1)...\n",
      "Clustering for channel 3 (phase1)...\n",
      "Found 7 clusters for channel 3 (phase1)...\n",
      "Computing templates for channel 3 (phase1)...\n",
      "Re-assigning events for channel 3 (phase1)...\n",
      "Detecting events on channel 4 (phase1)...\n",
      "Num events detected on channel 4 (phase1): 599\n",
      "Computing PCA features for channel 4 (phase1)...\n",
      "Clustering for channel 4 (phase1)...\n",
      "Found 7 clusters for channel 4 (phase1)...\n",
      "Computing templates for channel 4 (phase1)...\n",
      "Re-assigning events for channel 4 (phase1)...\n",
      "Re-assigning 1 events from 4 to 3 with dt=-4 (k=3)\n",
      "Re-assigning 1 events from 4 to 1 with dt=-8 (k=6)\n",
      "Computing PCA features for channel 1 (phase2)...\n",
      "Clustering for channel 1 (phase2)...\n",
      "Found 4 clusters for channel 1 (phase2)...\n",
      "Computing PCA features for channel 2 (phase2)...\n",
      "Clustering for channel 2 (phase2)...\n",
      "Found 5 clusters for channel 2 (phase2)...\n",
      "Computing PCA features for channel 3 (phase2)...\n",
      "Clustering for channel 3 (phase2)...\n",
      "Found 4 clusters for channel 3 (phase2)...\n",
      "Computing PCA features for channel 4 (phase2)...\n",
      "Clustering for channel 4 (phase2)...\n",
      "Found 3 clusters for channel 4 (phase2)...\n",
      "Preparing output...\n",
      "Done.\n",
      "Cleaning tmpdir: /tmp/tmp7wa0jph9\n",
      "Elapsed time:  8.653438329696655\n"
     ]
    }
   ],
   "source": [
    "# Mountainsort4 spike sorting\n",
    "sorting_MS4=st.sorters.mountainsort4(\n",
    "    recording=recording,\n",
    "    detect_sign=-1,\n",
    "    adjacency_radius=-1\n",
    ")"
   ]
  },
  {
   "cell_type": "code",
   "execution_count": null,
   "metadata": {},
   "outputs": [],
   "source": [
    "# SpyKING Circus spike sorting\n",
    "sorting_SC=st.sorters.spyking_circus(\n",
    "    recording=recording,\n",
    "    adjacency_radius=50,\n",
    "    detect_sign=-1,\n",
    "    output_folder='tmp',\n",
    ")"
   ]
  },
  {
   "cell_type": "code",
   "execution_count": null,
   "metadata": {},
   "outputs": [],
   "source": [
    "# KiloSort spike sorting (KILOSORT_PATH and NPY_MATLAB_PATH can be set as environment variables)\n",
    "sorting_KS=st.sorters.kilosort(\n",
    "    recording=recording,\n",
    "    output_folder='tmp',\n",
    "    kilosort_path='../../KiloSort/',\n",
    "    npy_matlab_path='../../../npy-matlab/'\n",
    ")"
   ]
  },
  {
   "cell_type": "code",
   "execution_count": null,
   "metadata": {},
   "outputs": [],
   "source": [
    "# Klusta spike sorting\n",
    "sorting_KL=st.sorters.klusta(\n",
    "        recording, # The recording extractor\n",
    "        output_folder='tmp',\n",
    "        )"
   ]
  },
  {
   "cell_type": "code",
   "execution_count": null,
   "metadata": {},
   "outputs": [],
   "source": [
    "# IronClust spike sorting (IRONCLUST_PATH can be set as environment variables)\n",
    "sorting_IC=st.sorters.ironclust(\n",
    "    recording=recording,\n",
    "    detect_sign=-1,\n",
    "    adjacency_radius=-1,\n",
    "    prm_template_name='tetrode_template.prm',\n",
    "    ironclust_path='../../ironclust',\n",
    "    tmpdir='tmp',\n",
    ")"
   ]
  },
  {
   "cell_type": "code",
   "execution_count": null,
   "metadata": {},
   "outputs": [],
   "source": [
    "sorting_true.getUnitIds()"
   ]
  },
  {
   "cell_type": "code",
   "execution_count": 9,
   "metadata": {},
   "outputs": [
    {
     "name": "stdout",
     "output_type": "stream",
     "text": [
      "Waveform 1/1 - Number of waveforms:  100\n",
      "Waveform 1/1 - Number of waveforms:  100\n",
      "Waveform 1/1 - Number of waveforms:  100\n",
      "Waveform 1/1 - Number of waveforms:  100\n",
      "Waveform 1/1 - Number of waveforms:  100\n",
      "Waveform 1/1 - Number of waveforms:  100\n",
      "Waveform 1/1 - Number of waveforms:  100\n",
      "Waveform 1/1 - Number of waveforms:  100\n",
      "Waveform 1/1 - Number of waveforms:  100\n",
      "Waveform 1/1 - Number of waveforms:  100\n"
     ]
    }
   ],
   "source": [
    "# Compute SNRs of true units\n",
    "snrs=st.computeUnitSNR(recording=filt, sorting=sorting_true, unit_ids=sorting_true.getUnitIds(), max_num_waveforms=100)\n",
    "sorting_true.setUnitsProperty(property_name='SNR',values=snrs)"
   ]
  },
  {
   "cell_type": "code",
   "execution_count": 10,
   "metadata": {},
   "outputs": [
    {
     "data": {
      "image/png": "[encoded data removed]",
      "text/plain": [
       "<Figure size 432x288 with 1 Axes>"
      ]
     },
     "metadata": {
      "needs_background": "light"
     },
     "output_type": "display_data"
    }
   ],
   "source": [
    "# Comparison MountainSort4 vs truth\n",
    "comparison_MS4=st.comparison.SortingComparison(sorting_true,sorting_MS4)\n",
    "sw.SortingAccuracyWidget(sorting_comparison=comparison_MS4, property_name='SNR').plot()"
   ]
  },
  {
   "cell_type": "code",
   "execution_count": null,
   "metadata": {},
   "outputs": [],
   "source": [
    "# Comparison KiloSort vs truth\n",
    "comparison_KS=st.comparison.SortingComparison(sorting_true,sorting_KS)\n",
    "sw.SortingAccuracyWidget(sorting_comparison=comparison_KS, property_name='SNR').plot()"
   ]
  },
  {
   "cell_type": "code",
   "execution_count": null,
   "metadata": {},
   "outputs": [],
   "source": [
    "# Comparison SpyKING Circus vs truth\n",
    "comparison_SC=st.comparison.SortingComparison(sorting_true,sorting_SC)\n",
    "sw.SortingAccuracyWidget(sorting_comparison=comparison_SC, property_name='SNR').plot()"
   ]
  },
  {
   "cell_type": "code",
   "execution_count": null,
   "metadata": {},
   "outputs": [],
   "source": [
    "# Comparison Klusta vs truth\n",
    "comparison_KL=st.comparison.SortingComparison(sorting_true,sorting_KL)\n",
    "sw.SortingAccuracyWidget(sorting_comparison=comparison_KL, property_name='SNR').plot()"
   ]
  },
  {
   "cell_type": "code",
   "execution_count": null,
   "metadata": {},
   "outputs": [],
   "source": [
    "# Comparison IronClust vs truth\n",
    "comparison_IC=st.comparison.SortingComparison(sorting_true,sorting_IC)\n",
    "sw.SortingAccuracyWidget(sorting_comparison=comparison_IC, property_name='SNR').plot()"
   ]
  },
  {
   "cell_type": "code",
   "execution_count": 12,
   "metadata": {},
   "outputs": [
    {
     "data": {
      "text/html": [
       "<table border=\"1\" class=\"dataframe\">\n",
       "  <thead>\n",
       "    <tr style=\"text-align: right;\">\n",
       "      <th>Unit ID</th>\n",
       "      <th>Accuracy</th>\n",
       "      <th>Best unit</th>\n",
       "      <th>Matched unit</th>\n",
       "      <th>f.n.</th>\n",
       "      <th>f.p.</th>\n",
       "      <th># matches</th>\n",
       "    </tr>\n",
       "  </thead>\n",
       "  <tbody>\n",
       "    <tr>\n",
       "      <td>1</td>\n",
       "      <td>0.99</td>\n",
       "      <td>2</td>\n",
       "      <td>2</td>\n",
       "      <td>0.00</td>\n",
       "      <td>0.01</td>\n",
       "      <td>137</td>\n",
       "    </tr>\n",
       "    <tr>\n",
       "      <td>2</td>\n",
       "      <td>0.99</td>\n",
       "      <td>3</td>\n",
       "      <td>3</td>\n",
       "      <td>0.01</td>\n",
       "      <td>0.00</td>\n",
       "      <td>142</td>\n",
       "    </tr>\n",
       "    <tr>\n",
       "      <td>3</td>\n",
       "      <td>0.00</td>\n",
       "      <td>3</td>\n",
       "      <td>-1</td>\n",
       "      <td>0.99</td>\n",
       "      <td>0.99</td>\n",
       "      <td>1</td>\n",
       "    </tr>\n",
       "    <tr>\n",
       "      <td>4</td>\n",
       "      <td>0.00</td>\n",
       "      <td>-1</td>\n",
       "      <td>-1</td>\n",
       "      <td>0.00</td>\n",
       "      <td>0.00</td>\n",
       "      <td>0</td>\n",
       "    </tr>\n",
       "    <tr>\n",
       "      <td>5</td>\n",
       "      <td>0.00</td>\n",
       "      <td>15</td>\n",
       "      <td>-1</td>\n",
       "      <td>0.99</td>\n",
       "      <td>0.99</td>\n",
       "      <td>1</td>\n",
       "    </tr>\n",
       "    <tr>\n",
       "      <td>6</td>\n",
       "      <td>0.00</td>\n",
       "      <td>-1</td>\n",
       "      <td>-1</td>\n",
       "      <td>0.00</td>\n",
       "      <td>0.00</td>\n",
       "      <td>0</td>\n",
       "    </tr>\n",
       "    <tr>\n",
       "      <td>7</td>\n",
       "      <td>1.00</td>\n",
       "      <td>10</td>\n",
       "      <td>10</td>\n",
       "      <td>0.00</td>\n",
       "      <td>0.00</td>\n",
       "      <td>146</td>\n",
       "    </tr>\n",
       "    <tr>\n",
       "      <td>8</td>\n",
       "      <td>0.00</td>\n",
       "      <td>2</td>\n",
       "      <td>-1</td>\n",
       "      <td>0.99</td>\n",
       "      <td>0.99</td>\n",
       "      <td>1</td>\n",
       "    </tr>\n",
       "    <tr>\n",
       "      <td>9</td>\n",
       "      <td>0.00</td>\n",
       "      <td>2</td>\n",
       "      <td>-1</td>\n",
       "      <td>0.99</td>\n",
       "      <td>0.99</td>\n",
       "      <td>1</td>\n",
       "    </tr>\n",
       "    <tr>\n",
       "      <td>10</td>\n",
       "      <td>1.00</td>\n",
       "      <td>15</td>\n",
       "      <td>15</td>\n",
       "      <td>0.00</td>\n",
       "      <td>0.00</td>\n",
       "      <td>144</td>\n",
       "    </tr>\n",
       "  </tbody>\n",
       "</table>"
      ],
      "text/plain": [
       "<IPython.core.display.HTML object>"
      ]
     },
     "metadata": {},
     "output_type": "display_data"
    }
   ],
   "source": [
    "sw.SortingComparisonTable(comparison_MS4).display()"
   ]
  },
  {
   "cell_type": "code",
   "execution_count": 13,
   "metadata": {},
   "outputs": [
    {
     "ename": "NameError",
     "evalue": "name 'comparison_KS' is not defined",
     "output_type": "error",
     "traceback": [
      "\u001b[0;31m---------------------------------------------------------------------------\u001b[0m",
      "\u001b[0;31mNameError\u001b[0m                                 Traceback (most recent call last)",
      "\u001b[0;32m<ipython-input-13-75273050244f>\u001b[0m in \u001b[0;36m<module>\u001b[0;34m\u001b[0m\n\u001b[0;32m----> 1\u001b[0;31m \u001b[0msw\u001b[0m\u001b[0;34m.\u001b[0m\u001b[0mSortingComparisonTable\u001b[0m\u001b[0;34m(\u001b[0m\u001b[0mcomparison_KS\u001b[0m\u001b[0;34m)\u001b[0m\u001b[0;34m.\u001b[0m\u001b[0mdisplay\u001b[0m\u001b[0;34m(\u001b[0m\u001b[0;34m)\u001b[0m\u001b[0;34m\u001b[0m\u001b[0m\n\u001b[0m",
      "\u001b[0;31mNameError\u001b[0m: name 'comparison_KS' is not defined"
     ]
    }
   ],
   "source": [
    "sw.SortingComparisonTable(comparison_KS).display()"
   ]
  },
  {
   "cell_type": "code",
   "execution_count": null,
   "metadata": {},
   "outputs": [],
   "source": [
    "sw.SortingComparisonTable(comparison_SC).display()"
   ]
  },
  {
   "cell_type": "code",
   "execution_count": null,
   "metadata": {},
   "outputs": [],
   "source": [
    "sw.SortingComparisonTable(comparison_KL).display()"
   ]
  },
  {
   "cell_type": "code",
   "execution_count": null,
   "metadata": {},
   "outputs": [],
   "source": [
    "sw.SortingComparisonTable(comparison_IC).display()"
   ]
  },
  {
   "cell_type": "code",
   "execution_count": null,
   "metadata": {},
   "outputs": [],
   "source": [
    "comparison_KL.plotConfusionMatrix()"
   ]
  },
  {
   "cell_type": "code",
   "execution_count": null,
   "metadata": {},
   "outputs": [],
   "source": [
    "# You can use Phy to manually curate the sorting output of any spike sorter\n",
    "st.exportToPhy(recording, sorting_MS4, output_folder='mountainsort')"
   ]
  },
  {
   "cell_type": "code",
   "execution_count": null,
   "metadata": {},
   "outputs": [],
   "source": [
    "sorting_M4_curated = si.PhysortingExtractor('mountainsort/')"
   ]
  }
 ],
 "metadata": {
  "kernelspec": {
   "display_name": "Python 3",
   "language": "python",
   "name": "python3"
  },
  "language_info": {
   "codemirror_mode": {
    "name": "ipython",
    "version": 3
   },
   "file_extension": ".py",
   "mimetype": "text/x-python",
   "name": "python",
   "nbconvert_exporter": "python",
   "pygments_lexer": "ipython3",
   "version": "3.6.6"
  }
 },
 "nbformat": 4,
 "nbformat_minor": 2
}
