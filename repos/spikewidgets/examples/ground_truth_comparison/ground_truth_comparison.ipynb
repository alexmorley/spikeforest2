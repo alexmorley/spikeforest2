{
 "cells": [
  {
   "cell_type": "code",
   "execution_count": null,
   "metadata": {},
   "outputs": [],
   "source": [
    "%load_ext autoreload\n",
    "%autoreload 2\n",
    "\n",
    "import spikeextractors as se\n",
    "import spikewidgets as sw\n",
    "from ml_ms4alg import mountainsort4, mountainsort4_curation\n",
    "from IPython.display import HTML\n",
    "from matplotlib import pyplot as plt"
   ]
  },
  {
   "cell_type": "code",
   "execution_count": null,
   "metadata": {},
   "outputs": [],
   "source": [
    "# Create a synthetic example\n",
    "RX,SX_true=sw.example_datasets.toy_example1(duration=600)"
   ]
  },
  {
   "cell_type": "code",
   "execution_count": null,
   "metadata": {},
   "outputs": [],
   "source": [
    "# Do the spike sorting\n",
    "# Note -- you should enable scrolling of the output for this cell\n",
    "# Note -- this MountainSort algorithm does not include the automated curation step that auto-removes noise clusters\n",
    "RXf=sw.lazyfilters.bandpass_filter(RX,freq_min=300,freq_max=6000)\n",
    "RXfw=sw.lazyfilters.whiten(RXf)\n",
    "SX=mountainsort4(recording=RXfw,adjacency_radius=50,clip_size=50,detect_interval=10,detect_sign=-1,detect_threshold=3)\n",
    "SX=mountainsort4_curation(recording=RXfw,sorting=SX,noise_overlap_threshold=0.1)"
   ]
  },
  {
   "cell_type": "code",
   "execution_count": null,
   "metadata": {},
   "outputs": [],
   "source": [
    "SC=sw.SortingComparison(SX_true,SX)\n",
    "sw.SortingComparisonTable(SC).display()"
   ]
  },
  {
   "cell_type": "code",
   "execution_count": null,
   "metadata": {},
   "outputs": [],
   "source": [
    "SX=mountainsort4_curation(recording=RXfw,sorting=SX,noise_overlap_threshold=0.1)"
   ]
  },
  {
   "cell_type": "code",
   "execution_count": null,
   "metadata": {},
   "outputs": [],
   "source": [
    "SX.getUnitIds()"
   ]
  },
  {
   "cell_type": "code",
   "execution_count": null,
   "metadata": {},
   "outputs": [],
   "source": [
    "SX_matched=SC.getMappedSorting2()"
   ]
  },
  {
   "cell_type": "code",
   "execution_count": null,
   "metadata": {},
   "outputs": [],
   "source": [
    "sw.UnitWaveformsWidget(recording=RXfw,sorting=SX_matched,title='Curated').plot()"
   ]
  },
  {
   "cell_type": "code",
   "execution_count": null,
   "metadata": {},
   "outputs": [],
   "source": [
    "SX_curated=mountainsort4_curation(recording=RXfw,sorting=SX_matched,noise_overlap_threshold=0.1)"
   ]
  },
  {
   "cell_type": "code",
   "execution_count": null,
   "metadata": {},
   "outputs": [],
   "source": [
    "SX_curated.getUnitIds()"
   ]
  },
  {
   "cell_type": "code",
   "execution_count": null,
   "metadata": {},
   "outputs": [],
   "source": [
    "sw.UnitWaveformsWidget(recording=RXfw,sorting=SX_curated,title='Curated').plot()"
   ]
  },
  {
   "cell_type": "code",
   "execution_count": null,
   "metadata": {},
   "outputs": [],
   "source": [
    "# Show the unit waveforms\n",
    "display(HTML('<h3>Sorted</h3>'))\n",
    "sw.UnitWaveformsWidget(recording=RXfw,sorting=SX_matched,title='Sorted').plot()\n",
    "plt.show()\n",
    "display(HTML('<h3>Ground truth</h3>'))\n",
    "sw.UnitWaveformsWidget(recording=RXfw,sorting=SX_true,title='Truth').plot()"
   ]
  },
  {
   "cell_type": "code",
   "execution_count": null,
   "metadata": {},
   "outputs": [],
   "source": [
    "# Show the ground truth\n",
    "display(HTML('<h3>Sorted</h3>'))\n",
    "sw.CrossCorrelogramsWidget(sorting=SX_matched,samplerate=RX.getSamplingFrequency()).plot()\n",
    "plt.show()\n",
    "display(HTML('<h3>Ground truth</h3>'))\n",
    "sw.CrossCorrelogramsWidget(sorting=SX_true,samplerate=RX.getSamplingFrequency()).plot()"
   ]
  },
  {
   "cell_type": "code",
   "execution_count": null,
   "metadata": {},
   "outputs": [],
   "source": [
    "se.MdaRecordingExtractor.writeRecording(recording=RX,save_path='test1')"
   ]
  },
  {
   "cell_type": "code",
   "execution_count": null,
   "metadata": {},
   "outputs": [],
   "source": [
    "se.MdaSortingExtractor.writeSorting(sorting=SX_true,save_path='test1/firings_true.mda')"
   ]
  },
  {
   "cell_type": "code",
   "execution_count": null,
   "metadata": {},
   "outputs": [],
   "source": [
    "se.MdaSortingExtractor.writeSorting(sorting=SX_matched,save_path='test1/firings.mda')"
   ]
  },
  {
   "cell_type": "code",
   "execution_count": null,
   "metadata": {},
   "outputs": [],
   "source": [
    "x"
   ]
  }
 ],
 "metadata": {
  "kernelspec": {
   "display_name": "Python 3",
   "language": "python",
   "name": "python3"
  },
  "language_info": {
   "codemirror_mode": {
    "name": "ipython",
    "version": 3
   },
   "file_extension": ".py",
   "mimetype": "text/x-python",
   "name": "python",
   "nbconvert_exporter": "python",
   "pygments_lexer": "ipython3",
   "version": "3.6.6"
  }
 },
 "nbformat": 4,
 "nbformat_minor": 2
}
