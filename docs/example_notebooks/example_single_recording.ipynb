{
 "cells": [
  {
   "cell_type": "code",
   "execution_count": 1,
   "metadata": {},
   "outputs": [],
   "source": [
    "# This example runs single recording sorting using local computer\n",
    "# Created by James Jun on Feb 26, 2019\n",
    "\n",
    "# prerequisits\n",
    "# $ pip install ml_ms4alg\n",
    "# $ conda install -c conda-forge ipywidgets\n",
    "\n",
    "# please ignore the warning when running MountainSort4\n",
    "#   RuntimeWarning: numpy.ufunc size changed, may indicate binary incompatibility. Expected 216, got 192\n"
   ]
  },
  {
   "cell_type": "code",
   "execution_count": 2,
   "metadata": {},
   "outputs": [],
   "source": [
    "%load_ext autoreload\n",
    "%autoreload 2"
   ]
  },
  {
   "cell_type": "code",
   "execution_count": 3,
   "metadata": {},
   "outputs": [],
   "source": [
    "import spikeforest_analysis as sa\n",
    "import spikeextractors as se\n",
    "import os\n",
    "import shutil\n",
    "import spikeforest as sf\n",
    "import numpy as np\n",
    "from spikesorters import IronClust, MountainSort4\n",
    "import spiketoolkit as st\n",
    "import spikewidgets as sw\n",
    "import ipywidgets as widgets"
   ]
  },
  {
   "cell_type": "code",
   "execution_count": 4,
   "metadata": {},
   "outputs": [
    {
     "data": {
      "application/vnd.jupyter.widget-view+json": {
       "model_id": "1c2affd008b04d0c821afcec12cdbebe",
       "version_major": 2,
       "version_minor": 0
      },
      "text/plain": [
       "Dropdown(description='Spike sorters', options=('MountainSort4', 'IronClust'), value='MountainSort4')"
      ]
     },
     "metadata": {},
     "output_type": "display_data"
    },
    {
     "data": {
      "application/vnd.jupyter.widget-view+json": {
       "model_id": "0d6478d4d8834b4394b9654269aedc28",
       "version_major": 2,
       "version_minor": 0
      },
      "text/plain": [
       "Dropdown(description='Data source', options=('generate', 'download'), value='generate')"
      ]
     },
     "metadata": {},
     "output_type": "display_data"
    }
   ],
   "source": [
    "# select a data source and sorter\n",
    "# you may change the data source index and sorter index\n",
    "v_datasource = ['generate', 'download']\n",
    "v_sorter = ['MountainSort4', 'IronClust']\n",
    "\n",
    "widget1 = widgets.Dropdown(\n",
    "    options=v_sorter, \n",
    "    index=0, description='Spike sorters')\n",
    "display(widget1)\n",
    "\n",
    "widget2 = widgets.Dropdown(\n",
    "    options=v_datasource, \n",
    "    index=0, description='Data source')\n",
    "display(widget2)"
   ]
  },
  {
   "cell_type": "code",
   "execution_count": 5,
   "metadata": {},
   "outputs": [],
   "source": [
    "# create a parameters dictionary\n",
    "\n",
    "params = dict(\n",
    "    sorter = v_sorter[widget1.index],\n",
    "    datasource = v_datasource[widget2.index],\n",
    "    in_path = 'recordings/example1',\n",
    "    out_path = 'sortings/example1'\n",
    "    )"
   ]
  },
  {
   "cell_type": "code",
   "execution_count": 6,
   "metadata": {},
   "outputs": [],
   "source": [
    "# Define sorters\n",
    "\n",
    "def irc(recpath, firings_out):\n",
    "    return IronClust.execute(\n",
    "            recording_dir=recpath,\n",
    "            firings_out=firings_out,\n",
    "            detect_sign=-1,\n",
    "            adjacency_radius=100,\n",
    "            prm_template_name='static')\n",
    "\n",
    "def ms4(recpath, firings_out):\n",
    "    return MountainSort4.execute(\n",
    "            recording_dir=recpath,\n",
    "            firings_out=firings_out,\n",
    "            detect_sign=-1,\n",
    "            adjacency_radius=100)\n",
    "\n",
    "v_sorters = dict(IronClust=irc, MountainSort4=ms4)"
   ]
  },
  {
   "cell_type": "code",
   "execution_count": 7,
   "metadata": {},
   "outputs": [],
   "source": [
    "# get recording\n",
    "recpath = params['in_path']\n",
    "savepath = params['out_path']\n",
    "\n",
    "# delete previous recording\n",
    "if os.path.exists(recpath): shutil.rmtree(recpath)\n",
    "if not os.path.exists(recpath): os.makedirs(recpath)\n",
    "if not os.path.exists(savepath): os.makedirs(savepath)\n",
    "        \n",
    "if params['datasource'] is 'generate':\n",
    "    # generate recording\n",
    "    rx, sx_true = se.example_datasets.toy_example1(\n",
    "        duration=600, num_channels=4, samplerate=30000, K=10)\n",
    "else:\n",
    "    # download recording\n",
    "    kpath = 'kbucket://15734439d8cf/groundtruth/magland_synth/datasets_noise10_K10_C4/001_synth/'\n",
    "    rx = se.MdaRecordingExtractor(kpath, download=True)\n",
    "    sx_true = se.MdaSortingExtractor(kpath + 'firings_true.mda')   \n",
    "    \n",
    "se.MdaRecordingExtractor.writeRecording(\n",
    "    recording=rx, save_path=recpath)\n",
    "se.MdaSortingExtractor.writeSorting(\n",
    "    sorting=sx_true, save_path=os.path.join(savepath, 'firings_true.mda'))"
   ]
  },
  {
   "cell_type": "code",
   "execution_count": 8,
   "metadata": {},
   "outputs": [
    {
     "name": "stdout",
     "output_type": "stream",
     "text": [
      "::::::::::::::::::::::::::::: MountainSort4\n",
      "Computing sha1 of recordings/example1/raw.mda\n",
      "MLPR EXECUTING::::::::::::::::::::::::::::: MountainSort4\n",
      "MountainSort4......\n"
     ]
    },
    {
     "name": "stderr",
     "output_type": "stream",
     "text": [
      "/home/jamesjun/conda/envs/sf2/lib/python3.6/importlib/_bootstrap.py:219: RuntimeWarning: numpy.ufunc size changed, may indicate binary incompatibility. Expected 216, got 192\n",
      "  return f(*args, **kwds)\n",
      "/home/jamesjun/conda/envs/sf2/lib/python3.6/importlib/_bootstrap.py:219: ImportWarning: can't resolve package from __spec__ or __package__, falling back on __name__ and __path__\n",
      "  return f(*args, **kwds)\n",
      "/home/jamesjun/conda/envs/sf2/lib/python3.6/importlib/_bootstrap.py:219: RuntimeWarning: numpy.ufunc size changed, may indicate binary incompatibility. Expected 216, got 192\n",
      "  return f(*args, **kwds)\n",
      "/home/jamesjun/conda/envs/sf2/lib/python3.6/importlib/_bootstrap.py:219: ImportWarning: can't resolve package from __spec__ or __package__, falling back on __name__ and __path__\n",
      "  return f(*args, **kwds)\n",
      "/home/jamesjun/conda/envs/sf2/lib/python3.6/importlib/_bootstrap.py:219: RuntimeWarning: numpy.ufunc size changed, may indicate binary incompatibility. Expected 192 from C header, got 216 from PyObject\n",
      "  return f(*args, **kwds)\n",
      "/home/jamesjun/conda/envs/sf2/lib/python3.6/importlib/_bootstrap.py:219: RuntimeWarning: numpy.ufunc size changed, may indicate binary incompatibility. Expected 216, got 192\n",
      "  return f(*args, **kwds)\n",
      "/home/jamesjun/conda/envs/sf2/lib/python3.6/importlib/_bootstrap.py:219: ImportWarning: can't resolve package from __spec__ or __package__, falling back on __name__ and __path__\n",
      "  return f(*args, **kwds)\n"
     ]
    },
    {
     "name": "stdout",
     "output_type": "stream",
     "text": [
      "Using 4 workers.\n",
      "Using tmpdir: /tmp/tmpofi3fn0e\n",
      "Num. workers = 4\n",
      "Preparing /tmp/tmpofi3fn0e/timeseries.hdf5...\n",
      "Preparing neighborhood sorters (M=4, N=18000000)...\n",
      "Neighboorhood of channel 2 has 4 channels.\n",
      "Neighboorhood of channel 1 has 4 channels.\n",
      "Neighboorhood of channel 0 has 4 channels.\n",
      "Neighboorhood of channel 3 has 4 channels.\n",
      "Detecting events on channel 3 (phase1)...\n",
      "Detecting events on channel 2 (phase1)...\n",
      "Detecting events on channel 1 (phase1)...\n",
      "Detecting events on channel 4 (phase1)...\n",
      "Elapsed time for detect on neighborhood: 0:00:02.433808\n",
      "Num events detected on channel 1 (phase1): 15005\n",
      "Computing PCA features for channel 1 (phase1)...\n",
      "Elapsed time for detect on neighborhood: 0:00:02.461442\n",
      "Num events detected on channel 4 (phase1): 6438\n",
      "Computing PCA features for channel 4 (phase1)...\n",
      "Elapsed time for detect on neighborhood: 0:00:02.479232\n",
      "Num events detected on channel 3 (phase1): 10149\n",
      "Computing PCA features for channel 3 (phase1)...\n",
      "Elapsed time for detect on neighborhood: 0:00:02.551368\n",
      "Num events detected on channel 2 (phase1): 15626\n",
      "Computing PCA features for channel 2 (phase1)...\n",
      "Clustering for channel 1 (phase1)...\n",
      "Clustering for channel 3 (phase1)...\n",
      "Clustering for channel 4 (phase1)...\n",
      "Clustering for channel 2 (phase1)...\n",
      "Found 10 clusters for channel 1 (phase1)...\n",
      "Computing templates for channel 1 (phase1)...\n",
      "Found 9 clusters for channel 4 (phase1)...\n",
      "Computing templates for channel 4 (phase1)...\n",
      "Found 15 clusters for channel 3 (phase1)...\n",
      "Computing templates for channel 3 (phase1)...\n",
      "Re-assigning events for channel 1 (phase1)...\n",
      "Re-assigning 1 events from 1 to 4 with dt=-8 (k=1)\n",
      "Re-assigning 6 events from 1 to 4 with dt=-10 (k=9)\n",
      "Found 15 clusters for channel 2 (phase1)...\n",
      "Computing templates for channel 2 (phase1)...\n",
      "Re-assigning events for channel 4 (phase1)...\n",
      "Re-assigning events for channel 3 (phase1)...\n",
      "Re-assigning 24 events from 3 to 4 with dt=-2 (k=5)\n",
      "Re-assigning 99 events from 3 to 4 with dt=-1 (k=6)\n",
      "Re-assigning 6 events from 3 to 4 with dt=0 (k=7)\n",
      "Re-assigning 2 events from 3 to 2 with dt=-3 (k=8)\n",
      "Re-assigning 4 events from 3 to 2 with dt=-1 (k=9)\n",
      "Re-assigning events for channel 2 (phase1)...\n",
      "Re-assigning 3 events from 2 to 3 with dt=-2 (k=4)\n",
      "Re-assigning 3 events from 2 to 4 with dt=-6 (k=6)\n",
      "Neighboorhood of channel 0 has 4 channels.\n",
      "Neighboorhood of channel 3 has 4 channels.\n",
      "Neighboorhood of channel 1 has 4 channels.\n",
      "Neighboorhood of channel 2 has 4 channels.\n",
      "Computing PCA features for channel 1 (phase2)...\n",
      "No duplicate events found for channel 0 in phase2\n",
      "Computing PCA features for channel 3 (phase2)...\n",
      "Computing PCA features for channel 2 (phase2)...\n",
      "No duplicate events found for channel 2 in phase2\n",
      "Computing PCA features for channel 4 (phase2)...\n",
      "No duplicate events found for channel 1 in phase2\n",
      "No duplicate events found for channel 3 in phase2\n",
      "Clustering for channel 4 (phase2)...\n",
      "Clustering for channel 1 (phase2)...\n",
      "Clustering for channel 2 (phase2)...\n",
      "Clustering for channel 3 (phase2)...\n",
      "Found 4 clusters for channel 4 (phase2)...\n",
      "Found 4 clusters for channel 3 (phase2)...\n",
      "Found 4 clusters for channel 2 (phase2)...\n",
      "Found 5 clusters for channel 1 (phase2)...\n",
      "Preparing output...\n",
      "Done with ms4alg.\n",
      "Cleaning tmpdir::::: /tmp/tmpofi3fn0e\n",
      "MLPR FINISHED ::::::::::::::::::::::::::::: MountainSort4\n"
     ]
    }
   ],
   "source": [
    "# Run spike sorting\n",
    "\n",
    "firings_out = os.path.join(savepath, 'firings_out.mda')\n",
    "v_sorters[params['sorter']](\n",
    "    recpath, \n",
    "    firings_out)\n",
    "sx = se.MdaSortingExtractor(firings_out)\n"
   ]
  },
  {
   "cell_type": "code",
   "execution_count": 11,
   "metadata": {},
   "outputs": [
    {
     "name": "stdout",
     "output_type": "stream",
     "text": [
      "sorting output for MountainSort4:\n"
     ]
    },
    {
     "data": {
      "text/html": [
       "<table border=\"1\" class=\"dataframe\">\n",
       "  <thead>\n",
       "    <tr style=\"text-align: right;\">\n",
       "      <th>unit_id</th>\n",
       "      <th>accuracy</th>\n",
       "      <th>best_unit</th>\n",
       "      <th>matched_unit</th>\n",
       "      <th>f_n</th>\n",
       "      <th>f_p</th>\n",
       "      <th>num_matches</th>\n",
       "    </tr>\n",
       "  </thead>\n",
       "  <tbody>\n",
       "    <tr>\n",
       "      <td>1</td>\n",
       "      <td>0.87</td>\n",
       "      <td>4</td>\n",
       "      <td>4</td>\n",
       "      <td>0.00</td>\n",
       "      <td>0.13</td>\n",
       "      <td>1232</td>\n",
       "    </tr>\n",
       "    <tr>\n",
       "      <td>2</td>\n",
       "      <td>0.99</td>\n",
       "      <td>2</td>\n",
       "      <td>2</td>\n",
       "      <td>0.00</td>\n",
       "      <td>0.01</td>\n",
       "      <td>1372</td>\n",
       "    </tr>\n",
       "    <tr>\n",
       "      <td>3</td>\n",
       "      <td>0.45</td>\n",
       "      <td>5</td>\n",
       "      <td>-1</td>\n",
       "      <td>0.00</td>\n",
       "      <td>0.55</td>\n",
       "      <td>622</td>\n",
       "    </tr>\n",
       "    <tr>\n",
       "      <td>4</td>\n",
       "      <td>0.99</td>\n",
       "      <td>8</td>\n",
       "      <td>8</td>\n",
       "      <td>0.00</td>\n",
       "      <td>0.01</td>\n",
       "      <td>1387</td>\n",
       "    </tr>\n",
       "    <tr>\n",
       "      <td>5</td>\n",
       "      <td>0.97</td>\n",
       "      <td>9</td>\n",
       "      <td>9</td>\n",
       "      <td>0.00</td>\n",
       "      <td>0.03</td>\n",
       "      <td>1359</td>\n",
       "    </tr>\n",
       "    <tr>\n",
       "      <td>6</td>\n",
       "      <td>0.97</td>\n",
       "      <td>10</td>\n",
       "      <td>10</td>\n",
       "      <td>0.00</td>\n",
       "      <td>0.03</td>\n",
       "      <td>1361</td>\n",
       "    </tr>\n",
       "    <tr>\n",
       "      <td>7</td>\n",
       "      <td>0.98</td>\n",
       "      <td>12</td>\n",
       "      <td>12</td>\n",
       "      <td>0.01</td>\n",
       "      <td>0.01</td>\n",
       "      <td>1393</td>\n",
       "    </tr>\n",
       "    <tr>\n",
       "      <td>8</td>\n",
       "      <td>0.98</td>\n",
       "      <td>13</td>\n",
       "      <td>13</td>\n",
       "      <td>0.00</td>\n",
       "      <td>0.02</td>\n",
       "      <td>1377</td>\n",
       "    </tr>\n",
       "    <tr>\n",
       "      <td>9</td>\n",
       "      <td>0.78</td>\n",
       "      <td>14</td>\n",
       "      <td>14</td>\n",
       "      <td>0.00</td>\n",
       "      <td>0.22</td>\n",
       "      <td>1096</td>\n",
       "    </tr>\n",
       "    <tr>\n",
       "      <td>10</td>\n",
       "      <td>1.00</td>\n",
       "      <td>15</td>\n",
       "      <td>15</td>\n",
       "      <td>0.00</td>\n",
       "      <td>0.00</td>\n",
       "      <td>1428</td>\n",
       "    </tr>\n",
       "  </tbody>\n",
       "</table>"
      ],
      "text/plain": [
       "<IPython.core.display.HTML object>"
      ]
     },
     "metadata": {},
     "output_type": "display_data"
    }
   ],
   "source": [
    "# Run validation and display\n",
    "comparison=st.comparison.SortingComparison(\n",
    "    sorting1=sx_true, sorting1_name='true',\n",
    "    sorting2=sx, sorting2_name=params['sorter'],\n",
    "    )\n",
    "comparison_table = sw.SortingComparisonTable(comparison=comparison)\n",
    "\n",
    "print('sorting output for {}:'.format(params['sorter']))\n",
    "comparison_table.display()"
   ]
  },
  {
   "cell_type": "code",
   "execution_count": null,
   "metadata": {},
   "outputs": [],
   "source": []
  }
 ],
 "metadata": {
  "kernelspec": {
   "display_name": "Python 3",
   "language": "python",
   "name": "python3"
  },
  "language_info": {
   "codemirror_mode": {
    "name": "ipython",
    "version": 3
   },
   "file_extension": ".py",
   "mimetype": "text/x-python",
   "name": "python",
   "nbconvert_exporter": "python",
   "pygments_lexer": "ipython3",
   "version": "3.6.8"
  }
 },
 "nbformat": 4,
 "nbformat_minor": 2
}
