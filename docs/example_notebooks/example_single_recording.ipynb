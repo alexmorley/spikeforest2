{
 "cells": [
  {
   "cell_type": "code",
   "execution_count": null,
   "metadata": {},
   "outputs": [],
   "source": [
    "# This example runs single recording sorting using local computer\n",
    "# Created by James Jun on Feb 26, 2019\n",
    "\n",
    "# prerequisits\n",
    "# $ pip install ml_ms4alg\n",
    "# $ conda install -c conda-forge ipywidgets\n",
    "\n",
    "# please ignore the warning when running MountainSort4\n",
    "#   RuntimeWarning: numpy.ufunc size changed, may indicate binary incompatibility. Expected 216, got 192\n"
   ]
  },
  {
   "cell_type": "code",
   "execution_count": null,
   "metadata": {},
   "outputs": [],
   "source": [
    "%load_ext autoreload\n",
    "%autoreload 2"
   ]
  },
  {
   "cell_type": "code",
   "execution_count": null,
   "metadata": {},
   "outputs": [],
   "source": [
    "import spikeforest_analysis as sa\n",
    "from spikeforest import spikeextractors as se\n",
    "import os\n",
    "import shutil\n",
    "import sfdata as sf\n",
    "import numpy as np\n",
    "from spikesorters import IronClust, MountainSort4\n",
    "from spikeforest import spiketoolkit as st\n",
    "from spikeforest import spikewidgets as sw\n",
    "import ipywidgets as widgets"
   ]
  },
  {
   "cell_type": "code",
   "execution_count": null,
   "metadata": {},
   "outputs": [],
   "source": [
    "# select a data source and sorter\n",
    "# you may change the data source index and sorter index\n",
    "v_datasource = ['generate locally', 'download']\n",
    "v_sorter = ['MountainSort4', 'IronClust']\n",
    "\n",
    "widget1 = widgets.Dropdown(\n",
    "    options=v_sorter, \n",
    "    index=0, description='Spike sorters')\n",
    "display(widget1)\n",
    "\n",
    "widget2 = widgets.Dropdown(\n",
    "    options=v_datasource, \n",
    "    index=0, description='Data source')\n",
    "display(widget2)"
   ]
  },
  {
   "cell_type": "code",
   "execution_count": null,
   "metadata": {},
   "outputs": [],
   "source": [
    "# create a parameters dictionary\n",
    "\n",
    "params = dict(\n",
    "    sorter = v_sorter[widget1.index],\n",
    "    datasource = v_datasource[widget2.index],\n",
    "    in_path = 'recordings/example1',\n",
    "    out_path = 'sortings/example1'\n",
    "    )"
   ]
  },
  {
   "cell_type": "code",
   "execution_count": null,
   "metadata": {},
   "outputs": [],
   "source": [
    "# Define sorters\n",
    "\n",
    "def irc(recpath, firings_out):\n",
    "    return IronClust.execute(\n",
    "            recording_dir=recpath,\n",
    "            firings_out=firings_out,\n",
    "            detect_sign=-1,\n",
    "            adjacency_radius=100,\n",
    "            prm_template_name='static',\n",
    "            _force_run=True)\n",
    "\n",
    "def ms4(recpath, firings_out):\n",
    "    return MountainSort4.execute(\n",
    "            recording_dir=recpath,\n",
    "            firings_out=firings_out,\n",
    "            detect_sign=-1,\n",
    "            adjacency_radius=100,\n",
    "            _fore_run=True)\n",
    "\n",
    "v_sorters = dict(IronClust=irc, MountainSort4=ms4)"
   ]
  },
  {
   "cell_type": "code",
   "execution_count": null,
   "metadata": {},
   "outputs": [],
   "source": [
    "# get recording\n",
    "recpath = params['in_path']\n",
    "savepath = params['out_path']\n",
    "\n",
    "# delete previous recording\n",
    "if os.path.exists(recpath): shutil.rmtree(recpath)\n",
    "if not os.path.exists(recpath): os.makedirs(recpath)\n",
    "if not os.path.exists(savepath): os.makedirs(savepath)\n",
    "        \n",
    "if params['datasource'] is 'generate locally':\n",
    "    # generate recording\n",
    "    rx, sx_true = se.example_datasets.toy_example1(\n",
    "        duration=600, num_channels=4, samplerate=30000, K=10)\n",
    "else:\n",
    "    # download recording\n",
    "    kpath = 'kbucket://15734439d8cf/groundtruth/magland_synth/datasets_noise10_K10_C4/001_synth'\n",
    "    rx = se.MdaRecordingExtractor(kpath, download=True)\n",
    "    sx_true = se.MdaSortingExtractor(kpath + 'firings_true.mda')   \n",
    "    \n",
    "se.MdaRecordingExtractor.writeRecording(\n",
    "    recording=rx, save_path=recpath)\n",
    "se.MdaSortingExtractor.writeSorting(\n",
    "    sorting=sx_true, save_path=os.path.join(savepath, 'firings_true.mda'))"
   ]
  },
  {
   "cell_type": "code",
   "execution_count": null,
   "metadata": {},
   "outputs": [],
   "source": [
    "# Run spike sorting. ignore numpy.ufunc w on MountainSort4\n",
    "\n",
    "firings_out = os.path.join(savepath, 'firings_out.mda')\n",
    "v_sorters[params['sorter']](\n",
    "    recpath, \n",
    "    firings_out)\n",
    "sx = se.MdaSortingExtractor(firings_out)\n"
   ]
  },
  {
   "cell_type": "code",
   "execution_count": null,
   "metadata": {},
   "outputs": [],
   "source": [
    "# Run validation and display\n",
    "\n",
    "comparison=st.comparison.SortingComparison(\n",
    "    sorting1=sx_true, sorting1_name='true',\n",
    "    sorting2=sx, sorting2_name=params['sorter'],\n",
    "    )\n",
    "comparison_table = sw.SortingComparisonTable(comparison=comparison)\n",
    "\n",
    "print('sorting output for {}:'.format(params['sorter']))\n",
    "comparison_table.display()"
   ]
  },
  {
   "cell_type": "code",
   "execution_count": null,
   "metadata": {},
   "outputs": [],
   "source": [
    "# compute SNR of the ground truth units\n",
    "\n",
    "path_json_out = os.path.join(params['out_path'], 'summary_true.mda')\n",
    "sa.compute_units_info.ComputeUnitsInfo.execute(\n",
    "    recording_dir = params['in_path'],\n",
    "    firings = os.path.join(params['out_path'], 'firings_true.mda'),\n",
    "    json_out = path_json_out,\n",
    "    _force_run = True\n",
    "    )\n",
    "\n",
    "import json\n",
    "with open(path_json_out) as f:\n",
    "    snr_json = json.load(f)\n",
    "unit_snrs = [x['snr'] for x in snr_json]\n",
    "unit_ids = [x['unit_id'] for x in snr_json]\n",
    "sx_true.setUnitsProperty(property_name='snr', \n",
    "                         values=unit_snrs, unit_ids=unit_ids)"
   ]
  },
  {
   "cell_type": "code",
   "execution_count": null,
   "metadata": {},
   "outputs": [],
   "source": [
    "# plot SNR vs accuracy for the first sorting output\n",
    "\n",
    "sw.SortingAccuracyWidget(\n",
    "    sorting_comparison=comparison,\n",
    "    property_name='snr',\n",
    "    ).plot()"
   ]
  }
 ],
 "metadata": {
  "kernelspec": {
   "display_name": "Python 3",
   "language": "python",
   "name": "python3"
  },
  "language_info": {
   "codemirror_mode": {
    "name": "ipython",
    "version": 3
   },
   "file_extension": ".py",
   "mimetype": "text/x-python",
   "name": "python",
   "nbconvert_exporter": "python",
   "pygments_lexer": "ipython3",
   "version": "3.6.8"
  }
 },
 "nbformat": 4,
 "nbformat_minor": 2
}
