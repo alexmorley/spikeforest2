{
 "cells": [
  {
   "cell_type": "code",
   "execution_count": 1,
   "metadata": {},
   "outputs": [],
   "source": [
    "# This example runs single recording sorting using local computer\n",
    "# Created by James Jun on Feb 26, 2019\n",
    "\n",
    "# prerequisits\n",
    "# $ pip install ml_ms4alg\n",
    "# $ conda install -c conda-forge ipywidgets\n",
    "# $ jupyter labextension install @jupyter-widgets/jupyterlab-manager\n",
    "\n",
    "# please ignore the warning when running MountainSort4\n",
    "#   RuntimeWarning: numpy.ufunc size changed, may indicate binary incompatibility. Expected 216, got 192\n"
   ]
  },
  {
   "cell_type": "code",
   "execution_count": 2,
   "metadata": {},
   "outputs": [],
   "source": [
    "%load_ext autoreload\n",
    "%autoreload 2"
   ]
  },
  {
   "cell_type": "code",
   "execution_count": 3,
   "metadata": {},
   "outputs": [],
   "source": [
    "import spikeforest_analysis as sa\n",
    "from spikeforest import spikeextractors as se\n",
    "import os\n",
    "import shutil\n",
    "import sfdata as sf\n",
    "import numpy as np\n",
    "from spikesorters import IronClust, MountainSort4, KiloSort, KiloSort2\n",
    "from spikeforest import spiketoolkit as st\n",
    "from spikeforest import spikewidgets as sw\n",
    "import ipywidgets as widgets"
   ]
  },
  {
   "cell_type": "code",
   "execution_count": 4,
   "metadata": {},
   "outputs": [
    {
     "data": {
      "application/vnd.jupyter.widget-view+json": {
       "model_id": "5ad349a67ae84c81abf2c4d95cef6bb8",
       "version_major": 2,
       "version_minor": 0
      },
      "text/plain": [
       "Dropdown(description='Spike sorters', options=('IronClust', 'IronClust_drift', 'MountainSort4', 'KiloSort', 'K…"
      ]
     },
     "metadata": {},
     "output_type": "display_data"
    },
    {
     "data": {
      "application/vnd.jupyter.widget-view+json": {
       "model_id": "76b27b215791477aa41ab4c7a1ca6505",
       "version_major": 2,
       "version_minor": 0
      },
      "text/plain": [
       "Dropdown(description='Data source', options=('generate locally', 'download'), value='generate locally')"
      ]
     },
     "metadata": {},
     "output_type": "display_data"
    }
   ],
   "source": [
    "# select a data source and sorter\n",
    "# you may change the data source index and sorter index\n",
    "v_sorter = ['IronClust', 'IronClust_drift', 'MountainSort4', 'KiloSort', 'KiloSort2']\n",
    "widget1 = widgets.Dropdown(\n",
    "    options=v_sorter, \n",
    "    index=0, description='Spike sorters')\n",
    "display(widget1)\n",
    "\n",
    "v_datasource = ['generate locally', 'download']\n",
    "widget2 = widgets.Dropdown(\n",
    "    options=v_datasource, \n",
    "    index=0, description='Data source')\n",
    "display(widget2)"
   ]
  },
  {
   "cell_type": "code",
   "execution_count": 5,
   "metadata": {},
   "outputs": [],
   "source": [
    "# create a parameters dictionary\n",
    "params = dict(\n",
    "    sorter = v_sorter[widget1.index],\n",
    "    datasource = v_datasource[widget2.index],\n",
    "    in_path = 'recordings/example1',\n",
    "    out_path = os.path.join('sortings/example1', v_sorter[widget1.index])\n",
    "    )"
   ]
  },
  {
   "cell_type": "code",
   "execution_count": 6,
   "metadata": {},
   "outputs": [
    {
     "name": "stdout",
     "output_type": "stream",
     "text": [
      "recordings/example1/firings_true.mda\n",
      "Using cached recording in recordings/example1\n"
     ]
    }
   ],
   "source": [
    "# get recording\n",
    "recpath = params['in_path']\n",
    "# delete previous recording\n",
    "#  os.path.exists(recpath): shutil.rmtree(recpath)\n",
    "\n",
    "# delete previous output and make save\n",
    "recpath_true = os.path.join(recpath, 'firings_true.mda')\n",
    "\n",
    "if params['datasource'] == 'generate locally':\n",
    "    print(recpath_true)\n",
    "    if not os.path.exists(recpath_true):\n",
    "        # generate recording\n",
    "        rx, sx_true = se.example_datasets.toy_example1(\n",
    "            duration=600, num_channels=4, samplerate=30000, K=10)\n",
    "        print('Generated recording in ' + recpath)\n",
    "    else:\n",
    "        rx = se.MdaRecordingExtractor(recpath)\n",
    "        sx_true = se.MdaSortingExtractor(recpath_true)\n",
    "        print('Using cached recording in ' + recpath)\n",
    "else:\n",
    "    # download recording\n",
    "    #kpath = 'kbucket://15734439d8cf/groundtruth/magland_synth/datasets_noise10_K10_C4/001_synth'\n",
    "    #kpath = '/mnt/home/jjun/ceph/groundtruth/hybrid_drift/rec_32c_600s_11'\n",
    "    kpath = '/mnt/home/jjun/ceph/groundtruth/hybrid_drift/rec_64c_1200s_11'\n",
    "    rx = se.MdaRecordingExtractor(kpath, download=True)\n",
    "    sx_true = se.MdaSortingExtractor(kpath + '/firings_true.mda')   \n",
    "    \n",
    "if not os.path.exists(recpath): \n",
    "    os.makedirs(recpath)\n",
    "    se.MdaRecordingExtractor.writeRecording(recording=rx, save_path=recpath)\n",
    "    se.MdaSortingExtractor.writeSorting(\n",
    "        sorting=sx_true, save_path=recpath_true)\n",
    "        "
   ]
  },
  {
   "cell_type": "code",
   "execution_count": 7,
   "metadata": {},
   "outputs": [],
   "source": [
    "# Define sorters\n",
    "\n",
    "def irc(recpath, firings_out):\n",
    "    return IronClust.execute(\n",
    "            recording_dir=recpath,\n",
    "            firings_out=firings_out,\n",
    "            detect_sign=-1,\n",
    "            adjacency_radius=100,\n",
    "            prm_template_name='static',\n",
    "            _force_run=False)\n",
    "\n",
    "def irc_drift(recpath, firings_out):\n",
    "    return IronClust.execute(\n",
    "            recording_dir=recpath,\n",
    "            firings_out=firings_out,\n",
    "            detect_sign=-1,\n",
    "            adjacency_radius=100,\n",
    "            prm_template_name='drift',\n",
    "            _force_run=False)\n",
    "\n",
    "def ms4(recpath, firings_out):\n",
    "    return MountainSort4.execute(\n",
    "            recording_dir=recpath,\n",
    "            firings_out=firings_out,\n",
    "            detect_sign=-1,\n",
    "            adjacency_radius=100,\n",
    "            _force_run=False)\n",
    "\n",
    "def ksort(recpath, firings_out):\n",
    "    return KiloSort.execute(\n",
    "            recording_dir=recpath,\n",
    "            firings_out=firings_out,\n",
    "            detect_sign=-1,\n",
    "            adjacency_radius=100,\n",
    "            _force_run=False)\n",
    "\n",
    "def ksort2(recpath, firings_out):\n",
    "    return KiloSort.execute(\n",
    "            recording_dir=recpath,\n",
    "            firings_out=firings_out,\n",
    "            detect_sign=-1,\n",
    "            adjacency_radius=100,\n",
    "            _force_run=False)\n",
    "\n",
    "v_sorters = dict(KiloSort=ksort, IronClust=irc, MountainSort4=ms4, KiloSort2=ksort2, IronClust_drift=irc_drift)"
   ]
  },
  {
   "cell_type": "code",
   "execution_count": 9,
   "metadata": {},
   "outputs": [
    {
     "name": "stdout",
     "output_type": "stream",
     "text": [
      "Running IronClust_drift in notebook.\n",
      "Creating job \n",
      "Job: IronClust (version: 0.2.1)\n",
      "Timestamp: 2019-03-25 16:11:31\n",
      "Running processor directly...\n",
      "Reading timeseries header...\n",
      "Num. channels = 64, Num. timepoints = 36000000, duration = 20.0 minutes\n",
      "Creating argfile.txt...\n",
      "Running IronClust...\n",
      "matlab -nosplash -nodisplay -r \"addpath('/mnt/home/jjun/src/ironclust', '/mnt/home/jjun/src/ironclust/matlab', '/mnt/home/jjun/src/ironclust/matlab/mdaio'); p_ironclust('/tmp/ironclust-tmp-UVZRTXCCZQ', '/tmp/ironclust-tmp-UVZRTXCCZQ/ironclust_dataset/raw.mda', '/tmp/ironclust-tmp-UVZRTXCCZQ/ironclust_dataset/geom.csv', '', '', '/tmp/ironclust-tmp-UVZRTXCCZQ/firings.mda', '/tmp/ironclust-tmp-UVZRTXCCZQ/ironclust_dataset/argfile.txt'); quit;\"\n",
      "Saving output: /mnt/ceph/users/jjun/sha1-cache/tmp/tmp_execute_outputdir_IronClust0tz27oof/firings_out.mda -> /home/jjun/src/spikeforest/docs/example_notebooks/sortings/example1/IronClust_drift/firings_out.mda\n"
     ]
    }
   ],
   "source": [
    "# Run spike sorting. ignore numpy.ufunc w on MountainSort4\n",
    "savepath = params['out_path']\n",
    "firings_out = os.path.join(savepath, 'firings_out.mda')\n",
    "if not os.path.exists(savepath): \n",
    "    os.makedirs(savepath)   \n",
    "if not os.path.exists(firings_out):\n",
    "    print('Running '+params['sorter'] + ' in notebook.')\n",
    "    v_sorters[params['sorter']](\n",
    "        recpath, \n",
    "        firings_out)    \n",
    "    sx = se.MdaSortingExtractor(firings_out)\n",
    "else:\n",
    "    print('Loaded '+params['sorter'] + ' from ' + savepath)\n",
    "    sx = se.MdaSortingExtractor(firings_out)"
   ]
  },
  {
   "cell_type": "code",
   "execution_count": 10,
   "metadata": {},
   "outputs": [
    {
     "name": "stdout",
     "output_type": "stream",
     "text": [
      "sorting output for IronClust_drift:\n"
     ]
    }
   ],
   "source": [
    "# Run validation and display\n",
    "\n",
    "comparison=st.comparison.SortingComparison(\n",
    "    sorting1=sx_true, sorting1_name='true',\n",
    "    sorting2=sx, sorting2_name=params['sorter'],\n",
    "    )\n",
    "comparison_table = sw.SortingComparisonTable(comparison=comparison)\n",
    "\n",
    "print('sorting output for {}:'.format(params['sorter']))\n",
    "# comparison_table.display()"
   ]
  },
  {
   "cell_type": "code",
   "execution_count": 11,
   "metadata": {},
   "outputs": [
    {
     "name": "stdout",
     "output_type": "stream",
     "text": [
      "Creating job \n"
     ]
    }
   ],
   "source": [
    "# compute SNR of the ground truth units\n",
    "\n",
    "path_json_out = os.path.join(params['out_path'], 'summary_true.mda')\n",
    "sa.compute_units_info.ComputeUnitsInfo.execute(\n",
    "    recording_dir = params['in_path'],\n",
    "    firings = os.path.join(params['in_path'], 'firings_true.mda'),\n",
    "    json_out = path_json_out,\n",
    "    _force_run = False\n",
    "    )\n",
    "\n",
    "import json\n",
    "with open(path_json_out) as f:\n",
    "    snr_json = json.load(f)\n",
    "unit_snrs = [x['snr'] for x in snr_json]\n",
    "unit_ids = [x['unit_id'] for x in snr_json]\n",
    "sx_true.setUnitsProperty(property_name='snr', \n",
    "                         values=unit_snrs, unit_ids=unit_ids)\n",
    "\n",
    "# plot SNR vs accuracy for the first sorting output\n",
    "a=sw.SortingAccuracyWidget(\n",
    "    sorting_comparison=comparison,\n",
    "    property_name='snr');"
   ]
  },
  {
   "cell_type": "code",
   "execution_count": 39,
   "metadata": {},
   "outputs": [
    {
     "name": "stdout",
     "output_type": "stream",
     "text": [
      "Sorter: IronClust\n"
     ]
    },
    {
     "data": {
      "image/png": "[encoded data removed]",
      "text/plain": [
       "<Figure size 432x288 with 1 Axes>"
      ]
     },
     "metadata": {
      "needs_background": "light"
     },
     "output_type": "display_data"
    }
   ],
   "source": [
    "print('Sorter: ' + params['sorter'])\n",
    "a.plot()"
   ]
  },
  {
   "cell_type": "code",
   "execution_count": 12,
   "metadata": {},
   "outputs": [
    {
     "name": "stdout",
     "output_type": "stream",
     "text": [
      "Sorter: IronClust_drift\n"
     ]
    },
    {
     "data": {
      "image/png": "[encoded data removed]",
      "text/plain": [
       "<Figure size 432x288 with 1 Axes>"
      ]
     },
     "metadata": {
      "needs_background": "light"
     },
     "output_type": "display_data"
    }
   ],
   "source": [
    "print('Sorter: ' + params['sorter'])\n",
    "a.plot()"
   ]
  },
  {
   "cell_type": "code",
   "execution_count": 46,
   "metadata": {},
   "outputs": [
    {
     "name": "stdout",
     "output_type": "stream",
     "text": [
      "Sorter: KiloSort2\n"
     ]
    },
    {
     "data": {
      "image/png": "[encoded data removed]",
      "text/plain": [
       "<Figure size 432x288 with 1 Axes>"
      ]
     },
     "metadata": {
      "needs_background": "light"
     },
     "output_type": "display_data"
    }
   ],
   "source": [
    "print('Sorter: ' + params['sorter'])\n",
    "a.plot()"
   ]
  },
  {
   "cell_type": "code",
   "execution_count": 32,
   "metadata": {},
   "outputs": [
    {
     "name": "stdout",
     "output_type": "stream",
     "text": [
      "Sorter: KiloSort\n"
     ]
    },
    {
     "data": {
      "image/png": "[encoded data removed]",
      "text/plain": [
       "<Figure size 432x288 with 1 Axes>"
      ]
     },
     "metadata": {
      "needs_background": "light"
     },
     "output_type": "display_data"
    }
   ],
   "source": [
    "print('Sorter: ' + params['sorter'])\n",
    "a.plot()"
   ]
  },
  {
   "cell_type": "code",
   "execution_count": 53,
   "metadata": {},
   "outputs": [
    {
     "name": "stdout",
     "output_type": "stream",
     "text": [
      "Sorter: MountainSort4\n"
     ]
    },
    {
     "data": {
      "image/png": "[encoded data removed]",
      "text/plain": [
       "<Figure size 432x288 with 1 Axes>"
      ]
     },
     "metadata": {
      "needs_background": "light"
     },
     "output_type": "display_data"
    }
   ],
   "source": [
    "print('Sorter: ' + params['sorter'])\n",
    "a.plot()"
   ]
  },
  {
   "cell_type": "code",
   "execution_count": null,
   "metadata": {},
   "outputs": [],
   "source": []
  }
 ],
 "metadata": {
  "kernelspec": {
   "display_name": "Python 3",
   "language": "python",
   "name": "python3"
  },
  "language_info": {
   "codemirror_mode": {
    "name": "ipython",
    "version": 3
   },
   "file_extension": ".py",
   "mimetype": "text/x-python",
   "name": "python",
   "nbconvert_exporter": "python",
   "pygments_lexer": "ipython3",
   "version": "3.6.8"
  }
 },
 "nbformat": 4,
 "nbformat_minor": 2
}
