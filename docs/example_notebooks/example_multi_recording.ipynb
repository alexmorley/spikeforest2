{
 "cells": [
  {
   "cell_type": "code",
   "execution_count": null,
   "metadata": {},
   "outputs": [],
   "source": [
    "# This example runs multiple recording sorting using a local computer\n",
    "# Created by James Jun on Feb 27, 2019\n",
    "\n",
    "# prerequisits\n",
    "# $ pip install ml_ms4alg\n",
    "# $ conda install -c conda-forge ipywidgets\n",
    "\n",
    "# please ignore the warning when running MountainSort4\n",
    "#   RuntimeWarning: numpy.ufunc size changed, may indicate binary incompatibility. Expected 216, got 192\n"
   ]
  },
  {
   "cell_type": "code",
   "execution_count": null,
   "metadata": {},
   "outputs": [],
   "source": [
    "%load_ext autoreload\n",
    "%autoreload 2"
   ]
  },
  {
   "cell_type": "code",
   "execution_count": null,
   "metadata": {},
   "outputs": [],
   "source": [
    "import spikeforest_analysis as sa\n",
    "import spikeextractors as se\n",
    "import os\n",
    "import shutil\n",
    "import spikeforest as sf\n",
    "import numpy as np\n",
    "from spikesorters import IronClust, MountainSort4\n",
    "import spiketoolkit as st\n",
    "import spikewidgets as sw\n",
    "import ipywidgets as widgets\n",
    "import matplotlib.pyplot as plt\n"
   ]
  },
  {
   "cell_type": "code",
   "execution_count": null,
   "metadata": {},
   "outputs": [],
   "source": [
    "# select a data source and sorter\n",
    "# you may change the data source index and sorter index\n",
    "v_datasource = ['generate', 'download']\n",
    "v_sorter = ['MountainSort4', 'IronClust']\n",
    "\n",
    "widget1 = widgets.Dropdown(\n",
    "    options=v_sorter, \n",
    "    index=0, description='Spike sorters')\n",
    "display(widget1)\n",
    "\n",
    "widget2 = widgets.Dropdown(\n",
    "    options=v_datasource, \n",
    "    index=0, description='Data source')\n",
    "display(widget2)"
   ]
  },
  {
   "cell_type": "code",
   "execution_count": null,
   "metadata": {},
   "outputs": [],
   "source": [
    "# create a parameters dictionary\n",
    "\n",
    "params = dict(\n",
    "    sorter = v_sorter[widget1.index],\n",
    "    datasource = v_datasource[widget2.index],\n",
    "    in_path = 'recordings/example1',\n",
    "    out_path = 'sortings/example1',\n",
    "    num_jobs = 4,\n",
    "    num_workers = 4,\n",
    "    )"
   ]
  },
  {
   "cell_type": "code",
   "execution_count": null,
   "metadata": {},
   "outputs": [],
   "source": [
    "# Define sorters\n",
    "\n",
    "def irc(recpath):\n",
    "    return IronClust.createJob(\n",
    "            recording_dir=recpath,\n",
    "            firings_out={'ext':'.mda'},\n",
    "            detect_sign=-1,\n",
    "            adjacency_radius=100,\n",
    "            prm_template_name='static',\n",
    "            _force_run=True,\n",
    "            )\n",
    "\n",
    "def ms4(recpath):\n",
    "    return MountainSort4.createJob(\n",
    "            recording_dir=recpath,\n",
    "            firings_out={'ext':'.mda'},\n",
    "            detect_sign=-1,\n",
    "            adjacency_radius=100,\n",
    "            _force_run=True\n",
    "            )\n",
    "\n",
    "v_sorters = dict(IronClust=irc, MountainSort4=ms4)"
   ]
  },
  {
   "cell_type": "code",
   "execution_count": null,
   "metadata": {},
   "outputs": [],
   "source": [
    "# get recording\n",
    "\n",
    "recpath = params['in_path']\n",
    "savepath = params['out_path']\n",
    "\n",
    "# delete previous recording\n",
    "if os.path.exists(recpath): shutil.rmtree(recpath)\n",
    "if not os.path.exists(recpath): os.makedirs(recpath)\n",
    "if not os.path.exists(savepath): os.makedirs(savepath)\n",
    "        \n",
    "if params['datasource'] is 'generate':\n",
    "    # generate recording\n",
    "    rx, sx_true = se.example_datasets.toy_example1(\n",
    "        duration=600, num_channels=4, samplerate=30000, K=10)\n",
    "else:\n",
    "    # download recording\n",
    "    kpath = 'kbucket://15734439d8cf/groundtruth/magland_synth/datasets_noise10_K10_C4/001_synth/'\n",
    "    rx = se.MdaRecordingExtractor(kpath, download=True)\n",
    "    sx_true = se.MdaSortingExtractor(kpath + 'firings_true.mda')   \n",
    "    \n",
    "se.MdaRecordingExtractor.writeRecording(\n",
    "    recording=rx, save_path=recpath)\n",
    "se.MdaSortingExtractor.writeSorting(\n",
    "    sorting=sx_true, save_path=os.path.join(savepath, 'firings_true.mda'))"
   ]
  },
  {
   "cell_type": "code",
   "execution_count": null,
   "metadata": {},
   "outputs": [],
   "source": [
    "# create a batch (`jobs`) and execute batch\n",
    "\n",
    "import mlprocessors as mlpr\n",
    "\n",
    "jobs=[]\n",
    "for iJob in range(0, params['num_jobs']):\n",
    "    job=v_sorters[params['sorter']](recpath)\n",
    "    jobs.append(job)\n",
    "    \n",
    "\n",
    "%time mlpr.executeBatch(jobs=jobs, num_workers=params['num_workers'])"
   ]
  },
  {
   "cell_type": "code",
   "execution_count": null,
   "metadata": {},
   "outputs": [],
   "source": [
    "# assemble sorting outputs\n",
    "\n",
    "v_sx = []\n",
    "for iJob in range(0, len(jobs)):\n",
    "    firings_out_ = jobs[iJob]['result']['outputs']['firings_out']\n",
    "    sx_ = se.MdaSortingExtractor(firings_out_)\n",
    "    v_sx.append(sx_)"
   ]
  },
  {
   "cell_type": "code",
   "execution_count": null,
   "metadata": {},
   "outputs": [],
   "source": [
    "# compute SNR of the ground truth units\n",
    "\n",
    "path_json_out = os.path.join(params['out_path'], 'summary_true.mda')\n",
    "sa.compute_units_info.ComputeUnitsInfo.execute(\n",
    "    recording_dir = params['in_path'],\n",
    "    firings = os.path.join(params['out_path'], 'firings_true.mda'),\n",
    "    json_out = path_json_out,\n",
    "    _force_run = True\n",
    "    )\n",
    "\n",
    "import json\n",
    "with open(path_json_out) as f:\n",
    "    snr_json = json.load(f)\n",
    "unit_snrs = [x['snr'] for x in snr_json]\n",
    "unit_ids = [x['unit_id'] for x in snr_json]\n",
    "sx_true.setUnitsProperty(property_name='snr', \n",
    "                         values=unit_snrs, unit_ids=unit_ids)"
   ]
  },
  {
   "cell_type": "code",
   "execution_count": null,
   "metadata": {},
   "outputs": [],
   "source": [
    "# display sorting comparison tables\n",
    "\n",
    "v_comparison = []\n",
    "for iJob in range(0, len(v_sx)):\n",
    "    sx_ = v_sx[iJob]\n",
    "    comparison=st.comparison.SortingComparison(\n",
    "        sorting1=sx_true, sorting1_name='true',\n",
    "        sorting2=sx_, sorting2_name=params['sorter'],\n",
    "        )\n",
    "    comparison_table = sw.SortingComparisonTable(comparison=comparison)\n",
    "    v_comparison.append(comparison)\n",
    "    \n",
    "    print('sorting output for {} in job {}:'.format(\n",
    "        params['sorter'], iJob))\n",
    "    comparison_table.display()"
   ]
  },
  {
   "cell_type": "code",
   "execution_count": null,
   "metadata": {},
   "outputs": [],
   "source": [
    "# plot SNR vs accuracy for the first sorting output\n",
    "\n",
    "sw.SortingAccuracyWidget(\n",
    "    sorting_comparison=v_comparison[0],\n",
    "    property_name='snr',\n",
    "    ).plot()"
   ]
  },
  {
   "cell_type": "code",
   "execution_count": null,
   "metadata": {},
   "outputs": [],
   "source": [
    "# plot SNR vs accuracy for all sorting output\n",
    "\n",
    "def plot_comparisons(v_comparison, params):\n",
    "    v_snr = []\n",
    "    v_accuracy = []\n",
    "    for iJob in range(0, len(v_comparison)):\n",
    "    #for iJob in range(1,2):\n",
    "        SC = v_comparison[iJob]\n",
    "        units = SC.getSorting1().getUnitIds()\n",
    "        accuracy = [SC.getAgreementFraction(unit) for unit in units]\n",
    "        snr = SC.getSorting1().getUnitsProperty(unit_ids=units, property_name='snr')\n",
    "        v_snr.append(snr)\n",
    "        v_accuracy.append(accuracy)\n",
    "\n",
    "    plt.plot(v_snr, v_accuracy, '.')\n",
    "    plt.xlabel('SNR')\n",
    "    plt.ylabel('Accuracy')\n",
    "    plt.title('Sorted by {} on {} recordings'.format(\n",
    "        params['sorter'], params['num_jobs']))\n",
    "    plt.ylim(0,1)\n",
    "    plt.show()                "
   ]
  },
  {
   "cell_type": "code",
   "execution_count": null,
   "metadata": {},
   "outputs": [],
   "source": [
    "plot_comparisons(v_comparison, params)"
   ]
  },
  {
   "cell_type": "code",
   "execution_count": null,
   "metadata": {},
   "outputs": [],
   "source": [
    "plot_comparisons(v_comparison, params)"
   ]
  }
 ],
 "metadata": {
  "kernelspec": {
   "display_name": "Python 3",
   "language": "python",
   "name": "python3"
  },
  "language_info": {
   "codemirror_mode": {
    "name": "ipython",
    "version": 3
   },
   "file_extension": ".py",
   "mimetype": "text/x-python",
   "name": "python",
   "nbconvert_exporter": "python",
   "pygments_lexer": "ipython3",
   "version": "3.6.8"
  }
 },
 "nbformat": 4,
 "nbformat_minor": 2
}
