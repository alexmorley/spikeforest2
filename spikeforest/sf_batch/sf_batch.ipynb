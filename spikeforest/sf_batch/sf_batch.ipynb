{
 "cells": [
  {
   "cell_type": "code",
   "execution_count": 2,
   "metadata": {},
   "outputs": [
    {
     "name": "stdout",
     "output_type": "stream",
     "text": [
      "The autoreload extension is already loaded. To reload it, use:\n",
      "  %reload_ext autoreload\n"
     ]
    }
   ],
   "source": [
    "%load_ext autoreload\n",
    "%autoreload 2\n",
    "\n",
    "import spikeforest as sf\n",
    "from kbucket import client as kb\n",
    "from pairio import client as pa\n",
    "from spikeforest.sf_batch import sf_batch_prepare, sf_batch_run, sf_batch_assemble\n",
    "from getpass import getpass\n",
    "import os"
   ]
  },
  {
   "cell_type": "code",
   "execution_count": 3,
   "metadata": {},
   "outputs": [
    {
     "data": {
      "text/plain": [
       "{'batch_name': 'test1',\n",
       " 'share_id': 'spikeforest.spikeforest1',\n",
       " 'studies': ['magland_synth_noise10_K10_C4'],\n",
       " 'datasets': ['001_synth'],\n",
       " 'sorters': [{'name': 'MountainSort4-thr3',\n",
       "   'processor_name': 'MountainSort4',\n",
       "   'params': {'detect_sign': -1,\n",
       "    'adjacency_radius': 25,\n",
       "    'detect_threshold': 3}},\n",
       "  {'name': 'MountainSort4-thr5',\n",
       "   'processor_name': 'MountainSort4',\n",
       "   'params': {'detect_sign': -1,\n",
       "    'adjacency_radius': 25,\n",
       "    'detect_threshold': 5}}]}"
      ]
     },
     "metadata": {},
     "output_type": "display_data"
    }
   ],
   "source": [
    "config={\n",
    "    \"batch_name\":\"test1\",\n",
    "    \"share_id\":\"spikeforest.spikeforest1\",\n",
    "\t\"studies\":[\"magland_synth_noise10_K10_C4\"],\n",
    "\t\"datasets\":[\"001_synth\"],\n",
    "\t\"sorters\":[\n",
    "\t\t{\n",
    "\t\t\t\"name\":\"MountainSort4-thr3\",\n",
    "            \"processor_name\":\"MountainSort4\",\n",
    "\t\t\t\"params\":{\n",
    "\t\t\t\t\"detect_sign\":-1,\n",
    "\t\t\t\t\"adjacency_radius\":25,\n",
    "\t\t\t\t\"detect_threshold\":3\n",
    "\t\t\t}\n",
    "\t\t},\n",
    "        {\n",
    "\t\t\t\"name\":\"MountainSort4-thr5\",\n",
    "            \"processor_name\":\"MountainSort4\",\n",
    "\t\t\t\"params\":{\n",
    "\t\t\t\t\"detect_sign\":-1,\n",
    "\t\t\t\t\"adjacency_radius\":25,\n",
    "\t\t\t\t\"detect_threshold\":5\n",
    "\t\t\t}\n",
    "\t\t}\n",
    "\t]\n",
    "}\n",
    "display(config)"
   ]
  },
  {
   "cell_type": "code",
   "execution_count": 4,
   "metadata": {},
   "outputs": [
    {
     "name": "stdin",
     "output_type": "stream",
     "text": [
      "Enter SpikeForest password: ····\n"
     ]
    }
   ],
   "source": [
    "os.environ['SPIKEFOREST_PASSWORD']=getpass(prompt=('Enter SpikeForest password:'))"
   ]
  },
  {
   "cell_type": "code",
   "execution_count": 5,
   "metadata": {},
   "outputs": [
    {
     "name": "stdout",
     "output_type": "stream",
     "text": [
      "Pairio user set to spikeforest. Test succeeded.\n",
      "PREPARE: magland_synth_noise10_K10_C4/001_synth\n",
      "Downloading raw.mda\n",
      "Pairio user set to spikeforest. Test succeeded.\n",
      "RUN: magland_synth_noise10_K10_C4/001_synth\n",
      "Pairio user set to spikeforest. Test succeeded.\n",
      "ASSEMBLE: magland_synth_noise10_K10_C4/001_synth\n",
      "Already on server.\n"
     ]
    }
   ],
   "source": [
    "sf_batch_prepare(config,clear_all=False)\n",
    "sf_batch_run(config)\n",
    "sf_batch_assemble(config)"
   ]
  },
  {
   "cell_type": "code",
   "execution_count": 6,
   "metadata": {},
   "outputs": [],
   "source": [
    "A=kb.loadObject(key=dict(batch_name=config['batch_name']))"
   ]
  },
  {
   "cell_type": "code",
   "execution_count": 7,
   "metadata": {},
   "outputs": [
    {
     "data": {
      "text/plain": [
       "{'datasets': [{'name': '001_synth',\n",
       "   'study': 'magland_synth_noise10_K10_C4',\n",
       "   'directory': 'kbucket://15734439d8cf/groundtruth/magland_synth/datasets_noise10_K10_C4/001_synth',\n",
       "   'description': 'One of the datasets in the magland_synth_noise10_K10_C4 study',\n",
       "   'computed_info': {'samplerate': 30000.0,\n",
       "    'num_channels': 4,\n",
       "    'duration_sec': 600.0},\n",
       "   'ground_truth': 'kbucket://15734439d8cf/groundtruth/magland_synth/datasets_noise10_K10_C4/001_synth/firings_true.mda',\n",
       "   'plots': {'timeseries': 'sha1://89f1ef28e4ee7ea2781a745e9a0a83b7928316aa/timeseries.jpg',\n",
       "    'waveforms_true': 'sha1://7cfcbe695368ed38f7ba3332afa2f65a97faa29d/waveforms.jpg'}}],\n",
       " 'sorting_results': [{'dataset_name': '001_synth',\n",
       "   'dataset_dir': 'kbucket://15734439d8cf/groundtruth/magland_synth/datasets_noise10_K10_C4/001_synth',\n",
       "   'firings_true': 'kbucket://15734439d8cf/groundtruth/magland_synth/datasets_noise10_K10_C4/001_synth/firings_true.mda',\n",
       "   'sorting_params': {'detect_sign': -1,\n",
       "    'adjacency_radius': 25,\n",
       "    'detect_threshold': 3},\n",
       "   'sorting_processor_name': 'MountainSort4',\n",
       "   'sorting_processor_version': '4.0.1',\n",
       "   'firings': 'sha1://7e03f86dbf3b30748f53cdaecdc64929864774a5/firings_out.mda'},\n",
       "  {'dataset_name': '001_synth',\n",
       "   'dataset_dir': 'kbucket://15734439d8cf/groundtruth/magland_synth/datasets_noise10_K10_C4/001_synth',\n",
       "   'firings_true': 'kbucket://15734439d8cf/groundtruth/magland_synth/datasets_noise10_K10_C4/001_synth/firings_true.mda',\n",
       "   'sorting_params': {'detect_sign': -1,\n",
       "    'adjacency_radius': 25,\n",
       "    'detect_threshold': 5},\n",
       "   'sorting_processor_name': 'MountainSort4',\n",
       "   'sorting_processor_version': '4.0.1',\n",
       "   'firings': 'sha1://72ec4ef20ed6ecb86866c92dd76bd586cce4925c/firings_out.mda'}]}"
      ]
     },
     "metadata": {},
     "output_type": "display_data"
    }
   ],
   "source": [
    "display(A)"
   ]
  },
  {
   "cell_type": "code",
   "execution_count": null,
   "metadata": {},
   "outputs": [],
   "source": []
  }
 ],
 "metadata": {
  "kernelspec": {
   "display_name": "Python 3",
   "language": "python",
   "name": "python3"
  },
  "language_info": {
   "codemirror_mode": {
    "name": "ipython",
    "version": 3
   },
   "file_extension": ".py",
   "mimetype": "text/x-python",
   "name": "python",
   "nbconvert_exporter": "python",
   "pygments_lexer": "ipython3",
   "version": "3.6.6"
  }
 },
 "nbformat": 4,
 "nbformat_minor": 2
}
