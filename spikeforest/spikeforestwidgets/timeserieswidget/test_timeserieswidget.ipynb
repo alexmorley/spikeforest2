{
 "cells": [
  {
   "cell_type": "code",
   "execution_count": 1,
   "metadata": {},
   "outputs": [
    {
     "data": {
      "application/vnd.jupyter.widget-view+json": {
       "model_id": "822a953341f340bbad714504f5e25884",
       "version_major": 2,
       "version_minor": 0
      },
      "text/plain": [
       "JSProxyWidget(status='Not yet rendered')"
      ]
     },
     "metadata": {},
     "output_type": "display_data"
    }
   ],
   "source": [
    "%load_ext autoreload\n",
    "%autoreload 2\n",
    "        \n",
    "import spikeforestwidgets as SFW\n",
    "from spikeforest import spikeextractors as se\n",
    "import vdomr as vd\n",
    "\n",
    "vd.config_jupyter()"
   ]
  },
  {
   "cell_type": "code",
   "execution_count": 2,
   "metadata": {},
   "outputs": [],
   "source": [
    "recording,sorting=se.example_datasets.toy_example1(duration=1,num_channels=4,samplerate=30000)"
   ]
  },
  {
   "cell_type": "code",
   "execution_count": 24,
   "metadata": {},
   "outputs": [
    {
     "name": "stdout",
     "output_type": "stream",
     "text": [
      "(4, 30000)\n",
      "length of b64: 640028\n",
      "rendering timeserieswidget...\n"
     ]
    },
    {
     "data": {
      "text/html": [
       "<div id=SFTimeseriesWidget-fba2bd27-fbad-4e56-8ed4-f2bcef2f0060><div id=\"SFTimeseriesWidget-fba2bd27-fbad-4e56-8ed4-f2bcef2f0060\"></div></div>"
      ],
      "text/plain": [
       "<spikeforestwidgets.timeserieswidget.timeserieswidget.TimeseriesWidget at 0x7f3d05690f28>"
      ]
     },
     "metadata": {},
     "output_type": "display_data"
    }
   ],
   "source": [
    "X=SFW.TimeseriesWidget(recording=recording,sorting=sorting)\n",
    "display(X)"
   ]
  },
  {
   "cell_type": "code",
   "execution_count": 10,
   "metadata": {},
   "outputs": [
    {
     "data": {
      "text/html": [
       "<div>hello</div>"
      ],
      "text/plain": [
       "<vdomr.vdom.VDOM at 0x7f96b0387080>"
      ]
     },
     "metadata": {},
     "output_type": "display_data"
    }
   ],
   "source": [
    "display(vd.div('hello'))"
   ]
  },
  {
   "cell_type": "code",
   "execution_count": 22,
   "metadata": {},
   "outputs": [
    {
     "data": {
      "text/plain": [
       "1"
      ]
     },
     "execution_count": 22,
     "metadata": {},
     "output_type": "execute_result"
    }
   ],
   "source": [
    "1"
   ]
  }
 ],
 "metadata": {
  "kernelspec": {
   "display_name": "Python 3",
   "language": "python",
   "name": "python3"
  },
  "language_info": {
   "codemirror_mode": {
    "name": "ipython",
    "version": 3
   },
   "file_extension": ".py",
   "mimetype": "text/x-python",
   "name": "python",
   "nbconvert_exporter": "python",
   "pygments_lexer": "ipython3",
   "version": "3.7.0"
  }
 },
 "nbformat": 4,
 "nbformat_minor": 2
}
