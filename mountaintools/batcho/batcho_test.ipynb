{
 "cells": [
  {
   "cell_type": "code",
   "execution_count": 1,
   "metadata": {},
   "outputs": [],
   "source": [
    "%load_ext autoreload\n",
    "%autoreload 2\n",
    "import batcho\n",
    "from cairio import client as ca"
   ]
  },
  {
   "cell_type": "code",
   "execution_count": 2,
   "metadata": {},
   "outputs": [
    {
     "name": "stdin",
     "output_type": "stream",
     "text": [
      "Enter password:  ····\n"
     ]
    }
   ],
   "source": [
    "ca.autoConfig(collection='spikeforest',key='spikeforest0-readwrite',ask_password=True)"
   ]
  },
  {
   "cell_type": "code",
   "execution_count": 7,
   "metadata": {},
   "outputs": [],
   "source": [
    "def cmd1_prepare(job):\n",
    "    print('preparing job')\n",
    "    \n",
    "def cmd1_run(job):\n",
    "    print('testing------------------------------------')\n",
    "    print(job)\n",
    "    print('testing------------------------------------')\n",
    "    return dict(test=3,the_job=job)\n",
    "\n",
    "batcho.register_job_command(\n",
    "    command='cmd1',\n",
    "    prepare=cmd1_prepare,\n",
    "    run=cmd1_run\n",
    ")"
   ]
  },
  {
   "cell_type": "code",
   "execution_count": 8,
   "metadata": {},
   "outputs": [],
   "source": [
    "batcho.stop_batch(batch_name='batch1')"
   ]
  },
  {
   "cell_type": "code",
   "execution_count": 9,
   "metadata": {},
   "outputs": [],
   "source": [
    "batcho.set_batch(batch_name='batch1',jobs=[dict(command='cmd1',label='job1',name='first_job'),dict(command='cmd1',label='job2',name='second_job')])"
   ]
  },
  {
   "cell_type": "code",
   "execution_count": 11,
   "metadata": {},
   "outputs": [
    {
     "name": "stdout",
     "output_type": "stream",
     "text": [
      "Retrieving batch batch1\n",
      "Batch has 2 jobs.\n",
      "Preparing job job1\n",
      "preparing job\n",
      "Preparing job job2\n",
      "preparing job\n",
      "Prepared 2 jobs.\n",
      "Retrieving batch batch1\n",
      "Batch has 2 jobs.\n",
      "Acquired lock for job job1\n",
      "Running job job1\n",
      "testing------------------------------------\n",
      "{'command': 'cmd1', 'label': 'job1', 'name': 'first_job'}\n",
      "testing------------------------------------\n",
      "Uploading file --- (81 B): /tmp/tmp_cairioclient_vogslcbrjv.txt -> http://ccmlin008:20000/upload/ff7d78762eadb995a59982f25fa09cdc6eee4af7?signature=b3b03a0078f0a8536d70a9bc2b74d2d89e6337d7\n",
      "Uploading file --- (146 B): /tmp/tmp2q39vqy1.txt -> http://ccmlin008:20000/upload/fa7392a2132ad367e6b2ddb19070580e08385b64?signature=1c32911f25ca873f3813efb75fb4fbc4d63c9894\n",
      "Acquired lock for job job2\n",
      "Running job job2\n",
      "testing------------------------------------\n",
      "{'command': 'cmd1', 'label': 'job2', 'name': 'second_job'}\n",
      "testing------------------------------------\n",
      "Uploading file --- (82 B): /tmp/tmp_cairioclient_pgbqwtfwlg.txt -> http://ccmlin008:20000/upload/edb11e7b57118cb674c4ed164c0e77aebfa31eb6?signature=e9916330f33414d4a5bd015d7dfcb14d27e40588\n",
      "Uploading file --- (147 B): /tmp/tmpz5uy8x16.txt -> http://ccmlin008:20000/upload/5b708dfe2180a5e28bcf3042ec96fe3d721c2435?signature=d5aac8e026df8694929e3687a6beadc0955fa1e0\n",
      "Retrieving batch batch1\n",
      "Batch has 2 jobs.\n",
      "ASSEMBLING job result for job1\n",
      "ASSEMBLING job result for job2\n",
      "Assembling 2 results\n",
      "Uploading file --- (337 B): /tmp/tmp_cairioclient_brtsdhjckz.txt -> http://ccmlin008:20000/upload/65ba604eac61e16ff7424352238e1d04adc70ad9?signature=312d9d61f704c6bea09183db6fd9805a59d27b4c\n"
     ]
    },
    {
     "data": {
      "text/plain": [
       "True"
      ]
     },
     "execution_count": 11,
     "metadata": {},
     "output_type": "execute_result"
    }
   ],
   "source": [
    "batcho.prepare_batch(batch_name='batch1',clear_jobs=True)\n",
    "batcho.run_batch(batch_name='batch1')\n",
    "batcho.assemble_batch(batch_name='batch1')"
   ]
  },
  {
   "cell_type": "code",
   "execution_count": 12,
   "metadata": {},
   "outputs": [
    {
     "name": "stdout",
     "output_type": "stream",
     "text": [
      "Retrieving batch batch1\n"
     ]
    },
    {
     "data": {
      "text/plain": [
       "[{'job': {'command': 'cmd1', 'label': 'job1', 'name': 'first_job'},\n",
       "  'status': 'finished'},\n",
       " {'job': {'command': 'cmd1', 'label': 'job2', 'name': 'second_job'},\n",
       "  'status': 'finished'}]"
      ]
     },
     "execution_count": 12,
     "metadata": {},
     "output_type": "execute_result"
    }
   ],
   "source": [
    "batcho.get_batch_job_statuses(batch_name='batch1')"
   ]
  },
  {
   "cell_type": "code",
   "execution_count": 13,
   "metadata": {},
   "outputs": [
    {
     "name": "stdout",
     "output_type": "stream",
     "text": [
      "testing------------------------------------\n",
      "{'command': 'cmd1', 'label': 'job1', 'name': 'first_job'}\n",
      "testing------------------------------------\n",
      "\n"
     ]
    }
   ],
   "source": [
    "str=batcho.get_batch_job_console_output(batch_name='batch1',job_index=0)\n",
    "print(str)"
   ]
  },
  {
   "cell_type": "code",
   "execution_count": 14,
   "metadata": {},
   "outputs": [
    {
     "data": {
      "text/plain": [
       "{'results': [{'job': {'command': 'cmd1', 'label': 'job1', 'name': 'first_job'},\n",
       "   'result': {'test': 3,\n",
       "    'the_job': {'command': 'cmd1', 'label': 'job1', 'name': 'first_job'}}},\n",
       "  {'job': {'command': 'cmd1', 'label': 'job2', 'name': 'second_job'},\n",
       "   'result': {'test': 3,\n",
       "    'the_job': {'command': 'cmd1', 'label': 'job2', 'name': 'second_job'}}}]}"
      ]
     },
     "execution_count": 14,
     "metadata": {},
     "output_type": "execute_result"
    }
   ],
   "source": [
    "batcho.get_batch_results(batch_name='batch1')"
   ]
  },
  {
   "cell_type": "code",
   "execution_count": null,
   "metadata": {},
   "outputs": [],
   "source": []
  }
 ],
 "metadata": {
  "kernelspec": {
   "display_name": "Python 3",
   "language": "python",
   "name": "python3"
  },
  "language_info": {
   "codemirror_mode": {
    "name": "ipython",
    "version": 3
   },
   "file_extension": ".py",
   "mimetype": "text/x-python",
   "name": "python",
   "nbconvert_exporter": "python",
   "pygments_lexer": "ipython3",
   "version": "3.7.2"
  }
 },
 "nbformat": 4,
 "nbformat_minor": 2
}
