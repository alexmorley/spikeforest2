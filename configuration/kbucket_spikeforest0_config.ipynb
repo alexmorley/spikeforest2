{
 "cells": [
  {
   "cell_type": "markdown",
   "metadata": {},
   "source": [
    "## Configuration of kbucket share on ccmlin008\n",
    "\n",
    "Inside a tmux session called spikeforest0:\n",
    "\n",
    "```\n",
    "cd ~/kbnodes/spikeforest0\n",
    "kbucket-host . --auto\n",
    "```\n",
    "\n",
    "(it is a symbolic link to ceph)\n",
    "\n",
    "Then, inside a tmux session called spikeforest0-cas:\n",
    "    \n",
    "```\n",
    "cd ~/kbnodes/spikeforest0\n",
    "casuploadserver\n",
    "```\n",
    "\n",
    "Note that the following are contained in the .env file:\n",
    "\n",
    "```\n",
    "PORT the listen port\n",
    "CAS_UPLOAD_DIR the absolute path of the directory to store uploaded files\n",
    "CAS_UPLOAD_TOKEN\n",
    "```\n",
    "\n",
    "This entire directory is hidden from other users via\n",
    "\n",
    "```\n",
    "chmod -R go-rwx .\n",
    "```"
   ]
  },
  {
   "cell_type": "code",
   "execution_count": null,
   "metadata": {},
   "outputs": [],
   "source": [
    "# For convenience, let's put all this info in the password-protected config location"
   ]
  },
  {
   "cell_type": "code",
   "execution_count": 1,
   "metadata": {},
   "outputs": [],
   "source": [
    "from cairio import client as ca\n",
    "from getpass import getpass\n",
    "import json"
   ]
  },
  {
   "cell_type": "code",
   "execution_count": 2,
   "metadata": {},
   "outputs": [
    {
     "name": "stdin",
     "output_type": "stream",
     "text": [
      "Enter password:  ····\n"
     ]
    }
   ],
   "source": [
    "ca.setRemoteConfig(token=ca.getValue(collection='spikeforest',key=dict(name='token'),password=getpass('Enter password: ')))"
   ]
  },
  {
   "cell_type": "code",
   "execution_count": null,
   "metadata": {},
   "outputs": [],
   "source": [
    "# Let's store the read/write configuration that allows saving data to the spikeforest0 kbucket share\n",
    "password=getpass('Enter password: ')\n",
    "upload_token=getpass('Enter upload token: ')\n",
    "config=dict(\n",
    "    token=ca.getValue(key=dict(name='token'),password=password),\n",
    "    share_id='110887a470ab',\n",
    "    upload_token=upload_token\n",
    ")\n",
    "ca.setValue(key=dict(name='spikeforest0-readwrite-config'),password=password,value=json.dumps(config))"
   ]
  },
  {
   "cell_type": "code",
   "execution_count": 3,
   "metadata": {},
   "outputs": [
    {
     "name": "stdin",
     "output_type": "stream",
     "text": [
      "Enter password:  ····\n"
     ]
    }
   ],
   "source": [
    "# Now, we have the entire configuration password protected like so:\n",
    "\n",
    "config=ca.getValue(collection='spikeforest',key=dict(name='spikeforest0-readwrite-config'),password=getpass('Enter password: '),parse_json=True)\n",
    "ca.setRemoteConfig(**config)"
   ]
  },
  {
   "cell_type": "code",
   "execution_count": 4,
   "metadata": {},
   "outputs": [
    {
     "data": {
      "text/plain": [
       "True"
      ]
     },
     "execution_count": 4,
     "metadata": {},
     "output_type": "execute_result"
    }
   ],
   "source": [
    "# Let's put in the readonly access\n",
    "\n",
    "config=dict(\n",
    "    token='',\n",
    "    share_id='110887a470ab',\n",
    "    upload_token=''\n",
    ")\n",
    "ca.setValue(key=dict(name='spikeforest0-readonly-config'),value=json.dumps(config))"
   ]
  },
  {
   "cell_type": "code",
   "execution_count": 5,
   "metadata": {},
   "outputs": [],
   "source": [
    "# So this is what we can do to configure as readonly\n",
    "\n",
    "config=ca.getValue(collection='spikeforest',key=dict(name='spikeforest0-readonly-config'),parse_json=True)\n",
    "ca.setRemoteConfig(**config)"
   ]
  },
  {
   "cell_type": "code",
   "execution_count": null,
   "metadata": {},
   "outputs": [],
   "source": []
  }
 ],
 "metadata": {
  "kernelspec": {
   "display_name": "Python 3",
   "language": "python",
   "name": "python3"
  },
  "language_info": {
   "codemirror_mode": {
    "name": "ipython",
    "version": 3
   },
   "file_extension": ".py",
   "mimetype": "text/x-python",
   "name": "python",
   "nbconvert_exporter": "python",
   "pygments_lexer": "ipython3",
   "version": "3.7.2"
  }
 },
 "nbformat": 4,
 "nbformat_minor": 2
}
