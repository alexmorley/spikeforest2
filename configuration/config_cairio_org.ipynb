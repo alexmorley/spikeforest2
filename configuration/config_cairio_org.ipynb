{
 "cells": [
  {
   "cell_type": "markdown",
   "metadata": {},
   "source": [
    "## Configuration of cairio.org\n",
    "\n",
    "Right now the central cairio server is hosted on https://pairio.org:20443\n",
    "\n",
    "This is a linode server\n",
    "\n",
    "Inside a tmux session called cairio:\n",
    "\n",
    "```\n",
    "cd ~/src/spikeforest2/repos/cairio\n",
    "```\n",
    "\n",
    "See .env file containing:\n",
    "\n",
    "```\n",
    "PORT=20443\n",
    "CAIRIO_ADMIN_TOKEN=******\n",
    "```\n",
    "\n",
    "To run the server:\n",
    "\n",
    "```\n",
    "npm install .\n",
    "node cairioserver/cairioserver.js\n",
    "```\n",
    "\n",
    "There are instructions in the home directory for setting up firewall and renewing the certs"
   ]
  },
  {
   "cell_type": "code",
   "execution_count": 1,
   "metadata": {},
   "outputs": [],
   "source": [
    "# import cairio client and other packages\n",
    "from cairio import client as ca\n",
    "from getpass import getpass"
   ]
  },
  {
   "cell_type": "code",
   "execution_count": 2,
   "metadata": {},
   "outputs": [
    {
     "name": "stdin",
     "output_type": "stream",
     "text": [
      "Enter the secret CAIRIO_ADMIN_TOKEN ············\n"
     ]
    }
   ],
   "source": [
    "# How to add a collection:\n",
    "\n",
    "CAIRIO_ADMIN_TOKEN=getpass('Enter the secret CAIRIO_ADMIN_TOKEN')"
   ]
  },
  {
   "cell_type": "code",
   "execution_count": 3,
   "metadata": {},
   "outputs": [
    {
     "name": "stdin",
     "output_type": "stream",
     "text": [
      "Enter new token for collection spikeforest3:  ············\n"
     ]
    },
    {
     "data": {
      "text/plain": [
       "True"
      ]
     },
     "execution_count": 3,
     "metadata": {},
     "output_type": "execute_result"
    }
   ],
   "source": [
    "collection='spikeforest3'\n",
    "collection_token=getpass('Enter new token for collection {}: '.format(collection))\n",
    "ca.addRemoteCollection(collection=collection, token=collection_token, admin_token=CAIRIO_ADMIN_TOKEN)"
   ]
  },
  {
   "cell_type": "code",
   "execution_count": 4,
   "metadata": {},
   "outputs": [
    {
     "name": "stdin",
     "output_type": "stream",
     "text": [
      "Enter password for retrieving token ····\n"
     ]
    },
    {
     "data": {
      "text/plain": [
       "True"
      ]
     },
     "execution_count": 4,
     "metadata": {},
     "output_type": "execute_result"
    }
   ],
   "source": [
    "# Now, for convenience, store this token in the collection, protected by password:\n",
    "ca.setRemoteConfig(collection=collection, token=collection_token)\n",
    "ca.setValue(key=dict(name='token'),password=getpass('Enter password for retrieving token'),value=collection_token)"
   ]
  },
  {
   "cell_type": "code",
   "execution_count": 11,
   "metadata": {},
   "outputs": [
    {
     "name": "stdin",
     "output_type": "stream",
     "text": [
      "Enter password:  ····\n"
     ]
    }
   ],
   "source": [
    "## In the future this is how we can bootstrap the read/write configuration\n",
    "ca.setRemoteConfig(collection='spikeforest3')\n",
    "ca.setRemoteConfig(token=ca.getValue(key=dict(name='token'),password=getpass('Enter password: ')))"
   ]
  },
  {
   "cell_type": "code",
   "execution_count": 12,
   "metadata": {},
   "outputs": [
    {
     "name": "stdout",
     "output_type": "stream",
     "text": [
      "the value on spikeforest3\n"
     ]
    }
   ],
   "source": [
    "# Now test:\n",
    "ca.setValue(key=dict(name='some-test-key'),value='the value on spikeforest3')\n",
    "print(ca.getValue(key=dict(name='some-test-key')))"
   ]
  },
  {
   "cell_type": "code",
   "execution_count": 13,
   "metadata": {},
   "outputs": [
    {
     "name": "stdout",
     "output_type": "stream",
     "text": [
      "None\n",
      "the value on spikeforest3\n"
     ]
    }
   ],
   "source": [
    "# Make sure we don't have it locally\n",
    "ca.setRemoteConfig(collection='')\n",
    "print(ca.getValue(key=dict(name='some-test-key')))\n",
    "ca.setRemoteConfig(collection='spikeforest3')\n",
    "print(ca.getValue(key=dict(name='some-test-key')))"
   ]
  },
  {
   "cell_type": "code",
   "execution_count": 14,
   "metadata": {},
   "outputs": [
    {
     "name": "stdout",
     "output_type": "stream",
     "text": [
      "the value on spikeforest3\n",
      "Missing token for remote cairio server.\n"
     ]
    },
    {
     "data": {
      "text/plain": [
       "False"
      ]
     },
     "execution_count": 14,
     "metadata": {},
     "output_type": "execute_result"
    }
   ],
   "source": [
    "# Note that we can read but not write when do not provide the token\n",
    "ca.setRemoteConfig(collection='spikeforest3',token='')\n",
    "print(ca.getValue(key=dict(name='some-test-key')))\n",
    "ca.setValue(key=dict(name='some-other-key'),value='test2')"
   ]
  },
  {
   "cell_type": "code",
   "execution_count": null,
   "metadata": {},
   "outputs": [],
   "source": []
  }
 ],
 "metadata": {
  "kernelspec": {
   "display_name": "Python 3",
   "language": "python",
   "name": "python3"
  },
  "language_info": {
   "codemirror_mode": {
    "name": "ipython",
    "version": 3
   },
   "file_extension": ".py",
   "mimetype": "text/x-python",
   "name": "python",
   "nbconvert_exporter": "python",
   "pygments_lexer": "ipython3",
   "version": "3.7.2"
  }
 },
 "nbformat": 4,
 "nbformat_minor": 2
}
